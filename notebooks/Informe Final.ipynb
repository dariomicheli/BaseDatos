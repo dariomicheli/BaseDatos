{
 "cells": [
  {
   "cell_type": "markdown",
   "id": "b602b29f-57d0-44e5-af55-db9661ea8317",
   "metadata": {},
   "source": [
    "# Informe final"
   ]
  },
  {
   "cell_type": "markdown",
   "id": "f7a43dcb-bda5-4859-b632-2f210f98b2d5",
   "metadata": {},
   "source": [
    "Datos de los integrantes, tecnologias usadas, fecha, materia, \n",
    "Que estructura tiene nuestro proyecto\n",
    "Como se ejecuta. Pasos para \n",
    "Que datos guardamos en cada base, como lo guardamos y porque ? (ventajas, \n",
    "Consultas combinadas ejemplo "
   ]
  }
 ],
 "metadata": {
  "kernelspec": {
   "display_name": "Python 3 (ipykernel)",
   "language": "python",
   "name": "python3"
  },
  "language_info": {
   "codemirror_mode": {
    "name": "ipython",
    "version": 3
   },
   "file_extension": ".py",
   "mimetype": "text/x-python",
   "name": "python",
   "nbconvert_exporter": "python",
   "pygments_lexer": "ipython3",
   "version": "3.11.13"
  }
 },
 "nbformat": 4,
 "nbformat_minor": 5
}
