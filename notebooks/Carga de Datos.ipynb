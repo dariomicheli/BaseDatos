{
 "cells": [
  {
   "cell_type": "markdown",
   "id": "e23c0c72-597e-4458-927e-1b56e7a474d0",
   "metadata": {},
   "source": [
    "# Notebook de Carga de Datos iniciales"
   ]
  },
  {
   "cell_type": "markdown",
   "id": "2591e18a-c0a2-4d97-a1e9-3ac57b28b772",
   "metadata": {},
   "source": [
    "Este notebook esta destinado a la carga inicial de los datos en los distintas base de datos"
   ]
  },
  {
   "cell_type": "markdown",
   "id": "5e8100c4-f361-4944-9e1a-a8869d717f76",
   "metadata": {},
   "source": [
    "## Importación de librerias"
   ]
  },
  {
   "cell_type": "code",
   "execution_count": null,
   "id": "8f3bcee0-fd8f-4cf9-b43f-cfa25a429c06",
   "metadata": {},
   "outputs": [],
   "source": [
    "from pathlib import Path\n",
    "from db_connections import client,db_neo4j,db_redis\n",
    "from src import mongo,neo4j,utils,redis\n",
    "from pymongo.errors import ConnectionFailure\n",
    "import os\n",
    "import pandas as pd"
   ]
  },
  {
   "cell_type": "markdown",
   "id": "cfced643",
   "metadata": {},
   "source": [
    "## Conexión con bases de datos"
   ]
  },
  {
   "cell_type": "code",
   "execution_count": null,
   "id": "b42c2db7",
   "metadata": {},
   "outputs": [],
   "source": [
    "# =====================\n",
    "# TEST DE CONEXIONES\n",
    "# =====================\n",
    "\n",
    "#Conecto con MongoDB\n",
    "try:\n",
    "    client.admin.command(\"ping\")  # fuerza conexión al servidor\n",
    "    print(\"✅ Conexión a MongoDB verificada.\")\n",
    "except ConnectionFailure as e:\n",
    "    print(f\"❌ Falló la conexión: {type(e).__name__} - {e}\")\n",
    "\n",
    "#Conecto con Neo4j\n",
    "try:\n",
    "    db_neo4j.verify_connectivity()\n",
    "    print(\"✅ Conexión a Neo4j verificada.\")\n",
    "except Exception as e:\n",
    "    print(f\"❌ Error de conexión: {type(e).__name__} - {e}\")\n",
    "\n",
    "#Conecto con Redis\n",
    "try:\n",
    "    db_redis.ping()\n",
    "    print(\"✅ Conexión a Redis verificada.\")\n",
    "except Exception as e:\n",
    "    print(f\"❌ Error de conexión: {type(e).__name__} - {e}\")"
   ]
  },
  {
   "cell_type": "markdown",
   "id": "f5f2d094",
   "metadata": {},
   "source": [
    "## LIMPIEZA PREVIA"
   ]
  },
  {
   "cell_type": "code",
   "execution_count": null,
   "id": "b4af02f2",
   "metadata": {},
   "outputs": [],
   "source": [
    "# --- LIMPIAR DATOS EXISTENTES EN TODAS LAS BASES ---\n",
    "\n",
    "print(\"\\n1. Limpiando datos existentes...\")\n",
    "\n",
    "# --- MONGO ---\n",
    "nombre_base = \"clase\"\n",
    "client.drop_database(nombre_base)\n",
    "print(\"   ✓ Base de datos Mongo eliminada\")\n",
    "\n",
    "# --- REDIS ---\n",
    "db_redis.flushdb()\n",
    "print(\"   ✓ Base de datos Redis limpiada\")\n",
    "\n",
    "# --- NEO4J ---\n",
    "with db_neo4j.session() as session:\n",
    "    session.run(\"MATCH (n) DETACH DELETE n\")\n",
    "print(\"   ✓ Nodos y relaciones de Neo4j eliminados\")\n",
    "\n",
    "print(\"\\n Todos los datos fueron limpiados correctamente.\")\n"
   ]
  },
  {
   "cell_type": "markdown",
   "id": "7afc5380-0180-4a6e-b55f-e90d3fa72806",
   "metadata": {},
   "source": [
    "## Carga de Datos"
   ]
  },
  {
   "cell_type": "code",
   "execution_count": null,
   "id": "2fba8c05",
   "metadata": {},
   "outputs": [],
   "source": [
    "#-------------------------\n",
    "# Archivos y colecciones\n",
    "#-------------------------\n",
    "nombre_base = \"clase\"\n",
    "nombre_colecciones = [\"usuarios\", \"destinos\", \"hoteles\", \"reservas\", \"actividades\"]\n",
    "nombre_archivos = [\"usuarios.csv\", \"destinos.csv\", \"hoteles.csv\", \"reservas.csv\", \"actividades.csv\"]\n",
    "\n",
    "for i in range(5):\n",
    "    ruta = Path(\"fuentes\") / nombre_archivos[i]\n",
    "    df = utils.lectura_csv(ruta)\n",
    "    \n",
    "    if df is not None:\n",
    "        # Convierte el DataFrame en lista de diccionarios para inserción\n",
    "        filas = df.to_dict(orient=\"records\")\n",
    "        \n",
    "        # -------------------------\n",
    "        # Inserta datos en MongoDB (Usuarios,Destinos,Hoteles,Reservas,Actividades)\n",
    "        # -------------------------\n",
    "        \n",
    "        # Creo colecccion \n",
    "        mongo.crear_coleccion(nombre_base, nombre_colecciones[i], recrear=True)\n",
    "\n",
    "        # Inserto los datos\n",
    "        mongo.insertar_muchos_coleccion(nombre_base, nombre_colecciones[i], filas)\n",
    "\n",
    "        # -------------------------\n",
    "        # Registro de usuarios conectados en Redis\n",
    "        # -------------------------\n",
    "\n",
    "        if nombre_colecciones[i] == \"usuarios\":\n",
    "            conectados = redis.guardar_usuarios_conectados(df, 15)\n",
    "            print(f\"✅ Se registran {conectados} usuarios conectados\")\n",
    "        \n",
    "        # -------------------------\n",
    "        # Creación de nodos en Neo4j \n",
    "        # Solo para usuarios y destinos\n",
    "        # -------------------------\n",
    "\n",
    "        # Solo crea en Neo4j nodos Usuarios y Destinos\n",
    "        if nombre_colecciones[i] in [\"usuarios\", \"destinos\"]:\n",
    "            nombre_nodo = \"Usuario\" if nombre_colecciones[i] == \"usuarios\" else \"Destino\"\n",
    "            campo_clave = \"usuario_id\" if nombre_nodo == \"Usuario\" else \"destino_id\"\n",
    "\n",
    "            with db_neo4j.session() as session:\n",
    "                filas = df.to_dict(orient=\"records\") # Transformo df en dict\n",
    "                for fila in filas: # Recorro  y agrego\n",
    "                    nodo = session.execute_write(neo4j.crear_nodo, nombre_nodo, campo_clave, fila)\n",
    "                print(f\"✅ Nodos de {nombre_nodo} creados exitosamente\")\n",
    "        \n",
    "        # -------------------------\n",
    "        # Manejo especial de reservas\n",
    "        # -------------------------\n",
    "\n",
    "        if nombre_colecciones[i] == \"reservas\":\n",
    "            from datetime import datetime\n",
    "\n",
    "            HOY = datetime.today().date()  # fecha de hoy\n",
    "\n",
    "            # Crear relaciones VISITO entre Usuario y Destino\n",
    "            with db_neo4j.session() as session: \n",
    "                relaciones_creadas = 0\n",
    "                for fila in df.to_dict(orient=\"records\"):\n",
    "                    estado = str(fila.get(\"estado\", \"\")).strip()\n",
    "                    fecha = fila.get(\"fecha_reserva\")\n",
    "\n",
    "                    # Solo si el estado es Confirmada o Pagada y fecha <= hoy\n",
    "                    if estado in [\"Confirmada\", \"Pagada\"] and fecha <= str(HOY):\n",
    "                        session.execute_write(\n",
    "                            neo4j.crear_relacion_unidireccional,\n",
    "                            \"Usuario\", \"usuario_id\", fila[\"usuario_id\"],\n",
    "                            \"Destino\", \"destino_id\", fila[\"destino_id\"],\n",
    "                            \"VISITO\")                   \n",
    "            print(\"✅ Relaciones VISITO creadas exitosamente\")\n",
    "\n",
    "            # Carga en Redis de reservas temporales (estado: Pendiente)\n",
    "            df_reservas_temporales = df[df[\"estado\"] == \"\"]\n",
    "            resultado = redis.carga_masiva_reservas_temporales(df_reservas_temporales)\n",
    "            print(f\"✅ Se insertaron {resultado} reservas temporales\")\n",
    "\n",
    "#Creo relaciones entre usuarios \n",
    "ruta_relaciones = Path(\"fuentes\") / \"usuarios_relaciones.csv\"\n",
    "\n",
    "usuarios_relaciones_df = utils.lectura_csv(ruta_relaciones)\n",
    "\n",
    "# Crear relaciones  entre Usuarios\n",
    "with db_neo4j.session() as session: \n",
    "    filas = usuarios_relaciones_df.to_dict(orient=\"records\")\n",
    "    for fila in filas:\n",
    "        session.execute_write(\n",
    "            neo4j.crear_relacion_bidireccional,\n",
    "            \"Usuario\", \"usuario_id\", fila[\"usuario1\"],\n",
    "            \"Usuario\", \"usuario_id\", fila[\"usuario2\"],\n",
    "            fila[\"tipo\"]\n",
    "        )\n",
    "    print(\"✅ Relaciones entre usuarios creadas exitosamente\")\n"
   ]
  },
  {
   "cell_type": "markdown",
   "id": "ce965122-f247-422f-95d3-da2ac2391fea",
   "metadata": {},
   "source": [
    "##### Contar la cantidad de documentos existentes en cada colección"
   ]
  },
  {
   "cell_type": "code",
   "execution_count": null,
   "id": "251eb1f5-2144-4712-9ed4-a3627ff3b7a3",
   "metadata": {},
   "outputs": [],
   "source": [
    "for i in range (5):\n",
    "    cantidad=mongo.contar_documentos(nombre_base,nombre_colecciones[i])\n",
    "    print(f\"La cantidad de documentos de la coleccion {nombre_colecciones[i]} es {cantidad}\")"
   ]
  },
  {
   "cell_type": "markdown",
   "id": "9c0d655e-3333-4ae7-8095-541f25f4e531",
   "metadata": {},
   "source": [
    "##### Listar datos de las colecciones"
   ]
  },
  {
   "cell_type": "code",
   "execution_count": null,
   "id": "81b51080-1858-46ee-b419-b47ee151803a",
   "metadata": {},
   "outputs": [],
   "source": [
    "# Lista el primer dato de cada colección como prueba de la carga\n",
    "\n",
    "for i in range (5):\n",
    "    cursor=mongo.obtener_cursor(nombre_base,nombre_colecciones[i], 1,proyeccion={\"_id\":0})\n",
    "    print(f\"Colección {nombre_colecciones[i]}:\")\n",
    "    \n",
    "    mongo.imprimir_cursor(cursor)\n"
   ]
  },
  {
   "cell_type": "code",
   "execution_count": null,
   "id": "75ff1ef6-6f98-43d6-8b1f-0a0de8eec620",
   "metadata": {},
   "outputs": [],
   "source": [
    "import pandas as pd\n",
    "\n",
    "# Consulta Cypher para traer relaciones entre usuarios con nombre y apellido\n",
    "query = \"\"\"\n",
    "MATCH (u1:Usuario)-[r:AMIGO_DE]->(u2:Usuario)\n",
    "RETURN \n",
    "    u1.usuario_id AS Usuario1_ID,\n",
    "    u1.nombre AS Usuario1_Nombre,\n",
    "    u1.apellido AS Usuario1_Apellido,\n",
    "    u2.usuario_id AS Usuario2_ID,\n",
    "    u2.nombre AS Usuario2_Nombre,\n",
    "    u2.apellido AS Usuario2_Apellido,\n",
    "    type(r) AS Tipo\n",
    "ORDER BY u1.usuario_id\n",
    "\"\"\"\n",
    "\n",
    "# Ejecutar la consulta en Neo4j\n",
    "with db_neo4j.session() as session:\n",
    "    resultados = session.run(query)\n",
    "    relaciones = [dict(r) for r in resultados]\n",
    "\n",
    "# Convertir a DataFrame\n",
    "df_relaciones = pd.DataFrame(relaciones)\n",
    "\n",
    "df_relaciones"
   ]
  },
  {
   "cell_type": "code",
   "execution_count": null,
   "id": "d0bf74a0-e9c4-44f3-8e7b-3b8c2d9bf2a7",
   "metadata": {},
   "outputs": [],
   "source": []
  },
  {
   "cell_type": "code",
   "execution_count": null,
   "id": "15983310-7d96-4b26-81f3-946201e48bc9",
   "metadata": {},
   "outputs": [],
   "source": []
  },
  {
   "cell_type": "code",
   "execution_count": null,
   "id": "104fc95f-0893-4be3-ba72-fbd498875f68",
   "metadata": {},
   "outputs": [],
   "source": []
  },
  {
   "cell_type": "code",
   "execution_count": null,
   "id": "7a95c643-2032-4e12-8fa9-aaa6fee61199",
   "metadata": {},
   "outputs": [],
   "source": []
  },
  {
   "cell_type": "code",
   "execution_count": null,
   "id": "dbd5fee1-7112-4862-990d-07860a44a66b",
   "metadata": {},
   "outputs": [],
   "source": []
  }
 ],
 "metadata": {
  "kernelspec": {
   "display_name": "Python 3 (ipykernel)",
   "language": "python",
   "name": "python3"
  },
  "language_info": {
   "name": ""
  }
 },
 "nbformat": 4,
 "nbformat_minor": 5
}
