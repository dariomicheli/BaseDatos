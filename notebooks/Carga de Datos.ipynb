{
 "cells": [
  {
   "cell_type": "markdown",
   "id": "e23c0c72-597e-4458-927e-1b56e7a474d0",
   "metadata": {},
   "source": [
    "# Notebook de Carga de Datos iniciales"
   ]
  },
  {
   "cell_type": "markdown",
   "id": "2591e18a-c0a2-4d97-a1e9-3ac57b28b772",
   "metadata": {},
   "source": [
    "Este notebook esta destinado a la carga inicial de los datos en los distintas base de datos"
   ]
  },
  {
   "cell_type": "markdown",
   "id": "5e8100c4-f361-4944-9e1a-a8869d717f76",
   "metadata": {},
   "source": [
    "## Importación de librerias"
   ]
  },
  {
   "cell_type": "code",
   "execution_count": 5,
   "id": "8f3bcee0-fd8f-4cf9-b43f-cfa25a429c06",
   "metadata": {},
   "outputs": [
    {
     "name": "stdout",
     "output_type": "stream",
     "text": [
      "The autoreload extension is already loaded. To reload it, use:\n",
      "  %reload_ext autoreload\n"
     ]
    }
   ],
   "source": [
    "# Limpia todas las variables existentes\n",
    "%reset -f\n",
    "\n",
    "# Habilita autoreload para recargar automáticamente todos los módulos\n",
    "%load_ext autoreload\n",
    "%autoreload 2\n",
    "\n",
    "from pathlib import Path\n",
    "from db_connections import client,db_neo4j,db_redis\n",
    "from src import mongo,neo4j,utils,redis\n",
    "from pymongo.errors import ConnectionFailure\n",
    "from src.utils import procesar_csv\n",
    "from datetime import datetime\n",
    "import os\n",
    "import pandas as pd\n"
   ]
  },
  {
   "cell_type": "markdown",
   "id": "cfced643",
   "metadata": {},
   "source": [
    "## Conexión con bases de datos"
   ]
  },
  {
   "cell_type": "code",
   "execution_count": 6,
   "id": "b42c2db7",
   "metadata": {},
   "outputs": [
    {
     "name": "stdout",
     "output_type": "stream",
     "text": [
      "✅ Conexión a MongoDB verificada.\n",
      "✅ Conexión a Neo4j verificada.\n",
      "✅ Conexión a Redis verificada.\n"
     ]
    }
   ],
   "source": [
    "# =====================\n",
    "# TEST DE CONEXIONES\n",
    "# =====================\n",
    "\n",
    "#Conecto con MongoDB\n",
    "try:\n",
    "    client.admin.command(\"ping\")  # fuerza conexión al servidor\n",
    "    print(\"✅ Conexión a MongoDB verificada.\")\n",
    "except ConnectionFailure as e:\n",
    "    print(f\"❌ Falló la conexión: {type(e).__name__} - {e}\")\n",
    "\n",
    "#Conecto con Neo4j\n",
    "try:\n",
    "    db_neo4j.verify_connectivity()\n",
    "    print(\"✅ Conexión a Neo4j verificada.\")\n",
    "except Exception as e:\n",
    "    print(f\"❌ Error de conexión: {type(e).__name__} - {e}\")\n",
    "\n",
    "#Conecto con Redis\n",
    "try:\n",
    "    db_redis.ping()\n",
    "    print(\"✅ Conexión a Redis verificada.\")\n",
    "except Exception as e:\n",
    "    print(f\"❌ Error de conexión: {type(e).__name__} - {e}\")"
   ]
  },
  {
   "cell_type": "markdown",
   "id": "f5f2d094",
   "metadata": {},
   "source": [
    "## Limpieza previa"
   ]
  },
  {
   "cell_type": "code",
   "execution_count": 7,
   "id": "b4af02f2",
   "metadata": {},
   "outputs": [
    {
     "name": "stdout",
     "output_type": "stream",
     "text": [
      "\n",
      "Limpiando datos existentes...\n",
      "   ✓ Base de datos Mongo eliminada\n",
      "   ✓ Base de datos Redis limpiada\n",
      "   ✓ Nodos y relaciones de Neo4j eliminados\n",
      "\n",
      " Todos los datos fueron limpiados correctamente.\n"
     ]
    }
   ],
   "source": [
    "# --- LIMPIAR DATOS EXISTENTES EN TODAS LAS BASES ---\n",
    "\n",
    "print(\"\\nLimpiando datos existentes...\")\n",
    "\n",
    "# --- MONGO ---\n",
    "nombre_base = \"clase\"\n",
    "client.drop_database(nombre_base)\n",
    "print(\"   ✓ Base de datos Mongo eliminada\")\n",
    "\n",
    "# --- REDIS ---\n",
    "db_redis.flushdb()\n",
    "print(\"   ✓ Base de datos Redis limpiada\")\n",
    "\n",
    "# --- NEO4J ---\n",
    "with db_neo4j.session() as session:\n",
    "    session.run(\"MATCH (n) DETACH DELETE n\")\n",
    "print(\"   ✓ Nodos y relaciones de Neo4j eliminados\")\n",
    "\n",
    "print(\"\\n Todos los datos fueron limpiados correctamente.\")\n"
   ]
  },
  {
   "cell_type": "markdown",
   "id": "7afc5380-0180-4a6e-b55f-e90d3fa72806",
   "metadata": {},
   "source": [
    "## Carga de Datos"
   ]
  },
  {
   "cell_type": "code",
   "execution_count": 8,
   "id": "72710b11",
   "metadata": {},
   "outputs": [
    {
     "name": "stdout",
     "output_type": "stream",
     "text": [
      "✅ Se insertaron 60 documentos en 'usuarios'.\n",
      "✅ Colección usuarios creada e insertada en MongoDB.\n",
      "✅ Se registran 15 usuarios conectados en Redis.\n",
      "✅ Nodos de Usuario creados exitosamente en Neo4j.\n",
      "✅ Se insertaron 37 documentos en 'destinos'.\n",
      "✅ Colección destinos creada e insertada en MongoDB.\n",
      "✅ Nodos de Destino creados exitosamente en Neo4j.\n",
      "✅ Se insertaron 117 documentos en 'hoteles'.\n",
      "✅ Colección hoteles creada e insertada en MongoDB.\n",
      "✅ Se insertaron 1685 documentos en 'reservas'.\n",
      "✅ Colección reservas creada e insertada en MongoDB.\n",
      "✅ Se insertaron 404 reservas temporales en Redis.\n",
      "✅ Relaciones VISITO creadas exitosamente en Neo4j.\n",
      "✅ Se insertaron 111 documentos en 'actividades'.\n",
      "✅ Colección actividades creada e insertada en MongoDB.\n",
      "✅ Relaciones entre usuarios creadas exitosamente en Neo4j.\n",
      "\n",
      "🚀 Proceso completado correctamente.\n"
     ]
    }
   ],
   "source": [
    "\n",
    "#-------------------------\n",
    "# Archivos y colecciones\n",
    "#-------------------------\n",
    "nombre_base = \"clase\"\n",
    "nombre_colecciones = [\"usuarios\", \"destinos\", \"hoteles\", \"reservas\", \"actividades\"]\n",
    "nombre_archivos = [\"usuarios.csv\", \"destinos.csv\", \"hoteles.csv\", \"reservas.csv\", \"actividades.csv\"]\n",
    "\n",
    "# -------------------------------------------------------------\n",
    "# PROCESAMIENTO PRINCIPAL\n",
    "# -------------------------------------------------------------\n",
    "for nombre_archivo, nombre_coleccion in zip(nombre_archivos, nombre_colecciones):\n",
    "    df = procesar_csv(nombre_archivo)\n",
    "    if df is None:\n",
    "        continue\n",
    "\n",
    "    mongo.insertar_en_mongo(nombre_base, nombre_coleccion, df)\n",
    "    redis.insertar_en_redis(nombre_coleccion, df)\n",
    "    neo4j.crear_nodos_neo4j(nombre_coleccion, df)\n",
    "\n",
    "    if nombre_coleccion == \"reservas\":\n",
    "        neo4j.crear_relaciones_visito(df)\n",
    "\n",
    "# -------------------------------------------------------------\n",
    "# RELACIONES ENTRE USUARIOS\n",
    "# -------------------------------------------------------------\n",
    "neo4j.crear_relaciones_usuarios()\n",
    "\n",
    "print(\"\\n🚀 Proceso completado correctamente.\")"
   ]
  },
  {
   "cell_type": "code",
   "execution_count": null,
   "id": "95a24f77-c2bb-4c35-bb2f-6720c2bd4993",
   "metadata": {},
   "outputs": [],
   "source": [
    "#-------------------------\n",
    "# Archivos y colecciones\n",
    "#-------------------------\n",
    "nombre_base = \"clase\"\n",
    "nombre_colecciones = [\"usuarios\", \"destinos\", \"hoteles\", \"reservas\", \"actividades\"]\n",
    "nombre_archivos = [\"usuarios.csv\", \"destinos.csv\", \"hoteles.csv\", \"reservas.csv\", \"actividades.csv\"]\n",
    "\n",
    "for nombre_archivo, nombre_coleccion in zip(nombre_archivos, nombre_colecciones):\n",
    "    ruta = Path(\"fuentes\") / nombre_archivo\n",
    "    df = utils.lectura_csv(ruta)\n",
    "    \n",
    "    if df is not None and not df.empty:\n",
    "        mongo.crear_coleccion(nombre_base, nombre_coleccion, recrear=True)       \n",
    "        filas = df.to_dict(orient=\"records\")\n",
    "        \n",
    "        # MongoDB: Usuarios, Destinos, Hoteles, Reservas, Actividades\n",
    "\n",
    "        if nombre_coleccion == \"reservas\":\n",
    "            df_filtrado = df[df[\"estado\"].notna() & (df[\"estado\"].astype(str).str.strip() != \"\")]\n",
    "            mongo.insertar_muchos_coleccion(nombre_base, nombre_coleccion, df_filtrado.to_dict(orient=\"records\"))\n",
    "        else:\n",
    "            mongo.insertar_muchos_coleccion(nombre_base, nombre_coleccion, filas)\n",
    "\n",
    "        # Redis: usuarios conectados\n",
    "\n",
    "        if nombre_coleccion == \"usuarios\":\n",
    "            conectados = redis.guardar_usuarios_conectados(df, 15)\n",
    "            print(f\"✅ Se registran {conectados} usuarios conectados\")\n",
    "        \n",
    "        # Neo4j: Solo para usuarios y destinos\n",
    "        \n",
    "        filas = df.to_dict(orient=\"records\") #se pisa nuevamente filas porque Mongo le agrega _id y generar error para Neo4j\n",
    "\n",
    "        if nombre_coleccion in [\"usuarios\", \"destinos\"]:\n",
    "            nombre_nodo = \"Usuario\" if nombre_coleccion == \"usuarios\" else \"Destino\"\n",
    "            campo_clave = \"usuario_id\" if nombre_nodo == \"Usuario\" else \"destino_id\"\n",
    "\n",
    "            with db_neo4j.session() as session:\n",
    "                for fila in filas: # Recorro  y agrego\n",
    "                    session.execute_write(neo4j.crear_nodo, nombre_nodo, campo_clave, fila)\n",
    "                print(f\"✅ Nodos de {nombre_nodo} creados exitosamente\")\n",
    "        \n",
    "        # Neo4j: relaciones VISITO entre Usuario y Destino\n",
    "\n",
    "        if nombre_coleccion == \"reservas\":\n",
    "            HOY = datetime.today().date()   \n",
    "            with db_neo4j.session() as session: \n",
    "                for fila in filas: \n",
    "                    estado = str(fila.get(\"estado\", \"\")).strip()\n",
    "                    fecha = fila.get(\"fecha_reserva\")\n",
    "\n",
    "                    # Solo si el estado es Confirmada o Pagada y fecha <= hoy\n",
    "                    if estado in [\"Confirmada\", \"Pagada\"] and fecha <= str(HOY):\n",
    "                        session.execute_write(\n",
    "                            neo4j.crear_relacion_unidireccional,\n",
    "                            \"Usuario\", \"usuario_id\", fila[\"usuario_id\"],\n",
    "                            \"Destino\", \"destino_id\", fila[\"destino_id\"],\n",
    "                            \"VISITO\")                   \n",
    "            print(\"✅ Relaciones VISITO creadas exitosamente\")\n",
    "\n",
    "            # Redis: reservas temporales (sin estado - en carrito)\n",
    "            \n",
    "            df_reservas_temporales = df[df[\"estado\"].isna()]\n",
    "            resultado = redis.carga_masiva_reservas_temporales(df_reservas_temporales)\n",
    "            print(f\"✅ Se insertaron {resultado} reservas temporales\")\n",
    "\n",
    "# Neo4j: Relaciones entre usuarios\n",
    "\n",
    "ruta_relaciones = Path(\"fuentes\") / \"usuarios_relaciones.csv\"\n",
    "df_usuarios_relaciones = utils.lectura_csv(ruta_relaciones)\n",
    "\n",
    "if df_usuarios_relaciones is not None and not df_usuarios_relaciones.empty:\n",
    "    with db_neo4j.session() as session: \n",
    "        filas = df_usuarios_relaciones.to_dict(orient=\"records\")\n",
    "        for fila in filas:\n",
    "            session.execute_write(\n",
    "                neo4j.crear_relacion_bidireccional,\n",
    "                \"Usuario\", \"usuario_id\", fila[\"usuario1\"],\n",
    "                \"Usuario\", \"usuario_id\", fila[\"usuario2\"],\n",
    "                fila[\"tipo\"]\n",
    "            )\n",
    "        print(\"✅ Relaciones entre usuarios creadas exitosamente\")"
   ]
  },
  {
   "cell_type": "markdown",
   "id": "91d794ee-70ab-4bc3-9a9e-51552e56e59b",
   "metadata": {},
   "source": [
    "## Verificación de la carga"
   ]
  },
  {
   "cell_type": "markdown",
   "id": "e864b21b-3027-4afe-ab51-ef8d44f7ac53",
   "metadata": {},
   "source": [
    "### MongoDB"
   ]
  },
  {
   "cell_type": "markdown",
   "id": "ce965122-f247-422f-95d3-da2ac2391fea",
   "metadata": {},
   "source": [
    "##### Cantidad de documentos existentes en cada colección"
   ]
  },
  {
   "cell_type": "code",
   "execution_count": null,
   "id": "251eb1f5-2144-4712-9ed4-a3627ff3b7a3",
   "metadata": {},
   "outputs": [],
   "source": [
    "for i in range (len(nombre_colecciones)):\n",
    "    cantidad=mongo.contar_documentos(nombre_base,nombre_colecciones[i])\n",
    "    print(f\"La cantidad de documentos de la coleccion {nombre_colecciones[i]} es {cantidad}\")"
   ]
  },
  {
   "cell_type": "markdown",
   "id": "a2371e41-03dc-40e3-a924-c7bccbffea16",
   "metadata": {},
   "source": [
    "### Neo4j"
   ]
  },
  {
   "cell_type": "code",
   "execution_count": null,
   "id": "b405a294-2201-4d44-b74f-c3ade5cd7647",
   "metadata": {},
   "outputs": [],
   "source": [
    "df_nodos = neo4j.consulta(db_neo4j, \"\"\"\n",
    "    MATCH (n)\n",
    "    RETURN labels(n)[0] AS tipo_nodo, COUNT(*) AS cantidad\n",
    "\"\"\")\n",
    "\n",
    "df_relaciones = neo4j.consulta(db_neo4j, \"\"\"\n",
    "    MATCH ()-[r]->()\n",
    "    RETURN type(r) AS tipo_relacion, COUNT(*) AS cantidad\n",
    "\"\"\")\n",
    "\n",
    "print(\"Nodos por tipo:\")\n",
    "print(df_nodos.to_string(index=False))\n",
    "\n",
    "print(\"\\nRelaciones por tipo:\")\n",
    "print(df_relaciones.to_string(index=False))\n"
   ]
  },
  {
   "cell_type": "markdown",
   "id": "c9383e80-9946-4568-9e54-8034b764b257",
   "metadata": {},
   "source": [
    "### Redis"
   ]
  },
  {
   "cell_type": "markdown",
   "id": "758e6fec-72ea-4c58-8a81-22019c4db4f6",
   "metadata": {},
   "source": [
    "##### Cantidad y Vista Previa de Usuarios Conectados"
   ]
  },
  {
   "cell_type": "code",
   "execution_count": null,
   "id": "cc646095-39fe-49ed-9119-24a34477c428",
   "metadata": {},
   "outputs": [],
   "source": [
    "claves = db_redis.keys(\"usuario:*:sesion\")\n",
    "print(f\"Cantidad de usuarios conectados {len(claves)}\\n\")\n",
    "print(\"Se imprimen los primeros 5:\")\n",
    "for clave in claves[:5]:\n",
    "    usuario_id = clave.split(\":\")[1]\n",
    "    estado = db_redis.get(clave)\n",
    "    tiempo_restante = db_redis.ttl(clave)\n",
    "    print(f\"Usuario {usuario_id} → sesión: {estado} | TTL: {tiempo_restante} segundos\")"
   ]
  },
  {
   "cell_type": "markdown",
   "id": "2ff3b3a6-5c6a-420f-a786-1e6fcd51878a",
   "metadata": {},
   "source": [
    "##### Cantidad y Vista Previa de Reservas en Carrito"
   ]
  },
  {
   "cell_type": "code",
   "execution_count": null,
   "id": "600df23b-120f-4722-9cf0-b70cf1f5b19c",
   "metadata": {},
   "outputs": [],
   "source": [
    "claves = db_redis.keys(\"reserva_temp:*\")\n",
    "print(f\"Cantidad de reservas temporales {len(claves)}\\n\")\n",
    "print(\"Se imprimen las primeras 5:\")\n",
    "for clave in claves[:5]:\n",
    "    datos = db_redis.hgetall(clave)\n",
    "    tiempo_restante = db_redis.ttl(clave)\n",
    "    print(f\"{clave}: {datos} | TTL: {tiempo_restante} segundos\")"
   ]
  },
  {
   "cell_type": "markdown",
   "id": "ed452104-a56c-48dd-813b-2dd63999b8ef",
   "metadata": {},
   "source": [
    "## Generamos algunas búsquedas en caché"
   ]
  },
  {
   "cell_type": "code",
   "execution_count": null,
   "id": "d3705ef1-e4d6-4683-bbca-70530146a40d",
   "metadata": {},
   "outputs": [],
   "source": [
    "#Borrar redis\n",
    "#db_redis.flushdb()\n",
    "\n",
    "\n",
    "consultas = [\n",
    "    (\"hoteles\", {\"ciudad\": \"La Plata\"}),\n",
    "    (\"destinos\", {\"tipo\": \"Playa\", \"ciudad\": \"La Rioja\"}),\n",
    "    (\"hoteles\", {\"nombre\": \"Familia Galiano S.L. Hotel\"}),\n",
    "    (\"actividades\", {\"tipo\": \"relax\"})\n",
    "]\n",
    "\n",
    "for tipo, filtro in consultas:\n",
    "    resultado = redis.obtener_cache(tipo, filtro)\n",
    "    if resultado is None:\n",
    "        cursor = mongo.obtener_cursor(\"clase\",nombre_coleccion=tipo,filtro=filtro,proyeccion={\"_id\":0})\n",
    "        resultado = list(cursor)\n",
    "        if resultado:\n",
    "            redis.guardar_en_cache(tipo,filtro,resultado,ttl=10)   \n",
    "\n",
    "print(\"✅ Caché de búsqueda creado\")"
   ]
  },
  {
   "cell_type": "markdown",
   "id": "af3401c3-b743-4774-8b7d-9339628c0d3f",
   "metadata": {},
   "source": [
    "### Vista del caché de búsqueda para lo guardado"
   ]
  },
  {
   "cell_type": "code",
   "execution_count": null,
   "id": "8770786a-c3d0-4d90-a9c3-132d23c5a277",
   "metadata": {},
   "outputs": [],
   "source": [
    "for tipo, filtro in consultas:\n",
    "    resultados = redis.obtener_cache(tipo, filtro)\n",
    "    if resultados:\n",
    "        for resultado in resultados:\n",
    "            print(resultado)\n",
    "    else:\n",
    "        print(f\"No existe información en caché para la búsqueda {filtro} en {tipo}\")"
   ]
  },
  {
   "cell_type": "code",
   "execution_count": null,
   "id": "3a82f5a8-e8ea-4fee-9728-800af7051a2c",
   "metadata": {},
   "outputs": [],
   "source": []
  }
 ],
 "metadata": {
  "kernelspec": {
   "display_name": "Python 3 (ipykernel)",
   "language": "python",
   "name": "python3"
  },
  "language_info": {
   "codemirror_mode": {
    "name": "ipython",
    "version": 3
   },
   "file_extension": ".py",
   "mimetype": "text/x-python",
   "name": "python",
   "nbconvert_exporter": "python",
   "pygments_lexer": "ipython3",
   "version": "3.11.13"
  }
 },
 "nbformat": 4,
 "nbformat_minor": 5
}
