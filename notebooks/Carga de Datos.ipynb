{
 "cells": [
  {
   "cell_type": "markdown",
   "id": "e23c0c72-597e-4458-927e-1b56e7a474d0",
   "metadata": {},
   "source": [
    "# Notebook de Carga de Datos iniciales"
   ]
  },
  {
   "cell_type": "markdown",
   "id": "2591e18a-c0a2-4d97-a1e9-3ac57b28b772",
   "metadata": {},
   "source": [
    "Este notebook esta destinado a la carga inicial de los datos en los distintas base de datos"
   ]
  },
  {
   "cell_type": "markdown",
   "id": "5e8100c4-f361-4944-9e1a-a8869d717f76",
   "metadata": {},
   "source": [
    "## Importación de librerias"
   ]
  },
  {
   "cell_type": "markdown",
   "id": "640899d9-62a0-484e-929d-8df6598bd3b1",
   "metadata": {},
   "source": [
    "Se importan las librerias necesarias para la carga de datos masiva."
   ]
  },
  {
   "cell_type": "code",
   "execution_count": 15,
   "id": "8f3bcee0-fd8f-4cf9-b43f-cfa25a429c06",
   "metadata": {},
   "outputs": [],
   "source": [
    "# Rutas\n",
    "from pathlib import Path\n",
    "\n",
    "#Conexiones BD\n",
    "from db_connections import client,db_neo4j,db_redis\n",
    "\n",
    "#Funciones BD\n",
    "from src import mongo,neo4j,utils,redis\n",
    "from pymongo.errors import ConnectionFailure\n",
    "\n",
    "#Procesar archivos/datos\n",
    "from src.utils import procesar_csv\n",
    "from datetime import datetime\n",
    "import os\n",
    "import pandas as pd\n"
   ]
  },
  {
   "cell_type": "markdown",
   "id": "cfced643",
   "metadata": {},
   "source": [
    "## Conexión con bases de datos"
   ]
  },
  {
   "cell_type": "markdown",
   "id": "de34af91-b67e-475d-a3be-c8b12ce2ca34",
   "metadata": {},
   "source": []
  },
  {
   "cell_type": "code",
   "execution_count": 17,
   "id": "b42c2db7",
   "metadata": {},
   "outputs": [
    {
     "name": "stdout",
     "output_type": "stream",
     "text": [
      "✅ Conexión a MongoDB verificada.\n",
      "✅ Conexión a Neo4j verificada.\n",
      "✅ Conexión a Redis verificada.\n"
     ]
    }
   ],
   "source": [
    "# =====================\n",
    "# TEST DE CONEXIONES\n",
    "# =====================\n",
    "\n",
    "#Conecto con MongoDB\n",
    "try:\n",
    "    client.admin.command(\"ping\")  # fuerza conexión al servidor\n",
    "    print(\"✅ Conexión a MongoDB verificada.\")\n",
    "except ConnectionFailure as e:\n",
    "    print(f\"❌ Falló la conexión: {type(e).__name__} - {e}\")\n",
    "\n",
    "#Conecto con Neo4j\n",
    "try:\n",
    "    db_neo4j.verify_connectivity()\n",
    "    print(\"✅ Conexión a Neo4j verificada.\")\n",
    "except Exception as e:\n",
    "    print(f\"❌ Error de conexión: {type(e).__name__} - {e}\")\n",
    "\n",
    "#Conecto con Redis\n",
    "try:\n",
    "    db_redis.ping()\n",
    "    print(\"✅ Conexión a Redis verificada.\")\n",
    "except Exception as e:\n",
    "    print(f\"❌ Error de conexión: {type(e).__name__} - {e}\")"
   ]
  },
  {
   "cell_type": "markdown",
   "id": "f5f2d094",
   "metadata": {},
   "source": [
    "## Limpieza previa"
   ]
  },
  {
   "cell_type": "markdown",
   "id": "53521f1b-720c-4826-bd15-5c58f97a1fbf",
   "metadata": {},
   "source": [
    "Esta sección elimina toda la información existente en las bases de datos utilizadas por el proyecto, dejándolas listas para una nueva carga o ejecución del proceso completo.\n",
    "Las acciones que se realizan son las siguientes:\n",
    "\n",
    "1. **`MongoDB`** → Se elimina la base de datos completa (clase) utilizando `drop_database()`.\n",
    "\n",
    "2. **`Redis`** → Se vacía completamente la base mediante `flushdb()`.\n",
    "\n",
    "3. **`Neo4j`** → Se eliminan todos los nodos y relaciones mediante la consulta `MATCH (n) DETACH DELETE n`."
   ]
  },
  {
   "cell_type": "code",
   "execution_count": 18,
   "id": "b4af02f2",
   "metadata": {},
   "outputs": [
    {
     "name": "stdout",
     "output_type": "stream",
     "text": [
      "\n",
      "Limpiando datos existentes...\n",
      "   ✓ Base de datos Mongo eliminada\n",
      "   ✓ Base de datos Redis limpiada\n",
      "   ✓ Nodos y relaciones de Neo4j eliminados\n",
      "\n",
      " Todos los datos fueron limpiados correctamente.\n"
     ]
    }
   ],
   "source": [
    "# --- LIMPIAR DATOS EXISTENTES EN TODAS LAS BASES ---\n",
    "\n",
    "print(\"\\nLimpiando datos existentes...\")\n",
    "\n",
    "# --- MONGO ---\n",
    "nombre_base = \"clase\"\n",
    "client.drop_database(nombre_base)\n",
    "print(\"   ✓ Base de datos Mongo eliminada\")\n",
    "\n",
    "# --- REDIS ---\n",
    "db_redis.flushdb()\n",
    "print(\"   ✓ Base de datos Redis limpiada\")\n",
    "\n",
    "# --- NEO4J ---\n",
    "with db_neo4j.session() as session:\n",
    "    session.run(\"MATCH (n) DETACH DELETE n\")\n",
    "print(\"   ✓ Nodos y relaciones de Neo4j eliminados\")\n",
    "\n",
    "print(\"\\n Todos los datos fueron limpiados correctamente.\")\n"
   ]
  },
  {
   "cell_type": "markdown",
   "id": "7afc5380-0180-4a6e-b55f-e90d3fa72806",
   "metadata": {},
   "source": [
    "## Carga de Datos"
   ]
  },
  {
   "cell_type": "markdown",
   "id": "ba38e8ca-7a92-4031-8db4-e0394949cee3",
   "metadata": {},
   "source": [
    "Bloque para la carga masiva de datos de las tres bases de datos"
   ]
  },
  {
   "cell_type": "code",
   "execution_count": 19,
   "id": "72710b11",
   "metadata": {},
   "outputs": [
    {
     "name": "stdout",
     "output_type": "stream",
     "text": [
      "✅ Se insertaron 60 documentos en 'usuarios'.\n",
      "✅ Colección usuarios creada e insertada en MongoDB.\n",
      "✅ Se registran 15 usuarios conectados en Redis.\n",
      "✅ Nodos de Usuario creados exitosamente en Neo4j.\n",
      "✅ Se insertaron 37 documentos en 'destinos'.\n",
      "✅ Colección destinos creada e insertada en MongoDB.\n",
      "✅ Nodos de Destino creados exitosamente en Neo4j.\n",
      "✅ Se insertaron 117 documentos en 'hoteles'.\n",
      "✅ Colección hoteles creada e insertada en MongoDB.\n",
      "✅ Se insertaron 1685 documentos en 'reservas'.\n",
      "✅ Colección reservas creada e insertada en MongoDB.\n",
      "✅ Se insertaron 404 reservas temporales en Redis.\n",
      "✅ Relaciones VISITO creadas exitosamente en Neo4j.\n",
      "✅ Se insertaron 111 documentos en 'actividades'.\n",
      "✅ Colección actividades creada e insertada en MongoDB.\n",
      "✅ Relaciones entre usuarios creadas exitosamente en Neo4j.\n",
      "\n",
      "🚀 Proceso completado correctamente.\n"
     ]
    }
   ],
   "source": [
    "\n",
    "#-------------------------\n",
    "# Archivos y colecciones\n",
    "#-------------------------\n",
    "nombre_base = \"clase\"\n",
    "nombre_colecciones = [\"usuarios\", \"destinos\", \"hoteles\", \"reservas\", \"actividades\"]\n",
    "nombre_archivos = [\"usuarios.csv\", \"destinos.csv\", \"hoteles.csv\", \"reservas.csv\", \"actividades.csv\"]\n",
    "\n",
    "# -------------------------------------------------------------\n",
    "# PROCESAMIENTO PRINCIPAL\n",
    "# -------------------------------------------------------------\n",
    "for nombre_archivo, nombre_coleccion in zip(nombre_archivos, nombre_colecciones):\n",
    "    df = procesar_csv(nombre_archivo)\n",
    "    if df is None:\n",
    "        continue\n",
    "\n",
    "    mongo.insertar_en_mongo(nombre_base, nombre_coleccion, df)\n",
    "    redis.insertar_en_redis(nombre_coleccion, df)\n",
    "    neo4j.crear_nodos_neo4j(nombre_coleccion, df)\n",
    "\n",
    "    if nombre_coleccion == \"reservas\":\n",
    "        neo4j.crear_relaciones_visito(df)\n",
    "\n",
    "# -------------------------------------------------------------\n",
    "# RELACIONES ENTRE USUARIOS\n",
    "# -------------------------------------------------------------\n",
    "neo4j.crear_relaciones_usuarios()\n",
    "\n",
    "print(\"\\n🚀 Proceso completado correctamente.\")"
   ]
  },
  {
   "cell_type": "markdown",
   "id": "91d794ee-70ab-4bc3-9a9e-51552e56e59b",
   "metadata": {},
   "source": [
    "## Verificación de la carga"
   ]
  },
  {
   "cell_type": "markdown",
   "id": "f3befd60-f7a9-463e-b84d-9572d4dc73c9",
   "metadata": {},
   "source": [
    "Se generan bloques de consultas de prueba por cada una de las bases de datos para comprobar que contengan los datos cargados anteriormente."
   ]
  },
  {
   "cell_type": "markdown",
   "id": "e864b21b-3027-4afe-ab51-ef8d44f7ac53",
   "metadata": {},
   "source": [
    "### MongoDB"
   ]
  },
  {
   "cell_type": "markdown",
   "id": "ce965122-f247-422f-95d3-da2ac2391fea",
   "metadata": {},
   "source": [
    "##### Cantidad de documentos existentes en cada colección"
   ]
  },
  {
   "cell_type": "code",
   "execution_count": 20,
   "id": "251eb1f5-2144-4712-9ed4-a3627ff3b7a3",
   "metadata": {},
   "outputs": [
    {
     "name": "stdout",
     "output_type": "stream",
     "text": [
      "La cantidad de documentos de la coleccion usuarios es 60\n",
      "La cantidad de documentos de la coleccion destinos es 37\n",
      "La cantidad de documentos de la coleccion hoteles es 117\n",
      "La cantidad de documentos de la coleccion reservas es 1685\n",
      "La cantidad de documentos de la coleccion actividades es 111\n"
     ]
    }
   ],
   "source": [
    "for i in range (len(nombre_colecciones)):\n",
    "    cantidad=mongo.contar_documentos(nombre_base,nombre_colecciones[i])\n",
    "    print(f\"La cantidad de documentos de la coleccion {nombre_colecciones[i]} es {cantidad}\")"
   ]
  },
  {
   "cell_type": "markdown",
   "id": "a2371e41-03dc-40e3-a924-c7bccbffea16",
   "metadata": {},
   "source": [
    "### Neo4j"
   ]
  },
  {
   "cell_type": "code",
   "execution_count": 21,
   "id": "b405a294-2201-4d44-b74f-c3ade5cd7647",
   "metadata": {},
   "outputs": [
    {
     "name": "stdout",
     "output_type": "stream",
     "text": [
      "Nodos por tipo:\n",
      "tipo_nodo  cantidad\n",
      "  Usuario        60\n",
      "  Destino        37\n",
      "\n",
      "Relaciones por tipo:\n",
      "tipo_relacion  cantidad\n",
      "       VISITO       661\n",
      "  FAMILIAR_DE       118\n",
      "     AMIGO_DE       478\n"
     ]
    }
   ],
   "source": [
    "df_nodos = neo4j.consulta(db_neo4j, \"\"\"\n",
    "    MATCH (n)\n",
    "    RETURN labels(n)[0] AS tipo_nodo, COUNT(*) AS cantidad\n",
    "\"\"\")\n",
    "\n",
    "df_relaciones = neo4j.consulta(db_neo4j, \"\"\"\n",
    "    MATCH ()-[r]->()\n",
    "    RETURN type(r) AS tipo_relacion, COUNT(*) AS cantidad\n",
    "\"\"\")\n",
    "\n",
    "print(\"Nodos por tipo:\")\n",
    "print(df_nodos.to_string(index=False))\n",
    "\n",
    "print(\"\\nRelaciones por tipo:\")\n",
    "print(df_relaciones.to_string(index=False))\n"
   ]
  },
  {
   "cell_type": "markdown",
   "id": "c9383e80-9946-4568-9e54-8034b764b257",
   "metadata": {},
   "source": [
    "### Redis"
   ]
  },
  {
   "cell_type": "markdown",
   "id": "758e6fec-72ea-4c58-8a81-22019c4db4f6",
   "metadata": {},
   "source": [
    "##### Cantidad y Vista Previa de Usuarios Conectados"
   ]
  },
  {
   "cell_type": "code",
   "execution_count": 22,
   "id": "cc646095-39fe-49ed-9119-24a34477c428",
   "metadata": {},
   "outputs": [
    {
     "name": "stdout",
     "output_type": "stream",
     "text": [
      "Cantidad de usuarios conectados 15\n",
      "\n",
      "Se imprimen los primeros 5:\n",
      "Usuario 46 → sesión: activa | TTL: 3585 segundos\n",
      "Usuario 53 → sesión: activa | TTL: 3585 segundos\n",
      "Usuario 58 → sesión: activa | TTL: 3585 segundos\n",
      "Usuario 1 → sesión: activa | TTL: 3585 segundos\n",
      "Usuario 49 → sesión: activa | TTL: 3585 segundos\n"
     ]
    }
   ],
   "source": [
    "claves = db_redis.keys(\"usuario:*:sesion\")\n",
    "print(f\"Cantidad de usuarios conectados {len(claves)}\\n\")\n",
    "print(\"Se imprimen los primeros 5:\")\n",
    "for clave in claves[:5]:\n",
    "    usuario_id = clave.split(\":\")[1]\n",
    "    estado = db_redis.get(clave)\n",
    "    tiempo_restante = db_redis.ttl(clave)\n",
    "    print(f\"Usuario {usuario_id} → sesión: {estado} | TTL: {tiempo_restante} segundos\")"
   ]
  },
  {
   "cell_type": "markdown",
   "id": "2ff3b3a6-5c6a-420f-a786-1e6fcd51878a",
   "metadata": {},
   "source": [
    "##### Cantidad y Vista Previa de Reservas en Carrito"
   ]
  },
  {
   "cell_type": "code",
   "execution_count": 23,
   "id": "600df23b-120f-4722-9cf0-b70cf1f5b19c",
   "metadata": {},
   "outputs": [
    {
     "name": "stdout",
     "output_type": "stream",
     "text": [
      "Cantidad de reservas temporales 404\n",
      "\n",
      "Se imprimen las primeras 5:\n",
      "reserva_temp:1134: {'usuario_id': '17', 'destino_id': '22', 'fecha_reserva': '2025-09-28', 'precio_total': '170070'} | TTL: 3587 segundos\n",
      "reserva_temp:310: {'usuario_id': '26', 'destino_id': '7', 'fecha_reserva': '2025-08-28', 'precio_total': '112826'} | TTL: 3587 segundos\n",
      "reserva_temp:1781: {'usuario_id': '23', 'destino_id': '32', 'fecha_reserva': '2024-12-21', 'precio_total': '173348'} | TTL: 3587 segundos\n",
      "reserva_temp:1957: {'usuario_id': '29', 'destino_id': '35', 'fecha_reserva': '2025-03-31', 'precio_total': '110803'} | TTL: 3587 segundos\n",
      "reserva_temp:1771: {'usuario_id': '31', 'destino_id': '32', 'fecha_reserva': '2025-06-05', 'precio_total': '165349'} | TTL: 3587 segundos\n"
     ]
    }
   ],
   "source": [
    "claves = db_redis.keys(\"reserva_temp:*\")\n",
    "print(f\"Cantidad de reservas temporales {len(claves)}\\n\")\n",
    "print(\"Se imprimen las primeras 5:\")\n",
    "for clave in claves[:5]:\n",
    "    datos = db_redis.hgetall(clave)\n",
    "    tiempo_restante = db_redis.ttl(clave)\n",
    "    print(f\"{clave}: {datos} | TTL: {tiempo_restante} segundos\")"
   ]
  },
  {
   "cell_type": "markdown",
   "id": "ed452104-a56c-48dd-813b-2dd63999b8ef",
   "metadata": {},
   "source": [
    "## Generamos algunas búsquedas en caché"
   ]
  },
  {
   "cell_type": "markdown",
   "id": "e309159f-012c-46ed-b20d-77f7f3d4000e",
   "metadata": {},
   "source": [
    "A partir de los datos cargados en MongoDB, se generan consultas ficticias para cargar un caché de búsqueda en Redis."
   ]
  },
  {
   "cell_type": "code",
   "execution_count": 24,
   "id": "d3705ef1-e4d6-4683-bbca-70530146a40d",
   "metadata": {},
   "outputs": [
    {
     "name": "stdout",
     "output_type": "stream",
     "text": [
      "✅ Caché de búsqueda creado\n"
     ]
    }
   ],
   "source": [
    "#Borrar redis\n",
    "#db_redis.flushdb()\n",
    "\n",
    "\n",
    "consultas = [\n",
    "    (\"hoteles\", {\"ciudad\": \"La Plata\"}),\n",
    "    (\"destinos\", {\"tipo\": \"Playa\", \"ciudad\": \"La Rioja\"}),\n",
    "    (\"hoteles\", {\"nombre\": \"Familia Galiano S.L. Hotel\"}),\n",
    "    (\"actividades\", {\"tipo\": \"relax\"})\n",
    "]\n",
    "\n",
    "for tipo, filtro in consultas:\n",
    "    resultado = redis.obtener_cache(tipo, filtro)\n",
    "    if resultado is None:\n",
    "        cursor = mongo.obtener_cursor(\"clase\",nombre_coleccion=tipo,filtro=filtro,proyeccion={\"_id\":0})\n",
    "        resultado = list(cursor)\n",
    "        if resultado:\n",
    "            redis.guardar_en_cache(tipo,filtro,resultado,ttl=10)   \n",
    "\n",
    "print(\"✅ Caché de búsqueda creado\")"
   ]
  },
  {
   "cell_type": "markdown",
   "id": "af3401c3-b743-4774-8b7d-9339628c0d3f",
   "metadata": {},
   "source": [
    "### Vista del caché de búsqueda para lo guardado"
   ]
  },
  {
   "cell_type": "markdown",
   "id": "f0882100-c391-427b-8fc8-b230e194fd90",
   "metadata": {},
   "source": [
    "A partir de las búsquedas cargadas anteriormente se puede ejecutar el siguiente bloque de código para comprobar que se hayan cargado. El tiempo de expiración seteado de ejemplo es de 10 segundos, por lo cual si se espera ese tiempo, se va a notar como las mismas se borran de Redis."
   ]
  },
  {
   "cell_type": "code",
   "execution_count": 25,
   "id": "8770786a-c3d0-4d90-a9c3-132d23c5a277",
   "metadata": {},
   "outputs": [
    {
     "name": "stdout",
     "output_type": "stream",
     "text": [
      "{'hotel_id': 1, 'nombre': 'Hermanos Soria S.Coop. Hotel', 'ciudad': 'La Plata', 'provincia': 'Buenos Aires', 'precio': 201178, 'calificacion': 4, 'servicios': ['restaurant', 'gimnasio', 'spa']}\n",
      "{'hotel_id': 2, 'nombre': 'Espinosa & Asociados S.C.P Hotel', 'ciudad': 'La Plata', 'provincia': 'Buenos Aires', 'precio': 259467, 'calificacion': 3, 'servicios': ['spa', 'wifi']}\n",
      "{'destino_id': 17, 'provincia': 'La Rioja', 'ciudad': 'La Rioja', 'pais': 'Argentina', 'tipo': 'Playa', 'precio_promedio': 138236}\n",
      "{'hotel_id': 8, 'nombre': 'Familia Galiano S.L. Hotel', 'ciudad': 'San Fernando', 'provincia': 'Catamarca', 'precio': 103831, 'calificacion': 1, 'servicios': ['spa', 'restaurant']}\n",
      "{'actividad_id': 2, 'nombre': 'Adaptive demand-driven framework', 'tipo': 'relax', 'ciudad': 'La Plata', 'provincia': 'Buenos Aires', 'precio': 38120}\n",
      "{'actividad_id': 15, 'nombre': 'Sharable intangible frame', 'tipo': 'relax', 'ciudad': 'Resistencia', 'provincia': 'Chaco', 'precio': 26723}\n",
      "{'actividad_id': 18, 'nombre': 'Secured logistical solution', 'tipo': 'relax', 'ciudad': 'Puerto Madryn', 'provincia': 'Chubut', 'precio': 48866}\n",
      "{'actividad_id': 21, 'nombre': 'Reverse-engineered impactful moderator', 'tipo': 'relax', 'ciudad': 'Córdoba', 'provincia': 'Córdoba', 'precio': 27476}\n",
      "{'actividad_id': 23, 'nombre': 'User-friendly global definition', 'tipo': 'relax', 'ciudad': 'Villa Carlos Paz', 'provincia': 'Córdoba', 'precio': 24855}\n",
      "{'actividad_id': 30, 'nombre': 'Digitized eco-centric customer loyalty', 'tipo': 'relax', 'ciudad': 'Corrientes', 'provincia': 'Corrientes', 'precio': 59735}\n",
      "{'actividad_id': 34, 'nombre': 'Self-enabling modular Local Area Network', 'tipo': 'relax', 'ciudad': 'Concordia', 'provincia': 'Entre Ríos', 'precio': 79539}\n",
      "{'actividad_id': 35, 'nombre': 'Versatile non-volatile task-force', 'tipo': 'relax', 'ciudad': 'Concordia', 'provincia': 'Entre Ríos', 'precio': 39487}\n",
      "{'actividad_id': 47, 'nombre': 'Cross-group reciprocal policy', 'tipo': 'relax', 'ciudad': 'Santa Rosa', 'provincia': 'La Pampa', 'precio': 49524}\n",
      "{'actividad_id': 52, 'nombre': 'Inverse real-time leverage', 'tipo': 'relax', 'ciudad': 'Chilecito', 'provincia': 'La Rioja', 'precio': 24664}\n",
      "{'actividad_id': 64, 'nombre': 'Managed asymmetric groupware', 'tipo': 'relax', 'ciudad': 'Iguazú', 'provincia': 'Misiones', 'precio': 28149}\n",
      "{'actividad_id': 65, 'nombre': 'Cross-platform next generation service-desk', 'tipo': 'relax', 'ciudad': 'Iguazú', 'provincia': 'Misiones', 'precio': 65133}\n",
      "{'actividad_id': 67, 'nombre': 'Up-sized stable portal', 'tipo': 'relax', 'ciudad': 'Neuquén', 'provincia': 'Neuquén', 'precio': 37841}\n",
      "{'actividad_id': 69, 'nombre': 'Reduced stable circuit', 'tipo': 'relax', 'ciudad': 'Neuquén', 'provincia': 'Neuquén', 'precio': 48688}\n",
      "{'actividad_id': 72, 'nombre': 'De-engineered radical strategy', 'tipo': 'relax', 'ciudad': 'San Martín de los Andes', 'provincia': 'Neuquén', 'precio': 68138}\n",
      "{'actividad_id': 82, 'nombre': 'Ergonomic directional challenge', 'tipo': 'relax', 'ciudad': 'San Juan', 'provincia': 'San Juan', 'precio': 38229}\n",
      "{'actividad_id': 84, 'nombre': 'Cross-platform motivating throughput', 'tipo': 'relax', 'ciudad': 'San Juan', 'provincia': 'San Juan', 'precio': 61601}\n",
      "{'actividad_id': 85, 'nombre': 'Quality-focused user-facing moderator', 'tipo': 'relax', 'ciudad': 'San Luis', 'provincia': 'San Luis', 'precio': 25979}\n",
      "{'actividad_id': 86, 'nombre': 'Automated stable Graphical User Interface', 'tipo': 'relax', 'ciudad': 'San Luis', 'provincia': 'San Luis', 'precio': 42803}\n",
      "{'actividad_id': 87, 'nombre': 'Visionary regional capacity', 'tipo': 'relax', 'ciudad': 'San Luis', 'provincia': 'San Luis', 'precio': 41843}\n",
      "{'actividad_id': 91, 'nombre': 'Down-sized uniform intranet', 'tipo': 'relax', 'ciudad': 'Río Gallegos', 'provincia': 'Santa Cruz', 'precio': 65460}\n",
      "{'actividad_id': 92, 'nombre': 'Balanced incremental hierarchy', 'tipo': 'relax', 'ciudad': 'Río Gallegos', 'provincia': 'Santa Cruz', 'precio': 38888}\n",
      "{'actividad_id': 93, 'nombre': 'Synergistic uniform encoding', 'tipo': 'relax', 'ciudad': 'Río Gallegos', 'provincia': 'Santa Cruz', 'precio': 73317}\n",
      "{'actividad_id': 95, 'nombre': 'Versatile value-added toolset', 'tipo': 'relax', 'ciudad': 'El Calafate', 'provincia': 'Santa Cruz', 'precio': 25771}\n",
      "{'actividad_id': 98, 'nombre': 'Phased content-based hub', 'tipo': 'relax', 'ciudad': 'Rosario', 'provincia': 'Santa Fe', 'precio': 76682}\n",
      "{'actividad_id': 102, 'nombre': 'Progressive intangible complexity', 'tipo': 'relax', 'ciudad': 'Santa Fe', 'provincia': 'Santa Fe', 'precio': 23552}\n",
      "{'actividad_id': 105, 'nombre': 'Polarized holistic neural-net', 'tipo': 'relax', 'ciudad': 'Santiago del Estero', 'provincia': 'Santiago del Estero', 'precio': 60986}\n",
      "{'actividad_id': 106, 'nombre': 'Customer-focused transitional model', 'tipo': 'relax', 'ciudad': 'Ushuaia', 'provincia': 'Tierra del Fuego', 'precio': 69806}\n",
      "{'actividad_id': 110, 'nombre': 'Optional background definition', 'tipo': 'relax', 'ciudad': 'San Miguel de Tucumán', 'provincia': 'Tucumán', 'precio': 77727}\n",
      "{'actividad_id': 111, 'nombre': 'Organized grid-enabled algorithm', 'tipo': 'relax', 'ciudad': 'San Miguel de Tucumán', 'provincia': 'Tucumán', 'precio': 27957}\n"
     ]
    }
   ],
   "source": [
    "for tipo, filtro in consultas:\n",
    "    resultados = redis.obtener_cache(tipo, filtro)\n",
    "    if resultados:\n",
    "        for resultado in resultados:\n",
    "            print(resultado)\n",
    "    else:\n",
    "        print(f\"No existe información en caché para la búsqueda {filtro} en {tipo}\")"
   ]
  }
 ],
 "metadata": {
  "kernelspec": {
   "display_name": "Python 3 (ipykernel)",
   "language": "python",
   "name": "python3"
  },
  "language_info": {
   "codemirror_mode": {
    "name": "ipython",
    "version": 3
   },
   "file_extension": ".py",
   "mimetype": "text/x-python",
   "name": "python",
   "nbconvert_exporter": "python",
   "pygments_lexer": "ipython3",
   "version": "3.11.14"
  }
 },
 "nbformat": 4,
 "nbformat_minor": 5
}
