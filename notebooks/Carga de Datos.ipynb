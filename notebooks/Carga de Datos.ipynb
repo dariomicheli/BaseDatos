{
 "cells": [
  {
   "cell_type": "markdown",
   "id": "e23c0c72-597e-4458-927e-1b56e7a474d0",
   "metadata": {},
   "source": [
    "# Notebook de Carga de Datos iniciales"
   ]
  },
  {
   "cell_type": "markdown",
   "id": "2591e18a-c0a2-4d97-a1e9-3ac57b28b772",
   "metadata": {},
   "source": [
    "Este notebook esta destinado a la carga inicial de los datos en los distintas base de datos"
   ]
  },
  {
   "cell_type": "markdown",
   "id": "5e8100c4-f361-4944-9e1a-a8869d717f76",
   "metadata": {},
   "source": [
    "## Importación de librerias"
   ]
  },
  {
   "cell_type": "code",
   "execution_count": 33,
   "id": "8f3bcee0-fd8f-4cf9-b43f-cfa25a429c06",
   "metadata": {},
   "outputs": [],
   "source": [
    "# Limpia todas las variables existentes\n",
    "%reset -f\n",
    "\n",
    "# Habilita autoreload para recargar automáticamente todos los módulos\n",
    "%load_ext autoreload\n",
    "%autoreload 2\n",
    "\n",
    "from pathlib import Path\n",
    "from db_connections import client,db_neo4j,db_redis\n",
    "from src import mongo,neo4j,utils,redis\n",
    "from pymongo.errors import ConnectionFailure\n",
    "from src.utils import procesar_csv\n",
    "from datetime import datetime\n",
    "import os\n",
    "import pandas as pd\n"
   ]
  },
  {
   "cell_type": "markdown",
   "id": "cfced643",
   "metadata": {},
   "source": [
    "## Conexión con bases de datos"
   ]
  },
  {
   "cell_type": "code",
   "execution_count": 34,
   "id": "b42c2db7",
   "metadata": {},
   "outputs": [
    {
     "name": "stdout",
     "output_type": "stream",
     "text": [
      "✅ Conexión a MongoDB verificada.\n",
      "✅ Conexión a Neo4j verificada.\n",
      "✅ Conexión a Redis verificada.\n"
     ]
    }
   ],
   "source": [
    "# =====================\n",
    "# TEST DE CONEXIONES\n",
    "# =====================\n",
    "\n",
    "#Conecto con MongoDB\n",
    "try:\n",
    "    client.admin.command(\"ping\")  # fuerza conexión al servidor\n",
    "    print(\"✅ Conexión a MongoDB verificada.\")\n",
    "except ConnectionFailure as e:\n",
    "    print(f\"❌ Falló la conexión: {type(e).__name__} - {e}\")\n",
    "\n",
    "#Conecto con Neo4j\n",
    "try:\n",
    "    db_neo4j.verify_connectivity()\n",
    "    print(\"✅ Conexión a Neo4j verificada.\")\n",
    "except Exception as e:\n",
    "    print(f\"❌ Error de conexión: {type(e).__name__} - {e}\")\n",
    "\n",
    "#Conecto con Redis\n",
    "try:\n",
    "    db_redis.ping()\n",
    "    print(\"✅ Conexión a Redis verificada.\")\n",
    "except Exception as e:\n",
    "    print(f\"❌ Error de conexión: {type(e).__name__} - {e}\")"
   ]
  },
  {
   "cell_type": "markdown",
   "id": "f5f2d094",
   "metadata": {},
   "source": [
    "## Limpieza previa"
   ]
  },
  {
   "cell_type": "code",
   "execution_count": 35,
   "id": "b4af02f2",
   "metadata": {},
   "outputs": [
    {
     "name": "stdout",
     "output_type": "stream",
     "text": [
      "\n",
      "Limpiando datos existentes...\n",
      "   ✓ Base de datos Mongo eliminada\n",
      "   ✓ Base de datos Redis limpiada\n",
      "   ✓ Nodos y relaciones de Neo4j eliminados\n",
      "\n",
      " Todos los datos fueron limpiados correctamente.\n"
     ]
    }
   ],
   "source": [
    "# --- LIMPIAR DATOS EXISTENTES EN TODAS LAS BASES ---\n",
    "\n",
    "print(\"\\nLimpiando datos existentes...\")\n",
    "\n",
    "# --- MONGO ---\n",
    "nombre_base = \"clase\"\n",
    "client.drop_database(nombre_base)\n",
    "print(\"   ✓ Base de datos Mongo eliminada\")\n",
    "\n",
    "# --- REDIS ---\n",
    "db_redis.flushdb()\n",
    "print(\"   ✓ Base de datos Redis limpiada\")\n",
    "\n",
    "# --- NEO4J ---\n",
    "with db_neo4j.session() as session:\n",
    "    session.run(\"MATCH (n) DETACH DELETE n\")\n",
    "print(\"   ✓ Nodos y relaciones de Neo4j eliminados\")\n",
    "\n",
    "print(\"\\n Todos los datos fueron limpiados correctamente.\")\n"
   ]
  },
  {
   "cell_type": "markdown",
   "id": "7afc5380-0180-4a6e-b55f-e90d3fa72806",
   "metadata": {},
   "source": [
    "## Carga de Datos"
   ]
  },
  {
   "cell_type": "code",
   "execution_count": 36,
   "id": "72710b11",
   "metadata": {},
   "outputs": [
    {
     "name": "stdout",
     "output_type": "stream",
     "text": [
      "✅ Se insertaron 60 documentos en 'usuarios'.\n",
      "✅ Colección usuarios creada e insertada en MongoDB.\n",
      "✅ Se registran 15 usuarios conectados en Redis.\n",
      "✅ Nodos de Usuario creados exitosamente en Neo4j.\n",
      "✅ Se insertaron 37 documentos en 'destinos'.\n",
      "✅ Colección destinos creada e insertada en MongoDB.\n",
      "✅ Nodos de Destino creados exitosamente en Neo4j.\n",
      "✅ Se insertaron 117 documentos en 'hoteles'.\n",
      "✅ Colección hoteles creada e insertada en MongoDB.\n",
      "✅ Se insertaron 1685 documentos en 'reservas'.\n",
      "✅ Colección reservas creada e insertada en MongoDB.\n",
      "✅ Se insertaron 404 reservas temporales en Redis.\n"
     ]
    },
    {
     "ename": "TypeError",
     "evalue": "crear_relaciones_visito() missing 1 required positional argument: 'nombre_coleccion'",
     "output_type": "error",
     "traceback": [
      "\u001b[31m---------------------------------------------------------------------------\u001b[39m",
      "\u001b[31mTypeError\u001b[39m                                 Traceback (most recent call last)",
      "\u001b[36mCell\u001b[39m\u001b[36m \u001b[39m\u001b[32mIn[36]\u001b[39m\u001b[32m, line 21\u001b[39m\n\u001b[32m     18\u001b[39m     neo4j.crear_nodos_neo4j(nombre_coleccion, df)\n\u001b[32m     20\u001b[39m     \u001b[38;5;28;01mif\u001b[39;00m nombre_coleccion == \u001b[33m\"\u001b[39m\u001b[33mreservas\u001b[39m\u001b[33m\"\u001b[39m:\n\u001b[32m---> \u001b[39m\u001b[32m21\u001b[39m         \u001b[43mneo4j\u001b[49m\u001b[43m.\u001b[49m\u001b[43mcrear_relaciones_visito\u001b[49m\u001b[43m(\u001b[49m\u001b[43mdf\u001b[49m\u001b[43m)\u001b[49m\n\u001b[32m     23\u001b[39m \u001b[38;5;66;03m# -------------------------------------------------------------\u001b[39;00m\n\u001b[32m     24\u001b[39m \u001b[38;5;66;03m# RELACIONES ENTRE USUARIOS\u001b[39;00m\n\u001b[32m     25\u001b[39m \u001b[38;5;66;03m# -------------------------------------------------------------\u001b[39;00m\n\u001b[32m     26\u001b[39m neo4j.crear_relaciones_usuarios()\n",
      "\u001b[31mTypeError\u001b[39m: crear_relaciones_visito() missing 1 required positional argument: 'nombre_coleccion'"
     ]
    }
   ],
   "source": [
    "\n",
    "#-------------------------\n",
    "# Archivos y colecciones\n",
    "#-------------------------\n",
    "nombre_base = \"clase\"\n",
    "nombre_colecciones = [\"usuarios\", \"destinos\", \"hoteles\", \"reservas\", \"actividades\"]\n",
    "nombre_archivos = [\"usuarios.csv\", \"destinos.csv\", \"hoteles.csv\", \"reservas.csv\", \"actividades.csv\"]\n",
    "\n",
    "# -------------------------------------------------------------\n",
    "# PROCESAMIENTO PRINCIPAL\n",
    "# -------------------------------------------------------------\n",
    "for nombre_archivo, nombre_coleccion in zip(nombre_archivos, nombre_colecciones):\n",
    "    df = procesar_csv(nombre_archivo)\n",
    "    if df is None:\n",
    "        continue\n",
    "\n",
    "    mongo.insertar_en_mongo(nombre_base, nombre_coleccion, df)\n",
    "    redis.insertar_en_redis(nombre_coleccion, df)\n",
    "    neo4j.crear_nodos_neo4j(nombre_coleccion, df)\n",
    "\n",
    "    if nombre_coleccion == \"reservas\":\n",
    "        neo4j.crear_relaciones_visito(df)\n",
    "\n",
    "# -------------------------------------------------------------\n",
    "# RELACIONES ENTRE USUARIOS\n",
    "# -------------------------------------------------------------\n",
    "neo4j.crear_relaciones_usuarios()\n",
    "\n",
    "print(\"\\n🚀 Proceso completado correctamente.\")"
   ]
  },
  {
   "cell_type": "markdown",
   "id": "91d794ee-70ab-4bc3-9a9e-51552e56e59b",
   "metadata": {},
   "source": [
    "## Verificación de la carga"
   ]
  },
  {
   "cell_type": "markdown",
   "id": "e864b21b-3027-4afe-ab51-ef8d44f7ac53",
   "metadata": {},
   "source": [
    "### MongoDB"
   ]
  },
  {
   "cell_type": "markdown",
   "id": "ce965122-f247-422f-95d3-da2ac2391fea",
   "metadata": {},
   "source": [
    "##### Cantidad de documentos existentes en cada colección"
   ]
  },
  {
   "cell_type": "code",
   "execution_count": null,
   "id": "251eb1f5-2144-4712-9ed4-a3627ff3b7a3",
   "metadata": {},
   "outputs": [],
   "source": [
    "for i in range (len(nombre_colecciones)):\n",
    "    cantidad=mongo.contar_documentos(nombre_base,nombre_colecciones[i])\n",
    "    print(f\"La cantidad de documentos de la coleccion {nombre_colecciones[i]} es {cantidad}\")"
   ]
  },
  {
   "cell_type": "markdown",
   "id": "a2371e41-03dc-40e3-a924-c7bccbffea16",
   "metadata": {},
   "source": [
    "### Neo4j"
   ]
  },
  {
   "cell_type": "code",
   "execution_count": null,
   "id": "b405a294-2201-4d44-b74f-c3ade5cd7647",
   "metadata": {},
   "outputs": [],
   "source": [
    "df_nodos = neo4j.consulta(db_neo4j, \"\"\"\n",
    "    MATCH (n)\n",
    "    RETURN labels(n)[0] AS tipo_nodo, COUNT(*) AS cantidad\n",
    "\"\"\")\n",
    "\n",
    "df_relaciones = neo4j.consulta(db_neo4j, \"\"\"\n",
    "    MATCH ()-[r]->()\n",
    "    RETURN type(r) AS tipo_relacion, COUNT(*) AS cantidad\n",
    "\"\"\")\n",
    "\n",
    "print(\"Nodos por tipo:\")\n",
    "print(df_nodos.to_string(index=False))\n",
    "\n",
    "print(\"\\nRelaciones por tipo:\")\n",
    "print(df_relaciones.to_string(index=False))\n"
   ]
  },
  {
   "cell_type": "markdown",
   "id": "c9383e80-9946-4568-9e54-8034b764b257",
   "metadata": {},
   "source": [
    "### Redis"
   ]
  },
  {
   "cell_type": "markdown",
   "id": "758e6fec-72ea-4c58-8a81-22019c4db4f6",
   "metadata": {},
   "source": [
    "##### Cantidad y Vista Previa de Usuarios Conectados"
   ]
  },
  {
   "cell_type": "code",
   "execution_count": null,
   "id": "cc646095-39fe-49ed-9119-24a34477c428",
   "metadata": {},
   "outputs": [],
   "source": [
    "claves = db_redis.keys(\"usuario:*:sesion\")\n",
    "print(f\"Cantidad de usuarios conectados {len(claves)}\\n\")\n",
    "print(\"Se imprimen los primeros 5:\")\n",
    "for clave in claves[:5]:\n",
    "    usuario_id = clave.split(\":\")[1]\n",
    "    estado = db_redis.get(clave)\n",
    "    tiempo_restante = db_redis.ttl(clave)\n",
    "    print(f\"Usuario {usuario_id} → sesión: {estado} | TTL: {tiempo_restante} segundos\")"
   ]
  },
  {
   "cell_type": "markdown",
   "id": "2ff3b3a6-5c6a-420f-a786-1e6fcd51878a",
   "metadata": {},
   "source": [
    "##### Cantidad y Vista Previa de Reservas en Carrito"
   ]
  },
  {
   "cell_type": "code",
   "execution_count": null,
   "id": "600df23b-120f-4722-9cf0-b70cf1f5b19c",
   "metadata": {},
   "outputs": [],
   "source": [
    "claves = db_redis.keys(\"reserva_temp:*\")\n",
    "print(f\"Cantidad de reservas temporales {len(claves)}\\n\")\n",
    "print(\"Se imprimen las primeras 5:\")\n",
    "for clave in claves[:5]:\n",
    "    datos = db_redis.hgetall(clave)\n",
    "    tiempo_restante = db_redis.ttl(clave)\n",
    "    print(f\"{clave}: {datos} | TTL: {tiempo_restante} segundos\")"
   ]
  },
  {
   "cell_type": "markdown",
   "id": "ed452104-a56c-48dd-813b-2dd63999b8ef",
   "metadata": {},
   "source": [
    "## Generamos algunas búsquedas en caché"
   ]
  },
  {
   "cell_type": "code",
   "execution_count": null,
   "id": "d3705ef1-e4d6-4683-bbca-70530146a40d",
   "metadata": {},
   "outputs": [],
   "source": [
    "#Borrar redis\n",
    "#db_redis.flushdb()\n",
    "\n",
    "\n",
    "consultas = [\n",
    "    (\"hoteles\", {\"ciudad\": \"La Plata\"}),\n",
    "    (\"destinos\", {\"tipo\": \"Playa\", \"ciudad\": \"La Rioja\"}),\n",
    "    (\"hoteles\", {\"nombre\": \"Familia Galiano S.L. Hotel\"}),\n",
    "    (\"actividades\", {\"tipo\": \"relax\"})\n",
    "]\n",
    "\n",
    "for tipo, filtro in consultas:\n",
    "    resultado = redis.obtener_cache(tipo, filtro)\n",
    "    if resultado is None:\n",
    "        cursor = mongo.obtener_cursor(\"clase\",nombre_coleccion=tipo,filtro=filtro,proyeccion={\"_id\":0})\n",
    "        resultado = list(cursor)\n",
    "        if resultado:\n",
    "            redis.guardar_en_cache(tipo,filtro,resultado,ttl=10)   \n",
    "\n",
    "print(\"✅ Caché de búsqueda creado\")"
   ]
  },
  {
   "cell_type": "markdown",
   "id": "af3401c3-b743-4774-8b7d-9339628c0d3f",
   "metadata": {},
   "source": [
    "### Vista del caché de búsqueda para lo guardado"
   ]
  },
  {
   "cell_type": "code",
   "execution_count": null,
   "id": "8770786a-c3d0-4d90-a9c3-132d23c5a277",
   "metadata": {},
   "outputs": [],
   "source": [
    "for tipo, filtro in consultas:\n",
    "    resultados = redis.obtener_cache(tipo, filtro)\n",
    "    if resultados:\n",
    "        for resultado in resultados:\n",
    "            print(resultado)\n",
    "    else:\n",
    "        print(f\"No existe información en caché para la búsqueda {filtro} en {tipo}\")"
   ]
  }
 ],
 "metadata": {
  "kernelspec": {
   "display_name": "Python 3 (ipykernel)",
   "language": "python",
   "name": "python3"
  },
  "language_info": {
   "codemirror_mode": {
    "name": "ipython",
    "version": 3
   },
   "file_extension": ".py",
   "mimetype": "text/x-python",
   "name": "python",
   "nbconvert_exporter": "python",
   "pygments_lexer": "ipython3",
   "version": "3.11.14"
  }
 },
 "nbformat": 4,
 "nbformat_minor": 5
}
