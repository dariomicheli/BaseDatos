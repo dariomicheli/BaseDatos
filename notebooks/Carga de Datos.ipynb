{
 "cells": [
  {
   "cell_type": "markdown",
   "id": "e23c0c72-597e-4458-927e-1b56e7a474d0",
   "metadata": {},
   "source": [
    "# Notebook de Carga de Datos iniciales"
   ]
  },
  {
   "cell_type": "markdown",
   "id": "2591e18a-c0a2-4d97-a1e9-3ac57b28b772",
   "metadata": {},
   "source": [
    "Este notebook esta destinado a la carga inicial de los datos en los distintas base de datos"
   ]
  },
  {
   "cell_type": "markdown",
   "id": "5e8100c4-f361-4944-9e1a-a8869d717f76",
   "metadata": {},
   "source": [
    "## Importación de librerias"
   ]
  },
  {
   "cell_type": "markdown",
   "id": "640899d9-62a0-484e-929d-8df6598bd3b1",
   "metadata": {},
   "source": [
    "Se importan las librerias necesarias para la carga de datos masiva."
   ]
  },
  {
   "cell_type": "code",
   "execution_count": null,
   "id": "8f3bcee0-fd8f-4cf9-b43f-cfa25a429c06",
   "metadata": {},
   "outputs": [],
   "source": [
    "# Rutas\n",
    "from pathlib import Path\n",
    "\n",
    "#Conexiones BD\n",
    "from db_connections import client,db_neo4j,db_redis\n",
    "\n",
    "#Funciones BD\n",
    "from src import mongo,neo4j,utils,redis\n",
    "from pymongo.errors import ConnectionFailure\n",
    "\n",
    "#Procesar archivos/datos\n",
    "from src.utils import procesar_csv\n",
    "from datetime import datetime\n",
    "import os\n",
    "import pandas as pd\n"
   ]
  },
  {
   "cell_type": "markdown",
   "id": "f5f2d094",
   "metadata": {},
   "source": [
    "## Limpieza previa"
   ]
  },
  {
   "cell_type": "markdown",
   "id": "53521f1b-720c-4826-bd15-5c58f97a1fbf",
   "metadata": {},
   "source": [
    "Esta sección elimina toda la información existente en las bases de datos utilizadas por el proyecto, dejándolas listas para una nueva carga o ejecución del proceso completo.\n",
    "Las acciones que se realizan son las siguientes:\n",
    "\n",
    "1. **`MongoDB`** → Se elimina la base de datos completa (clase) utilizando `drop_database()`.\n",
    "\n",
    "2. **`Redis`** → Se vacía completamente la base mediante `flushdb()`.\n",
    "\n",
    "3. **`Neo4j`** → Se eliminan todos los nodos y relaciones mediante la consulta `MATCH (n) DETACH DELETE n`."
   ]
  },
  {
   "cell_type": "code",
   "execution_count": null,
   "id": "b4af02f2",
   "metadata": {},
   "outputs": [],
   "source": [
    "# --- LIMPIAR DATOS EXISTENTES EN TODAS LAS BASES ---\n",
    "\n",
    "print(\"\\nLimpiando datos existentes...\")\n",
    "\n",
    "# --- MONGO ---\n",
    "nombre_base = \"clase\"\n",
    "client.drop_database(nombre_base)\n",
    "print(\"   ✓ Base de datos Mongo eliminada\")\n",
    "\n",
    "# --- REDIS ---\n",
    "db_redis.flushdb()\n",
    "print(\"   ✓ Base de datos Redis limpiada\")\n",
    "\n",
    "# --- NEO4J ---\n",
    "with db_neo4j.session() as session:\n",
    "    session.run(\"MATCH (n) DETACH DELETE n\")\n",
    "print(\"   ✓ Nodos y relaciones de Neo4j eliminados\")\n",
    "\n",
    "print(\"\\n Todos los datos fueron limpiados correctamente.\")\n"
   ]
  },
  {
   "cell_type": "markdown",
   "id": "8f3cb793-6ed4-4f25-80d5-825f8e5401c8",
   "metadata": {},
   "source": [
    "## Creación de DataSets"
   ]
  },
  {
   "cell_type": "markdown",
   "id": "35a4f974-9bd9-42b8-9489-c0a760f8a384",
   "metadata": {},
   "source": [
    "Función para crear los distintos DataSets en la carpeta **/fuentes**"
   ]
  },
  {
   "cell_type": "code",
   "execution_count": null,
   "id": "d021b6a3-2a3c-47b7-97c2-3611da554bf8",
   "metadata": {},
   "outputs": [],
   "source": [
    "utils.generar_csv_datos_ficticios()"
   ]
  },
  {
   "cell_type": "markdown",
   "id": "7afc5380-0180-4a6e-b55f-e90d3fa72806",
   "metadata": {},
   "source": [
    "## Carga de Datos"
   ]
  },
  {
   "cell_type": "markdown",
   "id": "ba38e8ca-7a92-4031-8db4-e0394949cee3",
   "metadata": {},
   "source": [
    "Bloque para la carga masiva de datos de las tres bases de datos"
   ]
  },
  {
   "cell_type": "code",
   "execution_count": null,
   "id": "72710b11",
   "metadata": {},
   "outputs": [],
   "source": [
    "\n",
    "#-------------------------\n",
    "# Archivos y colecciones\n",
    "#-------------------------\n",
    "nombre_base = \"clase\"\n",
    "nombre_colecciones = [\"usuarios\", \"destinos\", \"hoteles\", \"reservas\", \"actividades\"]\n",
    "nombre_archivos = [\"usuarios.csv\", \"destinos.csv\", \"hoteles.csv\", \"reservas.csv\", \"actividades.csv\"]\n",
    "\n",
    "# -------------------------------------------------------------\n",
    "# PROCESAMIENTO PRINCIPAL\n",
    "# -------------------------------------------------------------\n",
    "for nombre_archivo, nombre_coleccion in zip(nombre_archivos, nombre_colecciones):\n",
    "    df = procesar_csv(nombre_archivo)\n",
    "    if df is None:\n",
    "        continue\n",
    "\n",
    "    mongo.insertar_en_mongo(nombre_base, nombre_coleccion, df)\n",
    "    redis.insertar_en_redis(nombre_coleccion, df)\n",
    "    neo4j.crear_nodos_neo4j(nombre_coleccion, df)\n",
    "\n",
    "    if nombre_coleccion == \"reservas\":\n",
    "        neo4j.crear_relaciones_visito(df)\n",
    "\n",
    "# -------------------------------------------------------------\n",
    "# RELACIONES ENTRE USUARIOS\n",
    "# -------------------------------------------------------------\n",
    "neo4j.crear_relaciones_usuarios()\n",
    "\n",
    "print(\"\\n🚀 Proceso completado correctamente.\")"
   ]
  },
  {
   "cell_type": "markdown",
   "id": "91d794ee-70ab-4bc3-9a9e-51552e56e59b",
   "metadata": {},
   "source": [
    "## Verificación de la carga"
   ]
  },
  {
   "cell_type": "markdown",
   "id": "f3befd60-f7a9-463e-b84d-9572d4dc73c9",
   "metadata": {},
   "source": [
    "Se generan bloques de consultas de prueba por cada una de las bases de datos para comprobar que contengan los datos cargados anteriormente."
   ]
  },
  {
   "cell_type": "markdown",
   "id": "e864b21b-3027-4afe-ab51-ef8d44f7ac53",
   "metadata": {},
   "source": [
    "### MongoDB"
   ]
  },
  {
   "cell_type": "markdown",
   "id": "ce965122-f247-422f-95d3-da2ac2391fea",
   "metadata": {},
   "source": [
    "##### Cantidad de documentos existentes en cada colección"
   ]
  },
  {
   "cell_type": "code",
   "execution_count": null,
   "id": "251eb1f5-2144-4712-9ed4-a3627ff3b7a3",
   "metadata": {},
   "outputs": [],
   "source": [
    "for i in range (len(nombre_colecciones)):\n",
    "    cantidad=mongo.contar_documentos(nombre_base,nombre_colecciones[i])\n",
    "    print(f\"La cantidad de documentos de la coleccion {nombre_colecciones[i]} es {cantidad}\")"
   ]
  },
  {
   "cell_type": "markdown",
   "id": "a2371e41-03dc-40e3-a924-c7bccbffea16",
   "metadata": {},
   "source": [
    "### Neo4j"
   ]
  },
  {
   "cell_type": "code",
   "execution_count": null,
   "id": "b405a294-2201-4d44-b74f-c3ade5cd7647",
   "metadata": {},
   "outputs": [],
   "source": [
    "df_nodos = neo4j.consulta(db_neo4j, \"\"\"\n",
    "    MATCH (n)\n",
    "    RETURN labels(n)[0] AS tipo_nodo, COUNT(*) AS cantidad\n",
    "\"\"\")\n",
    "\n",
    "df_relaciones = neo4j.consulta(db_neo4j, \"\"\"\n",
    "    MATCH ()-[r]->()\n",
    "    RETURN type(r) AS tipo_relacion, COUNT(*) AS cantidad\n",
    "\"\"\")\n",
    "\n",
    "print(\"Nodos por tipo:\")\n",
    "print(df_nodos.to_string(index=False))\n",
    "\n",
    "print(\"\\nRelaciones por tipo:\")\n",
    "print(df_relaciones.to_string(index=False))\n"
   ]
  },
  {
   "cell_type": "markdown",
   "id": "c9383e80-9946-4568-9e54-8034b764b257",
   "metadata": {},
   "source": [
    "### Redis"
   ]
  },
  {
   "cell_type": "markdown",
   "id": "758e6fec-72ea-4c58-8a81-22019c4db4f6",
   "metadata": {},
   "source": [
    "##### Cantidad y Vista Previa de Usuarios Conectados"
   ]
  },
  {
   "cell_type": "code",
   "execution_count": null,
   "id": "cc646095-39fe-49ed-9119-24a34477c428",
   "metadata": {},
   "outputs": [],
   "source": [
    "claves = db_redis.keys(\"usuario:*:sesion\")\n",
    "print(f\"Cantidad de usuarios conectados {len(claves)}\\n\")\n",
    "print(\"Se imprimen los primeros 5:\")\n",
    "for clave in claves[:5]:\n",
    "    usuario_id = clave.split(\":\")[1]\n",
    "    estado = db_redis.get(clave)\n",
    "    tiempo_restante = db_redis.ttl(clave)\n",
    "    print(f\"Usuario {usuario_id} → sesión: {estado} | TTL: {tiempo_restante} segundos\")"
   ]
  },
  {
   "cell_type": "markdown",
   "id": "2ff3b3a6-5c6a-420f-a786-1e6fcd51878a",
   "metadata": {},
   "source": [
    "##### Cantidad y Vista Previa de Reservas en Carrito"
   ]
  },
  {
   "cell_type": "code",
   "execution_count": null,
   "id": "600df23b-120f-4722-9cf0-b70cf1f5b19c",
   "metadata": {},
   "outputs": [],
   "source": [
    "claves = db_redis.keys(\"reserva_temp:*\")\n",
    "print(f\"Cantidad de reservas temporales {len(claves)}\\n\")\n",
    "print(\"Se imprimen las primeras 5:\")\n",
    "for clave in claves[:5]:\n",
    "    datos = db_redis.hgetall(clave)\n",
    "    tiempo_restante = db_redis.ttl(clave)\n",
    "    print(f\"{clave}: {datos} | TTL: {tiempo_restante} segundos\")"
   ]
  },
  {
   "cell_type": "markdown",
   "id": "ed452104-a56c-48dd-813b-2dd63999b8ef",
   "metadata": {},
   "source": [
    "## Generamos algunas búsquedas en caché"
   ]
  },
  {
   "cell_type": "markdown",
   "id": "e309159f-012c-46ed-b20d-77f7f3d4000e",
   "metadata": {},
   "source": [
    "A partir de los datos cargados en MongoDB, se generan consultas ficticias para cargar un caché de búsqueda en Redis."
   ]
  },
  {
   "cell_type": "code",
   "execution_count": null,
   "id": "d3705ef1-e4d6-4683-bbca-70530146a40d",
   "metadata": {},
   "outputs": [],
   "source": [
    "#Borrar redis\n",
    "#db_redis.flushdb()\n",
    "\n",
    "\n",
    "consultas = [\n",
    "    (\"hoteles\", {\"ciudad\": \"La Plata\"}),\n",
    "    (\"destinos\", {\"tipo\": \"Playa\", \"ciudad\": \"La Rioja\"}),\n",
    "    (\"hoteles\", {\"nombre\": \"Familia Galiano S.L. Hotel\"}),\n",
    "    (\"actividades\", {\"tipo\": \"relax\"})\n",
    "]\n",
    "\n",
    "for tipo, filtro in consultas:\n",
    "    resultado = redis.obtener_cache(tipo, filtro)\n",
    "    if resultado is None:\n",
    "        cursor = mongo.obtener_cursor(\"clase\",nombre_coleccion=tipo,filtro=filtro,proyeccion={\"_id\":0})\n",
    "        resultado = list(cursor)\n",
    "        if resultado:\n",
    "            redis.guardar_en_cache(tipo,filtro,resultado,ttl=10)   \n",
    "\n",
    "print(\"✅ Caché de búsqueda creado\")"
   ]
  },
  {
   "cell_type": "markdown",
   "id": "af3401c3-b743-4774-8b7d-9339628c0d3f",
   "metadata": {},
   "source": [
    "### Vista del caché de búsqueda para lo guardado"
   ]
  },
  {
   "cell_type": "markdown",
   "id": "f0882100-c391-427b-8fc8-b230e194fd90",
   "metadata": {},
   "source": [
    "A partir de las búsquedas cargadas anteriormente se puede ejecutar el siguiente bloque de código para comprobar que se hayan cargado. El tiempo de expiración seteado de ejemplo es de 10 segundos, por lo cual si se espera ese tiempo, se va a notar como las mismas se borran de Redis."
   ]
  },
  {
   "cell_type": "code",
   "execution_count": null,
   "id": "8770786a-c3d0-4d90-a9c3-132d23c5a277",
   "metadata": {},
   "outputs": [],
   "source": [
    "for tipo, filtro in consultas:\n",
    "    resultados = redis.obtener_cache(tipo, filtro)\n",
    "    if resultados:\n",
    "        for resultado in resultados:\n",
    "            print(resultado)\n",
    "    else:\n",
    "        print(f\"No existe información en caché para la búsqueda {filtro} en {tipo}\")"
   ]
  }
 ],
 "metadata": {
  "kernelspec": {
   "display_name": "Python 3 (ipykernel)",
   "language": "python",
   "name": "python3"
  },
  "language_info": {
   "codemirror_mode": {
    "name": "ipython",
    "version": 3
   },
   "file_extension": ".py",
   "mimetype": "text/x-python",
   "name": "python",
   "nbconvert_exporter": "python",
   "pygments_lexer": "ipython3",
   "version": "3.11.13"
  }
 },
 "nbformat": 4,
 "nbformat_minor": 5
}
