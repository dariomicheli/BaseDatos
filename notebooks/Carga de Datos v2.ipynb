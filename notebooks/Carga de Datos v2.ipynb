{
 "cells": [
  {
   "cell_type": "markdown",
   "id": "e23c0c72-597e-4458-927e-1b56e7a474d0",
   "metadata": {},
   "source": [
    "# Notebook de Carga de Datos iniciales"
   ]
  },
  {
   "cell_type": "markdown",
   "id": "2591e18a-c0a2-4d97-a1e9-3ac57b28b772",
   "metadata": {},
   "source": [
    "Este notebook esta destinado a la carga inicial de los datos en los distintas base de datos"
   ]
  },
  {
   "cell_type": "markdown",
   "id": "5e8100c4-f361-4944-9e1a-a8869d717f76",
   "metadata": {},
   "source": [
    "## Importación de librerias"
   ]
  },
  {
   "cell_type": "code",
   "execution_count": null,
   "id": "8f3bcee0-fd8f-4cf9-b43f-cfa25a429c06",
   "metadata": {},
   "outputs": [],
   "source": [
    "from pathlib import Path\n",
    "from db_connections import client,db_neo4j,db_redis\n",
    "from src import mongo"
   ]
  },
  {
   "cell_type": "markdown",
   "id": "5863fb18",
   "metadata": {},
   "source": [
    "## Conexión con bases de datos"
   ]
  },
  {
   "cell_type": "code",
   "execution_count": null,
   "id": "b42c2db7",
   "metadata": {},
   "outputs": [],
   "source": [
    "# =====================\n",
    "# TEST DE CONEXIONES\n",
    "# =====================\n",
    "print(\"MongoDB colecciones:\", client[\"clase\"].list_collection_names())\n",
    "print(\"Neo4j driver activo:\", db_neo4j is not None)\n",
    "print(\"Redis ping:\", db_redis.ping())"
   ]
  },
  {
   "cell_type": "markdown",
   "id": "7afc5380-0180-4a6e-b55f-e90d3fa72806",
   "metadata": {},
   "source": [
    "## Carga de Datos"
   ]
  },
  {
   "cell_type": "code",
   "execution_count": null,
   "id": "2fba8c05",
   "metadata": {},
   "outputs": [],
   "source": [
    "# --- MONGO ---\n",
    "nombre_base=\"clase\"\n",
    "nombre_colecciones = [\"usuarios\",\"destinos\",\"hoteles\",\"reservas\",\"actividades\"]\n",
    "nombre_archivos= [\"usuarios.csv\",\"destinos.csv\",\"hoteles.csv\",\"reservas.csv\",\"actividades.csv\"]\n",
    "\n",
    "for i in range (5):\n",
    "    ruta=Path(\"fuentes\") / nombre_archivos[i]\n",
    "    mongo.crear_coleccion(nombre_base,nombre_colecciones[i],recrear=True)\n",
    "    mongo.cargar_csv_a_coleccion(ruta,nombre_base,nombre_colecciones[i])"
   ]
  },
  {
   "cell_type": "markdown",
   "id": "ce965122-f247-422f-95d3-da2ac2391fea",
   "metadata": {},
   "source": [
    "##### Contar la cantidad de documentos existentes en cada colección"
   ]
  },
  {
   "cell_type": "code",
   "execution_count": null,
   "id": "251eb1f5-2144-4712-9ed4-a3627ff3b7a3",
   "metadata": {},
   "outputs": [],
   "source": [
    "for i in range (5):\n",
    "    cantidad=mongo.contar_documentos(nombre_base,nombre_colecciones[i])\n",
    "    print(f\"La cantidad de documentos de la coleccion {nombre_colecciones[i]} es {cantidad}\")"
   ]
  },
  {
   "cell_type": "markdown",
   "id": "9c0d655e-3333-4ae7-8095-541f25f4e531",
   "metadata": {},
   "source": [
    "##### Listar datos de las colecciones"
   ]
  },
  {
   "cell_type": "code",
   "execution_count": null,
   "id": "81b51080-1858-46ee-b419-b47ee151803a",
   "metadata": {},
   "outputs": [],
   "source": [
    "# Lista el primer dato de cada colección como prueba de la carga\n",
    "\n",
    "for i in range (5):\n",
    "    cursor=mongo.obtener_cursor(nombre_base,nombre_colecciones[i], 1,proyeccion={\"_id\":0})\n",
    "    print(f\"Colección {nombre_colecciones[i]}:\")\n",
    "    mongo.imprimir_cursor(cursor)"
   ]
  }
 ],
 "metadata": {
  "kernelspec": {
   "display_name": "Python 3 (ipykernel)",
   "language": "python",
   "name": "python3"
  },
  "language_info": {
   "codemirror_mode": {
    "name": "ipython",
    "version": 3
   },
   "file_extension": ".py",
   "mimetype": "text/x-python",
   "name": "python",
   "nbconvert_exporter": "python",
   "pygments_lexer": "ipython3",
   "version": "3.11.13"
  }
 },
 "nbformat": 4,
 "nbformat_minor": 5
}
