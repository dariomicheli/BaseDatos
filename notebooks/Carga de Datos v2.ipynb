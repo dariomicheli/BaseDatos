{
 "cells": [
  {
   "cell_type": "markdown",
   "id": "e23c0c72-597e-4458-927e-1b56e7a474d0",
   "metadata": {},
   "source": [
    "# Notebook de Carga de Datos iniciales"
   ]
  },
  {
   "cell_type": "markdown",
   "id": "2591e18a-c0a2-4d97-a1e9-3ac57b28b772",
   "metadata": {},
   "source": [
    "Este notebook esta destinado a la carga inicial de los datos en los distintas base de datos"
   ]
  },
  {
   "cell_type": "markdown",
   "id": "5e8100c4-f361-4944-9e1a-a8869d717f76",
   "metadata": {},
   "source": [
    "## Importación de librerias"
   ]
  },
  {
   "cell_type": "code",
   "execution_count": 42,
   "id": "8f3bcee0-fd8f-4cf9-b43f-cfa25a429c06",
   "metadata": {},
   "outputs": [],
   "source": [
    "from pathlib import Path\n",
    "from db_connections import client,db_neo4j,db_redis\n",
    "import os\n",
    "from src import mongo\n",
    "from neo4j import GraphDatabase\n",
    "from src import neo4j\n"
   ]
  },
  {
   "cell_type": "markdown",
   "id": "5863fb18",
   "metadata": {},
   "source": [
    "## Conexión con bases de datos"
   ]
  },
  {
   "cell_type": "code",
   "execution_count": 43,
   "id": "b42c2db7",
   "metadata": {},
   "outputs": [
    {
     "name": "stdout",
     "output_type": "stream",
     "text": [
      "MongoDB colecciones: ['libros', 'usuarios', 'hoteles', 'reservas', 'destinos', 'actividades', 'alumnos']\n",
      "Neo4j driver activo: True\n",
      "Redis ping: True\n"
     ]
    }
   ],
   "source": [
    "# =====================\n",
    "# TEST DE CONEXIONES\n",
    "# =====================\n",
    "print(\"MongoDB colecciones:\", client[\"clase\"].list_collection_names())\n",
    "print(\"Neo4j driver activo:\", db_neo4j is not None)\n",
    "print(\"Redis ping:\", db_redis.ping())"
   ]
  },
  {
   "cell_type": "markdown",
   "id": "7afc5380-0180-4a6e-b55f-e90d3fa72806",
   "metadata": {},
   "source": [
    "## Carga de Datos"
   ]
  },
  {
   "cell_type": "code",
   "execution_count": 44,
   "id": "2fba8c05",
   "metadata": {},
   "outputs": [
    {
     "name": "stdout",
     "output_type": "stream",
     "text": [
      "✅ Se insertaron 1000 documentos en 'usuarios'.\n",
      "✅ Se insertaron 50 documentos en 'destinos'.\n",
      "✅ Se insertaron 100 documentos en 'hoteles'.\n",
      "✅ Se insertaron 200 documentos en 'reservas'.\n",
      "✅ Se insertaron 120 documentos en 'actividades'.\n"
     ]
    }
   ],
   "source": [
    "# --- MONGO ---\n",
    "nombre_base=\"clase\"\n",
    "nombre_colecciones = [\"usuarios\",\"destinos\",\"hoteles\",\"reservas\",\"actividades\"]\n",
    "nombre_archivos= [\"usuarios.csv\",\"destinos.csv\",\"hoteles.csv\",\"reservas.csv\",\"actividades.csv\"]\n",
    "\n",
    "for i in range (5):\n",
    "    ruta=Path(\"fuentes\") / nombre_archivos[i]\n",
    "    mongo.crear_coleccion(nombre_base,nombre_colecciones[i],recrear=True)\n",
    "    mongo.cargar_csv_a_coleccion(ruta,nombre_base,nombre_colecciones[i])"
   ]
  },
  {
   "cell_type": "markdown",
   "id": "ce965122-f247-422f-95d3-da2ac2391fea",
   "metadata": {},
   "source": [
    "##### Contar la cantidad de documentos existentes en cada colección"
   ]
  },
  {
   "cell_type": "code",
   "execution_count": 45,
   "id": "251eb1f5-2144-4712-9ed4-a3627ff3b7a3",
   "metadata": {},
   "outputs": [
    {
     "name": "stdout",
     "output_type": "stream",
     "text": [
      "La cantidad de documentos de la coleccion usuarios es 1000\n",
      "La cantidad de documentos de la coleccion destinos es 50\n",
      "La cantidad de documentos de la coleccion hoteles es 100\n",
      "La cantidad de documentos de la coleccion reservas es 200\n",
      "La cantidad de documentos de la coleccion actividades es 120\n"
     ]
    }
   ],
   "source": [
    "for i in range (5):\n",
    "    cantidad=mongo.contar_documentos(nombre_base,nombre_colecciones[i])\n",
    "    print(f\"La cantidad de documentos de la coleccion {nombre_colecciones[i]} es {cantidad}\")"
   ]
  },
  {
   "cell_type": "markdown",
   "id": "9c0d655e-3333-4ae7-8095-541f25f4e531",
   "metadata": {},
   "source": [
    "##### Listar datos de las colecciones"
   ]
  },
  {
   "cell_type": "code",
   "execution_count": 46,
   "id": "81b51080-1858-46ee-b419-b47ee151803a",
   "metadata": {
    "scrolled": true
   },
   "outputs": [
    {
     "name": "stdout",
     "output_type": "stream",
     "text": [
      "Colección usuarios:\n",
      "{'apellido': 'Aguiló',\n",
      " 'email': 'jose-ignaciocalatayud@gmail.com',\n",
      " 'nombre': 'Brígida',\n",
      " 'telefono': '+34 701 95 78 02',\n",
      " 'usuario_id': 1}\n",
      "Colección destinos:\n",
      "{'ciudad': 'Valencia',\n",
      " 'destino_id': 1,\n",
      " 'pais': 'Brasil',\n",
      " 'precio_promedio': 175291,\n",
      " 'tipo': 'Playa'}\n",
      "Colección hoteles:\n",
      "{'calificacion': 4,\n",
      " 'ciudad': 'Guadalajara',\n",
      " 'hotel_id': 1,\n",
      " 'nombre': 'Fábrica JJH S.Coop.',\n",
      " 'precio': 218005,\n",
      " 'servicios': 'pileta;wifi;spa'}\n",
      "Colección reservas:\n",
      "{'destino_id': 15,\n",
      " 'estado': 'Cancelada',\n",
      " 'fecha_reserva': '2025-08-07',\n",
      " 'precio_total': 59359,\n",
      " 'reserva_id': 1,\n",
      " 'usuario_id': 319}\n",
      "Colección actividades:\n",
      "{'actividad_id': 1,\n",
      " 'ciudad': 'Valladolid',\n",
      " 'nombre': 'Organic object-oriented Internet solution',\n",
      " 'precio': 78337,\n",
      " 'tipo': 'aventura'}\n"
     ]
    }
   ],
   "source": [
    "# Lista el primer dato de cada colección como prueba de la carga\n",
    "\n",
    "for i in range (5):\n",
    "    cursor=mongo.obtener_cursor(nombre_base,nombre_colecciones[i], 1,proyeccion={\"_id\":0})\n",
    "    print(f\"Colección {nombre_colecciones[i]}:\")\n",
    "    mongo.imprimir_cursor(cursor)\n",
    "\n",
    "    "
   ]
  },
  {
   "cell_type": "markdown",
   "id": "196673bc",
   "metadata": {},
   "source": [
    "## CREO USUARIOS EN NEO4J"
   ]
  },
  {
   "cell_type": "code",
   "execution_count": 47,
   "id": "f1513573-f24a-474f-b6c3-96ecbcae54bc",
   "metadata": {
    "scrolled": true
   },
   "outputs": [],
   "source": [
    "# IMPORTO DATOS USUARIO DESDE MONGO\n",
    "usuarios = mongo.obtener_cursor(\n",
    "    \"clase\",\n",
    "    nombre_coleccion=\"usuarios\",\n",
    "    proyeccion={\"_id\":0,\"usuario_id\": 1, \"nombre\": 1, \"apellido\": 1}\n",
    ")\n",
    "usuarios=list(usuarios)\n",
    "\n",
    "# CREO NODO EN NEO4J\n",
    "\n",
    "\n",
    "\n"
   ]
  },
  {
   "cell_type": "code",
   "execution_count": 48,
   "id": "53778656",
   "metadata": {
    "scrolled": true
   },
   "outputs": [
    {
     "name": "stdout",
     "output_type": "stream",
     "text": [
      "Nodo creado o encontrado: <Node element_id='4:f0b1a310-9db2-4083-8af1-ac27d102df9d:1' labels=frozenset({'Destino'}) properties={'ciudad': 'Valencia', 'destino_id': 1, 'pais': 'Brasil'}>\n",
      "Nodo creado o encontrado: <Node element_id='4:f0b1a310-9db2-4083-8af1-ac27d102df9d:2' labels=frozenset({'Destino'}) properties={'ciudad': 'Guadalajara', 'destino_id': 2, 'pais': 'Brasil'}>\n",
      "Nodo creado o encontrado: <Node element_id='4:f0b1a310-9db2-4083-8af1-ac27d102df9d:3' labels=frozenset({'Destino'}) properties={'ciudad': 'Tarragona', 'destino_id': 3, 'pais': 'Chile'}>\n",
      "Nodo creado o encontrado: <Node element_id='4:f0b1a310-9db2-4083-8af1-ac27d102df9d:4' labels=frozenset({'Destino'}) properties={'ciudad': 'Murcia', 'destino_id': 4, 'pais': 'Brasil'}>\n",
      "Nodo creado o encontrado: <Node element_id='4:f0b1a310-9db2-4083-8af1-ac27d102df9d:5' labels=frozenset({'Destino'}) properties={'ciudad': 'Guadalajara', 'destino_id': 5, 'pais': 'Italia'}>\n",
      "Nodo creado o encontrado: <Node element_id='4:f0b1a310-9db2-4083-8af1-ac27d102df9d:6' labels=frozenset({'Destino'}) properties={'ciudad': 'Zaragoza', 'destino_id': 6, 'pais': 'España'}>\n",
      "Nodo creado o encontrado: <Node element_id='4:f0b1a310-9db2-4083-8af1-ac27d102df9d:7' labels=frozenset({'Destino'}) properties={'ciudad': 'Zaragoza', 'destino_id': 7, 'pais': 'Chile'}>\n",
      "Nodo creado o encontrado: <Node element_id='4:f0b1a310-9db2-4083-8af1-ac27d102df9d:8' labels=frozenset({'Destino'}) properties={'ciudad': 'Cantabria', 'destino_id': 8, 'pais': 'Chile'}>\n",
      "Nodo creado o encontrado: <Node element_id='4:f0b1a310-9db2-4083-8af1-ac27d102df9d:9' labels=frozenset({'Destino'}) properties={'ciudad': 'Salamanca', 'destino_id': 9, 'pais': 'Italia'}>\n",
      "Nodo creado o encontrado: <Node element_id='4:f0b1a310-9db2-4083-8af1-ac27d102df9d:10' labels=frozenset({'Destino'}) properties={'ciudad': 'Salamanca', 'destino_id': 10, 'pais': 'Italia'}>\n",
      "Nodo creado o encontrado: <Node element_id='4:f0b1a310-9db2-4083-8af1-ac27d102df9d:11' labels=frozenset({'Destino'}) properties={'ciudad': 'Burgos', 'destino_id': 11, 'pais': 'Argentina'}>\n",
      "Nodo creado o encontrado: <Node element_id='4:f0b1a310-9db2-4083-8af1-ac27d102df9d:12' labels=frozenset({'Destino'}) properties={'ciudad': 'Guipúzcoa', 'destino_id': 12, 'pais': 'México'}>\n",
      "Nodo creado o encontrado: <Node element_id='4:f0b1a310-9db2-4083-8af1-ac27d102df9d:13' labels=frozenset({'Destino'}) properties={'ciudad': 'Cantabria', 'destino_id': 13, 'pais': 'España'}>\n",
      "Nodo creado o encontrado: <Node element_id='4:f0b1a310-9db2-4083-8af1-ac27d102df9d:14' labels=frozenset({'Destino'}) properties={'ciudad': 'Toledo', 'destino_id': 14, 'pais': 'Italia'}>\n",
      "Nodo creado o encontrado: <Node element_id='4:f0b1a310-9db2-4083-8af1-ac27d102df9d:15' labels=frozenset({'Destino'}) properties={'ciudad': 'Valladolid', 'destino_id': 15, 'pais': 'México'}>\n",
      "Nodo creado o encontrado: <Node element_id='4:f0b1a310-9db2-4083-8af1-ac27d102df9d:16' labels=frozenset({'Destino'}) properties={'ciudad': 'Palencia', 'destino_id': 16, 'pais': 'Chile'}>\n",
      "Nodo creado o encontrado: <Node element_id='4:f0b1a310-9db2-4083-8af1-ac27d102df9d:17' labels=frozenset({'Destino'}) properties={'ciudad': 'Girona', 'destino_id': 17, 'pais': 'Italia'}>\n",
      "Nodo creado o encontrado: <Node element_id='4:f0b1a310-9db2-4083-8af1-ac27d102df9d:18' labels=frozenset({'Destino'}) properties={'ciudad': 'Cáceres', 'destino_id': 18, 'pais': 'Chile'}>\n",
      "Nodo creado o encontrado: <Node element_id='4:f0b1a310-9db2-4083-8af1-ac27d102df9d:19' labels=frozenset({'Destino'}) properties={'ciudad': 'Guipúzcoa', 'destino_id': 19, 'pais': 'Argentina'}>\n",
      "Nodo creado o encontrado: <Node element_id='4:f0b1a310-9db2-4083-8af1-ac27d102df9d:20' labels=frozenset({'Destino'}) properties={'ciudad': 'Santa Cruz de Tenerife', 'destino_id': 20, 'pais': 'México'}>\n",
      "Nodo creado o encontrado: <Node element_id='4:f0b1a310-9db2-4083-8af1-ac27d102df9d:21' labels=frozenset({'Destino'}) properties={'ciudad': 'Pontevedra', 'destino_id': 21, 'pais': 'México'}>\n",
      "Nodo creado o encontrado: <Node element_id='4:f0b1a310-9db2-4083-8af1-ac27d102df9d:22' labels=frozenset({'Destino'}) properties={'ciudad': 'Salamanca', 'destino_id': 22, 'pais': 'Chile'}>\n",
      "Nodo creado o encontrado: <Node element_id='4:f0b1a310-9db2-4083-8af1-ac27d102df9d:23' labels=frozenset({'Destino'}) properties={'ciudad': 'Ceuta', 'destino_id': 23, 'pais': 'Italia'}>\n",
      "Nodo creado o encontrado: <Node element_id='4:f0b1a310-9db2-4083-8af1-ac27d102df9d:24' labels=frozenset({'Destino'}) properties={'ciudad': 'Zamora', 'destino_id': 24, 'pais': 'Chile'}>\n",
      "Nodo creado o encontrado: <Node element_id='4:f0b1a310-9db2-4083-8af1-ac27d102df9d:25' labels=frozenset({'Destino'}) properties={'ciudad': 'Badajoz', 'destino_id': 25, 'pais': 'Francia'}>\n",
      "Nodo creado o encontrado: <Node element_id='4:f0b1a310-9db2-4083-8af1-ac27d102df9d:26' labels=frozenset({'Destino'}) properties={'ciudad': 'Zamora', 'destino_id': 26, 'pais': 'Brasil'}>\n",
      "Nodo creado o encontrado: <Node element_id='4:f0b1a310-9db2-4083-8af1-ac27d102df9d:27' labels=frozenset({'Destino'}) properties={'ciudad': 'Zaragoza', 'destino_id': 27, 'pais': 'España'}>\n",
      "Nodo creado o encontrado: <Node element_id='4:f0b1a310-9db2-4083-8af1-ac27d102df9d:28' labels=frozenset({'Destino'}) properties={'ciudad': 'Almería', 'destino_id': 28, 'pais': 'Chile'}>\n",
      "Nodo creado o encontrado: <Node element_id='4:f0b1a310-9db2-4083-8af1-ac27d102df9d:29' labels=frozenset({'Destino'}) properties={'ciudad': 'Lleida', 'destino_id': 29, 'pais': 'Argentina'}>\n",
      "Nodo creado o encontrado: <Node element_id='4:f0b1a310-9db2-4083-8af1-ac27d102df9d:30' labels=frozenset({'Destino'}) properties={'ciudad': 'Tarragona', 'destino_id': 30, 'pais': 'Chile'}>\n",
      "Nodo creado o encontrado: <Node element_id='4:f0b1a310-9db2-4083-8af1-ac27d102df9d:31' labels=frozenset({'Destino'}) properties={'ciudad': 'Lugo', 'destino_id': 31, 'pais': 'Brasil'}>\n",
      "Nodo creado o encontrado: <Node element_id='4:f0b1a310-9db2-4083-8af1-ac27d102df9d:32' labels=frozenset({'Destino'}) properties={'ciudad': 'Pontevedra', 'destino_id': 32, 'pais': 'Argentina'}>\n",
      "Nodo creado o encontrado: <Node element_id='4:f0b1a310-9db2-4083-8af1-ac27d102df9d:33' labels=frozenset({'Destino'}) properties={'ciudad': 'La Rioja', 'destino_id': 33, 'pais': 'Italia'}>\n",
      "Nodo creado o encontrado: <Node element_id='4:f0b1a310-9db2-4083-8af1-ac27d102df9d:34' labels=frozenset({'Destino'}) properties={'ciudad': 'Melilla', 'destino_id': 34, 'pais': 'Chile'}>\n",
      "Nodo creado o encontrado: <Node element_id='4:f0b1a310-9db2-4083-8af1-ac27d102df9d:35' labels=frozenset({'Destino'}) properties={'ciudad': 'Soria', 'destino_id': 35, 'pais': 'Argentina'}>\n",
      "Nodo creado o encontrado: <Node element_id='4:f0b1a310-9db2-4083-8af1-ac27d102df9d:36' labels=frozenset({'Destino'}) properties={'ciudad': 'Guadalajara', 'destino_id': 36, 'pais': 'Chile'}>\n",
      "Nodo creado o encontrado: <Node element_id='4:f0b1a310-9db2-4083-8af1-ac27d102df9d:37' labels=frozenset({'Destino'}) properties={'ciudad': 'Teruel', 'destino_id': 37, 'pais': 'Francia'}>\n",
      "Nodo creado o encontrado: <Node element_id='4:f0b1a310-9db2-4083-8af1-ac27d102df9d:38' labels=frozenset({'Destino'}) properties={'ciudad': 'Baleares', 'destino_id': 38, 'pais': 'México'}>\n",
      "Nodo creado o encontrado: <Node element_id='4:f0b1a310-9db2-4083-8af1-ac27d102df9d:39' labels=frozenset({'Destino'}) properties={'ciudad': 'Castellón', 'destino_id': 39, 'pais': 'Francia'}>\n",
      "Nodo creado o encontrado: <Node element_id='4:f0b1a310-9db2-4083-8af1-ac27d102df9d:40' labels=frozenset({'Destino'}) properties={'ciudad': 'Burgos', 'destino_id': 40, 'pais': 'Italia'}>\n",
      "Nodo creado o encontrado: <Node element_id='4:f0b1a310-9db2-4083-8af1-ac27d102df9d:41' labels=frozenset({'Destino'}) properties={'ciudad': 'Asturias', 'destino_id': 41, 'pais': 'Brasil'}>\n",
      "Nodo creado o encontrado: <Node element_id='4:f0b1a310-9db2-4083-8af1-ac27d102df9d:42' labels=frozenset({'Destino'}) properties={'ciudad': 'Granada', 'destino_id': 42, 'pais': 'Brasil'}>\n",
      "Nodo creado o encontrado: <Node element_id='4:f0b1a310-9db2-4083-8af1-ac27d102df9d:43' labels=frozenset({'Destino'}) properties={'ciudad': 'Cáceres', 'destino_id': 43, 'pais': 'Brasil'}>\n",
      "Nodo creado o encontrado: <Node element_id='4:f0b1a310-9db2-4083-8af1-ac27d102df9d:44' labels=frozenset({'Destino'}) properties={'ciudad': 'Albacete', 'destino_id': 44, 'pais': 'Chile'}>\n",
      "Nodo creado o encontrado: <Node element_id='4:f0b1a310-9db2-4083-8af1-ac27d102df9d:45' labels=frozenset({'Destino'}) properties={'ciudad': 'Valladolid', 'destino_id': 45, 'pais': 'Francia'}>\n",
      "Nodo creado o encontrado: <Node element_id='4:f0b1a310-9db2-4083-8af1-ac27d102df9d:46' labels=frozenset({'Destino'}) properties={'ciudad': 'Valladolid', 'destino_id': 46, 'pais': 'Brasil'}>\n",
      "Nodo creado o encontrado: <Node element_id='4:f0b1a310-9db2-4083-8af1-ac27d102df9d:47' labels=frozenset({'Destino'}) properties={'ciudad': 'Ávila', 'destino_id': 47, 'pais': 'Francia'}>\n",
      "Nodo creado o encontrado: <Node element_id='4:f0b1a310-9db2-4083-8af1-ac27d102df9d:48' labels=frozenset({'Destino'}) properties={'ciudad': 'Zaragoza', 'destino_id': 48, 'pais': 'Italia'}>\n",
      "Nodo creado o encontrado: <Node element_id='4:f0b1a310-9db2-4083-8af1-ac27d102df9d:49' labels=frozenset({'Destino'}) properties={'ciudad': 'Ourense', 'destino_id': 49, 'pais': 'Francia'}>\n",
      "Nodo creado o encontrado: <Node element_id='4:f0b1a310-9db2-4083-8af1-ac27d102df9d:50' labels=frozenset({'Destino'}) properties={'ciudad': 'Santa Cruz de Tenerife', 'destino_id': 50, 'pais': 'Argentina'}>\n"
     ]
    }
   ],
   "source": [
    "\n",
    "# Traer datos de MongoDB\n",
    "destinos = mongo.obtener_cursor(\n",
    "    \"clase\",\n",
    "    nombre_coleccion=\"destinos\",\n",
    "    proyeccion={\"_id\": 0, \"destino_id\": 1, \"ciudad\": 1, \"pais\": 1}\n",
    ")\n",
    "destinos = list(destinos)\n",
    "\n",
    "# Conexión a Neo4j\n",
    "NEO4J_PASSWORD = os.getenv(\"NEO4J_PASSWORD\", \"neo4j123\")\n",
    "driver = GraphDatabase.driver(\"bolt://neo4j:7687\", auth=(\"neo4j\", NEO4J_PASSWORD))\n",
    "\n",
    "# Crear nodos en Neo4j\n",
    "with driver.session() as session:\n",
    "    for destino in destinos:\n",
    "        nodo = session.execute_write(neo4j.crear_nodo, \"Destino\", \"destino_id\", destino)\n",
    "        print(f\"Nodo creado o encontrado: {nodo['n']}\")\n"
   ]
  },
  {
   "cell_type": "code",
   "execution_count": null,
   "id": "58385f0b-4411-48be-8d8a-98bed2d1aea4",
   "metadata": {},
   "outputs": [],
   "source": []
  },
  {
   "cell_type": "code",
   "execution_count": null,
   "id": "376fffd1-e941-4e76-b99f-72248d2e9435",
   "metadata": {},
   "outputs": [],
   "source": []
  }
 ],
 "metadata": {
  "kernelspec": {
   "display_name": "Python 3 (ipykernel)",
   "language": "python",
   "name": "python3"
  },
  "language_info": {
   "codemirror_mode": {
    "name": "ipython",
    "version": 3
   },
   "file_extension": ".py",
   "mimetype": "text/x-python",
   "name": "python",
   "nbconvert_exporter": "python",
   "pygments_lexer": "ipython3",
   "version": "3.11.13"
  }
 },
 "nbformat": 4,
 "nbformat_minor": 5
}
