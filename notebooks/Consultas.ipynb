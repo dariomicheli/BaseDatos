{
 "cells": [
  {
   "cell_type": "markdown",
   "id": "fce3fb50-092b-4392-80df-258a0450f414",
   "metadata": {},
   "source": [
    "# Consultas Integradas"
   ]
  },
  {
   "cell_type": "markdown",
   "id": "400fd7b0-612f-4d19-bcf5-f7e4020347bd",
   "metadata": {},
   "source": [
    "Este notebook tiene el fin de generar las consultas planteadas en el trabajo práctico integrador"
   ]
  },
  {
   "cell_type": "markdown",
   "id": "d03161d8-e77b-42c1-8ef9-5e692a142baa",
   "metadata": {},
   "source": [
    "#### Importo librerias"
   ]
  },
  {
   "cell_type": "code",
   "execution_count": null,
   "id": "d0ae8dc4",
   "metadata": {},
   "outputs": [],
   "source": [
    "# Limpia todas las variables existentes\n",
    "%reset -f\n",
    "\n",
    "# Habilita autoreload para recargar automáticamente todos los módulos\n",
    "%load_ext autoreloadj"
   ]
  },
  {
   "cell_type": "code",
   "execution_count": 1,
   "id": "082c6b7a",
   "metadata": {},
   "outputs": [],
   "source": [
    "import os\n",
    "from pathlib import Path\n",
    "import pandas as pd\n",
    "from pymongo.errors import ConnectionFailure\n",
    "from db_connections import client, db_neo4j, db_redis\n",
    "from src import mongo, neo4j, utils, redis\n",
    "from IPython.display import display\n",
    "import matplotlib.pyplot as plt\n",
    "from constants import NOMBRE_BD_MONGO"
   ]
  },
  {
   "cell_type": "code",
   "execution_count": 2,
   "id": "d03acb47",
   "metadata": {},
   "outputs": [
    {
     "name": "stdout",
     "output_type": "stream",
     "text": [
      "✅ Conexión a MongoDB verificada.\n",
      "✅ Conexión a Neo4j verificada.\n",
      "✅ Conexión a Redis verificada.\n"
     ]
    }
   ],
   "source": [
    "# =====================\n",
    "# TEST DE CONEXIONES\n",
    "# =====================\n",
    "\n",
    "#Conecto con MongoDB\n",
    "try:\n",
    "    client.admin.command(\"ping\")  # fuerza conexión al servidor\n",
    "    print(\"✅ Conexión a MongoDB verificada.\")\n",
    "except ConnectionFailure as e:\n",
    "    print(f\"❌ Falló la conexión: {type(e).__name__} - {e}\")\n",
    "\n",
    "#Conecto con Neo4j\n",
    "try:\n",
    "    db_neo4j.verify_connectivity()\n",
    "    print(\"✅ Conexión a Neo4j verificada.\")\n",
    "except Exception as e:\n",
    "    print(f\"❌ Error de conexión: {type(e).__name__} - {e}\")\n",
    "\n",
    "#Conecto con Redis\n",
    "try:\n",
    "    db_redis.ping()\n",
    "    print(\"✅ Conexión a Redis verificada.\")\n",
    "except Exception as e:\n",
    "    print(f\"❌ Error de conexión: {type(e).__name__} - {e}\")"
   ]
  },
  {
   "cell_type": "markdown",
   "id": "f37c8ea9-4542-4e3d-bf9f-a7653c247358",
   "metadata": {},
   "source": [
    "### A.Mostrar los usuarios que visitaron “Bariloche”. "
   ]
  },
  {
   "cell_type": "code",
   "execution_count": 14,
   "id": "baf85df9-27c5-4a9b-8501-d2e5ada1f279",
   "metadata": {
    "scrolled": true
   },
   "outputs": [
    {
     "name": "stdout",
     "output_type": "stream",
     "text": [
      "\n",
      "------------------------------------------------------------\n",
      "USUARIOS QUE VISITARON BARILOCHE\n",
      "------------------------------------------------------------\n"
     ]
    },
    {
     "data": {
      "text/html": [
       "<style type=\"text/css\">\n",
       "</style>\n",
       "<table id=\"T_5bd9d\">\n",
       "  <thead>\n",
       "    <tr>\n",
       "      <th id=\"T_5bd9d_level0_col0\" class=\"col_heading level0 col0\" >Nombre</th>\n",
       "      <th id=\"T_5bd9d_level0_col1\" class=\"col_heading level0 col1\" >Apellido</th>\n",
       "    </tr>\n",
       "  </thead>\n",
       "  <tbody>\n",
       "    <tr>\n",
       "      <td id=\"T_5bd9d_row0_col0\" class=\"data row0 col0\" >Tito</td>\n",
       "      <td id=\"T_5bd9d_row0_col1\" class=\"data row0 col1\" >Montserrat</td>\n",
       "    </tr>\n",
       "    <tr>\n",
       "      <td id=\"T_5bd9d_row1_col0\" class=\"data row1 col0\" >Gema</td>\n",
       "      <td id=\"T_5bd9d_row1_col1\" class=\"data row1 col1\" >Yáñez</td>\n",
       "    </tr>\n",
       "    <tr>\n",
       "      <td id=\"T_5bd9d_row2_col0\" class=\"data row2 col0\" >Leopoldo</td>\n",
       "      <td id=\"T_5bd9d_row2_col1\" class=\"data row2 col1\" >Agudo</td>\n",
       "    </tr>\n",
       "    <tr>\n",
       "      <td id=\"T_5bd9d_row3_col0\" class=\"data row3 col0\" >Carmen</td>\n",
       "      <td id=\"T_5bd9d_row3_col1\" class=\"data row3 col1\" >Roma</td>\n",
       "    </tr>\n",
       "    <tr>\n",
       "      <td id=\"T_5bd9d_row4_col0\" class=\"data row4 col0\" >Lucas</td>\n",
       "      <td id=\"T_5bd9d_row4_col1\" class=\"data row4 col1\" >Cruz</td>\n",
       "    </tr>\n",
       "    <tr>\n",
       "      <td id=\"T_5bd9d_row5_col0\" class=\"data row5 col0\" >Georgina</td>\n",
       "      <td id=\"T_5bd9d_row5_col1\" class=\"data row5 col1\" >Talavera</td>\n",
       "    </tr>\n",
       "    <tr>\n",
       "      <td id=\"T_5bd9d_row6_col0\" class=\"data row6 col0\" >Calista</td>\n",
       "      <td id=\"T_5bd9d_row6_col1\" class=\"data row6 col1\" >Catalán</td>\n",
       "    </tr>\n",
       "    <tr>\n",
       "      <td id=\"T_5bd9d_row7_col0\" class=\"data row7 col0\" >Graciana</td>\n",
       "      <td id=\"T_5bd9d_row7_col1\" class=\"data row7 col1\" >Murillo</td>\n",
       "    </tr>\n",
       "    <tr>\n",
       "      <td id=\"T_5bd9d_row8_col0\" class=\"data row8 col0\" >Adrián</td>\n",
       "      <td id=\"T_5bd9d_row8_col1\" class=\"data row8 col1\" >Belda</td>\n",
       "    </tr>\n",
       "    <tr>\n",
       "      <td id=\"T_5bd9d_row9_col0\" class=\"data row9 col0\" >Juan José</td>\n",
       "      <td id=\"T_5bd9d_row9_col1\" class=\"data row9 col1\" >Romero</td>\n",
       "    </tr>\n",
       "    <tr>\n",
       "      <td id=\"T_5bd9d_row10_col0\" class=\"data row10 col0\" >Óscar</td>\n",
       "      <td id=\"T_5bd9d_row10_col1\" class=\"data row10 col1\" >Pino</td>\n",
       "    </tr>\n",
       "    <tr>\n",
       "      <td id=\"T_5bd9d_row11_col0\" class=\"data row11 col0\" >Jose Francisco</td>\n",
       "      <td id=\"T_5bd9d_row11_col1\" class=\"data row11 col1\" >Sobrino</td>\n",
       "    </tr>\n",
       "    <tr>\n",
       "      <td id=\"T_5bd9d_row12_col0\" class=\"data row12 col0\" >Maricela</td>\n",
       "      <td id=\"T_5bd9d_row12_col1\" class=\"data row12 col1\" >Lasa</td>\n",
       "    </tr>\n",
       "    <tr>\n",
       "      <td id=\"T_5bd9d_row13_col0\" class=\"data row13 col0\" >Blas</td>\n",
       "      <td id=\"T_5bd9d_row13_col1\" class=\"data row13 col1\" >Galván</td>\n",
       "    </tr>\n",
       "    <tr>\n",
       "      <td id=\"T_5bd9d_row14_col0\" class=\"data row14 col0\" >Teodora</td>\n",
       "      <td id=\"T_5bd9d_row14_col1\" class=\"data row14 col1\" >Campillo</td>\n",
       "    </tr>\n",
       "    <tr>\n",
       "      <td id=\"T_5bd9d_row15_col0\" class=\"data row15 col0\" >Urbano</td>\n",
       "      <td id=\"T_5bd9d_row15_col1\" class=\"data row15 col1\" >Villar</td>\n",
       "    </tr>\n",
       "    <tr>\n",
       "      <td id=\"T_5bd9d_row16_col0\" class=\"data row16 col0\" >Estela</td>\n",
       "      <td id=\"T_5bd9d_row16_col1\" class=\"data row16 col1\" >Cortes</td>\n",
       "    </tr>\n",
       "    <tr>\n",
       "      <td id=\"T_5bd9d_row17_col0\" class=\"data row17 col0\" >Candela</td>\n",
       "      <td id=\"T_5bd9d_row17_col1\" class=\"data row17 col1\" >Solano</td>\n",
       "    </tr>\n",
       "    <tr>\n",
       "      <td id=\"T_5bd9d_row18_col0\" class=\"data row18 col0\" >Nico</td>\n",
       "      <td id=\"T_5bd9d_row18_col1\" class=\"data row18 col1\" >Montenegro</td>\n",
       "    </tr>\n",
       "    <tr>\n",
       "      <td id=\"T_5bd9d_row19_col0\" class=\"data row19 col0\" >Wilfredo</td>\n",
       "      <td id=\"T_5bd9d_row19_col1\" class=\"data row19 col1\" >Patiño</td>\n",
       "    </tr>\n",
       "    <tr>\n",
       "      <td id=\"T_5bd9d_row20_col0\" class=\"data row20 col0\" >Fernanda</td>\n",
       "      <td id=\"T_5bd9d_row20_col1\" class=\"data row20 col1\" >Romero</td>\n",
       "    </tr>\n",
       "    <tr>\n",
       "      <td id=\"T_5bd9d_row21_col0\" class=\"data row21 col0\" >Trinidad</td>\n",
       "      <td id=\"T_5bd9d_row21_col1\" class=\"data row21 col1\" >Echeverría</td>\n",
       "    </tr>\n",
       "    <tr>\n",
       "      <td id=\"T_5bd9d_row22_col0\" class=\"data row22 col0\" >Juan Antonio</td>\n",
       "      <td id=\"T_5bd9d_row22_col1\" class=\"data row22 col1\" >Huertas</td>\n",
       "    </tr>\n",
       "    <tr>\n",
       "      <td id=\"T_5bd9d_row23_col0\" class=\"data row23 col0\" >Feliciana</td>\n",
       "      <td id=\"T_5bd9d_row23_col1\" class=\"data row23 col1\" >Cantón</td>\n",
       "    </tr>\n",
       "    <tr>\n",
       "      <td id=\"T_5bd9d_row24_col0\" class=\"data row24 col0\" >Georgina</td>\n",
       "      <td id=\"T_5bd9d_row24_col1\" class=\"data row24 col1\" >Ferrando</td>\n",
       "    </tr>\n",
       "    <tr>\n",
       "      <td id=\"T_5bd9d_row25_col0\" class=\"data row25 col0\" >Omar</td>\n",
       "      <td id=\"T_5bd9d_row25_col1\" class=\"data row25 col1\" >Roig</td>\n",
       "    </tr>\n",
       "    <tr>\n",
       "      <td id=\"T_5bd9d_row26_col0\" class=\"data row26 col0\" >Feliciano</td>\n",
       "      <td id=\"T_5bd9d_row26_col1\" class=\"data row26 col1\" >Campoy</td>\n",
       "    </tr>\n",
       "    <tr>\n",
       "      <td id=\"T_5bd9d_row27_col0\" class=\"data row27 col0\" >María Belén</td>\n",
       "      <td id=\"T_5bd9d_row27_col1\" class=\"data row27 col1\" >Esteve</td>\n",
       "    </tr>\n",
       "    <tr>\n",
       "      <td id=\"T_5bd9d_row28_col0\" class=\"data row28 col0\" >Enrique</td>\n",
       "      <td id=\"T_5bd9d_row28_col1\" class=\"data row28 col1\" >Roca</td>\n",
       "    </tr>\n",
       "  </tbody>\n",
       "</table>\n"
      ],
      "text/plain": [
       "<pandas.io.formats.style.Styler at 0x724afd223cd0>"
      ]
     },
     "metadata": {},
     "output_type": "display_data"
    }
   ],
   "source": [
    "query = \"\"\" \n",
    "MATCH (U:Usuario)-[:VISITO]->(D:Destino)\n",
    "WHERE D.ciudad='Bariloche'\n",
    "RETURN U.nombre AS Nombre, U.apellido AS Apellido\n",
    "\"\"\"\n",
    "\n",
    "usuarios = neo4j.consulta(db_neo4j, query)\n",
    "\n",
    "print(\"\\n\" + \"-\"*60)\n",
    "print(\"USUARIOS QUE VISITARON BARILOCHE\")\n",
    "print(\"-\"*60)\n",
    "display(usuarios.style.hide(axis=\"index\"))"
   ]
  },
  {
   "cell_type": "markdown",
   "id": "8aee4bec-64dd-4b91-a4bf-b8890e15e249",
   "metadata": {},
   "source": [
    "### B.Mostrar los amigos de Juan que visitaron algún destino que visitó él, mostrar el nombre del Usuario y el destino. "
   ]
  },
  {
   "cell_type": "code",
   "execution_count": 15,
   "id": "50903c86-e8e3-4bde-873f-33df0ef8d56a",
   "metadata": {},
   "outputs": [
    {
     "name": "stdin",
     "output_type": "stream",
     "text": [
      "Introduce tu nombre para saber qué lugares visitaste con tus amigos:  Tito\n"
     ]
    },
    {
     "name": "stdout",
     "output_type": "stream",
     "text": [
      "\n",
      "------------------------------------------------------------\n",
      "TITO TUS AMIGOS VISITARON ESTOS MISMOS DESTINOS QUE TÚ\n",
      "------------------------------------------------------------\n",
      "\n"
     ]
    },
    {
     "data": {
      "text/html": [
       "<style type=\"text/css\">\n",
       "</style>\n",
       "<table id=\"T_9bea9\">\n",
       "  <thead>\n",
       "    <tr>\n",
       "      <th id=\"T_9bea9_level0_col0\" class=\"col_heading level0 col0\" >Nombre</th>\n",
       "      <th id=\"T_9bea9_level0_col1\" class=\"col_heading level0 col1\" >Destinos_Compartidos</th>\n",
       "    </tr>\n",
       "  </thead>\n",
       "  <tbody>\n",
       "    <tr>\n",
       "      <td id=\"T_9bea9_row0_col0\" class=\"data row0 col0\" >Amor</td>\n",
       "      <td id=\"T_9bea9_row0_col1\" class=\"data row0 col1\" >CABA, San Fernando, San Salvador de Jujuy, Iguazú</td>\n",
       "    </tr>\n",
       "    <tr>\n",
       "      <td id=\"T_9bea9_row1_col0\" class=\"data row1 col0\" >Ciro</td>\n",
       "      <td id=\"T_9bea9_row1_col1\" class=\"data row1 col1\" >Río Cuarto, Concordia, Gualeguaychú, San Juan</td>\n",
       "    </tr>\n",
       "    <tr>\n",
       "      <td id=\"T_9bea9_row2_col0\" class=\"data row2 col0\" >Eliseo</td>\n",
       "      <td id=\"T_9bea9_row2_col1\" class=\"data row2 col1\" >CABA, Villa Carlos Paz, Río Cuarto, Santa Rosa, Iguazú</td>\n",
       "    </tr>\n",
       "    <tr>\n",
       "      <td id=\"T_9bea9_row3_col0\" class=\"data row3 col0\" >Emiliana</td>\n",
       "      <td id=\"T_9bea9_row3_col1\" class=\"data row3 col1\" >Santa Rosa, Iguazú, Viedma</td>\n",
       "    </tr>\n",
       "    <tr>\n",
       "      <td id=\"T_9bea9_row4_col0\" class=\"data row4 col0\" >Enrique</td>\n",
       "      <td id=\"T_9bea9_row4_col1\" class=\"data row4 col1\" >Formosa, Iguazú, Bariloche</td>\n",
       "    </tr>\n",
       "    <tr>\n",
       "      <td id=\"T_9bea9_row5_col0\" class=\"data row5 col0\" >Feliciano</td>\n",
       "      <td id=\"T_9bea9_row5_col1\" class=\"data row5 col1\" >Formosa, San Salvador de Jujuy, Santa Rosa, Bariloche</td>\n",
       "    </tr>\n",
       "    <tr>\n",
       "      <td id=\"T_9bea9_row6_col0\" class=\"data row6 col0\" >Gema</td>\n",
       "      <td id=\"T_9bea9_row6_col1\" class=\"data row6 col1\" >CABA, Río Cuarto, Concordia, Gualeguaychú, Santa Rosa, Iguazú, Salta, San Juan</td>\n",
       "    </tr>\n",
       "    <tr>\n",
       "      <td id=\"T_9bea9_row7_col0\" class=\"data row7 col0\" >Jose Francisco</td>\n",
       "      <td id=\"T_9bea9_row7_col1\" class=\"data row7 col1\" >Río Cuarto, Concordia</td>\n",
       "    </tr>\n",
       "    <tr>\n",
       "      <td id=\"T_9bea9_row8_col0\" class=\"data row8 col0\" >Juan Manuel</td>\n",
       "      <td id=\"T_9bea9_row8_col1\" class=\"data row8 col1\" >San Fernando, Gualeguaychú, Santa Rosa, Iguazú</td>\n",
       "    </tr>\n",
       "    <tr>\n",
       "      <td id=\"T_9bea9_row9_col0\" class=\"data row9 col0\" >Mariana</td>\n",
       "      <td id=\"T_9bea9_row9_col1\" class=\"data row9 col1\" >Río Cuarto, Iguazú, San Juan, Santa Fe</td>\n",
       "    </tr>\n",
       "    <tr>\n",
       "      <td id=\"T_9bea9_row10_col0\" class=\"data row10 col0\" >Maricela</td>\n",
       "      <td id=\"T_9bea9_row10_col1\" class=\"data row10 col1\" >Villa Carlos Paz, Gualeguaychú, Iguazú, San Juan</td>\n",
       "    </tr>\n",
       "    <tr>\n",
       "      <td id=\"T_9bea9_row11_col0\" class=\"data row11 col0\" >María Belén</td>\n",
       "      <td id=\"T_9bea9_row11_col1\" class=\"data row11 col1\" >Río Cuarto, Gualeguaychú, Iguazú, Salta</td>\n",
       "    </tr>\n",
       "    <tr>\n",
       "      <td id=\"T_9bea9_row12_col0\" class=\"data row12 col0\" >Nico</td>\n",
       "      <td id=\"T_9bea9_row12_col1\" class=\"data row12 col1\" >San Fernando, Río Cuarto, Santa Rosa</td>\n",
       "    </tr>\n",
       "    <tr>\n",
       "      <td id=\"T_9bea9_row13_col0\" class=\"data row13 col0\" >Omar</td>\n",
       "      <td id=\"T_9bea9_row13_col1\" class=\"data row13 col1\" >San Fernando, Gualeguaychú, Formosa, Iguazú, Bariloche</td>\n",
       "    </tr>\n",
       "    <tr>\n",
       "      <td id=\"T_9bea9_row14_col0\" class=\"data row14 col0\" >Teodora</td>\n",
       "      <td id=\"T_9bea9_row14_col1\" class=\"data row14 col1\" >San Salvador de Jujuy, Santa Rosa, Iguazú, Bariloche, Viedma</td>\n",
       "    </tr>\n",
       "  </tbody>\n",
       "</table>\n"
      ],
      "text/plain": [
       "<pandas.io.formats.style.Styler at 0x724afd403a90>"
      ]
     },
     "metadata": {},
     "output_type": "display_data"
    }
   ],
   "source": [
    "# Pedimos el nombre del usuario\n",
    "nombre_usuario = input(\"Introduce tu nombre para saber qué lugares visitaste con tus amigos: \")\n",
    "\n",
    "\n",
    "query = \"\"\"\n",
    "MATCH (u:Usuario)\n",
    "WHERE toLower(u.nombre) CONTAINS toLower($nombre)\n",
    "MATCH (u)-[:AMIGO_DE]-(amigo:Usuario)\n",
    "MATCH (u)-[:VISITO]->(d:Destino)<-[:VISITO]-(amigo)\n",
    "RETURN \n",
    "    amigo.nombre AS Nombre,\n",
    "    collect(DISTINCT d.ciudad) AS Destinos_Compartidos\n",
    "ORDER BY Nombre\n",
    "\"\"\"\n",
    "\n",
    "#Encabezado\n",
    "print(\"\\n\" + \"-\"*60)\n",
    "print(f\"{nombre_usuario.upper()} TUS AMIGOS VISITARON ESTOS MISMOS DESTINOS QUE TÚ\")\n",
    "print(\"-\"*60 + \"\\n\")\n",
    "\n",
    "# Ejecutamos la consulta usando la función consulta() que devuelve un DataFrame\n",
    "usuarios = neo4j.consulta(db_neo4j, query, parametros={\"nombre\": nombre_usuario})\n",
    "\n",
    "# Convertimos listas a texto legible\n",
    "usuarios[\"Destinos_Compartidos\"] = usuarios[\"Destinos_Compartidos\"].apply(\n",
    "    lambda lista: \", \".join(lista) if isinstance(lista, list) else lista\n",
    ")\n",
    "\n",
    "# Mostramos el resultado\n",
    "if usuarios.empty:\n",
    "    print(\"No se encontraron amigos que hayan visitado los mismos destinos.\")\n",
    "else:\n",
    "    display(usuarios.style.hide(axis=\"index\"))"
   ]
  },
  {
   "cell_type": "markdown",
   "id": "4f4d3f79-80d4-4638-9c72-1ad410d734ad",
   "metadata": {},
   "source": [
    "### C. Sugerir destinos a un usuario que no haya visitado él ni sus amigos. "
   ]
  },
  {
   "cell_type": "code",
   "execution_count": null,
   "id": "4ac69eb1",
   "metadata": {
    "scrolled": true
   },
   "outputs": [],
   "source": [
    "nombre_usuario = input(\"Introduce tu nombre para saber qué lugares nuevos que no visitaste ni tu ni tus amigos: \")\n",
    "\n",
    "query = \"\"\"\n",
    "MATCH (u:Usuario)\n",
    "WHERE toLower(u.nombre) CONTAINS toLower($nombre)\n",
    "MATCH (d:Destino)\n",
    "WHERE \n",
    "  NOT EXISTS { MATCH (d)<-[:VISITO]-(u) } AND\n",
    "  NOT EXISTS { MATCH (d)<-[:VISITO]-(u)-[:AMIGO_DE]-(amigo) }\n",
    "RETURN DISTINCT d.ciudad AS Destinos_No_Visitados\n",
    "ORDER BY d.ciudad\n",
    "\"\"\"\n",
    "\n",
    "print(\"\\n\" + \"-\"*60)\n",
    "print(f\"DESTINOS NUEVOS PARA {nombre_usuario.upper()} Y SUS AMIGOS\")\n",
    "print(\"-\"*60 + \"\\n\")\n",
    "\n",
    "destinos = neo4j.consulta(db_neo4j, query, parametros={\"nombre\": nombre_usuario})\n",
    "\n",
    "if destinos.empty:\n",
    "    print(\"No hay destinos nuevos disponibles.\")\n",
    "else:\n",
    "    # Mostrar cada destino en lista\n",
    "     display(destinos.style.hide(axis=\"index\"))"
   ]
  },
  {
   "cell_type": "markdown",
   "id": "5a7eeb09-de1d-44c0-9a89-07bfc32a6454",
   "metadata": {},
   "source": [
    "### d. Recomendar destinos basados en viajes de amigos."
   ]
  },
  {
   "cell_type": "code",
   "execution_count": null,
   "id": "82f83e03-5562-4eda-8d44-6dd69f5c5426",
   "metadata": {},
   "outputs": [],
   "source": [
    "nombre_usuario = input(\"Introduce tu nombre para saber qué lugares te recomendamos: \")\n",
    "\n",
    "query = \"\"\"\n",
    "MATCH (u:Usuario)\n",
    "WHERE toLower(u.nombre) CONTAINS toLower($nombre)\n",
    "MATCH (u)-[:AMIGO_DE]-(amigo:Usuario)\n",
    "MATCH (amigo)-[:VISITO]->(d:Destino)\n",
    "WHERE NOT EXISTS { MATCH (u)-[:VISITO]->(d) } \n",
    "RETURN DISTINCT d.ciudad AS Destino_Recomendado\n",
    "ORDER BY d.ciudad\n",
    "\"\"\"\n",
    "\n",
    "print(\"\\n\" + \"-\"*60)\n",
    "print(f\"RECOMENDACIONES PARA {nombre_usuario.upper()} EN FUNCIÓN DE SUS AMIGOS\")\n",
    "print(\"-\"*60 + \"\\n\")\n",
    "\n",
    "destinos = neo4j.consulta(db_neo4j, query, parametros={\"nombre\": nombre_usuario})\n",
    "\n",
    "if destinos.empty:\n",
    "    print(\"No hay destinos recomendados nuevos para vos.\")\n",
    "else:\n",
    "    display(destinos.style.hide(axis=\"index\"))"
   ]
  },
  {
   "cell_type": "markdown",
   "id": "b459bb91-40ed-4088-8e49-e54a16c93371",
   "metadata": {},
   "source": [
    "### e. Listar los hoteles en los destinos recomendados del punto anterior. "
   ]
  },
  {
   "cell_type": "code",
   "execution_count": null,
   "id": "7b7b37ad-b85c-45d9-98db-1b057c13b1d4",
   "metadata": {},
   "outputs": [],
   "source": [
    "coleccion = \"hoteles\"\n",
    "\n",
    "# Lista de destinos recomendados\n",
    "lista_destinos = destinos[\"Destino_Recomendado\"].dropna().unique().tolist()\n",
    "\n",
    "if not lista_destinos:\n",
    "    print(\"No hay destinos recomendados disponibles.\")\n",
    "else:\n",
    "    filtro = {\"ciudad\": {\"$in\": lista_destinos}}\n",
    "    proyeccion = {\"_id\": 0, \"nombre\": 1, \"ciudad\": 1, \"direccion\": 1}\n",
    "\n",
    "    # Obtener datos de Mongo y convertir a DataFrame\n",
    "    cursor = mongo.obtener_cursor(\n",
    "        NOMBRE_BD_MONGO,\n",
    "        nombre_coleccion=coleccion,\n",
    "        filtro=filtro,\n",
    "        proyeccion=proyeccion\n",
    "    )\n",
    "\n",
    "    hoteles = pd.DataFrame(list(cursor))\n",
    "\n",
    "    if hoteles.empty:\n",
    "        print(\"No se encontraron hoteles en los destinos recomendados.\")\n",
    "    else:\n",
    "        # Ordenar por ciudad y luego por nombre de hotel\n",
    "        display(hoteles.style.hide(axis=\"index\"))"
   ]
  },
  {
   "cell_type": "markdown",
   "id": "cd981b85-6d94-498b-ab79-0199ac50e662",
   "metadata": {},
   "source": [
    "### f. Ver las reservas en proceso, es decir que aún no están concretadas. "
   ]
  },
  {
   "cell_type": "code",
   "execution_count": null,
   "id": "1a5b2b66-fbc3-4027-a5eb-205fbf8f94cc",
   "metadata": {},
   "outputs": [],
   "source": [
    "claves = db_redis.keys(\"reserva_temp:*\")\n",
    "print(f\"Cantidad de reservas en proceso {len(claves)}\\n\")\n",
    "\n",
    "if claves:\n",
    "    cantidad = int(input (\"¿Cuántas se desean listar?\"))\n",
    "    print(f\"Se imprimen las primeras {cantidad}:\")\n",
    "    for clave in claves[:cantidad]:\n",
    "        datos = db_redis.hgetall(clave)\n",
    "        tiempo_restante = db_redis.ttl(clave)\n",
    "        print(f\"{clave}: {datos} | TTL: {tiempo_restante} segundos\")"
   ]
  },
  {
   "cell_type": "markdown",
   "id": "ade67b15-bc20-439d-99a8-1eeb0b039311",
   "metadata": {},
   "source": [
    "### g. Listar los usuarios conectados actualmente. "
   ]
  },
  {
   "cell_type": "code",
   "execution_count": null,
   "id": "27ad781f-fa03-4f5f-bb8d-11e15a652d20",
   "metadata": {},
   "outputs": [],
   "source": [
    "claves = db_redis.keys(\"usuario:*:sesion\")\n",
    "print(f\"Cantidad de usuarios conectados {len(claves)}\\n\")\n",
    "\n",
    "if claves:\n",
    "    print(\"Usuarios:\")\n",
    "    for clave in claves:\n",
    "        usuario_id = clave.split(\":\")[1]\n",
    "        estado = db_redis.get(clave)\n",
    "        tiempo_restante = db_redis.ttl(clave)\n",
    "        print(f\"Usuario {usuario_id} → sesión: {estado} | TTL: {tiempo_restante} segundos\")"
   ]
  },
  {
   "cell_type": "markdown",
   "id": "e7c3ca0e-27f8-4994-884a-862a2c7ddad2",
   "metadata": {},
   "source": [
    "### h. Mostrar los destinos con precio inferior a $100.000"
   ]
  },
  {
   "cell_type": "code",
   "execution_count": null,
   "id": "c1830ae2-8119-4540-bb8e-53442062bde9",
   "metadata": {},
   "outputs": [],
   "source": [
    "precio=100000\n",
    "coleccion = \"destinos\"\n",
    "filtro={\"precio_promedio\": {\"$lt\": precio}}\n",
    "proyeccion = {\"_id\":0}\n",
    "\n",
    "# Busca en caché y sino consulta en MongoDB\n",
    "resultado = redis.obtener_cache(coleccion, filtro)\n",
    "if resultado is None:\n",
    "    print(\"Consulta hecha en Mongo\")\n",
    "    resultado = list(mongo.obtener_cursor(NOMBRE_BD_MONGO,coleccion,filtro=filtro,proyeccion=proyeccion))\n",
    "    if resultado:\n",
    "        redis.guardar_en_cache(coleccion,filtro,resultado,ttl=300)\n",
    "else:\n",
    "    print(\"Consulta hecha en Redis\")\n",
    "        \n",
    "df = pd.DataFrame(resultado)\n",
    "if not df.empty:\n",
    "    df_ordenado = df.sort_values(by=\"destino_id\")\n",
    "    display(df_ordenado.style.hide(axis=\"index\"))\n",
    "else:\n",
    "    print(f\"No existen destinos con precio inferior a {precio}\")"
   ]
  },
  {
   "cell_type": "markdown",
   "id": "e9bdc948-d1aa-4cad-a6fa-754f4b8ecc19",
   "metadata": {},
   "source": [
    "## i. Mostrar todos los Hoteles de “Jujuy”."
   ]
  },
  {
   "cell_type": "code",
   "execution_count": null,
   "id": "f9fb2e9a-0b76-4ea0-abdf-ae547e2961a7",
   "metadata": {},
   "outputs": [],
   "source": [
    "coleccion = \"hoteles\"\n",
    "ciudad = \"San Salvador de Jujuy\"\n",
    "filtro = {\"ciudad\": ciudad}\n",
    "proyeccion = {\"_id\": 0, \"nombre\": 1, \"ciudad\": 1, \"direccion\": 1}\n",
    "\n",
    "# Busca en caché y sino consulta en MongoDB\n",
    "resultado = redis.obtener_cache(coleccion, filtro)\n",
    "if resultado is None:\n",
    "    print(\"Consulta hecha en Mongo\")\n",
    "    resultado = list(mongo.obtener_cursor(NOMBRE_BD_MONGO,nombre_coleccion=coleccion,filtro=filtro,proyeccion=proyeccion))\n",
    "    if resultado:\n",
    "        redis.guardar_en_cache(coleccion,filtro,resultado,ttl=300)\n",
    "else:\n",
    "    print(\"Consulta hecha en Redis\")\n",
    "\n",
    "df_hoteles = pd.DataFrame(resultado)\n",
    "\n",
    "if not df_hoteles.empty:\n",
    "    df_ordenado = df_hoteles.sort_values(by=\"nombre\")\n",
    "    display(df_ordenado.style.hide(axis=\"index\"))\n",
    "else:\n",
    "     print(\"No se encontraron hoteles en los destinos recomendados.\")       "
   ]
  },
  {
   "cell_type": "markdown",
   "id": "4e826afb-eff6-43c7-9a7f-f501429fadbd",
   "metadata": {},
   "source": [
    "## j. Mostrar la cantidad de hoteles de un destino que guste. "
   ]
  },
  {
   "cell_type": "code",
   "execution_count": 12,
   "id": "71f8baa0-c3bd-4566-98cd-6080ebc1f706",
   "metadata": {},
   "outputs": [
    {
     "name": "stdin",
     "output_type": "stream",
     "text": [
      "¿Querés agrupar por 'provincia' o 'ciudad'?  ciudad\n",
      "Introduce el nombre de la ciudad:  la plata\n"
     ]
    },
    {
     "name": "stdout",
     "output_type": "stream",
     "text": [
      "La Plata\n",
      "\n",
      " Cantidad de hoteles en la ciudad La Plata:\n",
      "\n"
     ]
    },
    {
     "data": {
      "text/html": [
       "<div>\n",
       "<style scoped>\n",
       "    .dataframe tbody tr th:only-of-type {\n",
       "        vertical-align: middle;\n",
       "    }\n",
       "\n",
       "    .dataframe tbody tr th {\n",
       "        vertical-align: top;\n",
       "    }\n",
       "\n",
       "    .dataframe thead th {\n",
       "        text-align: right;\n",
       "    }\n",
       "</style>\n",
       "<table border=\"1\" class=\"dataframe\">\n",
       "  <thead>\n",
       "    <tr style=\"text-align: right;\">\n",
       "      <th></th>\n",
       "      <th>_id</th>\n",
       "      <th>hotel_id</th>\n",
       "    </tr>\n",
       "  </thead>\n",
       "  <tbody>\n",
       "    <tr>\n",
       "      <th>0</th>\n",
       "      <td>La Plata</td>\n",
       "      <td>2</td>\n",
       "    </tr>\n",
       "  </tbody>\n",
       "</table>\n",
       "</div>"
      ],
      "text/plain": [
       "        _id  hotel_id\n",
       "0  La Plata         2"
      ]
     },
     "metadata": {},
     "output_type": "display_data"
    }
   ],
   "source": [
    "# 1️⃣ Pedimos al usuario el tipo de agrupación y el valor a buscar\n",
    "agrupar = input(\"¿Querés agrupar por 'provincia' o 'ciudad'? \").strip().lower()\n",
    "lugar = input(f\"Introduce el nombre de la {agrupar}: \").strip().lower().title()\n",
    "\n",
    "# 2️⃣ Definimos el filtro dinámico según la elección\n",
    "filtro = {agrupar: lugar}\n",
    "\n",
    "# 3️⃣ Si el usuario elige 'provincia', agrupamos por ciudad dentro de esa provincia\n",
    "if agrupar == \"provincia\":\n",
    "    campo_agrupacion = \"ciudad\"\n",
    "else:\n",
    "    campo_agrupacion = agrupar\n",
    "\n",
    "# 4️⃣ Ejecutamos la función para contar hoteles\n",
    "cursor = mongo.contador(\n",
    "    nombre_base=NOMBRE_BD_MONGO,\n",
    "    coleccion=\"hoteles\",\n",
    "    agrupacion=campo_agrupacion,\n",
    "    campo_calculo=\"hotel_id\",\n",
    "    filtrar=filtro\n",
    ")\n",
    "\n",
    "# 5️⃣ Convertimos el cursor a DataFrame\n",
    "hoteles = pd.DataFrame(cursor)\n",
    "\n",
    "# 6️⃣ Mostramos resultados\n",
    "if agrupar == \"provincia\":\n",
    "    print(f\"\\n📍 Hoteles por ciudad dentro de la provincia {lugar.title()}:\\n\")\n",
    "else:\n",
    "    print(f\"\\n Cantidad de hoteles en la ciudad {lugar.title()}:\\n\")\n",
    "\n",
    "display(hoteles)\n"
   ]
  },
  {
   "cell_type": "markdown",
   "id": "7bc48eaa-eae9-4c22-9036-ff018d34d4b7",
   "metadata": {},
   "source": [
    "### k. Mostrar las actividades de “Ushuaia” del tipo “aventura”."
   ]
  },
  {
   "cell_type": "code",
   "execution_count": null,
   "id": "0e0cae71-3b60-466b-bcf5-a2dffb71eff3",
   "metadata": {},
   "outputs": [],
   "source": [
    "coleccion = \"actividades\"\n",
    "tipo=\"aventura\"\n",
    "ciudad=\"Ushuaia\"\n",
    "filtro = {\"ciudad\":ciudad,\"tipo\":tipo}\n",
    "proyeccion = {\"_id\":0}\n",
    "\n",
    "resultado = redis.obtener_cache(coleccion, filtro)\n",
    "if resultado is None:\n",
    "    resultado = list(mongo.obtener_cursor(NOMBRE_BD_MONGO,coleccion,filtro=filtro,proyeccion=proyeccion))\n",
    "    print(\"Consulta hecha en Mongo\")\n",
    "    if resultado:\n",
    "        redis.guardar_en_cache(coleccion,filtro,resultado,ttl=300)\n",
    "else:\n",
    "    print(\"Consulta hecha en Redis\")\n",
    "    \n",
    "df = pd.DataFrame(resultado)\n",
    "if not df.empty:\n",
    "    df_ordenado = df.sort_values(by=\"actividad_id\")\n",
    "    display(df_ordenado.style.hide(axis=\"index\"))\n",
    "else:\n",
    "    print(f\"No existen actividades de tipo {tipo} en {ciudad}\")"
   ]
  },
  {
   "cell_type": "markdown",
   "id": "aba91348-5d0a-424b-b2f2-75b506b969b3",
   "metadata": {},
   "source": [
    "### l. Mostrar la cantidad de reservas concretadas de cada usuario. Mostrar el usuario y la cantidad "
   ]
  },
  {
   "cell_type": "code",
   "execution_count": null,
   "id": "bdb34b6e-fe60-481f-b7b4-0f5439906c33",
   "metadata": {},
   "outputs": [],
   "source": [
    "coleccion = \"reservas\"\n",
    "estados = [\"Confirmada\",\"Pagada\"]\n",
    "filtro = {\"estado\": {\"$in\":estados}}\n",
    "\n",
    "pipeline =[ \n",
    "    {\"$match\": filtro},\n",
    "    {\"$group\": {\n",
    "        \"_id\": \"$usuario_id\",  # este es el ID del usuario\n",
    "        \"Reservas_concretadas\": {\"$sum\": 1}\n",
    "    }},\n",
    "    {\"$lookup\": {\n",
    "        \"from\": \"usuarios\",           # nombre de la colección a unir\n",
    "        \"localField\": \"_id\",          # campo en esta colección (el ID del usuario)\n",
    "        \"foreignField\": \"usuario_id\",        # campo en la colección \"usuarios\"\n",
    "        \"as\": \"usuario_info\"          # nombre del nuevo campo con los datos del usuario\n",
    "    }},\n",
    "    {\"$unwind\": \"$usuario_info\"},     # desanida el array para acceder directamente\n",
    "    {\"$project\": {\n",
    "        \"_id\": 0,\n",
    "        \"Nombre\": \"$usuario_info.nombre\",\n",
    "        \"Apellido\": \"$usuario_info.apellido\",\n",
    "        \"Reservas_concretadas\": 1\n",
    "    }},\n",
    "    {\"$sort\": {\"Reservas_concretadas\": -1}}\n",
    "]\n",
    "\n",
    "resultado = redis.obtener_cache(coleccion, filtro)\n",
    "if resultado is None:\n",
    "    print(\"Consulta hecha en Mongo\")\n",
    "    resultado = list(client[NOMBRE_BD_MONGO][coleccion].aggregate(pipeline))\n",
    "    if resultado:\n",
    "        redis.guardar_en_cache(coleccion,filtro,resultado,ttl=300)\n",
    "else:\n",
    "    print(\"Consulta hecha en Redis\")\n",
    "        \n",
    "df = pd.DataFrame(resultado)\n",
    "df = df[[\"Nombre\", \"Apellido\", \"Reservas_concretadas\"]]\n",
    "display(df.style.hide(axis=\"index\"))"
   ]
  },
  {
   "cell_type": "markdown",
   "id": "f0c3f88f-a292-4d2a-bc23-4c7053004160",
   "metadata": {},
   "source": [
    "#### Estadísticas"
   ]
  },
  {
   "cell_type": "markdown",
   "id": "b2edec22-518e-4844-8ec9-fb257dfae711",
   "metadata": {},
   "source": [
    "###### i.Destino más visitado"
   ]
  },
  {
   "cell_type": "code",
   "execution_count": null,
   "id": "fd3c30e8-6d5a-4866-997a-90b4b628b457",
   "metadata": {},
   "outputs": [],
   "source": [
    "estados = [\"Confirmada\",\"Pagada\"]\n",
    "filtro = {\"estado\": {\"$in\":estados}}\n",
    "\n",
    "pipeline =[ \n",
    "    {\"$match\": filtro},\n",
    "    {\"$group\": {\n",
    "        \"_id\": \"$destino_id\",  # este es el ID del destino\n",
    "        \"Cantidad_Visitas\": {\"$sum\": 1}\n",
    "    }},\n",
    "    {\"$lookup\": {\n",
    "        \"from\": \"destinos\",           # nombre de la colección a unir\n",
    "        \"localField\": \"_id\",          # campo en esta colección (el ID del destino)\n",
    "        \"foreignField\": \"destino_id\",        # campo en la colección \"destino\"\n",
    "        \"as\": \"destino_visitas\"          # nombre del nuevo campo con los datos del destino\n",
    "    }},\n",
    "    {\"$unwind\": \"$destino_visitas\"},     # desanida el array para acceder directamente\n",
    "    {\"$project\": {\n",
    "        \"_id\": 0,\n",
    "        \"Destino\": \"$destino_visitas.ciudad\",\n",
    "        \"Cantidad_Visitas\": 1\n",
    "    }},\n",
    "    {\"$sort\": {\"Cantidad_Visitas\": -1}},\n",
    "    {\"$limit\": 1}\n",
    "]\n",
    "\n",
    "resultado = list(client[NOMBRE_BD_MONGO].reservas.aggregate(pipeline))\n",
    "      \n",
    "df = pd.DataFrame(resultado)\n",
    "df = df[[\"Destino\", \"Cantidad_Visitas\"]]\n",
    "print(\"Destino mas vistado\")\n",
    "display(df.style.hide(axis=\"index\"))"
   ]
  },
  {
   "cell_type": "markdown",
   "id": "b2152a43-66c6-4852-9805-dba7d5f58831",
   "metadata": {},
   "source": [
    "###### ii.Hotel más barato"
   ]
  },
  {
   "cell_type": "code",
   "execution_count": null,
   "id": "d026968b-61f6-45fb-9c32-588f34d5a28b",
   "metadata": {},
   "outputs": [],
   "source": [
    "estados = [\"Confirmada\",\"Pagada\"]\n",
    "filtro = {\"estado\": {\"$in\":estados}}\n",
    "\n",
    "pipeline =[ \n",
    "    {\"$match\": filtro},\n",
    "    {\"$group\": {\n",
    "        \"_id\": \"$hotel_id\",  # este es id del hotel\n",
    "        \"Precio_minimo\": {\"$min\": \"$precio_total\"} #el minimo del campo precio_total\n",
    "    }},\n",
    "    {\"$lookup\": {\n",
    "        \"from\": \"hoteles\",           # nombre de la colección a unir\n",
    "        \"localField\": \"_id\",          # campo en esta colección (el ID del hotel)\n",
    "        \"foreignField\": \"hotel_id\",        # campo en la colección \"usuarios\"\n",
    "        \"as\": \"hoteles_min_precios\"          # nombre del nuevo campo con los datos del usuario\n",
    "    }},\n",
    "    {\"$unwind\": \"$hoteles_min_precios\"},     # desanida el array para acceder directamente\n",
    "    {\"$project\": {\n",
    "        \"_id\": 0,\n",
    "        \"Hotel\": \"$hoteles_min_precios.nombre\",\n",
    "        \"Ciudad\": \"$hoteles_min_precios.ciudad\",\n",
    "        \"Precio_minimo\": 1\n",
    "    }},\n",
    "    {\"$sort\": {\"Precio_minimo\": 1}},\n",
    "    {\"$limit\": 1}\n",
    "]\n",
    "\n",
    "resultado = list(client[NOMBRE_BD_MONGO][\"reservas\"].aggregate(pipeline))\n",
    "      \n",
    "df = pd.DataFrame(resultado)\n",
    "df = df[[\"Hotel\", \"Ciudad\",\"Precio_minimo\"]]\n",
    "print(\"Hotel mas barato\")\n",
    "display(df.style.hide(axis=\"index\"))"
   ]
  },
  {
   "cell_type": "markdown",
   "id": "34787108-84f9-4b3f-bc0a-d33309b8c2f5",
   "metadata": {},
   "source": [
    "###### iii.Actividad más popular."
   ]
  },
  {
   "cell_type": "code",
   "execution_count": 16,
   "id": "ab81879e-19a5-4d5e-9d81-fc9f23e1d287",
   "metadata": {},
   "outputs": [
    {
     "data": {
      "text/html": [
       "<style type=\"text/css\">\n",
       "</style>\n",
       "<table id=\"T_d289d\">\n",
       "  <thead>\n",
       "    <tr>\n",
       "      <th id=\"T_d289d_level0_col0\" class=\"col_heading level0 col0\" >tipo</th>\n",
       "      <th id=\"T_d289d_level0_col1\" class=\"col_heading level0 col1\" >cantidad</th>\n",
       "    </tr>\n",
       "  </thead>\n",
       "  <tbody>\n",
       "    <tr>\n",
       "      <td id=\"T_d289d_row0_col0\" class=\"data row0 col0\" >relax</td>\n",
       "      <td id=\"T_d289d_row0_col1\" class=\"data row0 col1\" >30</td>\n",
       "    </tr>\n",
       "    <tr>\n",
       "      <td id=\"T_d289d_row1_col0\" class=\"data row1 col0\" >deportiva</td>\n",
       "      <td id=\"T_d289d_row1_col1\" class=\"data row1 col1\" >21</td>\n",
       "    </tr>\n",
       "    <tr>\n",
       "      <td id=\"T_d289d_row2_col0\" class=\"data row2 col0\" >cultural</td>\n",
       "      <td id=\"T_d289d_row2_col1\" class=\"data row2 col1\" >21</td>\n",
       "    </tr>\n",
       "    <tr>\n",
       "      <td id=\"T_d289d_row3_col0\" class=\"data row3 col0\" >aventura</td>\n",
       "      <td id=\"T_d289d_row3_col1\" class=\"data row3 col1\" >20</td>\n",
       "    </tr>\n",
       "    <tr>\n",
       "      <td id=\"T_d289d_row4_col0\" class=\"data row4 col0\" >gastronómica</td>\n",
       "      <td id=\"T_d289d_row4_col1\" class=\"data row4 col1\" >19</td>\n",
       "    </tr>\n",
       "  </tbody>\n",
       "</table>\n"
      ],
      "text/plain": [
       "<pandas.io.formats.style.Styler at 0x724afd223d50>"
      ]
     },
     "metadata": {},
     "output_type": "display_data"
    },
    {
     "data": {
      "image/png": "[encoded data removed]",
      "text/plain": [
       "<Figure size 1000x600 with 1 Axes>"
      ]
     },
     "metadata": {},
     "output_type": "display_data"
    }
   ],
   "source": [
    "pipeline = [\n",
    "    {\"$group\": {\"_id\":\"$tipo\", \"cantidad\": {\"$sum\":1}}},\n",
    "    {\"$project\":{\"_id\":0,\"tipo\":\"$_id\", \"cantidad\": 1}},\n",
    "    {\"$sort\": {\"cantidad\": -1}}\n",
    "]\n",
    "\n",
    "resultado = list(client[NOMBRE_BD_MONGO][\"actividades\"].aggregate(pipeline))\n",
    "\n",
    "df = pd.DataFrame(resultado)\n",
    "df = df[[\"tipo\", \"cantidad\"]]\n",
    "display(df.style.hide(axis=\"index\"))\n",
    "\n",
    "tipos=df[\"tipo\"]\n",
    "cantidades= df[\"cantidad\"]\n",
    "\n",
    "plt.figure(figsize=(10, 6))\n",
    "plt.bar(tipos, cantidades, color=\"steelblue\", edgecolor=\"black\")\n",
    "\n",
    "# Etiquetas y título\n",
    "plt.xlabel(\"Tipo de actividad\")\n",
    "plt.ylabel(\"Cantidad\")\n",
    "plt.title(\"Actividad más popular\")\n",
    "plt.tight_layout()\n",
    "\n",
    "plt.show()"
   ]
  },
  {
   "cell_type": "markdown",
   "id": "5eae57b1-ec8b-469b-8033-8fde97d62c5a",
   "metadata": {},
   "source": [
    "#### Modificaciones"
   ]
  },
  {
   "cell_type": "markdown",
   "id": "22039522-23ad-47ac-a709-50975130084b",
   "metadata": {},
   "source": [
    "###### a.Incrementar el precio de las actividades de Tucuman en 5% "
   ]
  },
  {
   "cell_type": "code",
   "execution_count": null,
   "id": "08275133",
   "metadata": {},
   "outputs": [],
   "source": []
  },
  {
   "cell_type": "markdown",
   "id": "22a527ac-90a3-4e39-8141-44c9ce298bcd",
   "metadata": {},
   "source": [
    "###### b. Agregar al hotel id=1 el servicio de SPA "
   ]
  },
  {
   "cell_type": "code",
   "execution_count": null,
   "id": "6a4ca203-b270-4065-aee4-9cab7121cc7c",
   "metadata": {},
   "outputs": [],
   "source": [
    "# Aca usamos la funcion update_one naque hotel\n",
    "\n",
    "resultado = client[NOMBRE_BD_MONGO].hoteles.update_one(\n",
    "    {\"hotel_id\": 1},\n",
    "    {\"$addToSet\": {\"servicios\": \"wifi\"}}\n",
    ")\n",
    "\n",
    "if resultado.modified_count == 0:\n",
    "    print(\"El servicio ya existe\")\n",
    "else:\n",
    "    print(f\"Modificados: {resultado.modified_count}\")"
   ]
  },
  {
   "cell_type": "code",
   "execution_count": null,
   "id": "d1eb4b3c-b295-4302-9412-0aacf1d65679",
   "metadata": {},
   "outputs": [],
   "source": [
    "#Consulta para verificar que se agrego el servicio\n",
    "cursor = mongo.obtener_cursor(NOMBRE_BD_MONGO,\"hoteles\",filtro={\"hotel_id\":1},proyeccion={\"_id\":0})\n",
    "resultado = list(cursor)\n",
    "resultado"
   ]
  },
  {
   "cell_type": "markdown",
   "id": "030c6c43-2a5a-46ef-89b1-a2c30b55cd88",
   "metadata": {},
   "source": [
    "###### c. Eliminar el destino que desee"
   ]
  },
  {
   "cell_type": "code",
   "execution_count": null,
   "id": "45c2c505-b08f-4ec4-b50a-0d9760d3bc92",
   "metadata": {},
   "outputs": [],
   "source": []
  },
  {
   "cell_type": "markdown",
   "id": "2ce976cf-093e-4c08-a0f5-d3910abe2efb",
   "metadata": {},
   "source": [
    "###### d. Eliminar un usuario que desee "
   ]
  },
  {
   "cell_type": "code",
   "execution_count": null,
   "id": "c6bdaa62-84ae-4ebb-8ca3-78d6a8348d03",
   "metadata": {},
   "outputs": [],
   "source": []
  },
  {
   "cell_type": "markdown",
   "id": "21d70e0e-8ab8-445c-bbdd-6dc6dac891cc",
   "metadata": {},
   "source": [
    "###### e. Eliminar las relaciones AMIGO_DE para un usuario que quiera. "
   ]
  },
  {
   "cell_type": "code",
   "execution_count": null,
   "id": "8a3c02e7-191b-424a-ba1b-5bd2f4aa91b7",
   "metadata": {},
   "outputs": [],
   "source": [
    "usuario_id = int(input(\"Ingrese el Usuario ID para borrar las relaciones AMIGO_DE: \"))\n",
    "eliminadas = neo4j.eliminar_amigos(usuario_id)\n",
    "print(f\"Se eliminaron {eliminadas} relaciones AMIGO_DE para el usuario_id: {usuario_id}\")"
   ]
  },
  {
   "cell_type": "code",
   "execution_count": null,
   "id": "c75dea94-b86b-47a1-8b12-49f42e38f3b3",
   "metadata": {},
   "outputs": [],
   "source": [
    "#Consulta para verificar la eliminación\n",
    "\n",
    "query = \"\"\"\n",
    "MATCH (u:Usuario {usuario_id: $id})-[r:AMIGO_DE]-(amigo:Usuario)\n",
    "RETURN u.usuario_id,type(r) as relacion,amigo.usuario_id\n",
    "\"\"\"\n",
    "\n",
    "resultado = neo4j.consulta(db_neo4j, query, parametros={\"id\": 15})\n",
    "resultado"
   ]
  },
  {
   "cell_type": "code",
   "execution_count": null,
   "id": "d200120d-cdb4-470f-aa97-ab363fa4e1ba",
   "metadata": {},
   "outputs": [],
   "source": []
  }
 ],
 "metadata": {
  "kernelspec": {
   "display_name": "Python 3 (ipykernel)",
   "language": "python",
   "name": "python3"
  },
  "language_info": {
   "codemirror_mode": {
    "name": "ipython",
    "version": 3
   },
   "file_extension": ".py",
   "mimetype": "text/x-python",
   "name": "python",
   "nbconvert_exporter": "python",
   "pygments_lexer": "ipython3",
   "version": "3.11.13"
  }
 },
 "nbformat": 4,
 "nbformat_minor": 5
}
