{
 "cells": [
  {
   "cell_type": "markdown",
   "id": "fce3fb50-092b-4392-80df-258a0450f414",
   "metadata": {},
   "source": [
    "# Consultas Integradas"
   ]
  },
  {
   "cell_type": "markdown",
   "id": "400fd7b0-612f-4d19-bcf5-f7e4020347bd",
   "metadata": {},
   "source": [
    "Este notebook tiene el fin de generar las consultas planteadas en el trabajo práctico integrador"
   ]
  },
  {
   "cell_type": "markdown",
   "id": "d03161d8-e77b-42c1-8ef9-5e692a142baa",
   "metadata": {},
   "source": [
    "#### Importo librerias"
   ]
  },
  {
   "cell_type": "code",
   "execution_count": 116,
   "id": "d0ae8dc4",
   "metadata": {},
   "outputs": [],
   "source": [
    "# Limpia todas las variables existentes\n",
    "%reset -f\n",
    "\n",
    "# Habilita autoreload para recargar automáticamente todos los módulos\n",
    "%load_ext autoreload\n",
    "%autoreload 2"
   ]
  },
  {
   "cell_type": "code",
   "execution_count": 117,
   "id": "082c6b7a",
   "metadata": {},
   "outputs": [],
   "source": [
    "import os\n",
    "from pathlib import Path\n",
    "import pandas as pd\n",
    "from pymongo.errors import ConnectionFailure\n",
    "\n",
    "from db_connections import client, db_neo4j, db_redis\n",
    "from src import mongo, neo4j, utils, redis"
   ]
  },
  {
   "cell_type": "code",
   "execution_count": 118,
   "id": "d03acb47",
   "metadata": {},
   "outputs": [],
   "source": [
    "# =====================\n",
    "# TEST DE CONEXIONES\n",
    "# =====================\n",
    "\n",
    "#Conecto con MongoDB\n",
    "try:\n",
    "    client.admin.command(\"ping\")  # fuerza conexión al servidor\n",
    "    print(\"✅ Conexión a MongoDB verificada.\")\n",
    "except ConnectionFailure as e:\n",
    "    print(f\"❌ Falló la conexión: {type(e).__name__} - {e}\")\n",
    "\n",
    "#Conecto con Neo4j\n",
    "try:\n",
    "    db_neo4j.verify_connectivity()\n",
    "    print(\"✅ Conexión a Neo4j verificada.\")\n",
    "except Exception as e:\n",
    "    print(f\"❌ Error de conexión: {type(e).__name__} - {e}\")\n",
    "\n",
    "#Conecto con Redis\n",
    "try:\n",
    "    db_redis.ping()\n",
    "    print(\"✅ Conexión a Redis verificada.\")\n",
    "except Exception as e:\n",
    "    print(f\"❌ Error de conexión: {type(e).__name__} - {e}\")"
   ]
  },
  {
   "cell_type": "markdown",
   "id": "f37c8ea9-4542-4e3d-bf9f-a7653c247358",
   "metadata": {},
   "source": [
    "## A.Mostrar los usuarios que visitaron “Bariloche”. "
   ]
  },
  {
   "cell_type": "code",
   "execution_count": 119,
   "id": "baf85df9-27c5-4a9b-8501-d2e5ada1f279",
   "metadata": {
    "scrolled": true
   },
   "outputs": [],
   "source": [
    "query = \"\"\" \n",
    "MATCH (U:Usuario)-[:VISITO]->(D:Destino)\n",
    "WHERE D.ciudad='La Plata'\n",
    "RETURN DISTINCT U.usuario_id AS id, U.nombre AS Nombre, U.apellido AS Apellido\n",
    "\"\"\"\n",
    "\n",
    "usuarios = neo4j.consulta(db_neo4j, query)\n",
    "usuarios"
   ]
  },
  {
   "cell_type": "markdown",
   "id": "8aee4bec-64dd-4b91-a4bf-b8890e15e249",
   "metadata": {},
   "source": [
    "### B.Mostrar los amigos de Juan que visitaron algún destino que visitó él, mostrar el nombre del Usuario y el destino. "
   ]
  },
  {
   "cell_type": "code",
   "execution_count": 120,
   "id": "50903c86-e8e3-4bde-873f-33df0ef8d56a",
   "metadata": {},
   "outputs": [],
   "source": [
    "import pandas as pd\n",
    "\n",
    "# Pedimos el nombre del usuario\n",
    "nombre_usuario = input(\"Introduce tu nombre para saber qué lugares visitaste con tus amigos: \")\n",
    "\n",
    "# Query Cypher corregida: el parámetro se llama $nombre\n",
    "query = \"\"\"\n",
    "MATCH (u:Usuario {nombre: $nombre})-[:AMIGO_DE]-(amigo:Usuario)\n",
    "MATCH (u)-[:VISITO]->(d:Destino)<-[:VISITO]-(amigo)\n",
    "RETURN \n",
    "    amigo.nombre AS Nombre,\n",
    "    collect(DISTINCT d.ciudad) AS Destinos_Compartidos\n",
    "ORDER BY Nombre\n",
    "\"\"\"\n",
    "\n",
    "# Mensaje de encabezado\n",
    "print(\"\\n\" + \"-\"*60)\n",
    "print(f\"{nombre_usuario.upper()} TUS AMIGOS VISITARON ESTOS MISMOS DESTINOS QUE TÚ\")\n",
    "print(\"-\"*60 + \"\\n\")\n",
    "\n",
    "# Ejecutamos la consulta usando la función consulta() que devuelve un DataFrame\n",
    "usuarios = neo4j.consulta(db_neo4j, query, parametros={\"nombre\": nombre_usuario})\n",
    "\n",
    "# Mostramos el resultado\n",
    "if usuarios.empty:\n",
    "    print(\"No se encontraron amigos que hayan visitado los mismos destinos.\")\n",
    "else:\n",
    "    print(usuarios)\n"
   ]
  },
  {
   "cell_type": "markdown",
   "id": "4f4d3f79-80d4-4638-9c72-1ad410d734ad",
   "metadata": {},
   "source": [
    "### C. Sugerir destinos a un usuario que no haya visitado él ni sus amigos. "
   ]
  },
  {
   "cell_type": "code",
   "execution_count": 121,
   "id": "4ac69eb1",
   "metadata": {},
   "outputs": [],
   "source": [
    "nombre_usuario = input(\"Introduce tu nombre para saber qué lugares nuevos que no visitaste ni tu ni tus amigos: \")\n",
    "\n",
    "query = \"\"\"\n",
    "MATCH (d:Destino)\n",
    "WHERE \n",
    "NOT EXISTS {MATCH (d)<-[:VISITO]-(u:Usuario {nombre: $nombre})}\n",
    "AND \n",
    "NOT EXISTS {MATCH (d)<-[:VISITO]-(:Usuario)-[:AMIGO_DE]-(:Usuario {nombre: $nombre})}\n",
    "RETURN DISTINCT d.ciudad AS Destinos_No_Visitados\n",
    "ORDER BY d.ciudad\n",
    "\"\"\"\n",
    "\n",
    "print(\"\\n\" + \"-\"*60)\n",
    "print(f\"DESTINOS NUEVOS PARA {nombre_usuario.upper()} Y SUS AMIGOS\")\n",
    "print(\"-\"*60 + \"\\n\")\n",
    "\n",
    "destinos = neo4j.consulta(db_neo4j, query, parametros={\"nombre\": nombre_usuario})\n",
    "\n",
    "if destinos.empty:\n",
    "    print(\"No hay destinos nuevos disponibles.\")\n",
    "else:\n",
    "    # Mostrar cada destino en lista\n",
    "    for d in destinos['Destinos_No_Visitados']:\n",
    "        print(f\"- {d}\")\n",
    "\n"
   ]
  },
  {
   "cell_type": "markdown",
   "id": "5a7eeb09-de1d-44c0-9a89-07bfc32a6454",
   "metadata": {},
   "source": [
    "## d. Recomendar destinos basados en viajes de amigos."
   ]
  },
  {
   "cell_type": "code",
   "execution_count": 122,
   "id": "82f83e03-5562-4eda-8d44-6dd69f5c5426",
   "metadata": {},
   "outputs": [],
   "source": [
    "nombre_usuario = input(\"Introduce tu nombre para saber qué lugares te recomendamos: \")\n",
    "\n",
    "query = \"\"\"\n",
    "MATCH (u:Usuario {nombre:$nombre})-[:AMIGO_DE]-(amigo:Usuario)\n",
    "MATCH (amigo)-[:VISITO]->(d:Destino)\n",
    "WHERE NOT (u)-[:VISITO]->(d)   \n",
    "RETURN DISTINCT d.ciudad AS Destino_Recomendado\n",
    "ORDER BY d.ciudad\n",
    "\"\"\"\n",
    "\n",
    "print(\"\\n\" + \"-\"*60)\n",
    "print(f\"RECOMENDACIONES PARA {nombre_usuario.upper()} EN FUNCIÓN DE SUS AMIGOS\")\n",
    "print(\"-\"*60 + \"\\n\")\n",
    "\n",
    "destinos = neo4j.consulta(db_neo4j, query, parametros={\"nombre\": nombre_usuario})\n",
    "\n",
    "if destinos.empty:\n",
    "    print(\"No hay destinos recomendados nuevos para vos.\")\n",
    "else:\n",
    "    for d in destinos['Destino_Recomendado']:\n",
    "        print(f\"- {d}\")\n"
   ]
  },
  {
   "cell_type": "markdown",
   "id": "b459bb91-40ed-4088-8e49-e54a16c93371",
   "metadata": {},
   "source": [
    "## e. Listar los hoteles en los destinos recomendados del punto anterior. "
   ]
  },
  {
   "cell_type": "code",
   "execution_count": 123,
   "id": "7b7b37ad-b85c-45d9-98db-1b057c13b1d4",
   "metadata": {},
   "outputs": [],
   "source": [
    "nombre_base = \"clase\"\n",
    "coleccion = \"hoteles\"\n",
    "\n",
    "# Lista de destinos recomendados\n",
    "lista_destinos = destinos[\"Destino_Recomendado\"].dropna().unique().tolist()\n",
    "\n",
    "if not lista_destinos:\n",
    "    print(\"No hay destinos recomendados disponibles.\")\n",
    "else:\n",
    "    filtro = {\"ciudad\": {\"$in\": lista_destinos}}\n",
    "    proyeccion = {\"_id\": 0, \"nombre\": 1, \"ciudad\": 1, \"direccion\": 1}\n",
    "\n",
    "    # Obtener datos de Mongo y convertir a DataFrame\n",
    "    cursor = mongo.obtener_cursor(\n",
    "        nombre_base=nombre_base,\n",
    "        nombre_coleccion=coleccion,\n",
    "        filtro=filtro,\n",
    "        proyeccion=proyeccion\n",
    "    )\n",
    "\n",
    "    hoteles = pd.DataFrame(list(cursor))\n",
    "\n",
    "    if hoteles.empty:\n",
    "        print(\"No se encontraron hoteles en los destinos recomendados.\")\n",
    "    else:\n",
    "        # Ordenar por ciudad y luego por nombre de hotel\n",
    "        hoteles.sort_values(by=[\"ciudad\", \"nombre\"], inplace=True)\n",
    "        print(hoteles.to_string(index=False))\n",
    "       \n",
    "\n"
   ]
  },
  {
   "cell_type": "markdown",
   "id": "cd981b85-6d94-498b-ab79-0199ac50e662",
   "metadata": {},
   "source": [
    "## f.Ver las reservas en proceso, es decir que aún no están concretadas. "
   ]
  },
  {
   "cell_type": "code",
   "execution_count": null,
   "id": "1a5b2b66-fbc3-4027-a5eb-205fbf8f94cc",
   "metadata": {},
   "outputs": [],
   "source": []
  },
  {
   "cell_type": "markdown",
   "id": "ade67b15-bc20-439d-99a8-1eeb0b039311",
   "metadata": {},
   "source": [
    "## g. Listar los usuarios conectados actualmente. "
   ]
  },
  {
   "cell_type": "code",
   "execution_count": null,
   "id": "27ad781f-fa03-4f5f-bb8d-11e15a652d20",
   "metadata": {},
   "outputs": [],
   "source": []
  },
  {
   "cell_type": "markdown",
   "id": "e7c3ca0e-27f8-4994-884a-862a2c7ddad2",
   "metadata": {},
   "source": [
    "###### h. Mostrar los destinos con precio inferior a $100.000"
   ]
  },
  {
   "cell_type": "code",
   "execution_count": null,
   "id": "c1830ae2-8119-4540-bb8e-53442062bde9",
   "metadata": {},
   "outputs": [],
   "source": []
  },
  {
   "cell_type": "markdown",
   "id": "e9bdc948-d1aa-4cad-a6fa-754f4b8ecc19",
   "metadata": {},
   "source": [
    "## i. Mostrar todos los Hoteles de “Jujuy”."
   ]
  },
  {
   "cell_type": "code",
   "execution_count": 18,
   "id": "f9fb2e9a-0b76-4ea0-abdf-ae547e2961a7",
   "metadata": {},
   "outputs": [],
   "source": [
    "nombre_base = \"clase\"\n",
    "coleccion = \"hoteles\"\n",
    "\n",
    "# Lista de destinos recomendados\n",
    "ciudad = [\"San Salvador de Jujuy\"]\n",
    "\n",
    "if not lista_destinos:\n",
    "    print(\"No hay destinos recomendados disponibles.\")\n",
    "else:\n",
    "    filtro = {\"ciudad\": {\"$in\": ciudad}}\n",
    "    proyeccion = {\"_id\": 0, \"nombre\": 1, \"ciudad\": 1, \"direccion\": 1}\n",
    "\n",
    "    # Obtener datos de Mongo y convertir a DataFrame\n",
    "    cursor = mongo.obtener_cursor(\n",
    "        nombre_base=nombre_base,\n",
    "        nombre_coleccion=coleccion,\n",
    "        filtro=filtro,\n",
    "        proyeccion=proyeccion\n",
    "    )\n",
    "\n",
    "    hoteles = pd.DataFrame(list(cursor))\n",
    "\n",
    "    if hoteles.empty:\n",
    "        print(\"No se encontraron hoteles en los destinos recomendados.\")\n",
    "    else:\n",
    "        # Ordenar por ciudad y luego por nombre de hotel\n",
    "        hoteles.sort_values(by=[\"nombre\"], inplace=True)\n",
    "        print(hoteles.to_string(index=False))\n",
    "       "
   ]
  },
  {
   "cell_type": "markdown",
   "id": "4e826afb-eff6-43c7-9a7f-f501429fadbd",
   "metadata": {},
   "source": [
    "## j. Mostrar la cantidad de hoteles de un destino que guste. "
   ]
  },
  {
   "cell_type": "markdown",
   "id": "c6731578",
   "metadata": {},
   "source": [
    "# Dario: Aca tengo una duda, ¿!ue hago armo una funcion media especifica que me traiga la cuenta hecha desde Mongo a costa de perdida posible escalabilidad o me traigo el recorte de info de esa cuidad y hoteles y hago en la cuenta en pandas, ventajas mas facil de escala y codear para reutilizar en otras consultas(creo), desventajas  eficiencia\n",
    "\n",
    "Segun chat gpt \"💡 Regla general:\n",
    "\n",
    "Para conteos, sumas, promedios y filtros simples, MongoDB siempre gana en eficiencia. Traer datos completos solo para contar es ineficiente y poco escalable.\""
   ]
  },
  {
   "cell_type": "code",
   "execution_count": 28,
   "id": "91d92408-4e84-4e08-a070-211e42097a1a",
   "metadata": {},
   "outputs": [
    {
     "data": {
      "text/html": [
       "<div>\n",
       "<style scoped>\n",
       "    .dataframe tbody tr th:only-of-type {\n",
       "        vertical-align: middle;\n",
       "    }\n",
       "\n",
       "    .dataframe tbody tr th {\n",
       "        vertical-align: top;\n",
       "    }\n",
       "\n",
       "    .dataframe thead th {\n",
       "        text-align: right;\n",
       "    }\n",
       "</style>\n",
       "<table border=\"1\" class=\"dataframe\">\n",
       "  <thead>\n",
       "    <tr style=\"text-align: right;\">\n",
       "      <th></th>\n",
       "      <th>_id</th>\n",
       "      <th>hotel_id</th>\n",
       "    </tr>\n",
       "  </thead>\n",
       "  <tbody>\n",
       "    <tr>\n",
       "      <th>0</th>\n",
       "      <td>Ciudad Autónoma de Buenos Aires</td>\n",
       "      <td>2</td>\n",
       "    </tr>\n",
       "    <tr>\n",
       "      <th>1</th>\n",
       "      <td>La Pampa</td>\n",
       "      <td>2</td>\n",
       "    </tr>\n",
       "    <tr>\n",
       "      <th>2</th>\n",
       "      <td>Misiones</td>\n",
       "      <td>7</td>\n",
       "    </tr>\n",
       "    <tr>\n",
       "      <th>3</th>\n",
       "      <td>Chubut</td>\n",
       "      <td>1</td>\n",
       "    </tr>\n",
       "    <tr>\n",
       "      <th>4</th>\n",
       "      <td>Entre Ríos</td>\n",
       "      <td>13</td>\n",
       "    </tr>\n",
       "    <tr>\n",
       "      <th>5</th>\n",
       "      <td>La Rioja</td>\n",
       "      <td>5</td>\n",
       "    </tr>\n",
       "    <tr>\n",
       "      <th>6</th>\n",
       "      <td>San Juan</td>\n",
       "      <td>3</td>\n",
       "    </tr>\n",
       "    <tr>\n",
       "      <th>7</th>\n",
       "      <td>Santa Cruz</td>\n",
       "      <td>6</td>\n",
       "    </tr>\n",
       "    <tr>\n",
       "      <th>8</th>\n",
       "      <td>Catamarca</td>\n",
       "      <td>4</td>\n",
       "    </tr>\n",
       "    <tr>\n",
       "      <th>9</th>\n",
       "      <td>Córdoba</td>\n",
       "      <td>12</td>\n",
       "    </tr>\n",
       "    <tr>\n",
       "      <th>10</th>\n",
       "      <td>Formosa</td>\n",
       "      <td>3</td>\n",
       "    </tr>\n",
       "    <tr>\n",
       "      <th>11</th>\n",
       "      <td>Salta</td>\n",
       "      <td>4</td>\n",
       "    </tr>\n",
       "    <tr>\n",
       "      <th>12</th>\n",
       "      <td>Chaco</td>\n",
       "      <td>3</td>\n",
       "    </tr>\n",
       "    <tr>\n",
       "      <th>13</th>\n",
       "      <td>Corrientes</td>\n",
       "      <td>2</td>\n",
       "    </tr>\n",
       "    <tr>\n",
       "      <th>14</th>\n",
       "      <td>Mendoza</td>\n",
       "      <td>5</td>\n",
       "    </tr>\n",
       "    <tr>\n",
       "      <th>15</th>\n",
       "      <td>Río Negro</td>\n",
       "      <td>9</td>\n",
       "    </tr>\n",
       "    <tr>\n",
       "      <th>16</th>\n",
       "      <td>Santiago del Estero</td>\n",
       "      <td>4</td>\n",
       "    </tr>\n",
       "    <tr>\n",
       "      <th>17</th>\n",
       "      <td>Tierra del Fuego</td>\n",
       "      <td>1</td>\n",
       "    </tr>\n",
       "    <tr>\n",
       "      <th>18</th>\n",
       "      <td>Santa Fe</td>\n",
       "      <td>8</td>\n",
       "    </tr>\n",
       "    <tr>\n",
       "      <th>19</th>\n",
       "      <td>Jujuy</td>\n",
       "      <td>5</td>\n",
       "    </tr>\n",
       "    <tr>\n",
       "      <th>20</th>\n",
       "      <td>Buenos Aires</td>\n",
       "      <td>5</td>\n",
       "    </tr>\n",
       "    <tr>\n",
       "      <th>21</th>\n",
       "      <td>San Luis</td>\n",
       "      <td>2</td>\n",
       "    </tr>\n",
       "    <tr>\n",
       "      <th>22</th>\n",
       "      <td>Tucumán</td>\n",
       "      <td>2</td>\n",
       "    </tr>\n",
       "    <tr>\n",
       "      <th>23</th>\n",
       "      <td>Neuquén</td>\n",
       "      <td>10</td>\n",
       "    </tr>\n",
       "  </tbody>\n",
       "</table>\n",
       "</div>"
      ],
      "text/plain": [
       "                                _id  hotel_id\n",
       "0   Ciudad Autónoma de Buenos Aires         2\n",
       "1                          La Pampa         2\n",
       "2                          Misiones         7\n",
       "3                            Chubut         1\n",
       "4                        Entre Ríos        13\n",
       "5                          La Rioja         5\n",
       "6                          San Juan         3\n",
       "7                        Santa Cruz         6\n",
       "8                         Catamarca         4\n",
       "9                           Córdoba        12\n",
       "10                          Formosa         3\n",
       "11                            Salta         4\n",
       "12                            Chaco         3\n",
       "13                       Corrientes         2\n",
       "14                          Mendoza         5\n",
       "15                        Río Negro         9\n",
       "16              Santiago del Estero         4\n",
       "17                 Tierra del Fuego         1\n",
       "18                         Santa Fe         8\n",
       "19                            Jujuy         5\n",
       "20                     Buenos Aires         5\n",
       "21                         San Luis         2\n",
       "22                          Tucumán         2\n",
       "23                          Neuquén        10"
      ]
     },
     "execution_count": 28,
     "metadata": {},
     "output_type": "execute_result"
    }
   ],
   "source": [
    "## j. Mostrar la cantidad de hoteles de un destino que guste. \n",
    "agrupar= input(\"Introduce provincia o ciudad\")\n",
    "lugar= input(\"Introduce la provincia o ciudad \")\n",
    "\n",
    "cursor = mongo.contador(\n",
    "    nombre_base=\"clase\",\n",
    "    coleccion=\"hoteles\",\n",
    "    agrupacion=agrupar,\n",
    "    campo_calculo=\"hotel_id\",\n",
    "#    filtrar={\"provincia\": provincia_elegida}\n",
    ")\n",
    "\n",
    "\n",
    "hoteles = pd.DataFrame(cursor)\n",
    "hoteles\n"
   ]
  },
  {
   "cell_type": "markdown",
   "id": "7bc48eaa-eae9-4c22-9036-ff018d34d4b7",
   "metadata": {},
   "source": [
    "###### k. Mostrar las actividades de “Ushuaia” del tipo “aventura”."
   ]
  },
  {
   "cell_type": "code",
   "execution_count": null,
   "id": "0e0cae71-3b60-466b-bcf5-a2dffb71eff3",
   "metadata": {},
   "outputs": [],
   "source": []
  },
  {
   "cell_type": "markdown",
   "id": "aba91348-5d0a-424b-b2f2-75b506b969b3",
   "metadata": {},
   "source": [
    "###### l. Mostrar la cantidad de reservas concretadas de cada usuario. Mostrar el usuario y la cantidad "
   ]
  },
  {
   "cell_type": "code",
   "execution_count": null,
   "id": "3ae312fe-53b4-4b4b-88de-5d0e12ce3b4c",
   "metadata": {},
   "outputs": [],
   "source": []
  },
  {
   "cell_type": "markdown",
   "id": "f0c3f88f-a292-4d2a-bc23-4c7053004160",
   "metadata": {},
   "source": [
    "#### Estadísticas"
   ]
  },
  {
   "cell_type": "markdown",
   "id": "b2edec22-518e-4844-8ec9-fb257dfae711",
   "metadata": {},
   "source": [
    "###### i.Destino más visitado"
   ]
  },
  {
   "cell_type": "code",
   "execution_count": null,
   "id": "fd3c30e8-6d5a-4866-997a-90b4b628b457",
   "metadata": {},
   "outputs": [],
   "source": []
  },
  {
   "cell_type": "markdown",
   "id": "b2152a43-66c6-4852-9805-dba7d5f58831",
   "metadata": {},
   "source": [
    "###### ii.Hotel más barato"
   ]
  },
  {
   "cell_type": "code",
   "execution_count": null,
   "id": "d026968b-61f6-45fb-9c32-588f34d5a28b",
   "metadata": {},
   "outputs": [],
   "source": []
  },
  {
   "cell_type": "markdown",
   "id": "34787108-84f9-4b3f-bc0a-d33309b8c2f5",
   "metadata": {},
   "source": [
    "###### iii.Actividad más popular."
   ]
  },
  {
   "cell_type": "code",
   "execution_count": null,
   "id": "ab81879e-19a5-4d5e-9d81-fc9f23e1d287",
   "metadata": {},
   "outputs": [],
   "source": []
  },
  {
   "cell_type": "markdown",
   "id": "5eae57b1-ec8b-469b-8033-8fde97d62c5a",
   "metadata": {},
   "source": [
    "#### Modificaciones"
   ]
  },
  {
   "cell_type": "markdown",
   "id": "22039522-23ad-47ac-a709-50975130084b",
   "metadata": {},
   "source": [
    "###### a.Incrementar el precio de las actividades de Tucuman en 5% "
   ]
  },
  {
   "cell_type": "code",
   "execution_count": null,
   "id": "f405f561-4830-41a9-86ec-ac44c0915338",
   "metadata": {},
   "outputs": [],
   "source": []
  },
  {
   "cell_type": "markdown",
   "id": "22a527ac-90a3-4e39-8141-44c9ce298bcd",
   "metadata": {},
   "source": [
    "###### b. Agregar al hotel id=1 el servicio de SPA "
   ]
  },
  {
   "cell_type": "code",
   "execution_count": null,
   "id": "6a4ca203-b270-4065-aee4-9cab7121cc7c",
   "metadata": {},
   "outputs": [],
   "source": []
  },
  {
   "cell_type": "markdown",
   "id": "030c6c43-2a5a-46ef-89b1-a2c30b55cd88",
   "metadata": {},
   "source": [
    "###### c. Eliminar el destino que desee"
   ]
  },
  {
   "cell_type": "code",
   "execution_count": null,
   "id": "45c2c505-b08f-4ec4-b50a-0d9760d3bc92",
   "metadata": {},
   "outputs": [],
   "source": []
  },
  {
   "cell_type": "markdown",
   "id": "2ce976cf-093e-4c08-a0f5-d3910abe2efb",
   "metadata": {},
   "source": [
    "###### d. Eliminar un usuario que desee "
   ]
  },
  {
   "cell_type": "code",
   "execution_count": null,
   "id": "c6bdaa62-84ae-4ebb-8ca3-78d6a8348d03",
   "metadata": {},
   "outputs": [],
   "source": []
  },
  {
   "cell_type": "markdown",
   "id": "21d70e0e-8ab8-445c-bbdd-6dc6dac891cc",
   "metadata": {},
   "source": [
    "###### e. Eliminar las relaciones AMIGO_DE para un usuario que quiera. "
   ]
  },
  {
   "cell_type": "code",
   "execution_count": null,
   "id": "8a3c02e7-191b-424a-ba1b-5bd2f4aa91b7",
   "metadata": {},
   "outputs": [],
   "source": []
  }
 ],
 "metadata": {
  "kernelspec": {
   "display_name": "Python 3 (ipykernel)",
   "language": "python",
   "name": "python3"
  },
  "language_info": {
   "codemirror_mode": {
    "name": "ipython",
    "version": 3
   },
   "file_extension": ".py",
   "mimetype": "text/x-python",
   "name": "python",
   "nbconvert_exporter": "python",
   "pygments_lexer": "ipython3",
   "version": "3.11.13"
  }
 },
 "nbformat": 4,
 "nbformat_minor": 5
}
