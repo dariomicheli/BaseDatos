{
 "cells": [
  {
   "cell_type": "markdown",
   "id": "fce3fb50-092b-4392-80df-258a0450f414",
   "metadata": {},
   "source": [
    "# Consultas Integradas"
   ]
  },
  {
   "cell_type": "markdown",
   "id": "400fd7b0-612f-4d19-bcf5-f7e4020347bd",
   "metadata": {},
   "source": [
    "Este notebook tiene el fin de generar las consultas planteadas en el trabajo práctico integrador"
   ]
  },
  {
   "cell_type": "markdown",
   "id": "d03161d8-e77b-42c1-8ef9-5e692a142baa",
   "metadata": {},
   "source": [
    "#### Importo librerias"
   ]
  },
  {
   "cell_type": "code",
   "execution_count": 113,
   "id": "d0ae8dc4",
   "metadata": {},
   "outputs": [
    {
     "name": "stdout",
     "output_type": "stream",
     "text": [
      "The autoreload extension is already loaded. To reload it, use:\n",
      "  %reload_ext autoreload\n"
     ]
    }
   ],
   "source": [
    "# Limpia todas las variables existentes\n",
    "%reset -f\n",
    "\n",
    "# Habilita autoreload para recargar automáticamente todos los módulos\n",
    "%load_ext autoreload\n",
    "%autoreload 2"
   ]
  },
  {
   "cell_type": "code",
   "execution_count": null,
   "id": "082c6b7a",
   "metadata": {},
   "outputs": [
    {
     "ename": "ImportError",
     "evalue": "cannot import name 'contador' from 'src.mongo' (/work/src/mongo.py)",
     "output_type": "error",
     "traceback": [
      "\u001b[31m---------------------------------------------------------------------------\u001b[39m",
      "\u001b[31mImportError\u001b[39m                               Traceback (most recent call last)",
      "\u001b[36mCell\u001b[39m\u001b[36m \u001b[39m\u001b[32mIn[115]\u001b[39m\u001b[32m, line 9\u001b[39m\n\u001b[32m      7\u001b[39m \u001b[38;5;28;01mfrom\u001b[39;00m\u001b[38;5;250m \u001b[39m\u001b[34;01mdb_connections\u001b[39;00m\u001b[38;5;250m \u001b[39m\u001b[38;5;28;01mimport\u001b[39;00m client, db_neo4j, db_redis\n\u001b[32m      8\u001b[39m \u001b[38;5;28;01mfrom\u001b[39;00m\u001b[38;5;250m \u001b[39m\u001b[34;01msrc\u001b[39;00m\u001b[38;5;250m \u001b[39m\u001b[38;5;28;01mimport\u001b[39;00m mongo, neo4j, utils, redis\n\u001b[32m----> \u001b[39m\u001b[32m9\u001b[39m \u001b[38;5;28;01mfrom\u001b[39;00m\u001b[38;5;250m \u001b[39m\u001b[34;01msrc\u001b[39;00m\u001b[34;01m.\u001b[39;00m\u001b[34;01mmongo\u001b[39;00m\u001b[38;5;250m \u001b[39m\u001b[38;5;28;01mimport\u001b[39;00m contador\n",
      "\u001b[31mImportError\u001b[39m: cannot import name 'contador' from 'src.mongo' (/work/src/mongo.py)"
     ]
    }
   ],
   "source": [
    "import os\n",
    "from pathlib import Path\n",
    "import pandas as pd\n",
    "from pymongo.errors import ConnectionFailure\n",
    "\n",
    "from db_connections import client, db_neo4j, db_redis\n",
    "from src import mongo, neo4j, utils, redis"
   ]
  },
  {
   "cell_type": "code",
   "execution_count": null,
   "id": "7dccba7a",
   "metadata": {},
   "outputs": [],
   "source": []
  },
  {
   "cell_type": "code",
   "execution_count": null,
   "id": "d03acb47",
   "metadata": {},
   "outputs": [
    {
     "name": "stdout",
     "output_type": "stream",
     "text": [
      "✅ Conexión a MongoDB verificada.\n",
      "✅ Conexión a Neo4j verificada.\n",
      "✅ Conexión a Redis verificada.\n"
     ]
    }
   ],
   "source": [
    "# =====================\n",
    "# TEST DE CONEXIONES\n",
    "# =====================\n",
    "\n",
    "#Conecto con MongoDB\n",
    "try:\n",
    "    client.admin.command(\"ping\")  # fuerza conexión al servidor\n",
    "    print(\"✅ Conexión a MongoDB verificada.\")\n",
    "except ConnectionFailure as e:\n",
    "    print(f\"❌ Falló la conexión: {type(e).__name__} - {e}\")\n",
    "\n",
    "#Conecto con Neo4j\n",
    "try:\n",
    "    db_neo4j.verify_connectivity()\n",
    "    print(\"✅ Conexión a Neo4j verificada.\")\n",
    "except Exception as e:\n",
    "    print(f\"❌ Error de conexión: {type(e).__name__} - {e}\")\n",
    "\n",
    "#Conecto con Redis\n",
    "try:\n",
    "    db_redis.ping()\n",
    "    print(\"✅ Conexión a Redis verificada.\")\n",
    "except Exception as e:\n",
    "    print(f\"❌ Error de conexión: {type(e).__name__} - {e}\")"
   ]
  },
  {
   "cell_type": "markdown",
   "id": "f37c8ea9-4542-4e3d-bf9f-a7653c247358",
   "metadata": {},
   "source": [
    "## A.Mostrar los usuarios que visitaron “Bariloche”. "
   ]
  },
  {
   "cell_type": "code",
   "execution_count": null,
   "id": "baf85df9-27c5-4a9b-8501-d2e5ada1f279",
   "metadata": {
    "scrolled": true
   },
   "outputs": [
    {
     "data": {
      "text/html": [
       "<div>\n",
       "<style scoped>\n",
       "    .dataframe tbody tr th:only-of-type {\n",
       "        vertical-align: middle;\n",
       "    }\n",
       "\n",
       "    .dataframe tbody tr th {\n",
       "        vertical-align: top;\n",
       "    }\n",
       "\n",
       "    .dataframe thead th {\n",
       "        text-align: right;\n",
       "    }\n",
       "</style>\n",
       "<table border=\"1\" class=\"dataframe\">\n",
       "  <thead>\n",
       "    <tr style=\"text-align: right;\">\n",
       "      <th></th>\n",
       "      <th>id</th>\n",
       "      <th>Nombre</th>\n",
       "      <th>Apellido</th>\n",
       "    </tr>\n",
       "  </thead>\n",
       "  <tbody>\n",
       "    <tr>\n",
       "      <th>0</th>\n",
       "      <td>257</td>\n",
       "      <td>Abril</td>\n",
       "      <td>Pedrosa</td>\n",
       "    </tr>\n",
       "    <tr>\n",
       "      <th>1</th>\n",
       "      <td>373</td>\n",
       "      <td>Ciro</td>\n",
       "      <td>Toledo</td>\n",
       "    </tr>\n",
       "    <tr>\n",
       "      <th>2</th>\n",
       "      <td>312</td>\n",
       "      <td>Bibiana</td>\n",
       "      <td>Flores</td>\n",
       "    </tr>\n",
       "    <tr>\n",
       "      <th>3</th>\n",
       "      <td>60</td>\n",
       "      <td>Poncio</td>\n",
       "      <td>Escobar</td>\n",
       "    </tr>\n",
       "    <tr>\n",
       "      <th>4</th>\n",
       "      <td>129</td>\n",
       "      <td>Antonio</td>\n",
       "      <td>Madrid</td>\n",
       "    </tr>\n",
       "    <tr>\n",
       "      <th>5</th>\n",
       "      <td>221</td>\n",
       "      <td>Cleto</td>\n",
       "      <td>Ríos</td>\n",
       "    </tr>\n",
       "    <tr>\n",
       "      <th>6</th>\n",
       "      <td>301</td>\n",
       "      <td>Inés</td>\n",
       "      <td>Gabaldón</td>\n",
       "    </tr>\n",
       "    <tr>\n",
       "      <th>7</th>\n",
       "      <td>166</td>\n",
       "      <td>Alexandra</td>\n",
       "      <td>Oller</td>\n",
       "    </tr>\n",
       "    <tr>\n",
       "      <th>8</th>\n",
       "      <td>114</td>\n",
       "      <td>Eligia</td>\n",
       "      <td>Coronado</td>\n",
       "    </tr>\n",
       "    <tr>\n",
       "      <th>9</th>\n",
       "      <td>495</td>\n",
       "      <td>Gema</td>\n",
       "      <td>Rueda</td>\n",
       "    </tr>\n",
       "    <tr>\n",
       "      <th>10</th>\n",
       "      <td>149</td>\n",
       "      <td>Ciro</td>\n",
       "      <td>Valverde</td>\n",
       "    </tr>\n",
       "    <tr>\n",
       "      <th>11</th>\n",
       "      <td>302</td>\n",
       "      <td>Ema</td>\n",
       "      <td>Mayoral</td>\n",
       "    </tr>\n",
       "    <tr>\n",
       "      <th>12</th>\n",
       "      <td>403</td>\n",
       "      <td>Azucena</td>\n",
       "      <td>Blanco</td>\n",
       "    </tr>\n",
       "    <tr>\n",
       "      <th>13</th>\n",
       "      <td>383</td>\n",
       "      <td>Haydée</td>\n",
       "      <td>Prats</td>\n",
       "    </tr>\n",
       "    <tr>\n",
       "      <th>14</th>\n",
       "      <td>24</td>\n",
       "      <td>Gema</td>\n",
       "      <td>Yáñez</td>\n",
       "    </tr>\n",
       "  </tbody>\n",
       "</table>\n",
       "</div>"
      ],
      "text/plain": [
       "     id     Nombre  Apellido\n",
       "0   257      Abril   Pedrosa\n",
       "1   373       Ciro    Toledo\n",
       "2   312    Bibiana    Flores\n",
       "3    60     Poncio   Escobar\n",
       "4   129    Antonio    Madrid\n",
       "5   221      Cleto      Ríos\n",
       "6   301       Inés  Gabaldón\n",
       "7   166  Alexandra     Oller\n",
       "8   114     Eligia  Coronado\n",
       "9   495       Gema     Rueda\n",
       "10  149       Ciro  Valverde\n",
       "11  302        Ema   Mayoral\n",
       "12  403    Azucena    Blanco\n",
       "13  383     Haydée     Prats\n",
       "14   24       Gema     Yáñez"
      ]
     },
     "execution_count": 104,
     "metadata": {},
     "output_type": "execute_result"
    }
   ],
   "source": [
    "query = \"\"\" \n",
    "MATCH (U:Usuario)-[:VISITO]->(D:Destino)\n",
    "WHERE D.ciudad='La Plata'\n",
    "RETURN DISTINCT U.usuario_id AS id, U.nombre AS Nombre, U.apellido AS Apellido\n",
    "\"\"\"\n",
    "\n",
    "usuarios = neo4j.consulta(db_neo4j, query)\n",
    "usuarios"
   ]
  },
  {
   "cell_type": "markdown",
   "id": "8aee4bec-64dd-4b91-a4bf-b8890e15e249",
   "metadata": {},
   "source": [
    "### B.Mostrar los amigos de Juan que visitaron algún destino que visitó él, mostrar el nombre del Usuario y el destino. "
   ]
  },
  {
   "cell_type": "code",
   "execution_count": null,
   "id": "50903c86-e8e3-4bde-873f-33df0ef8d56a",
   "metadata": {},
   "outputs": [
    {
     "name": "stdout",
     "output_type": "stream",
     "text": [
      "\n",
      "------------------------------------------------------------\n",
      "JUAN TUS AMIGOS VISITARON ESTOS MISMOS DESTINOS QUE TÚ\n",
      "------------------------------------------------------------\n",
      "\n",
      "     Nombre                Destinos_Compartidos\n",
      "0      Amor  [Córdoba, Mendoza, Azul, New York]\n",
      "1      Blas  [Córdoba, Mendoza, Azul, New York]\n",
      "2     Cleto  [Córdoba, Mendoza, Azul, New York]\n",
      "3  Leopoldo  [Córdoba, Mendoza, Azul, New York]\n",
      "4     Paula  [Córdoba, Mendoza, Azul, New York]\n",
      "5  Wilfredo  [Córdoba, Mendoza, Azul, New York]\n",
      "6     Óscar  [Córdoba, Mendoza, Azul, New York]\n"
     ]
    }
   ],
   "source": [
    "import pandas as pd\n",
    "\n",
    "# Pedimos el nombre del usuario\n",
    "nombre_usuario = input(\"Introduce tu nombre para saber qué lugares visitaste con tus amigos: \")\n",
    "\n",
    "# Query Cypher corregida: el parámetro se llama $nombre\n",
    "query = \"\"\"\n",
    "MATCH (u:Usuario {nombre: $nombre})-[:AMIGO_DE]-(amigo:Usuario)\n",
    "MATCH (u)-[:VISITO]->(d:Destino)<-[:VISITO]-(amigo)\n",
    "RETURN \n",
    "    amigo.nombre AS Nombre,\n",
    "    collect(DISTINCT d.ciudad) AS Destinos_Compartidos\n",
    "ORDER BY Nombre\n",
    "\"\"\"\n",
    "\n",
    "# Mensaje de encabezado\n",
    "print(\"\\n\" + \"-\"*60)\n",
    "print(f\"{nombre_usuario.upper()} TUS AMIGOS VISITARON ESTOS MISMOS DESTINOS QUE TÚ\")\n",
    "print(\"-\"*60 + \"\\n\")\n",
    "\n",
    "# Ejecutamos la consulta usando la función consulta() que devuelve un DataFrame\n",
    "usuarios = neo4j.consulta(db_neo4j, query, parametros={\"nombre\": nombre_usuario})\n",
    "\n",
    "# Mostramos el resultado\n",
    "if usuarios.empty:\n",
    "    print(\"No se encontraron amigos que hayan visitado los mismos destinos.\")\n",
    "else:\n",
    "    print(usuarios)\n"
   ]
  },
  {
   "cell_type": "markdown",
   "id": "4f4d3f79-80d4-4638-9c72-1ad410d734ad",
   "metadata": {},
   "source": [
    "### C. Sugerir destinos a un usuario que no haya visitado él ni sus amigos. "
   ]
  },
  {
   "cell_type": "code",
   "execution_count": null,
   "id": "4ac69eb1",
   "metadata": {},
   "outputs": [
    {
     "name": "stdout",
     "output_type": "stream",
     "text": [
      "\n",
      "------------------------------------------------------------\n",
      "DESTINOS NUEVOS PARA JUAN Y SUS AMIGOS\n",
      "------------------------------------------------------------\n",
      "\n",
      "- Córdoba\n",
      "- La Plata\n",
      "- Mendoza\n",
      "- Salta\n",
      "- San Miguel de Tucumán\n"
     ]
    }
   ],
   "source": [
    "nombre_usuario = input(\"Introduce tu nombre para saber qué lugares nuevos que no visitaste ni tu ni tus amigos: \")\n",
    "\n",
    "query = \"\"\"\n",
    "MATCH (d:Destino)\n",
    "WHERE \n",
    "NOT EXISTS {MATCH (d)<-[:VISITO]-(u:Usuario {nombre: $nombre})}\n",
    "AND \n",
    "NOT EXISTS {MATCH (d)<-[:VISITO]-(:Usuario)-[:AMIGO_DE]-(:Usuario {nombre: $nombre})}\n",
    "RETURN DISTINCT d.ciudad AS Destinos_No_Visitados\n",
    "ORDER BY d.ciudad\n",
    "\"\"\"\n",
    "\n",
    "print(\"\\n\" + \"-\"*60)\n",
    "print(f\"DESTINOS NUEVOS PARA {nombre_usuario.upper()} Y SUS AMIGOS\")\n",
    "print(\"-\"*60 + \"\\n\")\n",
    "\n",
    "destinos = neo4j.consulta(db_neo4j, query, parametros={\"nombre\": nombre_usuario})\n",
    "\n",
    "if destinos.empty:\n",
    "    print(\"No hay destinos nuevos disponibles.\")\n",
    "else:\n",
    "    # Mostrar cada destino en lista\n",
    "    for d in destinos['Destinos_No_Visitados']:\n",
    "        print(f\"- {d}\")\n",
    "\n"
   ]
  },
  {
   "cell_type": "markdown",
   "id": "5a7eeb09-de1d-44c0-9a89-07bfc32a6454",
   "metadata": {},
   "source": [
    "## d. Recomendar destinos basados en viajes de amigos."
   ]
  },
  {
   "cell_type": "code",
   "execution_count": null,
   "id": "82f83e03-5562-4eda-8d44-6dd69f5c5426",
   "metadata": {},
   "outputs": [
    {
     "name": "stdout",
     "output_type": "stream",
     "text": [
      "\n",
      "------------------------------------------------------------\n",
      "RECOMENDACIONES PARA JUAN EN FUNCIÓN DE SUS AMIGOS\n",
      "------------------------------------------------------------\n",
      "\n",
      "- Córdoba\n",
      "- Mendoza\n",
      "- Neuquén\n",
      "- San Miguel de Tucumán\n"
     ]
    }
   ],
   "source": [
    "nombre_usuario = input(\"Introduce tu nombre para saber qué lugares te recomendamos: \")\n",
    "\n",
    "query = \"\"\"\n",
    "MATCH (u:Usuario {nombre:$nombre})-[:AMIGO_DE]-(amigo:Usuario)\n",
    "MATCH (amigo)-[:VISITO]->(d:Destino)\n",
    "WHERE NOT (u)-[:VISITO]->(d)   \n",
    "RETURN DISTINCT d.ciudad AS Destino_Recomendado\n",
    "ORDER BY d.ciudad\n",
    "\"\"\"\n",
    "\n",
    "print(\"\\n\" + \"-\"*60)\n",
    "print(f\"RECOMENDACIONES PARA {nombre_usuario.upper()} EN FUNCIÓN DE SUS AMIGOS\")\n",
    "print(\"-\"*60 + \"\\n\")\n",
    "\n",
    "destinos = neo4j.consulta(db_neo4j, query, parametros={\"nombre\": nombre_usuario})\n",
    "\n",
    "if destinos.empty:\n",
    "    print(\"No hay destinos recomendados nuevos para vos.\")\n",
    "else:\n",
    "    for d in destinos['Destino_Recomendado']:\n",
    "        print(f\"- {d}\")\n"
   ]
  },
  {
   "cell_type": "markdown",
   "id": "b459bb91-40ed-4088-8e49-e54a16c93371",
   "metadata": {},
   "source": [
    "## e. Listar los hoteles en los destinos recomendados del punto anterior. "
   ]
  },
  {
   "cell_type": "code",
   "execution_count": null,
   "id": "7b7b37ad-b85c-45d9-98db-1b057c13b1d4",
   "metadata": {},
   "outputs": [
    {
     "name": "stdout",
     "output_type": "stream",
     "text": [
      "                                          nombre                ciudad\n",
      "            Aránzazu Carmona Belda S.L.N.E Hotel               Córdoba\n",
      "     Banca Privada Madrid y asociados S.A. Hotel               Córdoba\n",
      "                       Banco Barreda S.C.P Hotel               Córdoba\n",
      "                        Despacho NLHV S.L. Hotel               Córdoba\n",
      "Distribuciones Segovia & Asociados S.L.N.E Hotel               Córdoba\n",
      "                      Finanzas EUJ S.L.N.E Hotel               Córdoba\n",
      "             Francisca Aliaga Soto S.L.N.E Hotel               Córdoba\n",
      "                      Grupo Castrillo S.A. Hotel               Córdoba\n",
      "                           Grupo Cruz S.L. Hotel               Córdoba\n",
      "                     Hermanos Arnau S.Com. Hotel               Córdoba\n",
      "                   Hermanos Blasco S.L.N.E Hotel               Córdoba\n",
      "                     Hermanos López S.A.T. Hotel               Córdoba\n",
      "                         Hnos Arregui S.A. Hotel               Córdoba\n",
      "                          Hnos Coca S.A.T. Hotel               Córdoba\n",
      "                   Industrias VKUD S.Coop. Hotel               Córdoba\n",
      "Infraestructuras Ferrando & Asociados S.A. Hotel               Córdoba\n",
      "                    Promociones SRRN S.C.P Hotel               Córdoba\n",
      "     Restauración del Mediterráneo S.Coop. Hotel               Córdoba\n",
      "               Roberto Moles Armengol S.A. Hotel               Córdoba\n",
      "                     Servicios Iberia S.L. Hotel               Córdoba\n",
      "                      Alimentación JE S.L. Hotel               Mendoza\n",
      "      Alimentación Roman & Asociados S.C.P Hotel               Mendoza\n",
      "                Ballester y asociados S.L. Hotel               Mendoza\n",
      "                             Banco DL S.L. Hotel               Mendoza\n",
      "                      Comercial YY S.Coop. Hotel               Mendoza\n",
      "              Comercializadora Camino S.A. Hotel               Mendoza\n",
      "          Comercializadora Castellana S.L. Hotel               Mendoza\n",
      "                   Compañía Avanzadas S.L. Hotel               Mendoza\n",
      "                    Cruz y Alcázar S.L.N.E Hotel               Mendoza\n",
      "                     Despacho RVZI S.L.N.E Hotel               Mendoza\n",
      "                    Dora Moreno Rius S.A.D Hotel               Mendoza\n",
      "                     Familia Portero S.C.P Hotel               Mendoza\n",
      "                   Gibert y Cazorla S.Com. Hotel               Mendoza\n",
      "                   Girón y Company S.L.N.E Hotel               Mendoza\n",
      "                           Grupo Cabo S.L. Hotel               Mendoza\n",
      "                     Grupo Torrijos S.Com. Hotel               Mendoza\n",
      "                      Grupo Valero S.Coop. Hotel               Mendoza\n",
      "                       Hermanos Aznar S.A. Hotel               Mendoza\n",
      "                           Hnos Comas S.L. Hotel               Mendoza\n",
      "                             Hotel TJ S.L. Hotel               Mendoza\n",
      "                      Inmobiliaria TR S.A. Hotel               Mendoza\n",
      "                    Inversiones VDJ S.L.U. Hotel               Mendoza\n",
      "                    Logística Alarcón S.L. Hotel               Mendoza\n",
      "                     Logística Garcés S.L. Hotel               Mendoza\n",
      "                 Manufacturas Barroso S.A. Hotel               Mendoza\n",
      "     Manufacturas Santana & Asociados S.A. Hotel               Mendoza\n",
      "           María Pilar Chacón Ramirez S.A. Hotel               Mendoza\n",
      "                  Minería Integrales S.A.D Hotel               Mendoza\n",
      "                     Promociones AYGK S.A. Hotel               Mendoza\n",
      "                 Restauración RBWO S.L.N.E Hotel               Mendoza\n",
      "            Santamaria y asociados S.Coop. Hotel               Mendoza\n",
      "                   Simó & Asociados S.L.L. Hotel               Mendoza\n",
      "        Suministros Lluch & Asociados S.A. Hotel               Mendoza\n",
      "               Supermercados Iberia S.A.T. Hotel               Mendoza\n",
      " Supermercados Requena & Asociados S.L.N.E Hotel               Mendoza\n",
      "                    Talleres Globales S.L. Hotel               Mendoza\n",
      "                   Tecnologías BQUX S.Com. Hotel               Mendoza\n",
      "                      Transportes Rey S.L. Hotel               Mendoza\n",
      "       Transportes Sancho & Asociados S.A. Hotel               Mendoza\n",
      "         Banca Privada Inteligentes S.Com. Hotel               Neuquén\n",
      "              Hotel Internacionales S.Com. Hotel               Neuquén\n",
      "                 Macaria Falcó Chaves S.A. Hotel               Neuquén\n",
      "                  Suministros Albero S.C.P Hotel               Neuquén\n",
      "      Suministros Morales y asociados S.A. Hotel               Neuquén\n",
      "             Compañía Internacionales S.L. Hotel San Miguel de Tucumán\n",
      "                  Distribuciones Gras S.A. Hotel San Miguel de Tucumán\n",
      "                    Farmaceútica MITJ S.L. Hotel San Miguel de Tucumán\n",
      "                       Minería JUG S.L.N.E Hotel San Miguel de Tucumán\n",
      "                Rosales y asociados S.Com. Hotel San Miguel de Tucumán\n",
      "                 Solana & Asociados S.Com. Hotel San Miguel de Tucumán\n",
      "                       Talleres VNL S.Com. Hotel San Miguel de Tucumán\n",
      "            Torrecilla & Asociados S.L.N.E Hotel San Miguel de Tucumán\n"
     ]
    }
   ],
   "source": [
    "nombre_base = \"clase\"\n",
    "coleccion = \"hoteles\"\n",
    "\n",
    "# Lista de destinos recomendados\n",
    "lista_destinos = destinos[\"Destino_Recomendado\"].dropna().unique().tolist()\n",
    "\n",
    "if not lista_destinos:\n",
    "    print(\"No hay destinos recomendados disponibles.\")\n",
    "else:\n",
    "    filtro = {\"ciudad\": {\"$in\": lista_destinos}}\n",
    "    proyeccion = {\"_id\": 0, \"nombre\": 1, \"ciudad\": 1, \"direccion\": 1}\n",
    "\n",
    "    # Obtener datos de Mongo y convertir a DataFrame\n",
    "    cursor = mongo.obtener_cursor(\n",
    "        nombre_base=nombre_base,\n",
    "        nombre_coleccion=coleccion,\n",
    "        filtro=filtro,\n",
    "        proyeccion=proyeccion\n",
    "    )\n",
    "\n",
    "    hoteles = pd.DataFrame(list(cursor))\n",
    "\n",
    "    if hoteles.empty:\n",
    "        print(\"No se encontraron hoteles en los destinos recomendados.\")\n",
    "    else:\n",
    "        # Ordenar por ciudad y luego por nombre de hotel\n",
    "        hoteles.sort_values(by=[\"ciudad\", \"nombre\"], inplace=True)\n",
    "        print(hoteles.to_string(index=False))\n",
    "       \n",
    "\n"
   ]
  },
  {
   "cell_type": "markdown",
   "id": "cd981b85-6d94-498b-ab79-0199ac50e662",
   "metadata": {},
   "source": [
    "## f.Ver las reservas en proceso, es decir que aún no están concretadas. "
   ]
  },
  {
   "cell_type": "code",
   "execution_count": null,
   "id": "1a5b2b66-fbc3-4027-a5eb-205fbf8f94cc",
   "metadata": {},
   "outputs": [],
   "source": []
  },
  {
   "cell_type": "markdown",
   "id": "ade67b15-bc20-439d-99a8-1eeb0b039311",
   "metadata": {},
   "source": [
    "## g. Listar los usuarios conectados actualmente. "
   ]
  },
  {
   "cell_type": "code",
   "execution_count": null,
   "id": "27ad781f-fa03-4f5f-bb8d-11e15a652d20",
   "metadata": {},
   "outputs": [],
   "source": []
  },
  {
   "cell_type": "markdown",
   "id": "e7c3ca0e-27f8-4994-884a-862a2c7ddad2",
   "metadata": {},
   "source": [
    "###### h. Mostrar los destinos con precio inferior a $100.000"
   ]
  },
  {
   "cell_type": "code",
   "execution_count": null,
   "id": "c1830ae2-8119-4540-bb8e-53442062bde9",
   "metadata": {},
   "outputs": [],
   "source": []
  },
  {
   "cell_type": "markdown",
   "id": "e9bdc948-d1aa-4cad-a6fa-754f4b8ecc19",
   "metadata": {},
   "source": [
    "## i. Mostrar todos los Hoteles de “Jujuy”."
   ]
  },
  {
   "cell_type": "code",
   "execution_count": null,
   "id": "f9fb2e9a-0b76-4ea0-abdf-ae547e2961a7",
   "metadata": {},
   "outputs": [
    {
     "name": "stdout",
     "output_type": "stream",
     "text": [
      "No se encontraron hoteles en los destinos recomendados.\n"
     ]
    }
   ],
   "source": [
    "nombre_base = \"clase\"\n",
    "coleccion = \"hoteles\"\n",
    "\n",
    "# Lista de destinos recomendados\n",
    "ciudad = [\"Jujuy\"]\n",
    "\n",
    "if not lista_destinos:\n",
    "    print(\"No hay destinos recomendados disponibles.\")\n",
    "else:\n",
    "    filtro = {\"ciudad\": {\"$in\": ciudad}}\n",
    "    proyeccion = {\"_id\": 0, \"nombre\": 1, \"ciudad\": 1, \"direccion\": 1}\n",
    "\n",
    "    # Obtener datos de Mongo y convertir a DataFrame\n",
    "    cursor = mongo.obtener_cursor(\n",
    "        nombre_base=nombre_base,\n",
    "        nombre_coleccion=coleccion,\n",
    "        filtro=filtro,\n",
    "        proyeccion=proyeccion\n",
    "    )\n",
    "\n",
    "    hoteles = pd.DataFrame(list(cursor))\n",
    "\n",
    "    if hoteles.empty:\n",
    "        print(\"No se encontraron hoteles en los destinos recomendados.\")\n",
    "    else:\n",
    "        # Ordenar por ciudad y luego por nombre de hotel\n",
    "        hoteles.sort_values(by=[\"nombre\"], inplace=True)\n",
    "        print(hoteles.to_string(index=False))\n",
    "       "
   ]
  },
  {
   "cell_type": "markdown",
   "id": "4e826afb-eff6-43c7-9a7f-f501429fadbd",
   "metadata": {},
   "source": [
    "###### j. Mostrar la cantidad de hoteles de un destino que guste. "
   ]
  },
  {
   "cell_type": "code",
   "execution_count": null,
   "id": "91d92408-4e84-4e08-a070-211e42097a1a",
   "metadata": {},
   "outputs": [
    {
     "ename": "AttributeError",
     "evalue": "module 'src.mongo' has no attribute 'contador'",
     "output_type": "error",
     "traceback": [
      "\u001b[31m---------------------------------------------------------------------------\u001b[39m",
      "\u001b[31mAttributeError\u001b[39m                            Traceback (most recent call last)",
      "\u001b[36mCell\u001b[39m\u001b[36m \u001b[39m\u001b[32mIn[110]\u001b[39m\u001b[32m, line 6\u001b[39m\n\u001b[32m      4\u001b[39m campo_calculo=\u001b[33m\"\u001b[39m\u001b[33mnombre\u001b[39m\u001b[33m\"\u001b[39m\n\u001b[32m      5\u001b[39m operacion=\u001b[33m\"\u001b[39m\u001b[33msum\u001b[39m\u001b[33m\"\u001b[39m\n\u001b[32m----> \u001b[39m\u001b[32m6\u001b[39m cursor=\u001b[43mmongo\u001b[49m\u001b[43m.\u001b[49m\u001b[43mcontador\u001b[49m(nombre_base, coleccion, agrupacion, campo_calculo, operacion)\n",
      "\u001b[31mAttributeError\u001b[39m: module 'src.mongo' has no attribute 'contador'"
     ]
    }
   ],
   "source": [
    "nombre_base = \"clase\"\n",
    "coleccion = \"hoteles\"\n",
    "agrupacion=\"destino\"\n",
    "campo_calculo=\"nombre\"\n",
    "operacion=\"sum\"\n",
    "cursor=contador(nombre_base, coleccion, agrupacion, campo_calculo, operacion)\n",
    "df=pd.DataFrame(list(cursor))\n",
    "df"
   ]
  },
  {
   "cell_type": "markdown",
   "id": "7bc48eaa-eae9-4c22-9036-ff018d34d4b7",
   "metadata": {},
   "source": [
    "###### k. Mostrar las actividades de “Ushuaia” del tipo “aventura”."
   ]
  },
  {
   "cell_type": "code",
   "execution_count": null,
   "id": "0e0cae71-3b60-466b-bcf5-a2dffb71eff3",
   "metadata": {},
   "outputs": [],
   "source": []
  },
  {
   "cell_type": "markdown",
   "id": "aba91348-5d0a-424b-b2f2-75b506b969b3",
   "metadata": {},
   "source": [
    "###### l. Mostrar la cantidad de reservas concretadas de cada usuario. Mostrar el usuario y la cantidad "
   ]
  },
  {
   "cell_type": "code",
   "execution_count": null,
   "id": "3ae312fe-53b4-4b4b-88de-5d0e12ce3b4c",
   "metadata": {},
   "outputs": [],
   "source": []
  },
  {
   "cell_type": "markdown",
   "id": "f0c3f88f-a292-4d2a-bc23-4c7053004160",
   "metadata": {},
   "source": [
    "#### Estadísticas"
   ]
  },
  {
   "cell_type": "markdown",
   "id": "b2edec22-518e-4844-8ec9-fb257dfae711",
   "metadata": {},
   "source": [
    "###### i.Destino más visitado"
   ]
  },
  {
   "cell_type": "code",
   "execution_count": null,
   "id": "fd3c30e8-6d5a-4866-997a-90b4b628b457",
   "metadata": {},
   "outputs": [],
   "source": []
  },
  {
   "cell_type": "markdown",
   "id": "b2152a43-66c6-4852-9805-dba7d5f58831",
   "metadata": {},
   "source": [
    "###### ii.Hotel más barato"
   ]
  },
  {
   "cell_type": "code",
   "execution_count": null,
   "id": "d026968b-61f6-45fb-9c32-588f34d5a28b",
   "metadata": {},
   "outputs": [],
   "source": []
  },
  {
   "cell_type": "markdown",
   "id": "34787108-84f9-4b3f-bc0a-d33309b8c2f5",
   "metadata": {},
   "source": [
    "###### iii.Actividad más popular."
   ]
  },
  {
   "cell_type": "code",
   "execution_count": null,
   "id": "ab81879e-19a5-4d5e-9d81-fc9f23e1d287",
   "metadata": {},
   "outputs": [],
   "source": []
  },
  {
   "cell_type": "markdown",
   "id": "5eae57b1-ec8b-469b-8033-8fde97d62c5a",
   "metadata": {},
   "source": [
    "#### Modificaciones"
   ]
  },
  {
   "cell_type": "markdown",
   "id": "22039522-23ad-47ac-a709-50975130084b",
   "metadata": {},
   "source": [
    "###### a.Incrementar el precio de las actividades de Tucuman en 5% "
   ]
  },
  {
   "cell_type": "code",
   "execution_count": null,
   "id": "f405f561-4830-41a9-86ec-ac44c0915338",
   "metadata": {},
   "outputs": [],
   "source": []
  },
  {
   "cell_type": "markdown",
   "id": "22a527ac-90a3-4e39-8141-44c9ce298bcd",
   "metadata": {},
   "source": [
    "###### b. Agregar al hotel id=1 el servicio de SPA "
   ]
  },
  {
   "cell_type": "code",
   "execution_count": null,
   "id": "6a4ca203-b270-4065-aee4-9cab7121cc7c",
   "metadata": {},
   "outputs": [],
   "source": []
  },
  {
   "cell_type": "markdown",
   "id": "030c6c43-2a5a-46ef-89b1-a2c30b55cd88",
   "metadata": {},
   "source": [
    "###### c. Eliminar el destino que desee"
   ]
  },
  {
   "cell_type": "code",
   "execution_count": null,
   "id": "45c2c505-b08f-4ec4-b50a-0d9760d3bc92",
   "metadata": {},
   "outputs": [],
   "source": []
  },
  {
   "cell_type": "markdown",
   "id": "2ce976cf-093e-4c08-a0f5-d3910abe2efb",
   "metadata": {},
   "source": [
    "###### d. Eliminar un usuario que desee "
   ]
  },
  {
   "cell_type": "code",
   "execution_count": null,
   "id": "c6bdaa62-84ae-4ebb-8ca3-78d6a8348d03",
   "metadata": {},
   "outputs": [],
   "source": []
  },
  {
   "cell_type": "markdown",
   "id": "21d70e0e-8ab8-445c-bbdd-6dc6dac891cc",
   "metadata": {},
   "source": [
    "###### e. Eliminar las relaciones AMIGO_DE para un usuario que quiera. "
   ]
  },
  {
   "cell_type": "code",
   "execution_count": null,
   "id": "8a3c02e7-191b-424a-ba1b-5bd2f4aa91b7",
   "metadata": {},
   "outputs": [],
   "source": []
  }
 ],
 "metadata": {
  "kernelspec": {
   "display_name": "Python 3 (ipykernel)",
   "language": "python",
   "name": "python3"
  },
  "language_info": {
   "codemirror_mode": {
    "name": "ipython",
    "version": 3
   },
   "file_extension": ".py",
   "mimetype": "text/x-python",
   "name": "python",
   "nbconvert_exporter": "python",
   "pygments_lexer": "ipython3",
   "version": "3.11.14"
  }
 },
 "nbformat": 4,
 "nbformat_minor": 5
}
