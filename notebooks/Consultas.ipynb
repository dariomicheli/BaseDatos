{
 "cells": [
  {
   "cell_type": "markdown",
   "id": "fce3fb50-092b-4392-80df-258a0450f414",
   "metadata": {},
   "source": [
    "# Consultas Integradas"
   ]
  },
  {
   "cell_type": "markdown",
   "id": "400fd7b0-612f-4d19-bcf5-f7e4020347bd",
   "metadata": {},
   "source": [
    "Este notebook tiene el fin de generar las consultas planteadas en el trabajo práctico integrador"
   ]
  },
  {
   "cell_type": "markdown",
   "id": "d03161d8-e77b-42c1-8ef9-5e692a142baa",
   "metadata": {},
   "source": [
    "#### Importo librerias"
   ]
  },
  {
   "cell_type": "code",
   "execution_count": 3,
   "id": "082c6b7a",
   "metadata": {},
   "outputs": [
    {
     "ename": "ModuleNotFoundError",
     "evalue": "No module named 'pymongo'",
     "output_type": "error",
     "traceback": [
      "\u001b[1;31m---------------------------------------------------------------------------\u001b[0m",
      "\u001b[1;31mModuleNotFoundError\u001b[0m                       Traceback (most recent call last)",
      "Cell \u001b[1;32mIn[3], line 5\u001b[0m\n\u001b[0;32m      2\u001b[0m \u001b[38;5;28;01mfrom\u001b[39;00m\u001b[38;5;250m \u001b[39m\u001b[38;5;21;01mpathlib\u001b[39;00m\u001b[38;5;250m \u001b[39m\u001b[38;5;28;01mimport\u001b[39;00m Path\n\u001b[0;32m      4\u001b[0m \u001b[38;5;28;01mimport\u001b[39;00m\u001b[38;5;250m \u001b[39m\u001b[38;5;21;01mpandas\u001b[39;00m\u001b[38;5;250m \u001b[39m\u001b[38;5;28;01mas\u001b[39;00m\u001b[38;5;250m \u001b[39m\u001b[38;5;21;01mpd\u001b[39;00m\n\u001b[1;32m----> 5\u001b[0m \u001b[38;5;28;01mfrom\u001b[39;00m\u001b[38;5;250m \u001b[39m\u001b[38;5;21;01mpymongo\u001b[39;00m\u001b[38;5;21;01m.\u001b[39;00m\u001b[38;5;21;01merrors\u001b[39;00m\u001b[38;5;250m \u001b[39m\u001b[38;5;28;01mimport\u001b[39;00m ConnectionFailure\n\u001b[0;32m      7\u001b[0m \u001b[38;5;28;01mfrom\u001b[39;00m\u001b[38;5;250m \u001b[39m\u001b[38;5;21;01mdb_connections\u001b[39;00m\u001b[38;5;250m \u001b[39m\u001b[38;5;28;01mimport\u001b[39;00m client, db_neo4j, db_redis\n\u001b[0;32m      8\u001b[0m \u001b[38;5;28;01mfrom\u001b[39;00m\u001b[38;5;250m \u001b[39m\u001b[38;5;21;01msrc\u001b[39;00m\u001b[38;5;250m \u001b[39m\u001b[38;5;28;01mimport\u001b[39;00m mongo, neo4j, utils, redis\n",
      "\u001b[1;31mModuleNotFoundError\u001b[0m: No module named 'pymongo'"
     ]
    }
   ],
   "source": [
    "import os\n",
    "from pathlib import Path\n",
    "\n",
    "import pandas as pd\n",
    "from pymongo.errors import ConnectionFailure\n",
    "\n",
    "from db_connections import client, db_neo4j, db_redis\n",
    "from src import mongo, neo4j, utils, redis"
   ]
  },
  {
   "cell_type": "code",
   "execution_count": null,
   "id": "d03acb47",
   "metadata": {},
   "outputs": [],
   "source": [
    "# =====================\n",
    "# TEST DE CONEXIONES\n",
    "# =====================\n",
    "\n",
    "#Conecto con MongoDB\n",
    "try:\n",
    "    client.admin.command(\"ping\")  # fuerza conexión al servidor\n",
    "    print(\"✅ Conexión a MongoDB verificada.\")\n",
    "except ConnectionFailure as e:\n",
    "    print(f\"❌ Falló la conexión: {type(e).__name__} - {e}\")\n",
    "\n",
    "#Conecto con Neo4j\n",
    "try:\n",
    "    db_neo4j.verify_connectivity()\n",
    "    print(\"✅ Conexión a Neo4j verificada.\")\n",
    "except Exception as e:\n",
    "    print(f\"❌ Error de conexión: {type(e).__name__} - {e}\")\n",
    "\n",
    "#Conecto con Redis\n",
    "try:\n",
    "    db_redis.ping()\n",
    "    print(\"✅ Conexión a Redis verificada.\")\n",
    "except Exception as e:\n",
    "    print(f\"❌ Error de conexión: {type(e).__name__} - {e}\")"
   ]
  },
  {
   "cell_type": "markdown",
   "id": "f37c8ea9-4542-4e3d-bf9f-a7653c247358",
   "metadata": {},
   "source": [
    "## A.Mostrar los usuarios que visitaron “Bariloche”. "
   ]
  },
  {
   "cell_type": "code",
   "execution_count": null,
   "id": "baf85df9-27c5-4a9b-8501-d2e5ada1f279",
   "metadata": {},
   "outputs": [],
   "source": [
    "query = \"\"\" \n",
    "MATCH (U:Usuario)-[:VISITO]->(D:Destino)\n",
    "WHERE D.ciudad='Mendoza'\n",
    "RETURN U.usuario_id AS id, U.nombre AS Nombre, U.apellido AS Apellido\n",
    "\"\"\"\n",
    "\n",
    "usuarios = neo4j.consulta(db_neo4j, query)\n",
    "usuarios"
   ]
  },
  {
   "cell_type": "markdown",
   "id": "8aee4bec-64dd-4b91-a4bf-b8890e15e249",
   "metadata": {},
   "source": [
    "### B.Mostrar los amigos de Juan que visitaron algún destino que visitó él, mostrar el nombre del Usuario y el destino. "
   ]
  },
  {
   "cell_type": "code",
   "execution_count": null,
   "id": "50903c86-e8e3-4bde-873f-33df0ef8d56a",
   "metadata": {},
   "outputs": [],
   "source": [
    "persona = input(\"Introduce tu nombre para saber qué lugares visitaste con tus amigos: \")\n",
    "\n",
    "query = f\"\"\"\n",
    "MATCH (u:Usuario {{nombre: '{persona}'}})-[:AMIGO_DE]-(amigo:Usuario)\n",
    "MATCH (u)-[:VISITO]->(d:Destino)<-[:VISITO]-(amigo)\n",
    "RETURN \n",
    "    amigo.nombre AS Nombre,\n",
    "    collect(DISTINCT d.ciudad) AS Destinos_Compartidos\n",
    "ORDER BY Nombre\n",
    "\"\"\"\n",
    "print(\"\\n\" + \"-\"*60)\n",
    "print(f\"AMIGOS DE {persona.upper()} QUE VISITARON LOS MISMOS DESTINOS\")\n",
    "print(\"-\"*60 + \"\\n\")\n",
    "\n",
    "usuarios = neo4j.consulta(db_neo4j, query)\n",
    "usuarios\n"
   ]
  },
  {
   "cell_type": "markdown",
   "id": "4f4d3f79-80d4-4638-9c72-1ad410d734ad",
   "metadata": {},
   "source": [
    "###### C.Sugerir destinos a un usuario que no haya visitado él ni sus amigos. "
   ]
  },
  {
   "cell_type": "markdown",
   "id": "5a7eeb09-de1d-44c0-9a89-07bfc32a6454",
   "metadata": {},
   "source": [
    "###### d. Recomendar destinos basados en viajes de amigos."
   ]
  },
  {
   "cell_type": "code",
   "execution_count": null,
   "id": "82f83e03-5562-4eda-8d44-6dd69f5c5426",
   "metadata": {},
   "outputs": [],
   "source": [
    "persona = input(\"Introduce tu nombre para saber qué lugares te recomendamos \")\n",
    "\n",
    "query = f\"\"\"\n",
    "MATCH (u:Usuario {{nombre: '{persona}'}})-[:AMIGO_DE]-(amigo:Usuario)\n",
    "MATCH (amigo)-[:VISITO]->(d:Destino)\n",
    "RETURN DISTINCT d.ciudad AS Destino_Recomendado\n",
    "ORDER BY d.ciudad\n",
    "\"\"\"\n",
    "\n",
    "print(\"\\n\" + \"-\"*60)\n",
    "print(f\"AMIGOS DE {persona.upper()} QUE VISITARON LOS MISMOS DESTINOS\")\n",
    "print(\"-\"*60 + \"\\n\")\n",
    "\n",
    "Destinos = neo4j.consulta(db_neo4j, query)\n",
    "Destinos\n"
   ]
  },
  {
   "cell_type": "markdown",
   "id": "b459bb91-40ed-4088-8e49-e54a16c93371",
   "metadata": {},
   "source": [
    "###### e. Listar los hoteles en los destinos recomendados del punto anterior. "
   ]
  },
  {
   "cell_type": "code",
   "execution_count": null,
   "id": "7b7b37ad-b85c-45d9-98db-1b057c13b1d4",
   "metadata": {},
   "outputs": [],
   "source": []
  },
  {
   "cell_type": "markdown",
   "id": "cd981b85-6d94-498b-ab79-0199ac50e662",
   "metadata": {},
   "source": [
    "###### f.Ver las reservas en proceso, es decir que aún no están concretadas. "
   ]
  },
  {
   "cell_type": "code",
   "execution_count": null,
   "id": "1a5b2b66-fbc3-4027-a5eb-205fbf8f94cc",
   "metadata": {},
   "outputs": [],
   "source": []
  },
  {
   "cell_type": "markdown",
   "id": "ade67b15-bc20-439d-99a8-1eeb0b039311",
   "metadata": {},
   "source": [
    "###### g. Listar los usuarios conectados actualmente. "
   ]
  },
  {
   "cell_type": "code",
   "execution_count": null,
   "id": "27ad781f-fa03-4f5f-bb8d-11e15a652d20",
   "metadata": {},
   "outputs": [],
   "source": []
  },
  {
   "cell_type": "markdown",
   "id": "e7c3ca0e-27f8-4994-884a-862a2c7ddad2",
   "metadata": {},
   "source": [
    "###### h. Mostrar los destinos con precio inferior a $100.000"
   ]
  },
  {
   "cell_type": "code",
   "execution_count": null,
   "id": "c1830ae2-8119-4540-bb8e-53442062bde9",
   "metadata": {},
   "outputs": [],
   "source": []
  },
  {
   "cell_type": "markdown",
   "id": "e9bdc948-d1aa-4cad-a6fa-754f4b8ecc19",
   "metadata": {},
   "source": [
    "###### i. Mostrar todos los Hoteles de “Jujuy”."
   ]
  },
  {
   "cell_type": "code",
   "execution_count": null,
   "id": "f9fb2e9a-0b76-4ea0-abdf-ae547e2961a7",
   "metadata": {},
   "outputs": [],
   "source": []
  },
  {
   "cell_type": "markdown",
   "id": "4e826afb-eff6-43c7-9a7f-f501429fadbd",
   "metadata": {},
   "source": [
    "###### j. Mostrar la cantidad de hoteles de un destino que guste. "
   ]
  },
  {
   "cell_type": "code",
   "execution_count": null,
   "id": "91d92408-4e84-4e08-a070-211e42097a1a",
   "metadata": {},
   "outputs": [],
   "source": []
  },
  {
   "cell_type": "markdown",
   "id": "7bc48eaa-eae9-4c22-9036-ff018d34d4b7",
   "metadata": {},
   "source": [
    "###### k. Mostrar las actividades de “Ushuaia” del tipo “aventura”."
   ]
  },
  {
   "cell_type": "code",
   "execution_count": null,
   "id": "0e0cae71-3b60-466b-bcf5-a2dffb71eff3",
   "metadata": {},
   "outputs": [],
   "source": []
  },
  {
   "cell_type": "markdown",
   "id": "aba91348-5d0a-424b-b2f2-75b506b969b3",
   "metadata": {},
   "source": [
    "###### l. Mostrar la cantidad de reservas concretadas de cada usuario. Mostrar el usuario y la cantidad "
   ]
  },
  {
   "cell_type": "code",
   "execution_count": null,
   "id": "3ae312fe-53b4-4b4b-88de-5d0e12ce3b4c",
   "metadata": {},
   "outputs": [],
   "source": []
  },
  {
   "cell_type": "markdown",
   "id": "f0c3f88f-a292-4d2a-bc23-4c7053004160",
   "metadata": {},
   "source": [
    "#### Estadísticas"
   ]
  },
  {
   "cell_type": "markdown",
   "id": "b2edec22-518e-4844-8ec9-fb257dfae711",
   "metadata": {},
   "source": [
    "###### i.Destino más visitado"
   ]
  },
  {
   "cell_type": "code",
   "execution_count": null,
   "id": "fd3c30e8-6d5a-4866-997a-90b4b628b457",
   "metadata": {},
   "outputs": [],
   "source": []
  },
  {
   "cell_type": "markdown",
   "id": "b2152a43-66c6-4852-9805-dba7d5f58831",
   "metadata": {},
   "source": [
    "###### ii.Hotel más barato"
   ]
  },
  {
   "cell_type": "code",
   "execution_count": null,
   "id": "d026968b-61f6-45fb-9c32-588f34d5a28b",
   "metadata": {},
   "outputs": [],
   "source": []
  },
  {
   "cell_type": "markdown",
   "id": "34787108-84f9-4b3f-bc0a-d33309b8c2f5",
   "metadata": {},
   "source": [
    "###### iii.Actividad más popular."
   ]
  },
  {
   "cell_type": "code",
   "execution_count": null,
   "id": "ab81879e-19a5-4d5e-9d81-fc9f23e1d287",
   "metadata": {},
   "outputs": [],
   "source": []
  },
  {
   "cell_type": "markdown",
   "id": "5eae57b1-ec8b-469b-8033-8fde97d62c5a",
   "metadata": {},
   "source": [
    "#### Modificaciones"
   ]
  },
  {
   "cell_type": "markdown",
   "id": "22039522-23ad-47ac-a709-50975130084b",
   "metadata": {},
   "source": [
    "###### a.Incrementar el precio de las actividades de Tucuman en 5% "
   ]
  },
  {
   "cell_type": "code",
   "execution_count": null,
   "id": "f405f561-4830-41a9-86ec-ac44c0915338",
   "metadata": {},
   "outputs": [],
   "source": []
  },
  {
   "cell_type": "markdown",
   "id": "22a527ac-90a3-4e39-8141-44c9ce298bcd",
   "metadata": {},
   "source": [
    "###### b. Agregar al hotel id=1 el servicio de SPA "
   ]
  },
  {
   "cell_type": "code",
   "execution_count": null,
   "id": "6a4ca203-b270-4065-aee4-9cab7121cc7c",
   "metadata": {},
   "outputs": [],
   "source": []
  },
  {
   "cell_type": "markdown",
   "id": "030c6c43-2a5a-46ef-89b1-a2c30b55cd88",
   "metadata": {},
   "source": [
    "###### c. Eliminar el destino que desee"
   ]
  },
  {
   "cell_type": "code",
   "execution_count": null,
   "id": "45c2c505-b08f-4ec4-b50a-0d9760d3bc92",
   "metadata": {},
   "outputs": [],
   "source": []
  },
  {
   "cell_type": "markdown",
   "id": "2ce976cf-093e-4c08-a0f5-d3910abe2efb",
   "metadata": {},
   "source": [
    "###### d. Eliminar un usuario que desee "
   ]
  },
  {
   "cell_type": "code",
   "execution_count": null,
   "id": "c6bdaa62-84ae-4ebb-8ca3-78d6a8348d03",
   "metadata": {},
   "outputs": [],
   "source": []
  },
  {
   "cell_type": "markdown",
   "id": "21d70e0e-8ab8-445c-bbdd-6dc6dac891cc",
   "metadata": {},
   "source": [
    "###### e. Eliminar las relaciones AMIGO_DE para un usuario que quiera. "
   ]
  },
  {
   "cell_type": "code",
   "execution_count": null,
   "id": "8a3c02e7-191b-424a-ba1b-5bd2f4aa91b7",
   "metadata": {},
   "outputs": [],
   "source": []
  }
 ],
 "metadata": {
  "kernelspec": {
   "display_name": "Python 3",
   "language": "python",
   "name": "python3"
  },
  "language_info": {
   "codemirror_mode": {
    "name": "ipython",
    "version": 3
   },
   "file_extension": ".py",
   "mimetype": "text/x-python",
   "name": "python",
   "nbconvert_exporter": "python",
   "pygments_lexer": "ipython3",
   "version": "3.12.9"
  }
 },
 "nbformat": 4,
 "nbformat_minor": 5
}
