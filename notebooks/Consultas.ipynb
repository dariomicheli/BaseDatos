{
 "cells": [
  {
   "cell_type": "markdown",
   "id": "fce3fb50-092b-4392-80df-258a0450f414",
   "metadata": {},
   "source": [
    "# Consultas Integradas"
   ]
  },
  {
   "cell_type": "markdown",
   "id": "400fd7b0-612f-4d19-bcf5-f7e4020347bd",
   "metadata": {},
   "source": [
    "Este notebook tiene el fin de generar las consultas planteadas en el trabajo práctico integrador"
   ]
  },
  {
   "cell_type": "markdown",
   "id": "d03161d8-e77b-42c1-8ef9-5e692a142baa",
   "metadata": {},
   "source": [
    "#### Importo librerias"
   ]
  },
  {
   "cell_type": "code",
   "execution_count": 9,
   "id": "d0ae8dc4",
   "metadata": {},
   "outputs": [
    {
     "name": "stdout",
     "output_type": "stream",
     "text": [
      "The autoreload extension is already loaded. To reload it, use:\n",
      "  %reload_ext autoreload\n"
     ]
    }
   ],
   "source": [
    "# Limpia todas las variables existentes\n",
    "%reset -f\n",
    "\n",
    "# Habilita autoreload para recargar automáticamente todos los módulos\n",
    "%load_ext autoreload\n",
    "%autoreload 2"
   ]
  },
  {
   "cell_type": "code",
   "execution_count": 44,
   "id": "082c6b7a",
   "metadata": {},
   "outputs": [],
   "source": [
    "import os\n",
    "from pathlib import Path\n",
    "import pandas as pd\n",
    "from pymongo.errors import ConnectionFailure\n",
    "from db_connections import client, db_neo4j, db_redis\n",
    "from src import mongo, neo4j, utils, redis\n",
    "from IPython.display import display"
   ]
  },
  {
   "cell_type": "code",
   "execution_count": 11,
   "id": "d03acb47",
   "metadata": {},
   "outputs": [
    {
     "name": "stdout",
     "output_type": "stream",
     "text": [
      "✅ Conexión a MongoDB verificada.\n",
      "✅ Conexión a Neo4j verificada.\n",
      "✅ Conexión a Redis verificada.\n"
     ]
    }
   ],
   "source": [
    "# =====================\n",
    "# TEST DE CONEXIONES\n",
    "# =====================\n",
    "\n",
    "#Conecto con MongoDB\n",
    "try:\n",
    "    client.admin.command(\"ping\")  # fuerza conexión al servidor\n",
    "    print(\"✅ Conexión a MongoDB verificada.\")\n",
    "except ConnectionFailure as e:\n",
    "    print(f\"❌ Falló la conexión: {type(e).__name__} - {e}\")\n",
    "\n",
    "#Conecto con Neo4j\n",
    "try:\n",
    "    db_neo4j.verify_connectivity()\n",
    "    print(\"✅ Conexión a Neo4j verificada.\")\n",
    "except Exception as e:\n",
    "    print(f\"❌ Error de conexión: {type(e).__name__} - {e}\")\n",
    "\n",
    "#Conecto con Redis\n",
    "try:\n",
    "    db_redis.ping()\n",
    "    print(\"✅ Conexión a Redis verificada.\")\n",
    "except Exception as e:\n",
    "    print(f\"❌ Error de conexión: {type(e).__name__} - {e}\")"
   ]
  },
  {
   "cell_type": "markdown",
   "id": "f37c8ea9-4542-4e3d-bf9f-a7653c247358",
   "metadata": {},
   "source": [
    "### A.Mostrar los usuarios que visitaron “Bariloche”. "
   ]
  },
  {
   "cell_type": "code",
   "execution_count": 4,
   "id": "baf85df9-27c5-4a9b-8501-d2e5ada1f279",
   "metadata": {
    "scrolled": true
   },
   "outputs": [
    {
     "data": {
      "text/html": [
       "<div>\n",
       "<style scoped>\n",
       "    .dataframe tbody tr th:only-of-type {\n",
       "        vertical-align: middle;\n",
       "    }\n",
       "\n",
       "    .dataframe tbody tr th {\n",
       "        vertical-align: top;\n",
       "    }\n",
       "\n",
       "    .dataframe thead th {\n",
       "        text-align: right;\n",
       "    }\n",
       "</style>\n",
       "<table border=\"1\" class=\"dataframe\">\n",
       "  <thead>\n",
       "    <tr style=\"text-align: right;\">\n",
       "      <th></th>\n",
       "      <th>id</th>\n",
       "      <th>Nombre</th>\n",
       "      <th>Apellido</th>\n",
       "    </tr>\n",
       "  </thead>\n",
       "  <tbody>\n",
       "    <tr>\n",
       "      <th>0</th>\n",
       "      <td>25</td>\n",
       "      <td>Agapito</td>\n",
       "      <td>Sedano</td>\n",
       "    </tr>\n",
       "    <tr>\n",
       "      <th>1</th>\n",
       "      <td>45</td>\n",
       "      <td>Candela</td>\n",
       "      <td>Solano</td>\n",
       "    </tr>\n",
       "    <tr>\n",
       "      <th>2</th>\n",
       "      <td>53</td>\n",
       "      <td>Ovidio</td>\n",
       "      <td>Romero</td>\n",
       "    </tr>\n",
       "    <tr>\n",
       "      <th>3</th>\n",
       "      <td>48</td>\n",
       "      <td>Fernanda</td>\n",
       "      <td>Romero</td>\n",
       "    </tr>\n",
       "    <tr>\n",
       "      <th>4</th>\n",
       "      <td>42</td>\n",
       "      <td>Eliseo</td>\n",
       "      <td>Sobrino</td>\n",
       "    </tr>\n",
       "  </tbody>\n",
       "</table>\n",
       "</div>"
      ],
      "text/plain": [
       "   id    Nombre Apellido\n",
       "0  25   Agapito   Sedano\n",
       "1  45   Candela   Solano\n",
       "2  53    Ovidio   Romero\n",
       "3  48  Fernanda   Romero\n",
       "4  42    Eliseo  Sobrino"
      ]
     },
     "execution_count": 4,
     "metadata": {},
     "output_type": "execute_result"
    }
   ],
   "source": [
    "query = \"\"\" \n",
    "MATCH (U:Usuario)-[:VISITO]->(D:Destino)\n",
    "WHERE D.ciudad='La Plata'\n",
    "RETURN DISTINCT U.usuario_id AS id, U.nombre AS Nombre, U.apellido AS Apellido\n",
    "\"\"\"\n",
    "\n",
    "usuarios = neo4j.consulta(db_neo4j, query)\n",
    "usuarios"
   ]
  },
  {
   "cell_type": "markdown",
   "id": "8aee4bec-64dd-4b91-a4bf-b8890e15e249",
   "metadata": {},
   "source": [
    "### B.Mostrar los amigos de Juan que visitaron algún destino que visitó él, mostrar el nombre del Usuario y el destino. "
   ]
  },
  {
   "cell_type": "code",
   "execution_count": 5,
   "id": "50903c86-e8e3-4bde-873f-33df0ef8d56a",
   "metadata": {},
   "outputs": [
    {
     "name": "stdout",
     "output_type": "stream",
     "text": [
      "Introduce tu nombre para saber qué lugares visitaste con tus amigos:  Candela\n"
     ]
    },
    {
     "name": "stdout",
     "output_type": "stream",
     "text": [
      "\n",
      "------------------------------------------------------------\n",
      "CANDELA TUS AMIGOS VISITARON ESTOS MISMOS DESTINOS QUE TÚ\n",
      "------------------------------------------------------------\n",
      "\n",
      "     Nombre                               Destinos_Compartidos\n",
      "0    Carmen        [San Martín de los Andes, Neuquén, Formosa]\n",
      "1      Lino        [El Calafate, Posadas, Formosa, Río Cuarto]\n",
      "2  Maricela                 [San Martín de los Andes, Posadas]\n",
      "3    Poncio   [El Calafate, San Salvador de Jujuy, Río Cuarto]\n",
      "4    Sabina                                          [Neuquén]\n",
      "5  Trinidad                        [Neuquén, Posadas, Formosa]\n",
      "6     Óscar  [San Martín de los Andes, San Salvador de Juju...\n"
     ]
    }
   ],
   "source": [
    "import pandas as pd\n",
    "\n",
    "# Pedimos el nombre del usuario\n",
    "nombre_usuario = input(\"Introduce tu nombre para saber qué lugares visitaste con tus amigos: \")\n",
    "\n",
    "# Query Cypher corregida: el parámetro se llama $nombre\n",
    "query = \"\"\"\n",
    "MATCH (u:Usuario {nombre: $nombre})-[:AMIGO_DE]-(amigo:Usuario)\n",
    "MATCH (u)-[:VISITO]->(d:Destino)<-[:VISITO]-(amigo)\n",
    "RETURN \n",
    "    amigo.nombre AS Nombre,\n",
    "    collect(DISTINCT d.ciudad) AS Destinos_Compartidos\n",
    "ORDER BY Nombre\n",
    "\"\"\"\n",
    "\n",
    "# Mensaje de encabezado\n",
    "print(\"\\n\" + \"-\"*60)\n",
    "print(f\"{nombre_usuario.upper()} TUS AMIGOS VISITARON ESTOS MISMOS DESTINOS QUE TÚ\")\n",
    "print(\"-\"*60 + \"\\n\")\n",
    "\n",
    "# Ejecutamos la consulta usando la función consulta() que devuelve un DataFrame\n",
    "usuarios = neo4j.consulta(db_neo4j, query, parametros={\"nombre\": nombre_usuario})\n",
    "\n",
    "# Mostramos el resultado\n",
    "if usuarios.empty:\n",
    "    print(\"No se encontraron amigos que hayan visitado los mismos destinos.\")\n",
    "else:\n",
    "    print(usuarios)\n"
   ]
  },
  {
   "cell_type": "markdown",
   "id": "4f4d3f79-80d4-4638-9c72-1ad410d734ad",
   "metadata": {},
   "source": [
    "### C. Sugerir destinos a un usuario que no haya visitado él ni sus amigos. "
   ]
  },
  {
   "cell_type": "code",
   "execution_count": 6,
   "id": "4ac69eb1",
   "metadata": {},
   "outputs": [
    {
     "name": "stdout",
     "output_type": "stream",
     "text": [
      "Introduce tu nombre para saber qué lugares nuevos que no visitaste ni tu ni tus amigos:  Candela\n"
     ]
    },
    {
     "name": "stdout",
     "output_type": "stream",
     "text": [
      "\n",
      "------------------------------------------------------------\n",
      "DESTINOS NUEVOS PARA CANDELA Y SUS AMIGOS\n",
      "------------------------------------------------------------\n",
      "\n",
      "- La Rioja\n",
      "- Santa Rosa\n",
      "- Villa Carlos Paz\n"
     ]
    }
   ],
   "source": [
    "nombre_usuario = input(\"Introduce tu nombre para saber qué lugares nuevos que no visitaste ni tu ni tus amigos: \")\n",
    "\n",
    "query = \"\"\"\n",
    "MATCH (d:Destino)\n",
    "WHERE \n",
    "NOT EXISTS {MATCH (d)<-[:VISITO]-(u:Usuario {nombre: $nombre})}\n",
    "AND \n",
    "NOT EXISTS {MATCH (d)<-[:VISITO]-(:Usuario)-[:AMIGO_DE]-(:Usuario {nombre: $nombre})}\n",
    "RETURN DISTINCT d.ciudad AS Destinos_No_Visitados\n",
    "ORDER BY d.ciudad\n",
    "\"\"\"\n",
    "\n",
    "print(\"\\n\" + \"-\"*60)\n",
    "print(f\"DESTINOS NUEVOS PARA {nombre_usuario.upper()} Y SUS AMIGOS\")\n",
    "print(\"-\"*60 + \"\\n\")\n",
    "\n",
    "destinos = neo4j.consulta(db_neo4j, query, parametros={\"nombre\": nombre_usuario})\n",
    "\n",
    "if destinos.empty:\n",
    "    print(\"No hay destinos nuevos disponibles.\")\n",
    "else:\n",
    "    # Mostrar cada destino en lista\n",
    "    for d in destinos['Destinos_No_Visitados']:\n",
    "        print(f\"- {d}\")\n",
    "\n"
   ]
  },
  {
   "cell_type": "markdown",
   "id": "5a7eeb09-de1d-44c0-9a89-07bfc32a6454",
   "metadata": {},
   "source": [
    "### d. Recomendar destinos basados en viajes de amigos."
   ]
  },
  {
   "cell_type": "code",
   "execution_count": 7,
   "id": "82f83e03-5562-4eda-8d44-6dd69f5c5426",
   "metadata": {},
   "outputs": [
    {
     "name": "stdout",
     "output_type": "stream",
     "text": [
      "Introduce tu nombre para saber qué lugares te recomendamos:  Candela\n"
     ]
    },
    {
     "name": "stdout",
     "output_type": "stream",
     "text": [
      "\n",
      "------------------------------------------------------------\n",
      "RECOMENDACIONES PARA CANDELA EN FUNCIÓN DE SUS AMIGOS\n",
      "------------------------------------------------------------\n",
      "\n",
      "- Bariloche\n",
      "- CABA\n",
      "- Chilecito\n",
      "- Concordia\n",
      "- Corrientes\n",
      "- Córdoba\n",
      "- Gualeguaychú\n",
      "- Iguazú\n",
      "- Mar del Plata\n",
      "- Mendoza\n",
      "- Merlo\n",
      "- Paraná\n",
      "- Puerto Madryn\n",
      "- Resistencia\n",
      "- Rosario\n",
      "- Salta\n",
      "- San Fernando\n",
      "- San Juan\n",
      "- San Luis\n",
      "- San Miguel de Tucumán\n",
      "- San Rafael\n",
      "- Santa Fe\n",
      "- Santiago del Estero\n",
      "- Ushuaia\n",
      "- Viedma\n"
     ]
    }
   ],
   "source": [
    "nombre_usuario = input(\"Introduce tu nombre para saber qué lugares te recomendamos: \")\n",
    "\n",
    "query = \"\"\"\n",
    "MATCH (u:Usuario {nombre:$nombre})-[:AMIGO_DE]-(amigo:Usuario)\n",
    "MATCH (amigo)-[:VISITO]->(d:Destino)\n",
    "WHERE NOT (u)-[:VISITO]->(d)   \n",
    "RETURN DISTINCT d.ciudad AS Destino_Recomendado\n",
    "ORDER BY d.ciudad\n",
    "\"\"\"\n",
    "\n",
    "print(\"\\n\" + \"-\"*60)\n",
    "print(f\"RECOMENDACIONES PARA {nombre_usuario.upper()} EN FUNCIÓN DE SUS AMIGOS\")\n",
    "print(\"-\"*60 + \"\\n\")\n",
    "\n",
    "destinos = neo4j.consulta(db_neo4j, query, parametros={\"nombre\": nombre_usuario})\n",
    "\n",
    "if destinos.empty:\n",
    "    print(\"No hay destinos recomendados nuevos para vos.\")\n",
    "else:\n",
    "    for d in destinos['Destino_Recomendado']:\n",
    "        print(f\"- {d}\")\n"
   ]
  },
  {
   "cell_type": "markdown",
   "id": "b459bb91-40ed-4088-8e49-e54a16c93371",
   "metadata": {},
   "source": [
    "### e. Listar los hoteles en los destinos recomendados del punto anterior. "
   ]
  },
  {
   "cell_type": "code",
   "execution_count": 8,
   "id": "7b7b37ad-b85c-45d9-98db-1b057c13b1d4",
   "metadata": {},
   "outputs": [
    {
     "name": "stdout",
     "output_type": "stream",
     "text": [
      "                                      nombre                ciudad\n",
      "         Banca Privada Castellana S.L. Hotel             Bariloche\n",
      "            Consultoría del Norte S.A. Hotel             Bariloche\n",
      "               Gaya y asociados S.Com. Hotel             Bariloche\n",
      "             Palmer & Asociados S.Com. Hotel             Bariloche\n",
      "          Promociones Españolas S.L.U. Hotel             Bariloche\n",
      "               Gonzalez y Yáñez S.Com. Hotel                  CABA\n",
      "          Manuel Romeu Mayoral S.Coop. Hotel                  CABA\n",
      "              Distribuciones Díez S.A. Hotel             Chilecito\n",
      "         Hernando y Valenciano S.L.N.E Hotel             Chilecito\n",
      "                      Hotel Serra S.L. Hotel             Chilecito\n",
      "         José Mari Agustí Sola S.L.N.E Hotel             Chilecito\n",
      "        Comercializadora Llorente S.L. Hotel             Concordia\n",
      "                Hermanos Martín S.L.L. Hotel             Concordia\n",
      "                    Nieto y Vera S.C.P Hotel             Concordia\n",
      "         Inmobiliaria Globales S.L.N.E Hotel            Corrientes\n",
      "             Silvia Tormo Carrión S.A. Hotel            Corrientes\n",
      "                  Hermanos Arjona S.L. Hotel               Córdoba\n",
      "               Ibáñez & Asociados S.A. Hotel               Córdoba\n",
      "        Jennifer Mateu Quevedo S.L.N.E Hotel               Córdoba\n",
      "              Tecnologías Villena S.L. Hotel               Córdoba\n",
      "           Urbano Bernat Ariño S.L.N.E Hotel               Córdoba\n",
      "          Fabregat & Asociados S.Coop. Hotel          Gualeguaychú\n",
      "            Julieta Piquer Polo S.L.U. Hotel          Gualeguaychú\n",
      "           Márquez y asociados S.Coop. Hotel          Gualeguaychú\n",
      "           Rosenda Comas Salom S.Coop. Hotel          Gualeguaychú\n",
      "          Soluciones Castellana S.Com. Hotel          Gualeguaychú\n",
      "  Tecnologías Marquez y asociados S.L. Hotel                Iguazú\n",
      "              Valls y asociados S.L.L. Hotel                Iguazú\n",
      "  Compañía Hurtado & Asociados S.Coop. Hotel         Mar del Plata\n",
      "              Danilo Bas Pérez S.Coop. Hotel         Mar del Plata\n",
      "                  Grupo Company S.L.L. Hotel         Mar del Plata\n",
      "         Comercializadora Sala S.L.N.E Hotel               Mendoza\n",
      " Suministros Ibáñez y asociados S.L.L. Hotel               Mendoza\n",
      "                 Desarrollo GEL S.Com. Hotel                 Merlo\n",
      "               Buendía y Gomila S.L.U. Hotel                Paraná\n",
      "   Distribuciones Inteligentes S.Coop. Hotel                Paraná\n",
      " Inmobiliaria Ribes y asociados S.L.U. Hotel                Paraná\n",
      "              Talleres Globales S.Com. Hotel                Paraná\n",
      "                   Talleres HI S.L.N.E Hotel                Paraná\n",
      "               Inversiones Malo S.Com. Hotel         Puerto Madryn\n",
      "            Calisto Guillen Lamas S.L. Hotel           Resistencia\n",
      "            Inmobiliaria Cisneros S.A. Hotel           Resistencia\n",
      "         Suministros Españolas S.Coop. Hotel           Resistencia\n",
      "               Aznar y Maestre S.Coop. Hotel               Rosario\n",
      "              Calleja & Asociados S.A. Hotel               Rosario\n",
      "           Cardona y asociados S.Coop. Hotel               Rosario\n",
      "          Jacobo Campoy Ordóñez S.L.L. Hotel               Rosario\n",
      "             Alcázar & Asociados S.C.P Hotel                 Salta\n",
      "                Banca Privada AP S.A.U Hotel                 Salta\n",
      "              Soluciones Zorrilla S.A. Hotel                 Salta\n",
      "               Tecnologías OAF S.Coop. Hotel                 Salta\n",
      "      Compañía Crespo & Asociados S.A. Hotel          San Fernando\n",
      "             Distribuciones VJ S.Coop. Hotel          San Fernando\n",
      "                  Familia Galiano S.L. Hotel          San Fernando\n",
      "                  Grupo Maldonado S.L. Hotel          San Fernando\n",
      "                Campoy y Trujillo S.L. Hotel              San Juan\n",
      "                 Familia Tejero S.L.L. Hotel              San Juan\n",
      "                  Hermanos Sedano S.L. Hotel              San Juan\n",
      "Candelario Berrocal Montserrat S.Coop. Hotel              San Luis\n",
      "          Ballesteros y Aguilera S.A.D Hotel San Miguel de Tucumán\n",
      "   Transportes Águila y asociados S.A. Hotel San Miguel de Tucumán\n",
      " Banca Privada Priego y asociados S.A. Hotel            San Rafael\n",
      "              Palomar y Marqués S.L.U. Hotel            San Rafael\n",
      "             Restauración del Sur S.A. Hotel            San Rafael\n",
      "                     Amo y Lastra S.A. Hotel              Santa Fe\n",
      "                Familia Garrido S.Com. Hotel              Santa Fe\n",
      "  Inversiones Nicolás y asociados S.A. Hotel              Santa Fe\n",
      "                  Servicios Baños S.A. Hotel              Santa Fe\n",
      "             Blazquez & Asociados S.A. Hotel   Santiago del Estero\n",
      "                  Familia Lladó S.Com. Hotel   Santiago del Estero\n",
      "           Néstor Criado Pelayo S.Com. Hotel   Santiago del Estero\n",
      "           Torralba y Salamanca S.Com. Hotel   Santiago del Estero\n",
      "        Consultoría del Levante S.Com. Hotel               Ushuaia\n",
      "             Alimentación Lluch S.L.L. Hotel                Viedma\n",
      "               Desarrollo Ibérica S.A. Hotel                Viedma\n",
      "               Desarrollo Iglesia S.L. Hotel                Viedma\n",
      "               Fábrica Ibéricos S.Com. Hotel                Viedma\n"
     ]
    }
   ],
   "source": [
    "nombre_base = \"clase\"\n",
    "coleccion = \"hoteles\"\n",
    "\n",
    "# Lista de destinos recomendados\n",
    "lista_destinos = destinos[\"Destino_Recomendado\"].dropna().unique().tolist()\n",
    "\n",
    "if not lista_destinos:\n",
    "    print(\"No hay destinos recomendados disponibles.\")\n",
    "else:\n",
    "    filtro = {\"ciudad\": {\"$in\": lista_destinos}}\n",
    "    proyeccion = {\"_id\": 0, \"nombre\": 1, \"ciudad\": 1, \"direccion\": 1}\n",
    "\n",
    "    # Obtener datos de Mongo y convertir a DataFrame\n",
    "    cursor = mongo.obtener_cursor(\n",
    "        nombre_base=nombre_base,\n",
    "        nombre_coleccion=coleccion,\n",
    "        filtro=filtro,\n",
    "        proyeccion=proyeccion\n",
    "    )\n",
    "\n",
    "    hoteles = pd.DataFrame(list(cursor))\n",
    "\n",
    "    if hoteles.empty:\n",
    "        print(\"No se encontraron hoteles en los destinos recomendados.\")\n",
    "    else:\n",
    "        # Ordenar por ciudad y luego por nombre de hotel\n",
    "        hoteles.sort_values(by=[\"ciudad\", \"nombre\"], inplace=True)\n",
    "        print(hoteles.to_string(index=False))\n",
    "       \n",
    "\n"
   ]
  },
  {
   "cell_type": "markdown",
   "id": "cd981b85-6d94-498b-ab79-0199ac50e662",
   "metadata": {},
   "source": [
    "### f. Ver las reservas en proceso, es decir que aún no están concretadas. "
   ]
  },
  {
   "cell_type": "code",
   "execution_count": 14,
   "id": "1a5b2b66-fbc3-4027-a5eb-205fbf8f94cc",
   "metadata": {},
   "outputs": [
    {
     "name": "stdout",
     "output_type": "stream",
     "text": [
      "Cantidad de reservas temporales 0\n",
      "\n"
     ]
    }
   ],
   "source": [
    "claves = db_redis.keys(\"reserva_temp:*\")\n",
    "print(f\"Cantidad de reservas en proceso {len(claves)}\\n\")\n",
    "\n",
    "if claves:\n",
    "    cantidad = int(input (\"¿Cuántas se desean listar?\"))\n",
    "    print(f\"Se imprimen las primeras {cantidad}:\")\n",
    "    for clave in claves[:cantidad]:\n",
    "        datos = db_redis.hgetall(clave)\n",
    "        tiempo_restante = db_redis.ttl(clave)\n",
    "        print(f\"{clave}: {datos} | TTL: {tiempo_restante} segundos\")"
   ]
  },
  {
   "cell_type": "markdown",
   "id": "ade67b15-bc20-439d-99a8-1eeb0b039311",
   "metadata": {},
   "source": [
    "### g. Listar los usuarios conectados actualmente. "
   ]
  },
  {
   "cell_type": "code",
   "execution_count": 48,
   "id": "27ad781f-fa03-4f5f-bb8d-11e15a652d20",
   "metadata": {},
   "outputs": [
    {
     "name": "stdout",
     "output_type": "stream",
     "text": [
      "Cantidad de usuarios conectados 0\n",
      "\n"
     ]
    }
   ],
   "source": [
    "claves = db_redis.keys(\"usuario:*:sesion\")\n",
    "print(f\"Cantidad de usuarios conectados {len(claves)}\\n\")\n",
    "\n",
    "if claves:\n",
    "    print(\"Usuarios:\")\n",
    "    for clave in claves:\n",
    "        usuario_id = clave.split(\":\")[1]\n",
    "        estado = db_redis.get(clave)\n",
    "        tiempo_restante = db_redis.ttl(clave)\n",
    "        print(f\"Usuario {usuario_id} → sesión: {estado} | TTL: {tiempo_restante} segundos\")"
   ]
  },
  {
   "cell_type": "markdown",
   "id": "e7c3ca0e-27f8-4994-884a-862a2c7ddad2",
   "metadata": {},
   "source": [
    "### h. Mostrar los destinos con precio inferior a $100.000"
   ]
  },
  {
   "cell_type": "code",
   "execution_count": 97,
   "id": "c1830ae2-8119-4540-bb8e-53442062bde9",
   "metadata": {},
   "outputs": [
    {
     "name": "stdout",
     "output_type": "stream",
     "text": [
      "Consulta hecha en Mongo\n"
     ]
    },
    {
     "data": {
      "text/html": [
       "<style type=\"text/css\">\n",
       "</style>\n",
       "<table id=\"T_ec391\">\n",
       "  <thead>\n",
       "    <tr>\n",
       "      <th id=\"T_ec391_level0_col0\" class=\"col_heading level0 col0\" >destino_id</th>\n",
       "      <th id=\"T_ec391_level0_col1\" class=\"col_heading level0 col1\" >provincia</th>\n",
       "      <th id=\"T_ec391_level0_col2\" class=\"col_heading level0 col2\" >ciudad</th>\n",
       "      <th id=\"T_ec391_level0_col3\" class=\"col_heading level0 col3\" >pais</th>\n",
       "      <th id=\"T_ec391_level0_col4\" class=\"col_heading level0 col4\" >tipo</th>\n",
       "      <th id=\"T_ec391_level0_col5\" class=\"col_heading level0 col5\" >precio_promedio</th>\n",
       "    </tr>\n",
       "  </thead>\n",
       "  <tbody>\n",
       "    <tr>\n",
       "      <td id=\"T_ec391_row0_col0\" class=\"data row0 col0\" >1</td>\n",
       "      <td id=\"T_ec391_row0_col1\" class=\"data row0 col1\" >Buenos Aires</td>\n",
       "      <td id=\"T_ec391_row0_col2\" class=\"data row0 col2\" >La Plata</td>\n",
       "      <td id=\"T_ec391_row0_col3\" class=\"data row0 col3\" >Argentina</td>\n",
       "      <td id=\"T_ec391_row0_col4\" class=\"data row0 col4\" >Cultural</td>\n",
       "      <td id=\"T_ec391_row0_col5\" class=\"data row0 col5\" >56556</td>\n",
       "    </tr>\n",
       "    <tr>\n",
       "      <td id=\"T_ec391_row1_col0\" class=\"data row1 col0\" >3</td>\n",
       "      <td id=\"T_ec391_row1_col1\" class=\"data row1 col1\" >Ciudad Autónoma de Buenos Aires</td>\n",
       "      <td id=\"T_ec391_row1_col2\" class=\"data row1 col2\" >CABA</td>\n",
       "      <td id=\"T_ec391_row1_col3\" class=\"data row1 col3\" >Argentina</td>\n",
       "      <td id=\"T_ec391_row1_col4\" class=\"data row1 col4\" >Playa</td>\n",
       "      <td id=\"T_ec391_row1_col5\" class=\"data row1 col5\" >86579</td>\n",
       "    </tr>\n",
       "    <tr>\n",
       "      <td id=\"T_ec391_row2_col0\" class=\"data row2 col0\" >6</td>\n",
       "      <td id=\"T_ec391_row2_col1\" class=\"data row2 col1\" >Chubut</td>\n",
       "      <td id=\"T_ec391_row2_col2\" class=\"data row2 col2\" >Puerto Madryn</td>\n",
       "      <td id=\"T_ec391_row2_col3\" class=\"data row2 col3\" >Argentina</td>\n",
       "      <td id=\"T_ec391_row2_col4\" class=\"data row2 col4\" >Cultural</td>\n",
       "      <td id=\"T_ec391_row2_col5\" class=\"data row2 col5\" >57811</td>\n",
       "    </tr>\n",
       "    <tr>\n",
       "      <td id=\"T_ec391_row3_col0\" class=\"data row3 col0\" >9</td>\n",
       "      <td id=\"T_ec391_row3_col1\" class=\"data row3 col1\" >Córdoba</td>\n",
       "      <td id=\"T_ec391_row3_col2\" class=\"data row3 col2\" >Río Cuarto</td>\n",
       "      <td id=\"T_ec391_row3_col3\" class=\"data row3 col3\" >Argentina</td>\n",
       "      <td id=\"T_ec391_row3_col4\" class=\"data row3 col4\" >Relax</td>\n",
       "      <td id=\"T_ec391_row3_col5\" class=\"data row3 col5\" >56956</td>\n",
       "    </tr>\n",
       "    <tr>\n",
       "      <td id=\"T_ec391_row4_col0\" class=\"data row4 col0\" >14</td>\n",
       "      <td id=\"T_ec391_row4_col1\" class=\"data row4 col1\" >Formosa</td>\n",
       "      <td id=\"T_ec391_row4_col2\" class=\"data row4 col2\" >Formosa</td>\n",
       "      <td id=\"T_ec391_row4_col3\" class=\"data row4 col3\" >Argentina</td>\n",
       "      <td id=\"T_ec391_row4_col4\" class=\"data row4 col4\" >Cultural</td>\n",
       "      <td id=\"T_ec391_row4_col5\" class=\"data row4 col5\" >91853</td>\n",
       "    </tr>\n",
       "    <tr>\n",
       "      <td id=\"T_ec391_row5_col0\" class=\"data row5 col0\" >16</td>\n",
       "      <td id=\"T_ec391_row5_col1\" class=\"data row5 col1\" >La Pampa</td>\n",
       "      <td id=\"T_ec391_row5_col2\" class=\"data row5 col2\" >Santa Rosa</td>\n",
       "      <td id=\"T_ec391_row5_col3\" class=\"data row5 col3\" >Argentina</td>\n",
       "      <td id=\"T_ec391_row5_col4\" class=\"data row5 col4\" >Montaña</td>\n",
       "      <td id=\"T_ec391_row5_col5\" class=\"data row5 col5\" >90758</td>\n",
       "    </tr>\n",
       "    <tr>\n",
       "      <td id=\"T_ec391_row6_col0\" class=\"data row6 col0\" >18</td>\n",
       "      <td id=\"T_ec391_row6_col1\" class=\"data row6 col1\" >La Rioja</td>\n",
       "      <td id=\"T_ec391_row6_col2\" class=\"data row6 col2\" >Chilecito</td>\n",
       "      <td id=\"T_ec391_row6_col3\" class=\"data row6 col3\" >Argentina</td>\n",
       "      <td id=\"T_ec391_row6_col4\" class=\"data row6 col4\" >Cultural</td>\n",
       "      <td id=\"T_ec391_row6_col5\" class=\"data row6 col5\" >74312</td>\n",
       "    </tr>\n",
       "    <tr>\n",
       "      <td id=\"T_ec391_row7_col0\" class=\"data row7 col0\" >19</td>\n",
       "      <td id=\"T_ec391_row7_col1\" class=\"data row7 col1\" >Mendoza</td>\n",
       "      <td id=\"T_ec391_row7_col2\" class=\"data row7 col2\" >Mendoza</td>\n",
       "      <td id=\"T_ec391_row7_col3\" class=\"data row7 col3\" >Argentina</td>\n",
       "      <td id=\"T_ec391_row7_col4\" class=\"data row7 col4\" >Aventura</td>\n",
       "      <td id=\"T_ec391_row7_col5\" class=\"data row7 col5\" >75353</td>\n",
       "    </tr>\n",
       "    <tr>\n",
       "      <td id=\"T_ec391_row8_col0\" class=\"data row8 col0\" >23</td>\n",
       "      <td id=\"T_ec391_row8_col1\" class=\"data row8 col1\" >Neuquén</td>\n",
       "      <td id=\"T_ec391_row8_col2\" class=\"data row8 col2\" >Neuquén</td>\n",
       "      <td id=\"T_ec391_row8_col3\" class=\"data row8 col3\" >Argentina</td>\n",
       "      <td id=\"T_ec391_row8_col4\" class=\"data row8 col4\" >Relax</td>\n",
       "      <td id=\"T_ec391_row8_col5\" class=\"data row8 col5\" >82722</td>\n",
       "    </tr>\n",
       "    <tr>\n",
       "      <td id=\"T_ec391_row9_col0\" class=\"data row9 col0\" >24</td>\n",
       "      <td id=\"T_ec391_row9_col1\" class=\"data row9 col1\" >Neuquén</td>\n",
       "      <td id=\"T_ec391_row9_col2\" class=\"data row9 col2\" >San Martín de los Andes</td>\n",
       "      <td id=\"T_ec391_row9_col3\" class=\"data row9 col3\" >Argentina</td>\n",
       "      <td id=\"T_ec391_row9_col4\" class=\"data row9 col4\" >Aventura</td>\n",
       "      <td id=\"T_ec391_row9_col5\" class=\"data row9 col5\" >70656</td>\n",
       "    </tr>\n",
       "    <tr>\n",
       "      <td id=\"T_ec391_row10_col0\" class=\"data row10 col0\" >28</td>\n",
       "      <td id=\"T_ec391_row10_col1\" class=\"data row10 col1\" >San Juan</td>\n",
       "      <td id=\"T_ec391_row10_col2\" class=\"data row10 col2\" >San Juan</td>\n",
       "      <td id=\"T_ec391_row10_col3\" class=\"data row10 col3\" >Argentina</td>\n",
       "      <td id=\"T_ec391_row10_col4\" class=\"data row10 col4\" >Cultural</td>\n",
       "      <td id=\"T_ec391_row10_col5\" class=\"data row10 col5\" >62012</td>\n",
       "    </tr>\n",
       "    <tr>\n",
       "      <td id=\"T_ec391_row11_col0\" class=\"data row11 col0\" >33</td>\n",
       "      <td id=\"T_ec391_row11_col1\" class=\"data row11 col1\" >Santa Fe</td>\n",
       "      <td id=\"T_ec391_row11_col2\" class=\"data row11 col2\" >Rosario</td>\n",
       "      <td id=\"T_ec391_row11_col3\" class=\"data row11 col3\" >Argentina</td>\n",
       "      <td id=\"T_ec391_row11_col4\" class=\"data row11 col4\" >Montaña</td>\n",
       "      <td id=\"T_ec391_row11_col5\" class=\"data row11 col5\" >92638</td>\n",
       "    </tr>\n",
       "    <tr>\n",
       "      <td id=\"T_ec391_row12_col0\" class=\"data row12 col0\" >36</td>\n",
       "      <td id=\"T_ec391_row12_col1\" class=\"data row12 col1\" >Tierra del Fuego</td>\n",
       "      <td id=\"T_ec391_row12_col2\" class=\"data row12 col2\" >Ushuaia</td>\n",
       "      <td id=\"T_ec391_row12_col3\" class=\"data row12 col3\" >Argentina</td>\n",
       "      <td id=\"T_ec391_row12_col4\" class=\"data row12 col4\" >Cultural</td>\n",
       "      <td id=\"T_ec391_row12_col5\" class=\"data row12 col5\" >94862</td>\n",
       "    </tr>\n",
       "  </tbody>\n",
       "</table>\n"
      ],
      "text/plain": [
       "<pandas.io.formats.style.Styler at 0x7d04fc5cc390>"
      ]
     },
     "metadata": {},
     "output_type": "display_data"
    }
   ],
   "source": [
    "precio=100000\n",
    "base = \"clase\"\n",
    "coleccion = \"destinos\"\n",
    "filtro={\"precio_promedio\": {\"$lt\": precio}}\n",
    "proyeccion = {\"_id\":0}\n",
    "\n",
    "# Busca en caché y sino consulta en MongoDB\n",
    "resultado = redis.obtener_cache(coleccion, filtro)\n",
    "if resultado is None:\n",
    "    print(\"Consulta hecha en Mongo\")\n",
    "    cursor = mongo.obtener_cursor(base,coleccion,filtro=filtro,proyeccion=proyeccion)\n",
    "    resultado = list(cursor)\n",
    "    if resultado:\n",
    "        redis.guardar_en_cache(coleccion,filtro,resultado,ttl=300)\n",
    "else:\n",
    "    print(\"Consulta hecha en Redis\")\n",
    "        \n",
    "df = pd.DataFrame(resultado)\n",
    "if not df.empty:\n",
    "    df_ordenado = df.sort_values(by=\"destino_id\")\n",
    "    display(df_ordenado.style.hide(axis=\"index\"))\n",
    "else:\n",
    "    print(f\"No existen destinos con precio inferior a {precio}\")"
   ]
  },
  {
   "cell_type": "markdown",
   "id": "e9bdc948-d1aa-4cad-a6fa-754f4b8ecc19",
   "metadata": {},
   "source": [
    "## i. Mostrar todos los Hoteles de “Jujuy”."
   ]
  },
  {
   "cell_type": "code",
   "execution_count": 100,
   "id": "f9fb2e9a-0b76-4ea0-abdf-ae547e2961a7",
   "metadata": {},
   "outputs": [
    {
     "data": {
      "text/html": [
       "<style type=\"text/css\">\n",
       "</style>\n",
       "<table id=\"T_bc096\">\n",
       "  <thead>\n",
       "    <tr>\n",
       "      <th id=\"T_bc096_level0_col0\" class=\"col_heading level0 col0\" >nombre</th>\n",
       "      <th id=\"T_bc096_level0_col1\" class=\"col_heading level0 col1\" >ciudad</th>\n",
       "    </tr>\n",
       "  </thead>\n",
       "  <tbody>\n",
       "    <tr>\n",
       "      <td id=\"T_bc096_row0_col0\" class=\"data row0 col0\" >Comercializadora Soria S.L. Hotel</td>\n",
       "      <td id=\"T_bc096_row0_col1\" class=\"data row0 col1\" >San Salvador de Jujuy</td>\n",
       "    </tr>\n",
       "    <tr>\n",
       "      <td id=\"T_bc096_row1_col0\" class=\"data row1 col0\" >Familia Guitart S.L. Hotel</td>\n",
       "      <td id=\"T_bc096_row1_col1\" class=\"data row1 col1\" >San Salvador de Jujuy</td>\n",
       "    </tr>\n",
       "    <tr>\n",
       "      <td id=\"T_bc096_row2_col0\" class=\"data row2 col0\" >Hotel Botella y asociados S.L.U. Hotel</td>\n",
       "      <td id=\"T_bc096_row2_col1\" class=\"data row2 col1\" >San Salvador de Jujuy</td>\n",
       "    </tr>\n",
       "    <tr>\n",
       "      <td id=\"T_bc096_row3_col0\" class=\"data row3 col0\" >Manufacturas Puga & Asociados S.L.L. Hotel</td>\n",
       "      <td id=\"T_bc096_row3_col1\" class=\"data row3 col1\" >San Salvador de Jujuy</td>\n",
       "    </tr>\n",
       "    <tr>\n",
       "      <td id=\"T_bc096_row4_col0\" class=\"data row4 col0\" >Moliner y Torrents S.L.N.E Hotel</td>\n",
       "      <td id=\"T_bc096_row4_col1\" class=\"data row4 col1\" >San Salvador de Jujuy</td>\n",
       "    </tr>\n",
       "  </tbody>\n",
       "</table>\n"
      ],
      "text/plain": [
       "<pandas.io.formats.style.Styler at 0x7d04fdddc0d0>"
      ]
     },
     "metadata": {},
     "output_type": "display_data"
    }
   ],
   "source": [
    "nombre_base = \"clase\"\n",
    "coleccion = \"hoteles\"\n",
    "ciudad = \"San Salvador de Jujuy\"\n",
    "filtro = {\"ciudad\": ciudad}\n",
    "proyeccion = {\"_id\": 0, \"nombre\": 1, \"ciudad\": 1, \"direccion\": 1}\n",
    "\n",
    "# Busca en caché y sino consulta en MongoDB\n",
    "resultado = redis.obtener_cache(coleccion, filtro)\n",
    "if resultado is None:\n",
    "    print(\"Consulta hecha en Mongo\")\n",
    "    cursor = mongo.obtener_cursor(nombre_base=nombre_base,nombre_coleccion=coleccion,filtro=filtro,proyeccion=proyeccion)\n",
    "    resultado = list(cursor)\n",
    "    if resultado:\n",
    "        redis.guardar_en_cache(coleccion,filtro,resultado,ttl=300)\n",
    "else:\n",
    "    print(\"Consulta hecha en Redis\")\n",
    "\n",
    "df_hoteles = pd.DataFrame(resultado)\n",
    "\n",
    "if not df_hoteles.empty:\n",
    "    df_ordenado = df_hoteles.sort_values(by=\"nombre\")\n",
    "    display(df_ordenado.style.hide(axis=\"index\"))\n",
    "else:\n",
    "     print(\"No se encontraron hoteles en los destinos recomendados.\")       "
   ]
  },
  {
   "cell_type": "markdown",
   "id": "4e826afb-eff6-43c7-9a7f-f501429fadbd",
   "metadata": {},
   "source": [
    "## j. Mostrar la cantidad de hoteles de un destino que guste. "
   ]
  },
  {
   "cell_type": "code",
   "execution_count": 104,
   "id": "71f8baa0-c3bd-4566-98cd-6080ebc1f706",
   "metadata": {},
   "outputs": [
    {
     "name": "stdout",
     "output_type": "stream",
     "text": [
      "Ingrese una ciudad que le guste La Plata\n"
     ]
    },
    {
     "name": "stdout",
     "output_type": "stream",
     "text": [
      "La cantidad de hoteles en La Plata son: 1\n"
     ]
    }
   ],
   "source": [
    "nombre_base = \"clase\"\n",
    "coleccion = \"destinos\"\n",
    "db = client[nombre_base]\n",
    "ciudad = input (\"Ingrese una ciudad que le guste\")\n",
    "filtro={\"ciudad\":ciudad}\n",
    "\n",
    "resultado = redis.obtener_cache(coleccion, filtro)\n",
    "if resultado is None:\n",
    "    print(\"Consulta hecha en Mongo\")\n",
    "    resultado = db[coleccion].count_documents(filtro)\n",
    "    if resultado:\n",
    "        redis.guardar_en_cache(coleccion,filtro,resultado,ttl=300)\n",
    "else:\n",
    "    print(\"Consulta hecha en Redis\")\n",
    "    \n",
    "print(f\"La cantidad de hoteles en {ciudad} son: {resultado}\") "
   ]
  },
  {
   "cell_type": "markdown",
   "id": "7bc48eaa-eae9-4c22-9036-ff018d34d4b7",
   "metadata": {},
   "source": [
    "### k. Mostrar las actividades de “Ushuaia” del tipo “aventura”."
   ]
  },
  {
   "cell_type": "code",
   "execution_count": 105,
   "id": "0e0cae71-3b60-466b-bcf5-a2dffb71eff3",
   "metadata": {},
   "outputs": [
    {
     "name": "stdout",
     "output_type": "stream",
     "text": [
      "Consulta hecha en Mongo\n",
      "No existen actividades de tipo aventura en Ushuaia\n"
     ]
    }
   ],
   "source": [
    "nombre_base = \"clase\"\n",
    "coleccion = \"actividades\"\n",
    "tipo=\"aventura\"\n",
    "ciudad=\"Ushuaia\"\n",
    "filtro = {\"ciudad\":ciudad,\"tipo\":tipo}\n",
    "proyeccion = {\"_id\":0}\n",
    "\n",
    "resultado = redis.obtener_cache(coleccion, filtro)\n",
    "if resultado is None:\n",
    "    cursor = mongo.obtener_cursor(base,coleccion,filtro=filtro,proyeccion=proyeccion)\n",
    "    print(\"Consulta hecha en Mongo\")\n",
    "    resultado = list(cursor)\n",
    "    if resultado:\n",
    "        redis.guardar_en_cache(coleccion,filtro,resultado,ttl=300)\n",
    "else:\n",
    "    print(\"Consulta hecha en Redis\")\n",
    "    \n",
    "df = pd.DataFrame(resultado)\n",
    "if not df.empty:\n",
    "    df_ordenado = df.sort_values(by=\"actividad_id\")\n",
    "    display(df_ordenado.style.hide(axis=\"index\"))\n",
    "else:\n",
    "    print(f\"No existen actividades de tipo {tipo} en {ciudad}\")"
   ]
  },
  {
   "cell_type": "markdown",
   "id": "aba91348-5d0a-424b-b2f2-75b506b969b3",
   "metadata": {},
   "source": [
    "### l. Mostrar la cantidad de reservas concretadas de cada usuario. Mostrar el usuario y la cantidad "
   ]
  },
  {
   "cell_type": "code",
   "execution_count": 112,
   "id": "bdb34b6e-fe60-481f-b7b4-0f5439906c33",
   "metadata": {},
   "outputs": [
    {
     "name": "stdout",
     "output_type": "stream",
     "text": [
      "Consulta hecha en Redis\n"
     ]
    },
    {
     "data": {
      "text/html": [
       "<style type=\"text/css\">\n",
       "</style>\n",
       "<table id=\"T_2bd58\">\n",
       "  <thead>\n",
       "    <tr>\n",
       "      <th id=\"T_2bd58_level0_col0\" class=\"col_heading level0 col0\" >Nombre</th>\n",
       "      <th id=\"T_2bd58_level0_col1\" class=\"col_heading level0 col1\" >Apellido</th>\n",
       "      <th id=\"T_2bd58_level0_col2\" class=\"col_heading level0 col2\" >Reservas_concretadas</th>\n",
       "    </tr>\n",
       "  </thead>\n",
       "  <tbody>\n",
       "    <tr>\n",
       "      <td id=\"T_2bd58_row0_col0\" class=\"data row0 col0\" >Gracia</td>\n",
       "      <td id=\"T_2bd58_row0_col1\" class=\"data row0 col1\" >Naranjo</td>\n",
       "      <td id=\"T_2bd58_row0_col2\" class=\"data row0 col2\" >24</td>\n",
       "    </tr>\n",
       "    <tr>\n",
       "      <td id=\"T_2bd58_row1_col0\" class=\"data row1 col0\" >Carmen</td>\n",
       "      <td id=\"T_2bd58_row1_col1\" class=\"data row1 col1\" >Roma</td>\n",
       "      <td id=\"T_2bd58_row1_col2\" class=\"data row1 col2\" >22</td>\n",
       "    </tr>\n",
       "    <tr>\n",
       "      <td id=\"T_2bd58_row2_col0\" class=\"data row2 col0\" >Ovidio</td>\n",
       "      <td id=\"T_2bd58_row2_col1\" class=\"data row2 col1\" >Romero</td>\n",
       "      <td id=\"T_2bd58_row2_col2\" class=\"data row2 col2\" >21</td>\n",
       "    </tr>\n",
       "    <tr>\n",
       "      <td id=\"T_2bd58_row3_col0\" class=\"data row3 col0\" >David</td>\n",
       "      <td id=\"T_2bd58_row3_col1\" class=\"data row3 col1\" >Julián</td>\n",
       "      <td id=\"T_2bd58_row3_col2\" class=\"data row3 col2\" >20</td>\n",
       "    </tr>\n",
       "    <tr>\n",
       "      <td id=\"T_2bd58_row4_col0\" class=\"data row4 col0\" >Georgina</td>\n",
       "      <td id=\"T_2bd58_row4_col1\" class=\"data row4 col1\" >Ferrando</td>\n",
       "      <td id=\"T_2bd58_row4_col2\" class=\"data row4 col2\" >20</td>\n",
       "    </tr>\n",
       "    <tr>\n",
       "      <td id=\"T_2bd58_row5_col0\" class=\"data row5 col0\" >Mónica</td>\n",
       "      <td id=\"T_2bd58_row5_col1\" class=\"data row5 col1\" >Roca</td>\n",
       "      <td id=\"T_2bd58_row5_col2\" class=\"data row5 col2\" >20</td>\n",
       "    </tr>\n",
       "    <tr>\n",
       "      <td id=\"T_2bd58_row6_col0\" class=\"data row6 col0\" >Adrián</td>\n",
       "      <td id=\"T_2bd58_row6_col1\" class=\"data row6 col1\" >Belda</td>\n",
       "      <td id=\"T_2bd58_row6_col2\" class=\"data row6 col2\" >19</td>\n",
       "    </tr>\n",
       "    <tr>\n",
       "      <td id=\"T_2bd58_row7_col0\" class=\"data row7 col0\" >Cleto</td>\n",
       "      <td id=\"T_2bd58_row7_col1\" class=\"data row7 col1\" >Palomar</td>\n",
       "      <td id=\"T_2bd58_row7_col2\" class=\"data row7 col2\" >19</td>\n",
       "    </tr>\n",
       "    <tr>\n",
       "      <td id=\"T_2bd58_row8_col0\" class=\"data row8 col0\" >Eliseo</td>\n",
       "      <td id=\"T_2bd58_row8_col1\" class=\"data row8 col1\" >Sobrino</td>\n",
       "      <td id=\"T_2bd58_row8_col2\" class=\"data row8 col2\" >19</td>\n",
       "    </tr>\n",
       "    <tr>\n",
       "      <td id=\"T_2bd58_row9_col0\" class=\"data row9 col0\" >Gema</td>\n",
       "      <td id=\"T_2bd58_row9_col1\" class=\"data row9 col1\" >Yáñez</td>\n",
       "      <td id=\"T_2bd58_row9_col2\" class=\"data row9 col2\" >18</td>\n",
       "    </tr>\n",
       "    <tr>\n",
       "      <td id=\"T_2bd58_row10_col0\" class=\"data row10 col0\" >Mercedes</td>\n",
       "      <td id=\"T_2bd58_row10_col1\" class=\"data row10 col1\" >Arjona</td>\n",
       "      <td id=\"T_2bd58_row10_col2\" class=\"data row10 col2\" >18</td>\n",
       "    </tr>\n",
       "    <tr>\n",
       "      <td id=\"T_2bd58_row11_col0\" class=\"data row11 col0\" >Coral</td>\n",
       "      <td id=\"T_2bd58_row11_col1\" class=\"data row11 col1\" >Perez</td>\n",
       "      <td id=\"T_2bd58_row11_col2\" class=\"data row11 col2\" >17</td>\n",
       "    </tr>\n",
       "    <tr>\n",
       "      <td id=\"T_2bd58_row12_col0\" class=\"data row12 col0\" >Lucas</td>\n",
       "      <td id=\"T_2bd58_row12_col1\" class=\"data row12 col1\" >Cruz</td>\n",
       "      <td id=\"T_2bd58_row12_col2\" class=\"data row12 col2\" >16</td>\n",
       "    </tr>\n",
       "    <tr>\n",
       "      <td id=\"T_2bd58_row13_col0\" class=\"data row13 col0\" >Lino</td>\n",
       "      <td id=\"T_2bd58_row13_col1\" class=\"data row13 col1\" >Llorente</td>\n",
       "      <td id=\"T_2bd58_row13_col2\" class=\"data row13 col2\" >16</td>\n",
       "    </tr>\n",
       "    <tr>\n",
       "      <td id=\"T_2bd58_row14_col0\" class=\"data row14 col0\" >Óscar</td>\n",
       "      <td id=\"T_2bd58_row14_col1\" class=\"data row14 col1\" >Pino</td>\n",
       "      <td id=\"T_2bd58_row14_col2\" class=\"data row14 col2\" >16</td>\n",
       "    </tr>\n",
       "    <tr>\n",
       "      <td id=\"T_2bd58_row15_col0\" class=\"data row15 col0\" >Wilfredo</td>\n",
       "      <td id=\"T_2bd58_row15_col1\" class=\"data row15 col1\" >Patiño</td>\n",
       "      <td id=\"T_2bd58_row15_col2\" class=\"data row15 col2\" >16</td>\n",
       "    </tr>\n",
       "    <tr>\n",
       "      <td id=\"T_2bd58_row16_col0\" class=\"data row16 col0\" >Emiliana</td>\n",
       "      <td id=\"T_2bd58_row16_col1\" class=\"data row16 col1\" >Beltran</td>\n",
       "      <td id=\"T_2bd58_row16_col2\" class=\"data row16 col2\" >16</td>\n",
       "    </tr>\n",
       "    <tr>\n",
       "      <td id=\"T_2bd58_row17_col0\" class=\"data row17 col0\" >Poncio</td>\n",
       "      <td id=\"T_2bd58_row17_col1\" class=\"data row17 col1\" >Escobar</td>\n",
       "      <td id=\"T_2bd58_row17_col2\" class=\"data row17 col2\" >16</td>\n",
       "    </tr>\n",
       "    <tr>\n",
       "      <td id=\"T_2bd58_row18_col0\" class=\"data row18 col0\" >Roque</td>\n",
       "      <td id=\"T_2bd58_row18_col1\" class=\"data row18 col1\" >Navarrete</td>\n",
       "      <td id=\"T_2bd58_row18_col2\" class=\"data row18 col2\" >16</td>\n",
       "    </tr>\n",
       "    <tr>\n",
       "      <td id=\"T_2bd58_row19_col0\" class=\"data row19 col0\" >Juan José</td>\n",
       "      <td id=\"T_2bd58_row19_col1\" class=\"data row19 col1\" >Romero</td>\n",
       "      <td id=\"T_2bd58_row19_col2\" class=\"data row19 col2\" >15</td>\n",
       "    </tr>\n",
       "    <tr>\n",
       "      <td id=\"T_2bd58_row20_col0\" class=\"data row20 col0\" >Leopoldo</td>\n",
       "      <td id=\"T_2bd58_row20_col1\" class=\"data row20 col1\" >Agudo</td>\n",
       "      <td id=\"T_2bd58_row20_col2\" class=\"data row20 col2\" >15</td>\n",
       "    </tr>\n",
       "    <tr>\n",
       "      <td id=\"T_2bd58_row21_col0\" class=\"data row21 col0\" >Calista</td>\n",
       "      <td id=\"T_2bd58_row21_col1\" class=\"data row21 col1\" >Catalán</td>\n",
       "      <td id=\"T_2bd58_row21_col2\" class=\"data row21 col2\" >15</td>\n",
       "    </tr>\n",
       "    <tr>\n",
       "      <td id=\"T_2bd58_row22_col0\" class=\"data row22 col0\" >Omar</td>\n",
       "      <td id=\"T_2bd58_row22_col1\" class=\"data row22 col1\" >Roig</td>\n",
       "      <td id=\"T_2bd58_row22_col2\" class=\"data row22 col2\" >15</td>\n",
       "    </tr>\n",
       "    <tr>\n",
       "      <td id=\"T_2bd58_row23_col0\" class=\"data row23 col0\" >Juan Antonio</td>\n",
       "      <td id=\"T_2bd58_row23_col1\" class=\"data row23 col1\" >Huertas</td>\n",
       "      <td id=\"T_2bd58_row23_col2\" class=\"data row23 col2\" >14</td>\n",
       "    </tr>\n",
       "    <tr>\n",
       "      <td id=\"T_2bd58_row24_col0\" class=\"data row24 col0\" >Tito</td>\n",
       "      <td id=\"T_2bd58_row24_col1\" class=\"data row24 col1\" >Castell</td>\n",
       "      <td id=\"T_2bd58_row24_col2\" class=\"data row24 col2\" >14</td>\n",
       "    </tr>\n",
       "    <tr>\n",
       "      <td id=\"T_2bd58_row25_col0\" class=\"data row25 col0\" >Blas</td>\n",
       "      <td id=\"T_2bd58_row25_col1\" class=\"data row25 col1\" >Galván</td>\n",
       "      <td id=\"T_2bd58_row25_col2\" class=\"data row25 col2\" >14</td>\n",
       "    </tr>\n",
       "    <tr>\n",
       "      <td id=\"T_2bd58_row26_col0\" class=\"data row26 col0\" >Maricela</td>\n",
       "      <td id=\"T_2bd58_row26_col1\" class=\"data row26 col1\" >Lasa</td>\n",
       "      <td id=\"T_2bd58_row26_col2\" class=\"data row26 col2\" >14</td>\n",
       "    </tr>\n",
       "    <tr>\n",
       "      <td id=\"T_2bd58_row27_col0\" class=\"data row27 col0\" >Agapito</td>\n",
       "      <td id=\"T_2bd58_row27_col1\" class=\"data row27 col1\" >Sedano</td>\n",
       "      <td id=\"T_2bd58_row27_col2\" class=\"data row27 col2\" >14</td>\n",
       "    </tr>\n",
       "    <tr>\n",
       "      <td id=\"T_2bd58_row28_col0\" class=\"data row28 col0\" >Juan Manuel</td>\n",
       "      <td id=\"T_2bd58_row28_col1\" class=\"data row28 col1\" >Sanz</td>\n",
       "      <td id=\"T_2bd58_row28_col2\" class=\"data row28 col2\" >14</td>\n",
       "    </tr>\n",
       "    <tr>\n",
       "      <td id=\"T_2bd58_row29_col0\" class=\"data row29 col0\" >Nicolás</td>\n",
       "      <td id=\"T_2bd58_row29_col1\" class=\"data row29 col1\" >Pinilla</td>\n",
       "      <td id=\"T_2bd58_row29_col2\" class=\"data row29 col2\" >14</td>\n",
       "    </tr>\n",
       "    <tr>\n",
       "      <td id=\"T_2bd58_row30_col0\" class=\"data row30 col0\" >Feliciano</td>\n",
       "      <td id=\"T_2bd58_row30_col1\" class=\"data row30 col1\" >Campoy</td>\n",
       "      <td id=\"T_2bd58_row30_col2\" class=\"data row30 col2\" >14</td>\n",
       "    </tr>\n",
       "    <tr>\n",
       "      <td id=\"T_2bd58_row31_col0\" class=\"data row31 col0\" >Fernanda</td>\n",
       "      <td id=\"T_2bd58_row31_col1\" class=\"data row31 col1\" >Romero</td>\n",
       "      <td id=\"T_2bd58_row31_col2\" class=\"data row31 col2\" >14</td>\n",
       "    </tr>\n",
       "    <tr>\n",
       "      <td id=\"T_2bd58_row32_col0\" class=\"data row32 col0\" >Tito</td>\n",
       "      <td id=\"T_2bd58_row32_col1\" class=\"data row32 col1\" >Montserrat</td>\n",
       "      <td id=\"T_2bd58_row32_col2\" class=\"data row32 col2\" >14</td>\n",
       "    </tr>\n",
       "    <tr>\n",
       "      <td id=\"T_2bd58_row33_col0\" class=\"data row33 col0\" >Gregorio</td>\n",
       "      <td id=\"T_2bd58_row33_col1\" class=\"data row33 col1\" >Rivero</td>\n",
       "      <td id=\"T_2bd58_row33_col2\" class=\"data row33 col2\" >13</td>\n",
       "    </tr>\n",
       "    <tr>\n",
       "      <td id=\"T_2bd58_row34_col0\" class=\"data row34 col0\" >Estela</td>\n",
       "      <td id=\"T_2bd58_row34_col1\" class=\"data row34 col1\" >Cortes</td>\n",
       "      <td id=\"T_2bd58_row34_col2\" class=\"data row34 col2\" >13</td>\n",
       "    </tr>\n",
       "    <tr>\n",
       "      <td id=\"T_2bd58_row35_col0\" class=\"data row35 col0\" >Urbano</td>\n",
       "      <td id=\"T_2bd58_row35_col1\" class=\"data row35 col1\" >Villar</td>\n",
       "      <td id=\"T_2bd58_row35_col2\" class=\"data row35 col2\" >13</td>\n",
       "    </tr>\n",
       "    <tr>\n",
       "      <td id=\"T_2bd58_row36_col0\" class=\"data row36 col0\" >Enrique</td>\n",
       "      <td id=\"T_2bd58_row36_col1\" class=\"data row36 col1\" >Roca</td>\n",
       "      <td id=\"T_2bd58_row36_col2\" class=\"data row36 col2\" >13</td>\n",
       "    </tr>\n",
       "    <tr>\n",
       "      <td id=\"T_2bd58_row37_col0\" class=\"data row37 col0\" >Graciana</td>\n",
       "      <td id=\"T_2bd58_row37_col1\" class=\"data row37 col1\" >Murillo</td>\n",
       "      <td id=\"T_2bd58_row37_col2\" class=\"data row37 col2\" >13</td>\n",
       "    </tr>\n",
       "    <tr>\n",
       "      <td id=\"T_2bd58_row38_col0\" class=\"data row38 col0\" >Nico</td>\n",
       "      <td id=\"T_2bd58_row38_col1\" class=\"data row38 col1\" >Montenegro</td>\n",
       "      <td id=\"T_2bd58_row38_col2\" class=\"data row38 col2\" >13</td>\n",
       "    </tr>\n",
       "    <tr>\n",
       "      <td id=\"T_2bd58_row39_col0\" class=\"data row39 col0\" >Teodora</td>\n",
       "      <td id=\"T_2bd58_row39_col1\" class=\"data row39 col1\" >Campillo</td>\n",
       "      <td id=\"T_2bd58_row39_col2\" class=\"data row39 col2\" >13</td>\n",
       "    </tr>\n",
       "    <tr>\n",
       "      <td id=\"T_2bd58_row40_col0\" class=\"data row40 col0\" >Vicenta</td>\n",
       "      <td id=\"T_2bd58_row40_col1\" class=\"data row40 col1\" >Azcona</td>\n",
       "      <td id=\"T_2bd58_row40_col2\" class=\"data row40 col2\" >13</td>\n",
       "    </tr>\n",
       "    <tr>\n",
       "      <td id=\"T_2bd58_row41_col0\" class=\"data row41 col0\" >Jose Francisco</td>\n",
       "      <td id=\"T_2bd58_row41_col1\" class=\"data row41 col1\" >Sobrino</td>\n",
       "      <td id=\"T_2bd58_row41_col2\" class=\"data row41 col2\" >12</td>\n",
       "    </tr>\n",
       "    <tr>\n",
       "      <td id=\"T_2bd58_row42_col0\" class=\"data row42 col0\" >Trinidad</td>\n",
       "      <td id=\"T_2bd58_row42_col1\" class=\"data row42 col1\" >Echeverría</td>\n",
       "      <td id=\"T_2bd58_row42_col2\" class=\"data row42 col2\" >12</td>\n",
       "    </tr>\n",
       "    <tr>\n",
       "      <td id=\"T_2bd58_row43_col0\" class=\"data row43 col0\" >Candela</td>\n",
       "      <td id=\"T_2bd58_row43_col1\" class=\"data row43 col1\" >Solano</td>\n",
       "      <td id=\"T_2bd58_row43_col2\" class=\"data row43 col2\" >12</td>\n",
       "    </tr>\n",
       "    <tr>\n",
       "      <td id=\"T_2bd58_row44_col0\" class=\"data row44 col0\" >Mariana</td>\n",
       "      <td id=\"T_2bd58_row44_col1\" class=\"data row44 col1\" >Mir</td>\n",
       "      <td id=\"T_2bd58_row44_col2\" class=\"data row44 col2\" >12</td>\n",
       "    </tr>\n",
       "    <tr>\n",
       "      <td id=\"T_2bd58_row45_col0\" class=\"data row45 col0\" >Ariadna</td>\n",
       "      <td id=\"T_2bd58_row45_col1\" class=\"data row45 col1\" >Carlos</td>\n",
       "      <td id=\"T_2bd58_row45_col2\" class=\"data row45 col2\" >12</td>\n",
       "    </tr>\n",
       "    <tr>\n",
       "      <td id=\"T_2bd58_row46_col0\" class=\"data row46 col0\" >David</td>\n",
       "      <td id=\"T_2bd58_row46_col1\" class=\"data row46 col1\" >Campo</td>\n",
       "      <td id=\"T_2bd58_row46_col2\" class=\"data row46 col2\" >11</td>\n",
       "    </tr>\n",
       "    <tr>\n",
       "      <td id=\"T_2bd58_row47_col0\" class=\"data row47 col0\" >Georgina</td>\n",
       "      <td id=\"T_2bd58_row47_col1\" class=\"data row47 col1\" >Talavera</td>\n",
       "      <td id=\"T_2bd58_row47_col2\" class=\"data row47 col2\" >11</td>\n",
       "    </tr>\n",
       "    <tr>\n",
       "      <td id=\"T_2bd58_row48_col0\" class=\"data row48 col0\" >Adela</td>\n",
       "      <td id=\"T_2bd58_row48_col1\" class=\"data row48 col1\" >Jaén</td>\n",
       "      <td id=\"T_2bd58_row48_col2\" class=\"data row48 col2\" >11</td>\n",
       "    </tr>\n",
       "    <tr>\n",
       "      <td id=\"T_2bd58_row49_col0\" class=\"data row49 col0\" >Victorino</td>\n",
       "      <td id=\"T_2bd58_row49_col1\" class=\"data row49 col1\" >Alemany</td>\n",
       "      <td id=\"T_2bd58_row49_col2\" class=\"data row49 col2\" >11</td>\n",
       "    </tr>\n",
       "    <tr>\n",
       "      <td id=\"T_2bd58_row50_col0\" class=\"data row50 col0\" >Bruno</td>\n",
       "      <td id=\"T_2bd58_row50_col1\" class=\"data row50 col1\" >Bayo</td>\n",
       "      <td id=\"T_2bd58_row50_col2\" class=\"data row50 col2\" >11</td>\n",
       "    </tr>\n",
       "    <tr>\n",
       "      <td id=\"T_2bd58_row51_col0\" class=\"data row51 col0\" >Feliciana</td>\n",
       "      <td id=\"T_2bd58_row51_col1\" class=\"data row51 col1\" >Cantón</td>\n",
       "      <td id=\"T_2bd58_row51_col2\" class=\"data row51 col2\" >11</td>\n",
       "    </tr>\n",
       "    <tr>\n",
       "      <td id=\"T_2bd58_row52_col0\" class=\"data row52 col0\" >María Belén</td>\n",
       "      <td id=\"T_2bd58_row52_col1\" class=\"data row52 col1\" >Esteve</td>\n",
       "      <td id=\"T_2bd58_row52_col2\" class=\"data row52 col2\" >10</td>\n",
       "    </tr>\n",
       "    <tr>\n",
       "      <td id=\"T_2bd58_row53_col0\" class=\"data row53 col0\" >Dani</td>\n",
       "      <td id=\"T_2bd58_row53_col1\" class=\"data row53 col1\" >Parejo</td>\n",
       "      <td id=\"T_2bd58_row53_col2\" class=\"data row53 col2\" >9</td>\n",
       "    </tr>\n",
       "    <tr>\n",
       "      <td id=\"T_2bd58_row54_col0\" class=\"data row54 col0\" >Sabina</td>\n",
       "      <td id=\"T_2bd58_row54_col1\" class=\"data row54 col1\" >Martín</td>\n",
       "      <td id=\"T_2bd58_row54_col2\" class=\"data row54 col2\" >9</td>\n",
       "    </tr>\n",
       "    <tr>\n",
       "      <td id=\"T_2bd58_row55_col0\" class=\"data row55 col0\" >Ciro</td>\n",
       "      <td id=\"T_2bd58_row55_col1\" class=\"data row55 col1\" >Guzmán</td>\n",
       "      <td id=\"T_2bd58_row55_col2\" class=\"data row55 col2\" >9</td>\n",
       "    </tr>\n",
       "    <tr>\n",
       "      <td id=\"T_2bd58_row56_col0\" class=\"data row56 col0\" >Pastor</td>\n",
       "      <td id=\"T_2bd58_row56_col1\" class=\"data row56 col1\" >Martín</td>\n",
       "      <td id=\"T_2bd58_row56_col2\" class=\"data row56 col2\" >8</td>\n",
       "    </tr>\n",
       "    <tr>\n",
       "      <td id=\"T_2bd58_row57_col0\" class=\"data row57 col0\" >Amor</td>\n",
       "      <td id=\"T_2bd58_row57_col1\" class=\"data row57 col1\" >Bueno</td>\n",
       "      <td id=\"T_2bd58_row57_col2\" class=\"data row57 col2\" >8</td>\n",
       "    </tr>\n",
       "    <tr>\n",
       "      <td id=\"T_2bd58_row58_col0\" class=\"data row58 col0\" >Segismundo</td>\n",
       "      <td id=\"T_2bd58_row58_col1\" class=\"data row58 col1\" >Solera</td>\n",
       "      <td id=\"T_2bd58_row58_col2\" class=\"data row58 col2\" >7</td>\n",
       "    </tr>\n",
       "    <tr>\n",
       "      <td id=\"T_2bd58_row59_col0\" class=\"data row59 col0\" >Paula</td>\n",
       "      <td id=\"T_2bd58_row59_col1\" class=\"data row59 col1\" >Pardo</td>\n",
       "      <td id=\"T_2bd58_row59_col2\" class=\"data row59 col2\" >4</td>\n",
       "    </tr>\n",
       "  </tbody>\n",
       "</table>\n"
      ],
      "text/plain": [
       "<pandas.io.formats.style.Styler at 0x7d04fdfac750>"
      ]
     },
     "metadata": {},
     "output_type": "display_data"
    }
   ],
   "source": [
    "nombre_base = \"clase\"\n",
    "coleccion = \"reservas\"\n",
    "db = client[nombre_base]\n",
    "estados = [\"Confirmada\",\"Pagada\"]\n",
    "filtro = {\"estado\": {\"$in\":estados}}\n",
    "\n",
    "pipeline =[ \n",
    "    {\"$match\": filtro},\n",
    "    {\"$group\": {\n",
    "        \"_id\": \"$usuario_id\",  # este es el ID del usuario\n",
    "        \"Reservas_concretadas\": {\"$sum\": 1}\n",
    "    }},\n",
    "    {\"$lookup\": {\n",
    "        \"from\": \"usuarios\",           # nombre de la colección a unir\n",
    "        \"localField\": \"_id\",          # campo en esta colección (el ID del usuario)\n",
    "        \"foreignField\": \"usuario_id\",        # campo en la colección \"usuarios\"\n",
    "        \"as\": \"usuario_info\"          # nombre del nuevo campo con los datos del usuario\n",
    "    }},\n",
    "    {\"$unwind\": \"$usuario_info\"},     # desanida el array para acceder directamente\n",
    "    {\"$project\": {\n",
    "        \"_id\": 0,\n",
    "        \"Nombre\": \"$usuario_info.nombre\",\n",
    "        \"Apellido\": \"$usuario_info.apellido\",\n",
    "        \"Reservas_concretadas\": 1\n",
    "    }},\n",
    "    {\"$sort\": {\"Reservas_concretadas\": -1}}\n",
    "]\n",
    "\n",
    "resultado = redis.obtener_cache(coleccion, filtro)\n",
    "if resultado is None:\n",
    "    print(\"Consulta hecha en Mongo\")\n",
    "    cursor = db[coleccion].aggregate(pipeline)\n",
    "    resultado = list(cursor)\n",
    "    if resultado:\n",
    "        redis.guardar_en_cache(coleccion,filtro,resultado,ttl=300)\n",
    "else:\n",
    "    print(\"Consulta hecha en Redis\")\n",
    "        \n",
    "df = pd.DataFrame(resultado)\n",
    "df = df[[\"Nombre\", \"Apellido\", \"Reservas_concretadas\"]]\n",
    "display(df.style.hide(axis=\"index\"))"
   ]
  },
  {
   "cell_type": "markdown",
   "id": "f0c3f88f-a292-4d2a-bc23-4c7053004160",
   "metadata": {},
   "source": [
    "#### Estadísticas"
   ]
  },
  {
   "cell_type": "markdown",
   "id": "b2edec22-518e-4844-8ec9-fb257dfae711",
   "metadata": {},
   "source": [
    "###### i.Destino más visitado"
   ]
  },
  {
   "cell_type": "code",
   "execution_count": null,
   "id": "fd3c30e8-6d5a-4866-997a-90b4b628b457",
   "metadata": {},
   "outputs": [],
   "source": []
  },
  {
   "cell_type": "markdown",
   "id": "b2152a43-66c6-4852-9805-dba7d5f58831",
   "metadata": {},
   "source": [
    "###### ii.Hotel más barato"
   ]
  },
  {
   "cell_type": "code",
   "execution_count": null,
   "id": "d026968b-61f6-45fb-9c32-588f34d5a28b",
   "metadata": {},
   "outputs": [],
   "source": []
  },
  {
   "cell_type": "markdown",
   "id": "34787108-84f9-4b3f-bc0a-d33309b8c2f5",
   "metadata": {},
   "source": [
    "###### iii.Actividad más popular."
   ]
  },
  {
   "cell_type": "code",
   "execution_count": null,
   "id": "ab81879e-19a5-4d5e-9d81-fc9f23e1d287",
   "metadata": {},
   "outputs": [],
   "source": []
  },
  {
   "cell_type": "markdown",
   "id": "5eae57b1-ec8b-469b-8033-8fde97d62c5a",
   "metadata": {},
   "source": [
    "#### Modificaciones"
   ]
  },
  {
   "cell_type": "markdown",
   "id": "22039522-23ad-47ac-a709-50975130084b",
   "metadata": {},
   "source": [
    "###### a.Incrementar el precio de las actividades de Tucuman en 5% "
   ]
  },
  {
   "cell_type": "code",
   "execution_count": null,
   "id": "f405f561-4830-41a9-86ec-ac44c0915338",
   "metadata": {},
   "outputs": [],
   "source": []
  },
  {
   "cell_type": "markdown",
   "id": "22a527ac-90a3-4e39-8141-44c9ce298bcd",
   "metadata": {},
   "source": [
    "###### b. Agregar al hotel id=1 el servicio de SPA "
   ]
  },
  {
   "cell_type": "code",
   "execution_count": null,
   "id": "6a4ca203-b270-4065-aee4-9cab7121cc7c",
   "metadata": {},
   "outputs": [],
   "source": []
  },
  {
   "cell_type": "markdown",
   "id": "030c6c43-2a5a-46ef-89b1-a2c30b55cd88",
   "metadata": {},
   "source": [
    "###### c. Eliminar el destino que desee"
   ]
  },
  {
   "cell_type": "code",
   "execution_count": null,
   "id": "45c2c505-b08f-4ec4-b50a-0d9760d3bc92",
   "metadata": {},
   "outputs": [],
   "source": []
  },
  {
   "cell_type": "markdown",
   "id": "2ce976cf-093e-4c08-a0f5-d3910abe2efb",
   "metadata": {},
   "source": [
    "###### d. Eliminar un usuario que desee "
   ]
  },
  {
   "cell_type": "code",
   "execution_count": null,
   "id": "c6bdaa62-84ae-4ebb-8ca3-78d6a8348d03",
   "metadata": {},
   "outputs": [],
   "source": []
  },
  {
   "cell_type": "markdown",
   "id": "21d70e0e-8ab8-445c-bbdd-6dc6dac891cc",
   "metadata": {},
   "source": [
    "###### e. Eliminar las relaciones AMIGO_DE para un usuario que quiera. "
   ]
  },
  {
   "cell_type": "code",
   "execution_count": null,
   "id": "8a3c02e7-191b-424a-ba1b-5bd2f4aa91b7",
   "metadata": {},
   "outputs": [],
   "source": []
  }
 ],
 "metadata": {
  "kernelspec": {
   "display_name": "Python 3 (ipykernel)",
   "language": "python",
   "name": "python3"
  }
 },
 "nbformat": 4,
 "nbformat_minor": 5
}
