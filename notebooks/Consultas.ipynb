{
 "cells": [
  {
   "cell_type": "markdown",
   "id": "fce3fb50-092b-4392-80df-258a0450f414",
   "metadata": {},
   "source": [
    "# Consultas Integradas"
   ]
  },
  {
   "cell_type": "markdown",
   "id": "400fd7b0-612f-4d19-bcf5-f7e4020347bd",
   "metadata": {},
   "source": [
    "Este notebook tiene el fin de generar las consultas planteadas en el trabajo práctico integrador"
   ]
  },
  {
   "cell_type": "markdown",
   "id": "d03161d8-e77b-42c1-8ef9-5e692a142baa",
   "metadata": {},
   "source": [
    "## Importación librerias"
   ]
  },
  {
   "cell_type": "markdown",
   "id": "fe043887-da2a-4813-8e9f-0fa3280ec5f2",
   "metadata": {},
   "source": [
    "Se importan las librerias necesarias para la ejecución de las distintas consignas."
   ]
  },
  {
   "cell_type": "code",
   "execution_count": null,
   "id": "082c6b7a",
   "metadata": {},
   "outputs": [],
   "source": [
    "from pathlib import Path\n",
    "import pandas as pd\n",
    "from db_connections import client, db_neo4j, db_redis\n",
    "from src import mongo, neo4j, utils, redis\n",
    "from IPython.display import display\n",
    "import matplotlib.pyplot as plt\n",
    "from constants import NOMBRE_BD_MONGO\n",
    "import seaborn as sns"
   ]
  },
  {
   "cell_type": "markdown",
   "id": "10087a6f-6690-44fa-ae83-2b59d8b4ea51",
   "metadata": {},
   "source": [
    "## 1. Consultas"
   ]
  },
  {
   "cell_type": "markdown",
   "id": "f37c8ea9-4542-4e3d-bf9f-a7653c247358",
   "metadata": {},
   "source": [
    "### A. Mostrar los usuarios que visitaron “Bariloche”. "
   ]
  },
  {
   "cell_type": "markdown",
   "id": "0fc4ee3a-9541-4273-b57d-6531be46ecb3",
   "metadata": {
    "jp-MarkdownHeadingCollapsed": true
   },
   "source": [
    "Esta sección ejecuta una **consulta en Neo4j** para obtener todos los usuarios que realizaron una visita a la ciudad de **Bariloche**.\n",
    "\n",
    "    - Query: Se busca la relación `VISITO` entre los nodos `Usuario` y `Destino`, La ciudad de destino se filtra específicamente por `\"Bariloche\"`.\n",
    "- Se utiliza la función consulta() que recibe como parametro la base y la query\n",
    "- Los resultados se devuelven en un **DataFrame de pandas** y se muestran con nombre y apellido de cada usuario. "
   ]
  },
  {
   "cell_type": "code",
   "execution_count": null,
   "id": "baf85df9-27c5-4a9b-8501-d2e5ada1f279",
   "metadata": {
    "scrolled": true
   },
   "outputs": [],
   "source": [
    "query = \"\"\" \n",
    "MATCH (U:Usuario)-[:VISITO]->(D:Destino)\n",
    "WHERE D.ciudad='Bariloche'\n",
    "RETURN U.nombre AS Nombre, U.apellido AS Apellido\n",
    "\"\"\"\n",
    "\n",
    "usuarios = neo4j.consulta(db_neo4j, query)\n",
    "\n",
    "print(\"\\n\" + \"-\"*60)\n",
    "print(\"USUARIOS QUE VISITARON BARILOCHE\")\n",
    "print(\"-\"*60)\n",
    "display(usuarios.style.hide(axis=\"index\"))"
   ]
  },
  {
   "cell_type": "markdown",
   "id": "8aee4bec-64dd-4b91-a4bf-b8890e15e249",
   "metadata": {},
   "source": [
    "### B. Mostrar los amigos de Juan que visitaron algún destino que visitó él, mostrar el nombre del Usuario y el destino. "
   ]
  },
  {
   "cell_type": "markdown",
   "id": "8cf7aa0f-c6cb-4b87-966d-571435353cc9",
   "metadata": {},
   "source": [
    "Esta sección del código busca mostrar qué amigos visitaron los mismos destinos que el **usuario ingresado por teclado**, utilizando una consulta en **Neo4j** y procesamiento en pandas.\n",
    "\n",
    "- `input()`: solicita al usuario su nombre para usarlo como filtro en la búsqueda.\n",
    "\n",
    "- `query`: contiene la instrucción Cypher que busca al `usuario (Usuario)`, sus amigos (`AMIGO_DE`) `y los destinos (VISITO)` que ambos compartieron.\n",
    "\n",
    "- `consulta()`: ejecuta la query en la base de datos y devuelve los resultados en un DataFrame.\n",
    "\n",
    "- `apply(lambda lista: \", \".join(lista)):` transforma las listas de ciudades en texto legible.\n",
    "\n",
    "- `display()`: presenta los resultados en una tabla formateada; si no hay coincidencias, informa que no se encontraron destinos compartidos."
   ]
  },
  {
   "cell_type": "code",
   "execution_count": null,
   "id": "50903c86-e8e3-4bde-873f-33df0ef8d56a",
   "metadata": {},
   "outputs": [],
   "source": [
    "# Pedimos el nombre del usuario\n",
    "nombre_usuario = input(\"Introduce tu nombre para saber qué lugares visitaste con tus amigos: \")\n",
    "\n",
    "query = \"\"\"\n",
    "MATCH (u:Usuario)\n",
    "WHERE toLower(u.nombre) CONTAINS toLower($nombre)\n",
    "MATCH (u)-[:AMIGO_DE]-(amigo:Usuario)\n",
    "MATCH (u)-[:VISITO]->(d:Destino)<-[:VISITO]-(amigo)\n",
    "RETURN \n",
    "    amigo.nombre AS Nombre,\n",
    "    collect(DISTINCT d.ciudad) AS Destinos_Compartidos\n",
    "ORDER BY Nombre\n",
    "\"\"\"\n",
    "\n",
    "\n",
    "# Ejecutamos la consulta usando la función consulta() que devuelve un DataFrame\n",
    "usuarios = neo4j.consulta(db_neo4j, query, parametros={\"nombre\": nombre_usuario})\n",
    "\n",
    "# Convertimos listas a texto legible\n",
    "usuarios[\"Destinos_Compartidos\"] = usuarios[\"Destinos_Compartidos\"].apply(\n",
    "    lambda lista: \", \".join(lista) if isinstance(lista, list) else lista\n",
    ")\n",
    "\n",
    "# Mostramos el resultado\n",
    "\n",
    "#Encabezado\n",
    "print(\"\\n\" + \"-\"*60)\n",
    "print(f\"{nombre_usuario.upper()} TUS AMIGOS VISITARON ESTOS MISMOS DESTINOS QUE TÚ\")\n",
    "print(\"-\"*60 + \"\\n\")\n",
    "\n",
    "#Tabla\n",
    "if usuarios.empty:\n",
    "    print(\"No se encontraron amigos que hayan visitado los mismos destinos.\")\n",
    "else:\n",
    "    display(usuarios.style.hide(axis=\"index\"))"
   ]
  },
  {
   "cell_type": "markdown",
   "id": "4f4d3f79-80d4-4638-9c72-1ad410d734ad",
   "metadata": {},
   "source": [
    "### C. Sugerir destinos a un usuario que no haya visitado él ni sus amigos. "
   ]
  },
  {
   "cell_type": "markdown",
   "id": "c8a42fa4-8389-4978-bc9c-73e2280e0d25",
   "metadata": {},
   "source": [
    "Esta sección del código identifica **destinos que ni el usuario ni sus amigos han visitado**, utilizando una consulta en **Neo4j** y mostrando los resultados en una tabla formateada.\n",
    "\n",
    "- `input()`: solicita al usuario su nombre para usarlo como filtro en la búsqueda.\n",
    "\n",
    "- `query`: contiene la instrucción **Cypher** que busca todos los nodos `Destino` que **no poseen relación `VISITO`** con el usuario ni con ninguno de sus amigos (`AMIGO_DE`), doble `NOT EXIST`.\n",
    "\n",
    "- `consulta()`: ejecuta la query en la base de datos **Neo4j** y devuelve los resultados en un **DataFrame de pandas**.\n",
    "\n",
    "- `display()`: presenta los **destinos no visitados** en formato de tabla; si no hay resultados, informa que no existen destinos nuevos disponibles.\n"
   ]
  },
  {
   "cell_type": "code",
   "execution_count": null,
   "id": "4ac69eb1",
   "metadata": {
    "scrolled": true
   },
   "outputs": [],
   "source": [
    "nombre_usuario = input(\"Introduce tu nombre para saber qué lugares nuevos que no visitaste ni tu ni tus amigos: \")\n",
    "#Consulta\n",
    "query = \"\"\"\n",
    "MATCH (u:Usuario)\n",
    "WHERE toLower(u.nombre) CONTAINS toLower($nombre)\n",
    "MATCH (d:Destino)\n",
    "WHERE \n",
    "  NOT EXISTS { MATCH (d)<-[:VISITO]-(u) } AND\n",
    "  NOT EXISTS { MATCH (d)<-[:VISITO]-(u)-[:AMIGO_DE]-(amigo) }\n",
    "RETURN DISTINCT d.ciudad AS Destinos_No_Visitados\n",
    "ORDER BY d.ciudad\n",
    "\"\"\"\n",
    "#Destino\n",
    "destinos = neo4j.consulta(db_neo4j, query, parametros={\"nombre\": nombre_usuario})\n",
    "\n",
    "#Encabezado \n",
    "print(\"\\n\" + \"-\"*60)\n",
    "print(f\"DESTINOS NUEVOS PARA {nombre_usuario.upper()} Y SUS AMIGOS\")\n",
    "print(\"-\"*60 + \"\\n\")\n",
    "\n",
    "#Tabla\n",
    "if destinos.empty:\n",
    "    print(\"No hay destinos nuevos disponibles.\")\n",
    "else:\n",
    "    # Mostrar cada destino en lista\n",
    "     display(destinos.style.hide(axis=\"index\"))"
   ]
  },
  {
   "cell_type": "markdown",
   "id": "5a7eeb09-de1d-44c0-9a89-07bfc32a6454",
   "metadata": {},
   "source": [
    "### D. Recomendar destinos basados en viajes de amigos."
   ]
  },
  {
   "cell_type": "markdown",
   "id": "beef8725-08a1-4466-9c22-557ebcb586be",
   "metadata": {},
   "source": [
    "Se recomendan destinos utilizando una consulta en Neo4j y mostrando los resultados en un DataFrame de pandas.\n",
    "\n",
    "- `input()`: solicita al usuario su nombre para usarlo como filtro en la búsqueda.\n",
    "\n",
    "- `query:` contiene la instrucción Cypher que busca al usuario `(Usuario)` y a sus amigos `(AMIGO_DE)`, obteniendo los destinos `(Destino)` visitados por los amigos que el usuario aún no visitó, en el codigo `WHERE NOT EXISTS { MATCH (u)-[:VISITO]->(d) }` .\n",
    "\n",
    "- `consulta()`: ejecuta la query en Neo4j y devuelve los resultados en un DataFrame.\n"
   ]
  },
  {
   "cell_type": "code",
   "execution_count": null,
   "id": "82f83e03-5562-4eda-8d44-6dd69f5c5426",
   "metadata": {},
   "outputs": [],
   "source": [
    "nombre_usuario = input(\"Introduce tu nombre para saber qué lugares te recomendamos: \")\n",
    "\n",
    "query = \"\"\"\n",
    "MATCH (u:Usuario)\n",
    "WHERE toLower(u.nombre) CONTAINS toLower($nombre)\n",
    "MATCH (u)-[:AMIGO_DE]-(amigo:Usuario)\n",
    "MATCH (amigo)-[:VISITO]->(d:Destino)\n",
    "WHERE NOT EXISTS { MATCH (u)-[:VISITO]->(d) } \n",
    "RETURN DISTINCT d.ciudad AS Destino_Recomendado\n",
    "ORDER BY d.ciudad\n",
    "\"\"\"\n",
    "\n",
    "print(\"\\n\" + \"-\"*60)\n",
    "print(f\"RECOMENDACIONES PARA {nombre_usuario.upper()} EN FUNCIÓN DE SUS AMIGOS\")\n",
    "print(\"-\"*60 + \"\\n\")\n",
    "\n",
    "destinos = neo4j.consulta(db_neo4j, query, parametros={\"nombre\": nombre_usuario})\n",
    "\n",
    "if destinos.empty:\n",
    "    print(\"No hay destinos recomendados nuevos para vos.\")\n",
    "else:\n",
    "    display(destinos.style.hide(axis=\"index\"))"
   ]
  },
  {
   "cell_type": "markdown",
   "id": "b459bb91-40ed-4088-8e49-e54a16c93371",
   "metadata": {},
   "source": [
    "### E. Listar los hoteles en los destinos recomendados del punto anterior."
   ]
  },
  {
   "cell_type": "markdown",
   "id": "b2703992-c81d-4472-bdeb-89315d3ac194",
   "metadata": {},
   "source": [
    "Se obtiene los hoteles en los destinos recomendado del punto anterior combinando Neo4j (para recomendaciones de destinos) y MongoDB (para datos de hoteles), y presenta los resultados en un DataFrame de pandas.\n",
    "\n",
    "- `lista_destinos:` toma los destinos recomendados previamente calculados (Destino_Recomendado) y elimina valores nulos y duplicados.\n",
    "\n",
    "- `filtro:` define los criterios de búsqueda en MongoDB para obtener solo hoteles en los destinos recomendados  `{\"ciudad\": {\"$in\": lista_destinos}}` \n",
    "\n",
    "- `proyeccion:` especifica qué campos devolver de la base de datos (nombre, ciudad, direccion) y excluye _id.\n",
    "\n",
    "- `mongo.obtener_cursor()`: ejecuta la consulta en MongoDB y devuelve un cursor con los hoteles que cumplen el filtro.\n",
    "\n",
    "- `pd.DataFrame()`: convierte el cursor de MongoDB en un DataFrame para poder visualizarlo fácilmente.\n",
    "\n",
    "- `display()`: presenta los hoteles encontrados en una tabla ordenada por ciudad y nombre de hotel; si no hay resultados, informa que no se encontraron hoteles disponibles."
   ]
  },
  {
   "cell_type": "code",
   "execution_count": null,
   "id": "7b7b37ad-b85c-45d9-98db-1b057c13b1d4",
   "metadata": {},
   "outputs": [],
   "source": [
    "coleccion = \"hoteles\"\n",
    "\n",
    "# Lista de destinos recomendados\n",
    "lista_destinos = destinos[\"Destino_Recomendado\"].dropna().unique().tolist()\n",
    "\n",
    "if not lista_destinos:\n",
    "    print(\"No hay destinos recomendados disponibles.\")\n",
    "else:\n",
    "    filtro = {\"ciudad\": {\"$in\": lista_destinos}}\n",
    "    proyeccion = {\"_id\": 0, \"nombre\": 1, \"ciudad\": 1, \"direccion\": 1}\n",
    "\n",
    "    # Obtener datos de Mongo y convertir a DataFrame\n",
    "    cursor = mongo.obtener_cursor(\n",
    "        NOMBRE_BD_MONGO,\n",
    "        nombre_coleccion=coleccion,\n",
    "        filtro=filtro,\n",
    "        proyeccion=proyeccion\n",
    "    )\n",
    "\n",
    "    hoteles = pd.DataFrame(list(cursor))\n",
    "\n",
    "    if hoteles.empty:\n",
    "        print(\"No se encontraron hoteles en los destinos recomendados.\")\n",
    "    else:\n",
    "        # Ordenar por ciudad y luego por nombre de hotel\n",
    "        display(hoteles.style.hide(axis=\"index\"))"
   ]
  },
  {
   "cell_type": "markdown",
   "id": "cd981b85-6d94-498b-ab79-0199ac50e662",
   "metadata": {},
   "source": [
    "### F. Ver las reservas en proceso, es decir que aún no están concretadas. "
   ]
  },
  {
   "cell_type": "markdown",
   "id": "10eb7067-a4cf-46e9-a189-a10286c51747",
   "metadata": {},
   "source": [
    "Esta sección del código permite consultar y mostrar reservas temporales almacenadas en Redis, mostrando los datos y el tiempo de vida restante de cada clave.\n",
    "\n",
    "- `db_redis.keys(\"reserva_temp:\")`: obtiene todas las claves de Redis que comienzan con \"reserva_temp:\", es decir, todas las reservas en proceso.\n",
    "\n",
    "- `len(claves)`: calcula la cantidad total de reservas temporales encontradas.\n",
    "\n",
    "- `input()`: solicita al usuario cuántas reservas desea listar de las encontradas.\n",
    "\n",
    "- `for clave in claves[:cantidad]:` recorre las  claves  y con `db_redis.hgetall(clave)`: obtiene todos los campos y valores almacenados en la clave tipo hash de Redis.\n",
    "\n",
    "- `db_redis.ttl(clave):` devuelve el tiempo de vida restante (TTL, Time To Live) de la clave en segundos.\n",
    "\n",
    "- `print()`: muestra cada clave junto con sus datos y el TTL de manera legible.\n",
    "\n"
   ]
  },
  {
   "cell_type": "code",
   "execution_count": null,
   "id": "1a5b2b66-fbc3-4027-a5eb-205fbf8f94cc",
   "metadata": {},
   "outputs": [],
   "source": [
    "claves = db_redis.keys(\"reserva_temp:*\")\n",
    "print(f\"Cantidad de reservas en proceso {len(claves)}\\n\")\n",
    "\n",
    "if claves:\n",
    "    cantidad = int(input (\"¿Cuántas se desean listar?\"))\n",
    "    print(f\"Se imprimen las primeras {cantidad}:\")\n",
    "    for clave in claves[:cantidad]:\n",
    "        datos = db_redis.hgetall(clave)\n",
    "        tiempo_restante = db_redis.ttl(clave)\n",
    "        print(f\"{clave}: {datos} | TTL: {tiempo_restante} segundos\")"
   ]
  },
  {
   "cell_type": "markdown",
   "id": "ade67b15-bc20-439d-99a8-1eeb0b039311",
   "metadata": {},
   "source": [
    "### G. Listar los usuarios conectados actualmente. "
   ]
  },
  {
   "cell_type": "markdown",
   "id": "261c0564-f602-4127-8da3-d6ce3c2cfe33",
   "metadata": {},
   "source": [
    "Se utiliza `db_redis.keys(\"usuario:*:sesion\")` con el cual se  obtiene todas las claves de Redis que coinciden con el patrón `\"usuario:*:sesion\"`, es decir, todas las sesiones activas de los usuarios.\n",
    "\n",
    "- `len(claves)` calcula la cantidad total de usuarios conectados.\n",
    "\n",
    "- Se recorre todas las claves encontradas y con `clave.split(\":\")[1]`: extrae el `usuario_id` del nombre de la clave, que está en la segunda posición después de :\n",
    "\n",
    "- `db_redis.get(clave)`: obtiene el estado de la sesión almacenado en la clave (por ejemplo, activo, inactivo, etc.).\n",
    "\n",
    "- `db_redis.ttl(clave)`: devuelve el tiempo de vida restante de la sesión en segundos.\n"
   ]
  },
  {
   "cell_type": "code",
   "execution_count": null,
   "id": "27ad781f-fa03-4f5f-bb8d-11e15a652d20",
   "metadata": {},
   "outputs": [],
   "source": [
    "claves = db_redis.keys(\"usuario:*:sesion\")\n",
    "print(f\"Cantidad de usuarios conectados {len(claves)}\\n\")\n",
    "\n",
    "if claves:\n",
    "    print(\"Usuarios:\")\n",
    "    for clave in claves:\n",
    "        usuario_id = clave.split(\":\")[1]\n",
    "        estado = db_redis.get(clave)\n",
    "        tiempo_restante = db_redis.ttl(clave)\n",
    "        print(f\"Usuario {usuario_id} → sesión: {estado} | TTL: {tiempo_restante} segundos\")"
   ]
  },
  {
   "cell_type": "markdown",
   "id": "e7c3ca0e-27f8-4994-884a-862a2c7ddad2",
   "metadata": {},
   "source": [
    "### H. Mostrar los destinos con precio inferior a $100.000"
   ]
  },
  {
   "cell_type": "markdown",
   "id": "54d36462-1a1b-4898-b395-cd5ab1aa86cd",
   "metadata": {},
   "source": [
    "\n",
    "\n",
    "-  `filtro:` construye el criterio de búsqueda (precio_promedio < precio).\n",
    "\n",
    "-  `proyeccion:` indica los campos a devolver (excluyendo _id).\n",
    "\n",
    "-  `redis.obtener_cache():` busca primero el resultado en Redis.\n",
    "\n",
    "- `mongo.obtener_cursor():` consulta MongoDB si no está en caché.\n",
    "\n",
    "- `redis.guardar_en_cache():` guarda el resultado en Redis con TTL de 300 segundos.\n",
    "\n",
    "- `pd.DataFrame():` convierte los resultados a DataFrame de pandas, los ordena por destino y los muestra en formato de tabla ."
   ]
  },
  {
   "cell_type": "code",
   "execution_count": null,
   "id": "c1830ae2-8119-4540-bb8e-53442062bde9",
   "metadata": {},
   "outputs": [],
   "source": [
    "precio=100000\n",
    "coleccion = \"destinos\"\n",
    "filtro={\"precio_promedio\": {\"$lt\": precio}}\n",
    "proyeccion = {\"_id\":0}\n",
    "\n",
    "# Busca en caché y sino consulta en MongoDB\n",
    "resultado = redis.obtener_cache(coleccion, filtro)\n",
    "if resultado is None:\n",
    "    print(\"Consulta hecha en Mongo\")\n",
    "    resultado = list(mongo.obtener_cursor(NOMBRE_BD_MONGO,coleccion,filtro=filtro,proyeccion=proyeccion))\n",
    "    if resultado:\n",
    "        redis.guardar_en_cache(coleccion,filtro,resultado,ttl=300)\n",
    "else:\n",
    "    print(\"Consulta hecha en Redis\")\n",
    "        \n",
    "df = pd.DataFrame(resultado)\n",
    "if not df.empty:\n",
    "    df_ordenado = df.sort_values(by=\"destino_id\")\n",
    "    display(df_ordenado.style.hide(axis=\"index\"))\n",
    "else:\n",
    "    print(f\"No existen destinos con precio inferior a {precio}\")"
   ]
  },
  {
   "cell_type": "markdown",
   "id": "e9bdc948-d1aa-4cad-a6fa-754f4b8ecc19",
   "metadata": {},
   "source": [
    "### I. Mostrar todos los Hoteles de “Jujuy”."
   ]
  },
  {
   "cell_type": "markdown",
   "id": "34171560-0f58-4065-a52b-07ab3c172ff2",
   "metadata": {},
   "source": [
    "Esta sección permite obtener información de hoteles en una ciudad específica, utilizando Redis como caché y MongoDB como fuente de datos principal.\n",
    "\n",
    "- `coleccion y ciudad`: definen la colección y ciudad a consultar.\n",
    "\n",
    "- `filtro`: criterio de búsqueda en MongoDB/Redis (ciudad = ciudad).\n",
    "\n",
    "- `proyeccion`: campos a devolver (nombre, ciudad y dirección).\n",
    "\n",
    "- `redis.obtener_cache()`: intenta recuperar los datos desde Redis primero.\n",
    "\n",
    "- `mongo.obtener_cursor()`: consulta MongoDB si no hay resultados en caché.\n",
    "\n",
    "- `redis.guardar_en_cache()`: almacena los resultados en Redis con TTL de 300 segundos.\n",
    "\n",
    "- Imprime los datos de los hoteles en pantalla \n",
    "\n"
   ]
  },
  {
   "cell_type": "code",
   "execution_count": null,
   "id": "f9fb2e9a-0b76-4ea0-abdf-ae547e2961a7",
   "metadata": {},
   "outputs": [],
   "source": [
    "coleccion = \"hoteles\"\n",
    "ciudad = \"San Salvador de Jujuy\"\n",
    "filtro = {\"ciudad\": ciudad}\n",
    "proyeccion = {\"_id\": 0, \"nombre\": 1, \"ciudad\": 1, \"direccion\": 1}\n",
    "\n",
    "# Busca en caché y sino consulta en MongoDB\n",
    "resultado = redis.obtener_cache(coleccion, filtro)\n",
    "if resultado is None:\n",
    "    print(\"Consulta hecha en Mongo\")\n",
    "    resultado = list(mongo.obtener_cursor(NOMBRE_BD_MONGO,nombre_coleccion=coleccion,filtro=filtro,proyeccion=proyeccion))\n",
    "    if resultado:\n",
    "        redis.guardar_en_cache(coleccion,filtro,resultado,ttl=300)\n",
    "else:\n",
    "    print(\"Consulta hecha en Redis\")\n",
    "\n",
    "df_hoteles = pd.DataFrame(resultado)\n",
    "\n",
    "if not df_hoteles.empty:\n",
    "    df_ordenado = df_hoteles.sort_values(by=\"nombre\")\n",
    "    display(df_ordenado.style.hide(axis=\"index\"))\n",
    "else:\n",
    "     print(\"No se encontraron hoteles en los destinos recomendados.\")       "
   ]
  },
  {
   "cell_type": "markdown",
   "id": "4e826afb-eff6-43c7-9a7f-f501429fadbd",
   "metadata": {},
   "source": [
    "### J. Mostrar la cantidad de hoteles de un destino que guste. "
   ]
  },
  {
   "cell_type": "markdown",
   "id": "8ab3d88f-4261-4b93-bdf1-9b1f8823c969",
   "metadata": {},
   "source": [
    "- `input():` solicita al usuario si quiere agrupar por provincia o ciudad y el nombre del lugar.\n",
    "\n",
    "- `filtro:` define dinámicamente el criterio de búsqueda según la elección del usuario.\n",
    "\n",
    "- `campo_agrupacion:` si se agrupa por provincia, se contará por ciudad dentro de esa provincia; si es ciudad, se usa directamente.\n",
    "\n",
    "- `mongo.contador():` función personalizada que realiza el conteo de hoteles según los parámetros indicados y devuelve un cursor."
   ]
  },
  {
   "cell_type": "code",
   "execution_count": null,
   "id": "71f8baa0-c3bd-4566-98cd-6080ebc1f706",
   "metadata": {},
   "outputs": [],
   "source": [
    "coleccion='hoteles'\n",
    "#Pedimos al usuario el tipo de agrupación y el valor a buscar\n",
    "agrupar = input(\"¿Querés agrupar por 'provincia' o 'ciudad'? \").strip().lower()\n",
    "lugar = input(f\"Introduce el nombre de la {agrupar}: \").strip().lower().title()\n",
    "\n",
    "#Definimos el filtro dinámico según la elección\n",
    "filtro = {agrupar: lugar}\n",
    "\n",
    "#Si el usuario elige 'provincia', agrupamos por ciudad dentro de esa provincia\n",
    "if agrupar == \"provincia\":\n",
    "    campo_agrupacion = \"ciudad\"\n",
    "else:\n",
    "    campo_agrupacion = agrupar\n",
    "\n",
    "resultado = redis.obtener_cache(coleccion, filtro)\n",
    "if resultado is None:\n",
    "    #Ejecutamos la función para contar hoteles\n",
    "    resultado = list(mongo.contador(\n",
    "        nombre_base=NOMBRE_BD_MONGO,\n",
    "        coleccion=coleccion,\n",
    "        agrupacion=campo_agrupacion,\n",
    "        campo_calculo=\"hotel_id\",\n",
    "        filtrar=filtro\n",
    "    ))\n",
    "    print(\"Consulta hecha en Mongo\")\n",
    "    if resultado:\n",
    "        redis.guardar_en_cache(coleccion,filtro,resultado,ttl=300)    \n",
    "else:\n",
    "    print(\"Consulta hecha en Redis\")\n",
    "\n",
    "#Convertimos el resultado a DataFrame\n",
    "hoteles = pd.DataFrame(resultado)\n",
    "if not df.empty:\n",
    "    print(f\"\\n Cantidad de hoteles dentro de la {agrupar} {lugar}\")\n",
    "    display(hoteles.style.hide(axis=\"index\"))\n",
    "else:\n",
    "    print(f\"No existen hoteles dentro de la {agrupar} {lugar}\")"
   ]
  },
  {
   "cell_type": "markdown",
   "id": "7bc48eaa-eae9-4c22-9036-ff018d34d4b7",
   "metadata": {},
   "source": [
    "### K. Mostrar las actividades de “Ushuaia” del tipo “aventura”."
   ]
  },
  {
   "cell_type": "markdown",
   "id": "fcb15934-f31b-4cc2-95dd-80345c6c4d91",
   "metadata": {},
   "source": [
    "Esta sección permite obtener actividades *turísticas filtradas por tipo y ciudad, utilizando Redis como caché para optimizar la consulta y MongoDB como fuente de datos principal*.\n",
    "\n",
    "- `filtro:` define los criterios de búsqueda en función de la ciudad y el tipo de actividad.\n",
    "\n",
    "- `redis.obtener_cache():` busca en caché los resultados para evitar consultas repetidas a MongoDB.\n",
    "\n",
    "- `mongo.obtener_cursor():` si no hay datos en Redis, consulta MongoDB y obtiene los documentos según el filtro y la proyección indicada.\n",
    "\n",
    "- `redis.guardar_en_cache():` guarda los resultados obtenidos de MongoDB en Redis para futuras consultas, con un TTL de 300 segundos.\n",
    "\n",
    "- `pd.DataFrame():` convierte los resultados en un DataFrame de pandas para facilitar la visualización."
   ]
  },
  {
   "cell_type": "code",
   "execution_count": null,
   "id": "0e0cae71-3b60-466b-bcf5-a2dffb71eff3",
   "metadata": {},
   "outputs": [],
   "source": [
    "coleccion = \"actividades\"\n",
    "tipo=\"aventura\"\n",
    "ciudad=\"Ushuaia\"\n",
    "filtro = {\"ciudad\":ciudad,\"tipo\":tipo}\n",
    "proyeccion = {\"_id\":0}\n",
    "\n",
    "resultado = redis.obtener_cache(coleccion, filtro)\n",
    "if resultado is None:\n",
    "    resultado = list(mongo.obtener_cursor(NOMBRE_BD_MONGO,coleccion,filtro=filtro,proyeccion=proyeccion))\n",
    "    print(\"Consulta hecha en Mongo\")\n",
    "    if resultado:\n",
    "        redis.guardar_en_cache(coleccion,filtro,resultado,ttl=300)\n",
    "else:\n",
    "    print(\"Consulta hecha en Redis\")\n",
    "    \n",
    "df = pd.DataFrame(resultado)\n",
    "if not df.empty:\n",
    "    df_ordenado = df.sort_values(by=\"actividad_id\")\n",
    "    display(df_ordenado.style.hide(axis=\"index\"))\n",
    "else:\n",
    "    print(f\"No existen actividades de tipo {tipo} en {ciudad}\")"
   ]
  },
  {
   "cell_type": "markdown",
   "id": "aba91348-5d0a-424b-b2f2-75b506b969b3",
   "metadata": {},
   "source": [
    "### L. Mostrar la cantidad de reservas concretadas de cada usuario. Mostrar el usuario y la cantidad "
   ]
  },
  {
   "cell_type": "markdown",
   "id": "43edcaab-8634-4be0-b98a-fce52ef60587",
   "metadata": {},
   "source": [
    "- `coleccion`: nombre de la colección de MongoDB donde están las reservas (\"reservas\").\n",
    "\n",
    "- `estados`: lista de estados de reserva a considerar ([\"Confirmada\", \"Pagada\"]).\n",
    "\n",
    "- `filtro`: diccionario que filtra las reservas por los estados definidos en `estados`.\n",
    "\n",
    "- `pipeline`: lista de etapas de agregación de MongoDB que define cómo procesar los datos:\n",
    "    - `$match`: filtra las reservas según `filtro`.\n",
    "    - `$group`: agrupa por `usuario_id` y cuenta las reservas concretadas.\n",
    "    - `$lookup`: une con la colección `usuarios` para obtener información del usuario.\n",
    "    - `$unwind`: desanida el array de información del usuario.\n",
    "    - `$project`: selecciona y renombra los campos a mostrar (`Nombre`, `Apellido`, `Reservas_concretadas`).\n",
    "    - `$sort`: ordena los resultados de mayor a menor según reservas concretadas.\n",
    "      \n",
    "\n",
    "- `resultado`: lista con los documentos obtenidos, ya sea desde Redis o desde MongoDB si no estaba en cache.\n",
    "\n",
    "- `df`: DataFrame de Pandas que contiene la información final lista para mostrar en el notebook.\n"
   ]
  },
  {
   "cell_type": "code",
   "execution_count": null,
   "id": "bdb34b6e-fe60-481f-b7b4-0f5439906c33",
   "metadata": {},
   "outputs": [],
   "source": [
    "coleccion = \"reservas\"\n",
    "estados = [\"Confirmada\",\"Pagada\"]\n",
    "filtro = {\"estado\": {\"$in\":estados}}\n",
    "\n",
    "pipeline =[ \n",
    "    {\"$match\": filtro},\n",
    "    {\"$group\": {\n",
    "        \"_id\": \"$usuario_id\",  # este es el ID del usuario\n",
    "        \"Reservas_concretadas\": {\"$sum\": 1}\n",
    "    }},\n",
    "    {\"$lookup\": {\n",
    "        \"from\": \"usuarios\",           # nombre de la colección a unir\n",
    "        \"localField\": \"_id\",          # campo en esta colección (el ID del usuario)\n",
    "        \"foreignField\": \"usuario_id\",        # campo en la colección \"usuarios\"\n",
    "        \"as\": \"usuario_info\"          # nombre del nuevo campo con los datos del usuario\n",
    "    }},\n",
    "    {\"$unwind\": \"$usuario_info\"},     # desanida el array para acceder directamente\n",
    "    {\"$project\": {\n",
    "        \"_id\": 0,\n",
    "        \"Nombre\": \"$usuario_info.nombre\",\n",
    "        \"Apellido\": \"$usuario_info.apellido\",\n",
    "        \"Reservas_concretadas\": 1\n",
    "    }},\n",
    "    {\"$sort\": {\"Reservas_concretadas\": -1}}\n",
    "]\n",
    "\n",
    "resultado = redis.obtener_cache(coleccion, filtro)\n",
    "if resultado is None:\n",
    "    print(\"Consulta hecha en Mongo\")\n",
    "    resultado = list(client[NOMBRE_BD_MONGO][coleccion].aggregate(pipeline))\n",
    "    if resultado:\n",
    "        redis.guardar_en_cache(coleccion,filtro,resultado,ttl=300)\n",
    "else:\n",
    "    print(\"Consulta hecha en Redis\")\n",
    "        \n",
    "df = pd.DataFrame(resultado)\n",
    "df = df[[\"Nombre\", \"Apellido\", \"Reservas_concretadas\"]]\n",
    "display(df.style.hide(axis=\"index\"))"
   ]
  },
  {
   "cell_type": "markdown",
   "id": "f0c3f88f-a292-4d2a-bc23-4c7053004160",
   "metadata": {},
   "source": [
    "## 2.Estadísticas"
   ]
  },
  {
   "cell_type": "markdown",
   "id": "b2edec22-518e-4844-8ec9-fb257dfae711",
   "metadata": {},
   "source": [
    "### I.Destino más visitado"
   ]
  },
  {
   "cell_type": "markdown",
   "id": "f60fc638-641d-4d88-953d-06f5845a11b9",
   "metadata": {},
   "source": [
    "Este bloque obtiene los **10 destinos más visitados** según reservas confirmadas o pagadas:\n",
    "\n",
    "- `estados`: lista de estados de reserva a considerar ([\"Confirmada\", \"Pagada\"]).\n",
    "\n",
    "- `filtro`: diccionario que filtra las reservas por los estados definidos en `estados`.\n",
    "\n",
    "- `pipeline`: lista de etapas de agregación de MongoDB que define cómo procesar los datos:\n",
    "    - `$match`: filtra las reservas según `filtro`.\n",
    "    - `$group`: agrupa por `destino_id` y cuenta cuántas veces se visitó cada destino (`Cantidad_Visitas`).\n",
    "    - `$lookup`: une con la colección `destinos` para obtener información del destino.\n",
    "    - `$unwind`: desanida el array de información del destino.\n",
    "    - `$project`: selecciona y renombra los campos a mostrar (`Destino` y `Cantidad_Visitas`).\n",
    "    - `$sort`: ordena los resultados de mayor a menor según `Cantidad_Visitas`.\n",
    "    - `$limit`: limita el resultado a los 10 destinos más visitados.\n",
    "\n",
    "- `resultado`: lista con los documentos obtenidos desde MongoDB.\n",
    "\n",
    "- `df`: DataFrame de Pandas que contiene la información final lista para mostrar en el notebook.\n"
   ]
  },
  {
   "cell_type": "code",
   "execution_count": null,
   "id": "16f6fa27-3407-44e6-a1da-c241a0aba185",
   "metadata": {},
   "outputs": [],
   "source": [
    "estados = [\"Confirmada\",\"Pagada\"]\n",
    "filtro = {\"estado\": {\"$in\":estados}}\n",
    "\n",
    "pipeline =[ \n",
    "    {\"$match\": filtro},\n",
    "    {\"$group\": {\n",
    "        \"_id\": \"$destino_id\",  # este es el ID del destino\n",
    "        \"Cantidad_Visitas\": {\"$sum\": 1}\n",
    "    }},\n",
    "    {\"$lookup\": {\n",
    "        \"from\": \"destinos\",           # nombre de la colección a unir\n",
    "        \"localField\": \"_id\",          # campo en esta colección (el ID del destino)\n",
    "        \"foreignField\": \"destino_id\",        # campo en la colección \"destino\"\n",
    "        \"as\": \"destino_visitas\"          # nombre del nuevo campo con los datos del destino\n",
    "    }},\n",
    "    {\"$unwind\": \"$destino_visitas\"},     # desanida el array para acceder directamente\n",
    "    {\"$project\": {\n",
    "        \"_id\": 0,\n",
    "        \"Destino\": \"$destino_visitas.ciudad\",\n",
    "        \"Cantidad_Visitas\": 1\n",
    "    }},\n",
    "    {\"$sort\": {\"Cantidad_Visitas\": -1}},\n",
    "    {\"$limit\": 10}\n",
    "]\n",
    "\n",
    "resultado = list(client[NOMBRE_BD_MONGO].reservas.aggregate(pipeline))\n",
    "      \n",
    "df = pd.DataFrame(resultado)\n",
    "df = df[[\"Destino\", \"Cantidad_Visitas\"]]\n",
    "print(\"Destino mas vistado\")\n",
    "display(df.style.hide(axis=\"index\"))"
   ]
  },
  {
   "cell_type": "markdown",
   "id": "944fa529-ef5a-48b1-bca6-8952f75f5873",
   "metadata": {},
   "source": [
    "Se grafica un **barplot horizontal** de los 10 destinos más visitados, usando Seaborn.  \n",
    "Las barras muestran la cantidad de visitas, se ordenan de mayor a menor y se etiquetan con los valores exactos.  "
   ]
  },
  {
   "cell_type": "code",
   "execution_count": null,
   "id": "423b1ea8-bc4c-4b96-a15e-12509ef9219f",
   "metadata": {},
   "outputs": [],
   "source": [
    "# Ordenar df por Cantidad_Visitas descendente y tomar top 10\n",
    "df_top10 = df.nlargest(10, \"Cantidad_Visitas\")\n",
    "\n",
    "# Azul clásico de Seaborn\n",
    "azul_sns = sns.color_palette(\"deep\")[0]\n",
    "\n",
    "plt.figure(figsize=(12, 6))  # más ancho para legibilidad\n",
    "\n",
    "ax = sns.barplot(\n",
    "    data=df_top10,\n",
    "    y=\"Destino\",\n",
    "    x=\"Cantidad_Visitas\",\n",
    "    color=azul_sns\n",
    ")\n",
    "\n",
    "# Quitar bordes superior y derecho\n",
    "sns.despine(left=True, bottom=True)\n",
    "\n",
    "# Títulos y etiquetas\n",
    "plt.title(\"Top 10 Destinos más Visitados\", fontsize=16, fontweight=\"bold\")\n",
    "plt.xlabel(\"Cantidad de Visitas\", fontsize=14)\n",
    "plt.ylabel(\"Destino\", fontsize=14)\n",
    "\n",
    "# Mostrar etiquetas de cantidad al final de cada barra\n",
    "for i, v in enumerate(df_top10[\"Cantidad_Visitas\"]):\n",
    "    ax.text(v + 0.5, i, str(v), color='black', va='center', fontsize=12, fontweight='medium')\n",
    "\n",
    "plt.tight_layout()\n",
    "plt.show()\n"
   ]
  },
  {
   "cell_type": "markdown",
   "id": "b2152a43-66c6-4852-9805-dba7d5f58831",
   "metadata": {},
   "source": [
    "### II. Hotel más barato"
   ]
  },
  {
   "cell_type": "markdown",
   "id": "e3e1ce6a-d73b-4d31-bfcf-4065291c669b",
   "metadata": {},
   "source": [
    "Este bloque obtiene los **10 hoteles más baratos** según reservas confirmadas o pagadas:\n",
    "\n",
    "estados`: lista de estados de reserva a considerar ([\"Confirmada\", \"Pagada\"]).\n",
    "\n",
    "- `filtro`: diccionario que filtra las reservas por los estados definidos en `estados`.\n",
    "\n",
    "- `pipeline`: lista de etapas de agregación de MongoDB que define cómo procesar los datos:\n",
    "    - `$match`: filtra las reservas según `filtro`.\n",
    "    - `$group`: agrupa por `hotel_id` y calcula el precio mínimo (`Precio_minimo`).\n",
    "    - `$lookup`: une con la colección `hoteles` para obtener información del hotel.\n",
    "    - `$unwind`: desanida el array de información del hotel.\n",
    "    - `$project`: selecciona y renombra los campos a mostrar (`Hotel`, `Ciudad`, `Precio_minimo`).\n",
    "    - `$sort`: ordena los resultados de menor a mayor según `Precio_minimo`.\n",
    "    - `$limit`: limita el resultado a los 10 hoteles más baratos.\n",
    "\n",
    "- `resultado`: lista con los documentos obtenidos desde MongoDB.\n",
    "\n",
    "- `df`: DataFrame de Pandas que contiene la información final lista para mostrar en el notebook."
   ]
  },
  {
   "cell_type": "code",
   "execution_count": null,
   "id": "d026968b-61f6-45fb-9c32-588f34d5a28b",
   "metadata": {},
   "outputs": [],
   "source": [
    "estados = [\"Confirmada\",\"Pagada\"]\n",
    "filtro = {\"estado\": {\"$in\":estados}}\n",
    "\n",
    "pipeline =[ \n",
    "    {\"$match\": filtro},\n",
    "    {\"$group\": {\n",
    "        \"_id\": \"$hotel_id\",  # este es id del hotel\n",
    "        \"Precio_minimo\": {\"$min\": \"$precio_total\"} #el minimo del campo precio_total\n",
    "    }},\n",
    "    {\"$lookup\": {\n",
    "        \"from\": \"hoteles\",           # nombre de la colección a unir\n",
    "        \"localField\": \"_id\",          # campo en esta colección (el ID del hotel)\n",
    "        \"foreignField\": \"hotel_id\",        # campo en la colección \"usuarios\"\n",
    "        \"as\": \"hoteles_min_precios\"          # nombre del nuevo campo con los datos del usuario\n",
    "    }},\n",
    "    {\"$unwind\": \"$hoteles_min_precios\"},     # desanida el array para acceder directamente\n",
    "    {\"$project\": {\n",
    "        \"_id\": 0,\n",
    "        \"Hotel\": \"$hoteles_min_precios.nombre\",\n",
    "        \"Ciudad\": \"$hoteles_min_precios.ciudad\",\n",
    "        \"Precio_minimo\": 1\n",
    "    }},\n",
    "    {\"$sort\": {\"Precio_minimo\": 1}},\n",
    "    {\"$limit\": 10}\n",
    "]\n",
    "\n",
    "resultado = list(client[NOMBRE_BD_MONGO][\"reservas\"].aggregate(pipeline))\n",
    "      \n",
    "df = pd.DataFrame(resultado)\n",
    "df = df[[\"Hotel\", \"Ciudad\",\"Precio_minimo\"]]\n",
    "print(\"Hotel mas barato\")\n",
    "display(df.style.hide(axis=\"index\"))"
   ]
  },
  {
   "cell_type": "code",
   "execution_count": null,
   "id": "feaaf539-29ce-4f88-9993-81bd3d2e2f0b",
   "metadata": {},
   "outputs": [],
   "source": [
    "# Crear columna unificando Hotel y Ciudad\n",
    "df[\"Hotel_Ciudad\"] = df[\"Hotel\"] + \" (\" + df[\"Ciudad\"] + \")\"\n",
    "\n",
    "# Configuración del gráfico\n",
    "plt.figure(figsize=(12, 6))  # más ancho para legibilidad\n",
    "color_sns = sns.color_palette(\"deep\")[0]\n",
    "\n",
    "ax = sns.barplot(\n",
    "    data=df,\n",
    "    y=\"Hotel_Ciudad\",\n",
    "    x=\"Precio_minimo\",\n",
    "    color=color_sns\n",
    ")\n",
    "\n",
    "sns.despine(left=True, bottom=True)\n",
    "\n",
    "# Títulos y etiquetas\n",
    "plt.title(\"Top 10 Hoteles más baratos\", fontsize=16, fontweight=\"bold\")\n",
    "plt.xlabel(\"Precio ($)\", fontsize=12)\n",
    "plt.ylabel(\"Hotel (Ciudad)\", fontsize=12)\n",
    "\n",
    "# Mostrar etiquetas de precio al final de cada barra\n",
    "for i, v in enumerate(df[\"Precio_minimo\"]):\n",
    "    ax.text(v + 0.5, i, f\"${v:.2f}\", color='black', va='center', fontsize=10)\n",
    "\n",
    "# Ajuste de layout\n",
    "plt.tight_layout()\n",
    "plt.show()\n"
   ]
  },
  {
   "cell_type": "markdown",
   "id": "34787108-84f9-4b3f-bc0a-d33309b8c2f5",
   "metadata": {},
   "source": [
    "### III. Actividad más popular."
   ]
  },
  {
   "cell_type": "markdown",
   "id": "9477f7b4-06ac-4260-9c65-dd51c4fa2dc8",
   "metadata": {},
   "source": [
    "Esta seccón calcula y grafica la **popularidad de cada tipo de actividad** según la cantidad de registros:\n",
    "\n",
    "- `pipeline`: lista de etapas de agregación de MongoDB que define cómo procesar los datos:\n",
    "    - `$group`: agrupa por `tipo` y cuenta la cantidad de cada tipo (`cantidad`).\n",
    "    - `$project`: selecciona y renombra los campos a mostrar (`tipo`, `cantidad`).\n",
    "    - `$sort`: ordena los resultados de mayor a menor según `cantidad`.\n",
    "\n",
    "- `resultado`: lista con los documentos obtenidos desde MongoDB.\n",
    "\n",
    "- `df`: DataFrame de Pandas que contiene la información final lista para mostrar en el notebook.\n",
    "\n",
    "- `tipos`: lista de tipos de actividad, extraída del DataFrame para graficar.\n",
    "\n",
    "- `cantidades`: lista con la cantidad de registros por tipo de actividad, extraída del DataFrame para graficar.\n"
   ]
  },
  {
   "cell_type": "code",
   "execution_count": null,
   "id": "ab81879e-19a5-4d5e-9d81-fc9f23e1d287",
   "metadata": {},
   "outputs": [],
   "source": [
    "pipeline = [\n",
    "    {\"$group\": {\"_id\":\"$tipo\", \"cantidad\": {\"$sum\":1}}},\n",
    "    {\"$project\":{\"_id\":0,\"tipo\":\"$_id\", \"cantidad\": 1}},\n",
    "    {\"$sort\": {\"cantidad\": -1}}\n",
    "]\n",
    "\n",
    "resultado = list(client[NOMBRE_BD_MONGO][\"actividades\"].aggregate(pipeline))\n",
    "\n",
    "df = pd.DataFrame(resultado)\n",
    "df = df[[\"tipo\", \"cantidad\"]]\n",
    "display(df.style.hide(axis=\"index\"))\n",
    "\n",
    "tipos=df[\"tipo\"]\n",
    "cantidades= df[\"cantidad\"]\n",
    "\n",
    "plt.figure(figsize=(10, 6))\n",
    "plt.bar(tipos, cantidades, color=\"steelblue\", edgecolor=\"black\")\n",
    "\n",
    "# Etiquetas y título\n",
    "plt.xlabel(\"Tipo de actividad\")\n",
    "plt.ylabel(\"Cantidad\")\n",
    "plt.title(\"Actividad más popular\")\n",
    "plt.tight_layout()\n",
    "\n",
    "plt.show()"
   ]
  },
  {
   "cell_type": "markdown",
   "id": "5eae57b1-ec8b-469b-8033-8fde97d62c5a",
   "metadata": {},
   "source": [
    "## 3. Modificaciones"
   ]
  },
  {
   "cell_type": "markdown",
   "id": "22039522-23ad-47ac-a709-50975130084b",
   "metadata": {},
   "source": [
    "### A. Incrementar el precio de las actividades de Tucuman en 5% "
   ]
  },
  {
   "cell_type": "markdown",
   "id": "245f3a77-e218-4f6c-ba2a-77654029eea7",
   "metadata": {},
   "source": [
    " - `df_antes`: obtiene los precios actuales (`precio_promedio`) de los destinos según un filtro y los almacena en un DataFrame.  \n",
    "- `update_many`: aplica un **aumento del 5%** sobre el campo `precio_promedio` en la base de datos.  \n",
    "- `df_despues`: recupera los precios **después del aumento** y los almacena en un DataFrame.  \n",
    "- `df_final`: une ambos DataFrames por ciudad para comparar los valores antes y después.  \n",
    "- `Aumento`: calcula la diferencia entre `precio_despues` y `precio_antes`.  \n",
    "- La tabla final se muestra **formateada a dos decimales** y sin índice, para una visualización clara.  \n",
    "\n",
    "---\n",
    "\n",
    "**Variables principales**\n",
    "\n",
    "- `coleccion`: colección de MongoDB donde están los destinos.  \n",
    "- `proyeccion`: campos a traer de la colección (`ciudad` y `precio_promedio`).  \n",
    "- `filtro`: condición para seleccionar los destinos a actualizar.  \n",
    "- `cursor_antes`, `cursor_despues`: resultados de MongoDB antes y después del aumento.  \n",
    "- `df_antes`, `df_despues`: DataFrames de Pandas con los precios antes y después.  \n",
    "- `df_final`: DataFrame combinado que permite comparar los precios.  \n",
    "- `Aumento`: columna calculada con la diferencia de precios tras el aumento.\n"
   ]
  },
  {
   "cell_type": "code",
   "execution_count": null,
   "id": "08275133",
   "metadata": {},
   "outputs": [],
   "source": [
    "#------------------------------------------------------------------------------------------------------------------------\n",
    "# Parametros \n",
    "#------------------------------------------------------------------------------------------------------------------------\n",
    "\n",
    "coleccion = \"actividades\"\n",
    "filtro = {\"provincia\": \"Tucumán\"}\n",
    "proyeccion = {\"_id\": 0, \"actividad_id\": 1, \"nombre\": 1, \"provincia\": 1, \"precio\": 1}\n",
    "variacion_precio = 1.05\n",
    "db = mongo.client[NOMBRE_BD_MONGO]\n",
    "\n",
    "#------------------------------------------------------------------------------------------------------------------------\n",
    "# Obtener precios antes del aumento\n",
    "#------------------------------------------------------------------------------------------------------------------------\n",
    "\n",
    "cursor_antes = mongo.obtener_cursor(\n",
    "    NOMBRE_BD_MONGO,\n",
    "    nombre_coleccion=coleccion,\n",
    "    filtro=filtro,\n",
    "    proyeccion=proyeccion\n",
    ")\n",
    "\n",
    "df_antes = pd.DataFrame(cursor_antes)\n",
    "df_antes.rename(columns={\"precio\": \"precio_antes\"}, inplace=True)\n",
    "\n",
    "#------------------------------------------------------------------------------------------------------------------------\n",
    "# Aumento 5%\n",
    "#------------------------------------------------------------------------------------------------------------------------\n",
    "\n",
    "db[coleccion].update_many(filtro, {\"$mul\": {\"precio\": variacion_precio}})\n",
    "\n",
    "#------------------------------------------------------------------------------------------------------------------------\n",
    "# Obtener precios después del aumento\n",
    "#------------------------------------------------------------------------------------------------------------------------\n",
    "\n",
    "cursor_despues = mongo.obtener_cursor(\n",
    "    NOMBRE_BD_MONGO,\n",
    "    nombre_coleccion=coleccion,\n",
    "    filtro=filtro,\n",
    "    proyeccion=proyeccion\n",
    ")\n",
    "\n",
    "df_despues = pd.DataFrame(cursor_despues)\n",
    "df_despues.rename(columns={\"precio\": \"precio_despues\"}, inplace=True)\n",
    "\n",
    "#------------------------------------------------------------------------------------------------------------------------\n",
    "# Presentación comparativa\n",
    "#------------------------------------------------------------------------------------------------------------------------\n",
    "\n",
    "# Unir DataFrames por actividad_id\n",
    "df_final = pd.merge(\n",
    "    df_antes,\n",
    "    df_despues,\n",
    "    on=\"actividad_id\",\n",
    "    suffixes=(\"\", \"_dup\")  # las columnas de la derecha se renombrarán con _dup\n",
    ")\n",
    "\n",
    "# Calcular aumento absoluto\n",
    "df_final[\"Aumento\"] = df_final[\"precio_despues\"] - df_final[\"precio_antes\"]\n",
    "\n",
    "# Calcular porcentaje de aumento\n",
    "df_final[\"% Aumento\"] = (df_final[\"Aumento\"] / df_final[\"precio_antes\"]) * 100\n",
    "\n",
    "print\n",
    "# Mostrar resultados formateados\n",
    "display(df_final[[\"actividad_id\", \"nombre\", \"precio_antes\", \"precio_despues\", \"Aumento\", \"% Aumento\"]].style.format({\n",
    "    \"precio_antes\": \"{:.2f}\",\n",
    "    \"precio_despues\": \"{:.2f}\",\n",
    "    \"Aumento\": \"{:.2f}\",\n",
    "    \"% Aumento\": \"{:.2f}%\"\n",
    "}).hide(axis=\"index\"))\n"
   ]
  },
  {
   "cell_type": "markdown",
   "id": "22a527ac-90a3-4e39-8141-44c9ce298bcd",
   "metadata": {},
   "source": [
    "### B. Agregar al hotel id=1 el servicio de SPA "
   ]
  },
  {
   "cell_type": "markdown",
   "id": "d922c429-8d43-4186-b9d3-0190d3d4f2a9",
   "metadata": {},
   "source": [
    "Agrega un servico a un hotel\n",
    "- `update_one`: agrega el servicio `\"wifi\"` al hotel con `hotel_id = 1` usando `$addToSet` (evita duplicados).  \n",
    "- Verifica si el servicio se agregó:  \n",
    "  - Si `modified_count == 0`, significa que el servicio ya existía.  \n",
    "  - Si `modified_count > 0`, muestra cuántos documentos fueron modificados.  \n",
    "- `obtener_cursor`: consulta la colección para **verificar que el servicio se agregó correctamente**.  \n",
    "- `resultado`: almacena la información obtenida del hotel después de la actualización, lista para mostrar.\n",
    "\n",
    "\n",
    "\n",
    "\n",
    "\n",
    "\n"
   ]
  },
  {
   "cell_type": "code",
   "execution_count": null,
   "id": "6a4ca203-b270-4065-aee4-9cab7121cc7c",
   "metadata": {},
   "outputs": [],
   "source": [
    "# Aca usamos la funcion update_one naque hotel\n",
    "\n",
    "resultado = client[NOMBRE_BD_MONGO].hoteles.update_one(\n",
    "    {\"hotel_id\": 1},\n",
    "    {\"$addToSet\": {\"servicios\": \"wifi\"}}\n",
    ")\n",
    "\n",
    "if resultado.modified_count == 0:\n",
    "    print(\"El servicio ya existe\")\n",
    "else:\n",
    "    print(f\"Modificados: {resultado.modified_count}\")"
   ]
  },
  {
   "cell_type": "code",
   "execution_count": null,
   "id": "d1eb4b3c-b295-4302-9412-0aacf1d65679",
   "metadata": {},
   "outputs": [],
   "source": [
    "#Consulta para verificar que se agrego el servicio\n",
    "cursor = mongo.obtener_cursor(NOMBRE_BD_MONGO,\"hoteles\",filtro={\"hotel_id\":1},proyeccion={\"_id\":0})\n",
    "resultado = list(cursor)\n",
    "resultado"
   ]
  },
  {
   "cell_type": "markdown",
   "id": "030c6c43-2a5a-46ef-89b1-a2c30b55cd88",
   "metadata": {},
   "source": [
    "### C. Eliminar el destino que desee"
   ]
  },
  {
   "cell_type": "markdown",
   "id": "bbdf145a-aa75-4b3e-b383-4505e70b41f7",
   "metadata": {},
   "source": [
    "Este bloque realiza lo siguiente:\n",
    "\n",
    "- Solicita al usuario ingresar el **nombre del destino** a eliminar.  \n",
    "- Construye un **filtro** por ciudad para identificar el destino en la colección `destinos`.  \n",
    "- `delete_many`: elimina todos los documentos que coincidan con el filtro.  \n",
    "- Muestra cuántos destinos fueron eliminados.  \n",
    "- Verifica que el destino ya no exista en la colección:  \n",
    "  - Si no se encuentra, muestra un ✅ indicando que fue eliminado correctamente.  \n",
    "  - Si aún existen registros, indica cuántos destinos con ese nombre permanecen."
   ]
  },
  {
   "cell_type": "code",
   "execution_count": null,
   "id": "45c2c505-b08f-4ec4-b50a-0d9760d3bc92",
   "metadata": {},
   "outputs": [],
   "source": [
    "# Pedir destino a eliminar\n",
    "destino_eliminar = input(\"Selecciona un destino a eliminar: \").strip()\n",
    "\n",
    "# Conectar a la base y colecciones\n",
    "coleccion_destinos = db[\"destinos\"]\n",
    "coleccion_hoteles = db[\"hoteles\"]\n",
    "coleccion_actividades = db[\"actividades\"]\n",
    "\n",
    "# Construir filtro por ciudad\n",
    "filtro = {\"ciudad\": destino_eliminar}\n",
    "\n",
    "# Verificar si el destino existe en la colección principal\n",
    "existe_destino = coleccion_destinos.count_documents(filtro) > 0\n",
    "\n",
    "if not existe_destino:\n",
    "    print(f\"⚠️ El destino '{destino_eliminar}' no existe en la base de datos.\")\n",
    "else:\n",
    "    print(f\"✅ Se encontró el destino '{destino_eliminar}'. se eliminará.\")\n",
    "\n",
    "    # Lista de colecciones a procesar\n",
    "    colecciones = {\n",
    "        \"destinos\": coleccion_destinos,\n",
    "        \"hoteles\": coleccion_hoteles,\n",
    "        \"actividades\": coleccion_actividades\n",
    "    }\n",
    "\n",
    "    # Eliminar en todas las colecciones\n",
    "    for nombre, coleccion in colecciones.items():\n",
    "        resultado = coleccion.delete_many(filtro)\n",
    "        print(f\"🗑️ {resultado.deleted_count} documento se ha eliminado en '{nombre}'.\")\n",
    "\n",
    "\n"
   ]
  },
  {
   "cell_type": "markdown",
   "id": "2ce976cf-093e-4c08-a0f5-d3910abe2efb",
   "metadata": {},
   "source": [
    "### D. Eliminar un usuario que desee "
   ]
  },
  {
   "cell_type": "markdown",
   "id": "fecf118f-5180-4e82-badc-97fc4051e8b2",
   "metadata": {},
   "source": [
    "### - Variables y conceptos del código de eliminación de usuario\n",
    "\n",
    "- **`nombre_eliminar`**:  \n",
    "  Cadena de texto ingresada por el usuario que indica el **nombre del usuario a eliminar**.\n",
    "\n",
    "- **`apellido_eliminar`**:  \n",
    "  Cadena de texto ingresada por el usuario que indica el **apellido del usuario a eliminar**.\n",
    "\n",
    "- **`coleccion_usuarios`**:  \n",
    "  Referencia a la **colección de MongoDB** donde se almacenan los usuarios.\n",
    "\n",
    "- **`filtro`**:  \n",
    "  Diccionario que combina `nombre_eliminar` y `apellido_eliminar` para **buscar o eliminar usuarios específicos** en MongoDB.\n",
    "\n",
    "- **`antes`**:  \n",
    "  Lista de documentos que cumplen con el filtro **antes de la eliminación**, utilizada para **verificar la existencia del usuario**.\n",
    "\n",
    "- **`resultado`**:  \n",
    "  Objeto devuelto por `delete_many`, que contiene información sobre **cuántos documentos fueron eliminados** en MongoDB.\n",
    "\n",
    "- **`despues`**:  \n",
    "  Lista de documentos que cumplen con el filtro **después de la eliminación**, utilizada para **verificar que la operación fue exitosa** en MongoDB.\n",
    "\n",
    "- **`query`**:  \n",
    "  Consulta Cypher que elimina el nodo `Usuario` y todas sus relaciones en Neo4j.\n",
    "\n",
    "- **`resultado_verificar`**:  \n",
    "  Resultado de la consulta Cypher que cuenta cuántos nodos con ese nombre y apellido quedan en Neo4j después de la eliminación.\n",
    "\n",
    "- **`cantidad`**:  \n",
    "  Entero extraído de `resultado_verificar` que indica la **cantidad de nodos restantes** en Neo4j con ese usuario.\n"
   ]
  },
  {
   "cell_type": "code",
   "execution_count": null,
   "id": "c6bdaa62-84ae-4ebb-8ca3-78d6a8348d03",
   "metadata": {},
   "outputs": [],
   "source": [
    "# Solicita  nombre y apellido del usuario a eliminar\n",
    "nombre_eliminar = input(\"Escriba el nombre del usuario a eliminar: \")\n",
    "apellido_eliminar = input(\"Escriba el apellido del usuario a eliminar: \")\n",
    "\n",
    "#------------------------------------------------------------------------------------------------\n",
    "#                                Eliminar de Mongo\n",
    "#------------------------------------------------------------------------------------------------  \n",
    "\n",
    "# Conectar a la colección de usuarios\n",
    "coleccion_usuarios = db[\"usuarios\"]\n",
    "\n",
    "# Construir filtro por nombre y apellido\n",
    "filtro = {\"nombre\": nombre_eliminar, \"apellido\": apellido_eliminar}\n",
    "\n",
    "# Buscar si existe antes de eliminar\n",
    "antes = list(coleccion_usuarios.find(filtro))\n",
    "if antes:\n",
    "    print(f\"Se encontraron {len(antes)} usuario(s) con ese nombre y apellido:\")\n",
    "    for i in antes:\n",
    "        print(f\" - {i}\")\n",
    "else:\n",
    "    print(\"No se encontró ningún usuario con ese nombre y apellido.\")\n",
    "\n",
    "# Eliminar documento\n",
    "resultado = coleccion_usuarios.delete_many(filtro)\n",
    "print(f\"\\nSe eliminaron {resultado.deleted_count} usuario(s).\")\n",
    "\n",
    "# Verificar que se eliminó\n",
    "despues = list(coleccion_usuarios.find(filtro))\n",
    "if not despues:\n",
    "    print(f\"✅ El usuario '{nombre_eliminar} {apellido_eliminar}' ya no existe en la colección de MOngo.\")\n",
    "else:\n",
    "    print(f\"⚠️ Aún existen {len(despues)} usuario(s) con ese nombre y apellido en Mongo.\")\n",
    "\n",
    "\n",
    "#------------------------------------------------------------------------------------------------\n",
    "#                                Eliminar de Neo4j - Nodos y sus relaciones\n",
    "#------------------------------------------------------------------------------------------------  \n",
    "\n",
    "# Eliminar de Relaciones\n",
    "query = \"\"\"\n",
    "MATCH (u:Usuario {nombre: $nombre, apellido: $apellido})\n",
    "DETACH DELETE u\n",
    "\"\"\"\n",
    "with db_neo4j.session() as session:\n",
    "    result = session.run(query, nombre=nombre_eliminar, apellido=apellido_eliminar)\n",
    "    print(f\"Usuario '{nombre_eliminar} {apellido_eliminar}' y sus relaciones fueron eliminados de Neo4j.\")\n",
    "\n",
    "query_verificar = \"\"\"\n",
    "MATCH (u:Usuario {nombre: $nombre, apellido: $apellido})\n",
    "RETURN count(u) AS cantidad\n",
    "\"\"\"\n",
    "with db_neo4j.session() as session:\n",
    "    resultado_verificar = session.run(query_verificar, nombre=nombre_eliminar, apellido=apellido_eliminar)\n",
    "    cantidad = resultado_verificar.single()[\"cantidad\"]  \n",
    "\n",
    "print(f\"✅ Busqueda del usuario '{nombre_eliminar} {apellido_eliminar}' en Neo4j.\")\n",
    "if cantidad == 0:\n",
    "    print(f\"✅ El usuario '{nombre_eliminar} {apellido_eliminar}' no se encuentra en Neo4j.\")\n",
    "else:\n",
    "    print(f\"⚠️ El usuario '{nombre_eliminar} {apellido_eliminar}' aún existe en Neo4j.\")\n",
    "\n"
   ]
  },
  {
   "cell_type": "markdown",
   "id": "21d70e0e-8ab8-445c-bbdd-6dc6dac891cc",
   "metadata": {},
   "source": [
    "### E. Eliminar las relaciones AMIGO_DE para un usuario que quiera. "
   ]
  },
  {
   "cell_type": "markdown",
   "id": "fcef4b66-e2c3-47ab-ae96-8eaaf6cf3224",
   "metadata": {},
   "source": [
    "- Solicita al usuario ingresar el `usuario_id` cuyas relaciones `AMIGO_DE` se desean eliminar.  \n",
    "- `eliminar_amigos`: función que elimina todas las relaciones `AMIGO_DE` de ese usuario en Neo4j.  \n",
    "- Muestra cuántas relaciones fueron eliminadas.  \n",
    "- Consulta de verificación: busca en Neo4j todas las relaciones `AMIGO_DE` del usuario para confirmar la eliminación.  \n",
    "- `resultado`: almacena la información de la consulta de verificación, mostrando si aún existen relaciones."
   ]
  },
  {
   "cell_type": "code",
   "execution_count": null,
   "id": "8a3c02e7-191b-424a-ba1b-5bd2f4aa91b7",
   "metadata": {},
   "outputs": [],
   "source": [
    "usuario_id = int(input(\"Ingrese el Usuario ID para borrar las relaciones AMIGO_DE: \"))\n",
    "eliminadas = neo4j.eliminar_amigos(usuario_id)\n",
    "print(f\"Se eliminaron {eliminadas} relaciones AMIGO_DE para el usuario_id: {usuario_id}\")"
   ]
  },
  {
   "cell_type": "code",
   "execution_count": null,
   "id": "c75dea94-b86b-47a1-8b12-49f42e38f3b3",
   "metadata": {},
   "outputs": [],
   "source": [
    "#Consulta para verificar la eliminación\n",
    "\n",
    "query = \"\"\"\n",
    "MATCH (u:Usuario {usuario_id: $id})-[r:AMIGO_DE]-(amigo:Usuario)\n",
    "RETURN u.usuario_id,type(r) as relacion,amigo.usuario_id\n",
    "\"\"\"\n",
    "\n",
    "resultado = neo4j.consulta(db_neo4j, query, parametros={\"id\": usuario_id})\n",
    "resultado"
   ]
  },
  {
   "cell_type": "code",
   "execution_count": null,
   "id": "95c1d87d-719f-4a00-b43e-1de518892698",
   "metadata": {},
   "outputs": [],
   "source": []
  }
 ],
 "metadata": {
  "kernelspec": {
   "display_name": "Python 3 (ipykernel)",
   "language": "python",
   "name": "python3"
  },
  "language_info": {
   "codemirror_mode": {
    "name": "ipython",
    "version": 3
   },
   "file_extension": ".py",
   "mimetype": "text/x-python",
   "name": "python",
   "nbconvert_exporter": "python",
   "pygments_lexer": "ipython3",
   "version": "3.11.13"
  }
 },
 "nbformat": 4,
 "nbformat_minor": 5
}
