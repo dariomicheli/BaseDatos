{
 "cells": [
  {
   "cell_type": "markdown",
   "id": "e23c0c72-597e-4458-927e-1b56e7a474d0",
   "metadata": {},
   "source": [
    "# Notebook de Carga de Datos iniciales"
   ]
  },
  {
   "cell_type": "markdown",
   "id": "2591e18a-c0a2-4d97-a1e9-3ac57b28b772",
   "metadata": {},
   "source": [
    "Este notebook esta destinado a la carga inicial de los datos en los distintas base de datos"
   ]
  },
  {
   "cell_type": "markdown",
   "id": "5e8100c4-f361-4944-9e1a-a8869d717f76",
   "metadata": {},
   "source": [
    "## Importación de librerias"
   ]
  },
  {
   "cell_type": "code",
   "execution_count": 1,
   "id": "8f3bcee0-fd8f-4cf9-b43f-cfa25a429c06",
   "metadata": {},
   "outputs": [],
   "source": [
    "from pathlib import Path\n",
    "from db_connections import client,db_neo4j,db_redis\n",
    "from src import mongo,neo4j,utils,redis\n",
    "from pymongo.errors import ConnectionFailure\n",
    "import os"
   ]
  },
  {
   "cell_type": "markdown",
   "id": "5863fb18",
   "metadata": {},
   "source": [
    "## Conexión con bases de datos"
   ]
  },
  {
   "cell_type": "code",
   "execution_count": 2,
   "id": "b42c2db7",
   "metadata": {},
   "outputs": [
    {
     "name": "stdout",
     "output_type": "stream",
     "text": [
      "✅ Conexión a MongoDB verificada.\n",
      "✅ Conexión a Neo4j verificada.\n",
      "✅ Conexión a Redis verificada.\n"
     ]
    }
   ],
   "source": [
    "# =====================\n",
    "# TEST DE CONEXIONES\n",
    "# =====================\n",
    "\n",
    "#MongoDB\n",
    "try:\n",
    "    client.admin.command(\"ping\")  # fuerza conexión al servidor\n",
    "    print(\"✅ Conexión a MongoDB verificada.\")\n",
    "except ConnectionFailure as e:\n",
    "    print(f\"❌ Falló la conexión: {type(e).__name__} - {e}\")\n",
    "\n",
    "#Neo4j\n",
    "try:\n",
    "    db_neo4j.verify_connectivity()\n",
    "    print(\"✅ Conexión a Neo4j verificada.\")\n",
    "except Exception as e:\n",
    "    print(f\"❌ Error de conexión: {type(e).__name__} - {e}\")\n",
    "\n",
    "#Redis\n",
    "try:\n",
    "    db_redis.ping()\n",
    "    print(\"✅ Conexión a Redis verificada.\")\n",
    "except Exception as e:\n",
    "    print(f\"❌ Error de conexión: {type(e).__name__} - {e}\")"
   ]
  },
  {
   "cell_type": "markdown",
   "id": "7afc5380-0180-4a6e-b55f-e90d3fa72806",
   "metadata": {},
   "source": [
    "## Carga de Datos"
   ]
  },
  {
   "cell_type": "code",
   "execution_count": 10,
   "id": "2fba8c05",
   "metadata": {},
   "outputs": [
    {
     "name": "stdout",
     "output_type": "stream",
     "text": [
      "✅ Se insertaron 1000 documentos en 'usuarios'.\n",
      "✅ Se registran 15 usuarios conectados\n",
      "✅ Nodos de Usuario creados exitosamente\n",
      "✅ Se insertaron 50 documentos en 'destinos'.\n",
      "✅ Nodos de Destino creados exitosamente\n",
      "✅ Se insertaron 100 documentos en 'hoteles'.\n",
      "✅ Se insertaron 200 documentos en 'reservas'.\n",
      "✅ Relaciones VISITO creadas exitosamente\n",
      "✅ Se insertaron 52 reservas temporales\n",
      "✅ Se insertaron 120 documentos en 'actividades'.\n"
     ]
    }
   ],
   "source": [
    "# --- MONGO ---\n",
    "nombre_base=\"clase\"\n",
    "nombre_colecciones = [\"usuarios\",\"destinos\",\"hoteles\",\"reservas\",\"actividades\"]\n",
    "nombre_archivos= [\"usuarios.csv\",\"destinos.csv\",\"hoteles.csv\",\"reservas.csv\",\"actividades.csv\"]\n",
    "\n",
    "for i in range (5):\n",
    "    ruta=Path(\"fuentes\") / nombre_archivos[i]\n",
    "    df=utils.lectura_csv(ruta)\n",
    "    \n",
    "    \n",
    "    if df is not None:\n",
    "        filas = df.to_dict(orient=\"records\")\n",
    "        \n",
    "        # Inserta datos en colecciones\n",
    "        mongo.crear_coleccion(nombre_base,nombre_colecciones[i],recrear=True)\n",
    "        mongo.insertar_muchos_coleccion(nombre_base,nombre_colecciones[i],filas)\n",
    "\n",
    "        if nombre_colecciones[i]==\"usuarios\":\n",
    "            conectados=redis.guardar_usuarios_conectados(df,15)\n",
    "            print(f\"✅ Se registran {conectados} usuarios conectados\")\n",
    "        \n",
    "        # Crea nodos en Neo4j solo para usuarios y destinos\n",
    "        if nombre_colecciones[i] in [\"usuarios\", \"destinos\"]:\n",
    "            nombre_nodo = \"Usuario\" if nombre_colecciones[i] == \"usuarios\" else \"Destino\"\n",
    "            campo_clave = \"usuario_id\" if nombre_nodo == \"Usuario\" else \"destino_id\"\n",
    "\n",
    "            with db_neo4j.session() as session:\n",
    "                filas = df.to_dict(orient=\"records\")\n",
    "                for fila in filas:\n",
    "                    nodo = session.execute_write(neo4j.crear_nodo, nombre_nodo, campo_clave, fila)\n",
    "                print(f\"✅ Nodos de {nombre_nodo} creados exitosamente\")\n",
    "        \n",
    "        if nombre_colecciones[i] == \"reservas\":\n",
    "            \n",
    "            # Crear relaciones VISITO       \n",
    "            with db_neo4j.session() as session: \n",
    "                filas = df.to_dict(orient=\"records\")\n",
    "                for fila in filas:\n",
    "                    session.execute_write(\n",
    "                        neo4j.crear_relacion,\n",
    "                            \"Usuario\", \"usuario_id\",fila[\"usuario_id\"],\n",
    "                            \"Destino\", \"destino_id\",fila[\"destino_id\"],\"VISITO\")\n",
    "                print(\"✅ Relaciones VISITO creadas exitosamente\")\n",
    "\n",
    "            # Carga en Redis de reservas temporales\n",
    "            df_reservas_temporales=df[df[\"estado\"] == \"Pendiente\"]\n",
    "            resultado=redis.carga_masiva_reservas_temporales(df_reservas_temporales)\n",
    "            print(f\"✅ Se insertaron {resultado} reservas temporales\")\n",
    "                 "
   ]
  },
  {
   "cell_type": "markdown",
   "id": "ce965122-f247-422f-95d3-da2ac2391fea",
   "metadata": {},
   "source": [
    "##### Contar la cantidad de documentos existentes en cada colección"
   ]
  },
  {
   "cell_type": "code",
   "execution_count": 4,
   "id": "251eb1f5-2144-4712-9ed4-a3627ff3b7a3",
   "metadata": {},
   "outputs": [
    {
     "name": "stdout",
     "output_type": "stream",
     "text": [
      "La cantidad de documentos de la coleccion usuarios es 1000\n",
      "La cantidad de documentos de la coleccion destinos es 50\n",
      "La cantidad de documentos de la coleccion hoteles es 100\n",
      "La cantidad de documentos de la coleccion reservas es 200\n",
      "La cantidad de documentos de la coleccion actividades es 120\n"
     ]
    }
   ],
   "source": [
    "for i in range (5):\n",
    "    cantidad=mongo.contar_documentos(nombre_base,nombre_colecciones[i])\n",
    "    print(f\"La cantidad de documentos de la coleccion {nombre_colecciones[i]} es {cantidad}\")"
   ]
  },
  {
   "cell_type": "markdown",
   "id": "9c0d655e-3333-4ae7-8095-541f25f4e531",
   "metadata": {},
   "source": [
    "##### Listar datos de las colecciones"
   ]
  },
  {
   "cell_type": "code",
   "execution_count": 5,
   "id": "81b51080-1858-46ee-b419-b47ee151803a",
   "metadata": {},
   "outputs": [
    {
     "name": "stdout",
     "output_type": "stream",
     "text": [
      "Colección usuarios:\n",
      "{'apellido': 'Aguiló',\n",
      " 'email': 'jose-ignaciocalatayud@gmail.com',\n",
      " 'nombre': 'Brígida',\n",
      " 'telefono': '+34 701 95 78 02',\n",
      " 'usuario_id': 1}\n",
      "Colección destinos:\n",
      "{'ciudad': 'Valencia',\n",
      " 'destino_id': 1,\n",
      " 'pais': 'Brasil',\n",
      " 'precio_promedio': 175291,\n",
      " 'tipo': 'Playa'}\n",
      "Colección hoteles:\n",
      "{'calificacion': 4,\n",
      " 'ciudad': 'Guadalajara',\n",
      " 'hotel_id': 1,\n",
      " 'nombre': 'Fábrica JJH S.Coop.',\n",
      " 'precio': 218005,\n",
      " 'servicios': 'pileta;wifi;spa'}\n",
      "Colección reservas:\n",
      "{'destino_id': 15,\n",
      " 'estado': 'Cancelada',\n",
      " 'fecha_reserva': '2025-08-07',\n",
      " 'precio_total': 59359,\n",
      " 'reserva_id': 1,\n",
      " 'usuario_id': 319}\n",
      "Colección actividades:\n",
      "{'actividad_id': 1,\n",
      " 'ciudad': 'Valladolid',\n",
      " 'nombre': 'Organic object-oriented Internet solution',\n",
      " 'precio': 78337,\n",
      " 'tipo': 'aventura'}\n"
     ]
    }
   ],
   "source": [
    "# Lista el primer dato de cada colección como prueba de la carga\n",
    "\n",
    "for i in range (5):\n",
    "    cursor=mongo.obtener_cursor(nombre_base,nombre_colecciones[i], 1,proyeccion={\"_id\":0})\n",
    "    print(f\"Colección {nombre_colecciones[i]}:\")\n",
    "    mongo.imprimir_cursor(cursor)"
   ]
  },
  {
   "cell_type": "code",
   "execution_count": null,
   "id": "24ece9f5-6f44-473e-b7d2-084e8a1ce890",
   "metadata": {},
   "outputs": [],
   "source": []
  }
 ],
 "metadata": {
  "kernelspec": {
   "display_name": "Python 3 (ipykernel)",
   "language": "python",
   "name": "python3"
  },
  "language_info": {
   "codemirror_mode": {
    "name": "ipython",
    "version": 3
   },
   "file_extension": ".py",
   "mimetype": "text/x-python",
   "name": "python",
   "nbconvert_exporter": "python",
   "pygments_lexer": "ipython3",
   "version": "3.11.13"
  }
 },
 "nbformat": 4,
 "nbformat_minor": 5
}
