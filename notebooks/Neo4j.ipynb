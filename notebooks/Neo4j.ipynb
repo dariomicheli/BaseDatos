{
 "cells": [
  {
   "cell_type": "code",
   "execution_count": 2,
   "id": "ea300d18-aab9-49a6-8e3c-e4396e2991a6",
   "metadata": {},
   "outputs": [],
   "source": [
    "from db_connections import db_neo4j"
   ]
  },
  {
   "cell_type": "markdown",
   "id": "55b3a138-f4b8-425c-b3ad-3beab42df4a8",
   "metadata": {},
   "source": [
    "Ver bases disponibles"
   ]
  },
  {
   "cell_type": "code",
   "execution_count": 3,
   "id": "defe482f-6356-4623-aae0-71a1cfd91af8",
   "metadata": {},
   "outputs": [
    {
     "name": "stdout",
     "output_type": "stream",
     "text": [
      "neo4j online\n",
      "system online\n"
     ]
    }
   ],
   "source": [
    "with db_neo4j.session(database=\"system\") as session:\n",
    "    result = session.run(\"SHOW DATABASES\")\n",
    "    for record in result:\n",
    "        print(record[\"name\"], record[\"currentStatus\"])"
   ]
  },
  {
   "cell_type": "markdown",
   "id": "91536a07-6447-496a-879c-0018b3221778",
   "metadata": {},
   "source": [
    "Ver todos los nodos"
   ]
  },
  {
   "cell_type": "code",
   "execution_count": 6,
   "id": "ae2051a8-7062-45c6-b620-207b4730886e",
   "metadata": {},
   "outputs": [
    {
     "name": "stdout",
     "output_type": "stream",
     "text": [
      "<Node element_id='4:3df9ded9-c1fe-4876-9a87-46cca629f7de:0' labels=frozenset({'City'}) properties={'name': 'La Plata'}>\n",
      "<Node element_id='4:3df9ded9-c1fe-4876-9a87-46cca629f7de:1' labels=frozenset({'City'}) properties={'name': 'La Plata'}>\n",
      "<Node element_id='4:3df9ded9-c1fe-4876-9a87-46cca629f7de:2' labels=frozenset({'City'}) properties={'name': 'La Plata'}>\n"
     ]
    }
   ],
   "source": [
    "with db_neo4j.session(database=\"neo4j\") as session:\n",
    "    result = session.run(\"MATCH (n) RETURN n\")\n",
    "    for record in result:\n",
    "        print(record[\"n\"])"
   ]
  },
  {
   "cell_type": "code",
   "execution_count": null,
   "id": "d7d053d3-649e-41d6-a6ba-f8bc9d561100",
   "metadata": {},
   "outputs": [],
   "source": []
  }
 ],
 "metadata": {
  "kernelspec": {
   "display_name": "Python 3 (ipykernel)",
   "language": "python",
   "name": "python3"
  },
  "language_info": {
   "codemirror_mode": {
    "name": "ipython",
    "version": 3
   },
   "file_extension": ".py",
   "mimetype": "text/x-python",
   "name": "python",
   "nbconvert_exporter": "python",
   "pygments_lexer": "ipython3",
   "version": "3.11.13"
  }
 },
 "nbformat": 4,
 "nbformat_minor": 5
}
